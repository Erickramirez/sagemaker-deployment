{
 "cells": [
  {
   "cell_type": "markdown",
   "metadata": {},
   "source": [
    "# Sentiment Analysis\n",
    "\n",
    "## Updating a Model in SageMaker\n",
    "\n",
    "_Deep Learning Nanodegree Program | Deployment_\n",
    "\n",
    "---\n",
    "\n",
    "In this notebook we will consider a situation in which a model that we constructed is no longer working as we intended. In particular, we will look at the XGBoost sentiment analysis model that we constructed earlier. In this case, however, we have some new data that our model doesn't seem to perform very well on. As a result, we will re-train our model and update an existing endpoint so that it uses our new model.\n",
    "\n",
    "This notebook starts by re-creating the XGBoost sentiment analysis model that was created in earlier notebooks. This means that you will have already seen the cells up to the end of Step 4. The new content in this notebook begins at Step 5.\n",
    "\n",
    "## Instructions\n",
    "\n",
    "Some template code has already been provided for you, and you will need to implement additional functionality to successfully complete this notebook. You will not need to modify the included code beyond what is requested. Sections that begin with '**TODO**' in the header indicate that you need to complete or implement some portion within them. Instructions will be provided for each section and the specifics of the implementation are marked in the code block with a `# TODO: ...` comment. Please be sure to read the instructions carefully!\n",
    "\n",
    "In addition to implementing code, there will be questions for you to answer which relate to the task and your implementation. Each section where you will answer a question is preceded by a '**Question:**' header. Carefully read each question and provide your answer below the '**Answer:**' header by editing the Markdown cell.\n",
    "\n",
    "> **Note**: Code and Markdown cells can be executed using the **Shift+Enter** keyboard shortcut. In addition, a cell can be edited by typically clicking it (double-click for Markdown cells) or by pressing **Enter** while it is highlighted."
   ]
  },
  {
   "cell_type": "markdown",
   "metadata": {},
   "source": [
    "## Step 1: Downloading the data\n",
    "\n",
    "The dataset we are going to use is very popular among researchers in Natural Language Processing, usually referred to as the [IMDb dataset](http://ai.stanford.edu/~amaas/data/sentiment/). It consists of movie reviews from the website [imdb.com](http://www.imdb.com/), each labeled as either '**pos**itive', if the reviewer enjoyed the film, or '**neg**ative' otherwise.\n",
    "\n",
    "> Maas, Andrew L., et al. [Learning Word Vectors for Sentiment Analysis](http://ai.stanford.edu/~amaas/data/sentiment/). In _Proceedings of the 49th Annual Meeting of the Association for Computational Linguistics: Human Language Technologies_. Association for Computational Linguistics, 2011.\n",
    "\n",
    "We begin by using some Jupyter Notebook magic to download and extract the dataset."
   ]
  },
  {
   "cell_type": "code",
   "execution_count": 1,
   "metadata": {},
   "outputs": [
    {
     "name": "stdout",
     "output_type": "stream",
     "text": [
      "mkdir: cannot create directory ‘../data’: File exists\n",
      "--2020-05-05 01:45:03--  http://ai.stanford.edu/~amaas/data/sentiment/aclImdb_v1.tar.gz\n",
      "Resolving ai.stanford.edu (ai.stanford.edu)... 171.64.68.10\n",
      "Connecting to ai.stanford.edu (ai.stanford.edu)|171.64.68.10|:80... connected.\n",
      "HTTP request sent, awaiting response... 200 OK\n",
      "Length: 84125825 (80M) [application/x-gzip]\n",
      "Saving to: ‘../data/aclImdb_v1.tar.gz’\n",
      "\n",
      "../data/aclImdb_v1. 100%[===================>]  80.23M  44.5MB/s    in 1.8s    \n",
      "\n",
      "2020-05-05 01:45:05 (44.5 MB/s) - ‘../data/aclImdb_v1.tar.gz’ saved [84125825/84125825]\n",
      "\n"
     ]
    }
   ],
   "source": [
    "%mkdir ../data\n",
    "!wget -O ../data/aclImdb_v1.tar.gz http://ai.stanford.edu/~amaas/data/sentiment/aclImdb_v1.tar.gz\n",
    "!tar -zxf ../data/aclImdb_v1.tar.gz -C ../data"
   ]
  },
  {
   "cell_type": "markdown",
   "metadata": {},
   "source": [
    "## Step 2: Preparing the data\n",
    "\n",
    "The data we have downloaded is split into various files, each of which contains a single review. It will be much easier going forward if we combine these individual files into two large files, one for training and one for testing."
   ]
  },
  {
   "cell_type": "code",
   "execution_count": 2,
   "metadata": {},
   "outputs": [],
   "source": [
    "import os\n",
    "import glob\n",
    "\n",
    "def read_imdb_data(data_dir='../data/aclImdb'):\n",
    "    data = {}\n",
    "    labels = {}\n",
    "    \n",
    "    for data_type in ['train', 'test']:\n",
    "        data[data_type] = {}\n",
    "        labels[data_type] = {}\n",
    "        \n",
    "        for sentiment in ['pos', 'neg']:\n",
    "            data[data_type][sentiment] = []\n",
    "            labels[data_type][sentiment] = []\n",
    "            \n",
    "            path = os.path.join(data_dir, data_type, sentiment, '*.txt')\n",
    "            files = glob.glob(path)\n",
    "            \n",
    "            for f in files:\n",
    "                with open(f) as review:\n",
    "                    data[data_type][sentiment].append(review.read())\n",
    "                    # Here we represent a positive review by '1' and a negative review by '0'\n",
    "                    labels[data_type][sentiment].append(1 if sentiment == 'pos' else 0)\n",
    "                    \n",
    "            assert len(data[data_type][sentiment]) == len(labels[data_type][sentiment]), \\\n",
    "                    \"{}/{} data size does not match labels size\".format(data_type, sentiment)\n",
    "                \n",
    "    return data, labels"
   ]
  },
  {
   "cell_type": "code",
   "execution_count": 3,
   "metadata": {},
   "outputs": [
    {
     "name": "stdout",
     "output_type": "stream",
     "text": [
      "IMDB reviews: train = 12500 pos / 12500 neg, test = 12500 pos / 12500 neg\n"
     ]
    }
   ],
   "source": [
    "data, labels = read_imdb_data()\n",
    "print(\"IMDB reviews: train = {} pos / {} neg, test = {} pos / {} neg\".format(\n",
    "            len(data['train']['pos']), len(data['train']['neg']),\n",
    "            len(data['test']['pos']), len(data['test']['neg'])))"
   ]
  },
  {
   "cell_type": "code",
   "execution_count": 4,
   "metadata": {},
   "outputs": [],
   "source": [
    "from sklearn.utils import shuffle\n",
    "\n",
    "def prepare_imdb_data(data, labels):\n",
    "    \"\"\"Prepare training and test sets from IMDb movie reviews.\"\"\"\n",
    "    \n",
    "    #Combine positive and negative reviews and labels\n",
    "    data_train = data['train']['pos'] + data['train']['neg']\n",
    "    data_test = data['test']['pos'] + data['test']['neg']\n",
    "    labels_train = labels['train']['pos'] + labels['train']['neg']\n",
    "    labels_test = labels['test']['pos'] + labels['test']['neg']\n",
    "    \n",
    "    #Shuffle reviews and corresponding labels within training and test sets\n",
    "    data_train, labels_train = shuffle(data_train, labels_train)\n",
    "    data_test, labels_test = shuffle(data_test, labels_test)\n",
    "    \n",
    "    # Return a unified training data, test data, training labels, test labets\n",
    "    return data_train, data_test, labels_train, labels_test"
   ]
  },
  {
   "cell_type": "code",
   "execution_count": 5,
   "metadata": {},
   "outputs": [
    {
     "name": "stdout",
     "output_type": "stream",
     "text": [
      "IMDb reviews (combined): train = 25000, test = 25000\n"
     ]
    }
   ],
   "source": [
    "train_X, test_X, train_y, test_y = prepare_imdb_data(data, labels)\n",
    "print(\"IMDb reviews (combined): train = {}, test = {}\".format(len(train_X), len(test_X)))"
   ]
  },
  {
   "cell_type": "code",
   "execution_count": 6,
   "metadata": {},
   "outputs": [
    {
     "data": {
      "text/plain": [
       "'Although THE FLOCK has some pretty good acting by veteran Richard Gere, and some okay shots that might harken some back to THE SILENCE OF THE LAMBS days, the movie stretches credibility to the breaking point and destroys itself against a plot that really leads nowhere.<br /><br />The film is about Erroll Babbage (Gere) who works for the department of safety and is preparing to retire. His office thrusts upon him his replacement, Allison Lowry (Claire Danes, STARDUST), who quickly discovers that Babbage is obsessed with his job. And that job ain\\'t very fun. He monitors hundreds of sexual offenders who are on parole in his jurisdiction. Allison goes with Erroll on many calls to check up on his \"flock\" of offenders and learns that he is in desperate need of retirement. But Erroll is good at his job even if his methods aren\\'t. He taunts sexual predators and even has physical conflicts with them. Erroll justifies his actions by bringing up these deviants\\' pasts. It is this \"good justification\" that challenges the audience on some level, letting us see how brutal Erroll is and yet how out-of-touch he\\'s become (by being too close to his job).<br /><br />When a teenage girl goes missing in Erroll\\'s \"area\", he immediate leaps to the conclusion that she was abducted by one of his flock. But how could he know? Is Erroll that good at his job? Allison challenges him and Erroll pushes back. Their battles become as fierce as Erroll\\'s need to find this missing girl.<br /><br />Although the set-up for the story was okay, it didn\\'t have any umpf! I will give credit to Richard Gere, however, who plays the Erroll character very well. Battling retirement. Worried about everyone who\\'s near his flock. Disgusted with those he\\'s responsible for overseeing. Disgusted with himself for having to do some of things he does. Quite a change in character portrayal for Gere. But beyond him there\\'s not much else. Some of the sets are okay (dark and dangerous) but there are so many other problems as to be laughable.<br /><br />I\\'ll be the first to admit that suspending disbelief is a requirement whenever watching films. But that suspension has limits. The biggest push against those limits is the destruction of EXTREMELY vital crime scenes. Someone as meticulous as Erroll would KNOW that moving a body would be a huge no-no. Or trampling through a crime scene. Or moving evidence. It went beyond and hurt the film to no end.<br /><br />The other damaging part of this film is that we never get into Clair Danes\\' character, Allison. She\\'s almost dropped by the wayside at the end of the film and we\\'re never privy to what her intension might be: Will she stay or leave? Will she end up like Erroll if she does stay? This isn\\'t a horrible film as it does touch on some uncomfortable moral ground, but the story as a whole needed to be tightened up.'"
      ]
     },
     "execution_count": 6,
     "metadata": {},
     "output_type": "execute_result"
    }
   ],
   "source": [
    "train_X[100]"
   ]
  },
  {
   "cell_type": "markdown",
   "metadata": {},
   "source": [
    "## Step 3: Processing the data\n",
    "\n",
    "Now that we have our training and testing datasets merged and ready to use, we need to start processing the raw data into something that will be useable by our machine learning algorithm. To begin with, we remove any html formatting that may appear in the reviews and perform some standard natural language processing in order to homogenize the data."
   ]
  },
  {
   "cell_type": "code",
   "execution_count": 7,
   "metadata": {},
   "outputs": [
    {
     "name": "stdout",
     "output_type": "stream",
     "text": [
      "[nltk_data] Downloading package stopwords to\n",
      "[nltk_data]     /home/ec2-user/nltk_data...\n",
      "[nltk_data]   Package stopwords is already up-to-date!\n"
     ]
    }
   ],
   "source": [
    "import nltk\n",
    "nltk.download(\"stopwords\")\n",
    "from nltk.corpus import stopwords\n",
    "from nltk.stem.porter import *\n",
    "stemmer = PorterStemmer()"
   ]
  },
  {
   "cell_type": "code",
   "execution_count": 8,
   "metadata": {},
   "outputs": [],
   "source": [
    "import re\n",
    "from bs4 import BeautifulSoup\n",
    "\n",
    "def review_to_words(review):\n",
    "    text = BeautifulSoup(review, \"html.parser\").get_text() # Remove HTML tags\n",
    "    text = re.sub(r\"[^a-zA-Z0-9]\", \" \", text.lower()) # Convert to lower case\n",
    "    words = text.split() # Split string into words\n",
    "    words = [w for w in words if w not in stopwords.words(\"english\")] # Remove stopwords\n",
    "    words = [PorterStemmer().stem(w) for w in words] # stem\n",
    "    \n",
    "    return words"
   ]
  },
  {
   "cell_type": "code",
   "execution_count": 9,
   "metadata": {},
   "outputs": [
    {
     "data": {
      "text/plain": [
       "['although',\n",
       " 'flock',\n",
       " 'pretti',\n",
       " 'good',\n",
       " 'act',\n",
       " 'veteran',\n",
       " 'richard',\n",
       " 'gere',\n",
       " 'okay',\n",
       " 'shot',\n",
       " 'might',\n",
       " 'harken',\n",
       " 'back',\n",
       " 'silenc',\n",
       " 'lamb',\n",
       " 'day',\n",
       " 'movi',\n",
       " 'stretch',\n",
       " 'credibl',\n",
       " 'break',\n",
       " 'point',\n",
       " 'destroy',\n",
       " 'plot',\n",
       " 'realli',\n",
       " 'lead',\n",
       " 'nowher',\n",
       " 'film',\n",
       " 'errol',\n",
       " 'babbag',\n",
       " 'gere',\n",
       " 'work',\n",
       " 'depart',\n",
       " 'safeti',\n",
       " 'prepar',\n",
       " 'retir',\n",
       " 'offic',\n",
       " 'thrust',\n",
       " 'upon',\n",
       " 'replac',\n",
       " 'allison',\n",
       " 'lowri',\n",
       " 'clair',\n",
       " 'dane',\n",
       " 'stardust',\n",
       " 'quickli',\n",
       " 'discov',\n",
       " 'babbag',\n",
       " 'obsess',\n",
       " 'job',\n",
       " 'job',\n",
       " 'fun',\n",
       " 'monitor',\n",
       " 'hundr',\n",
       " 'sexual',\n",
       " 'offend',\n",
       " 'parol',\n",
       " 'jurisdict',\n",
       " 'allison',\n",
       " 'goe',\n",
       " 'errol',\n",
       " 'mani',\n",
       " 'call',\n",
       " 'check',\n",
       " 'flock',\n",
       " 'offend',\n",
       " 'learn',\n",
       " 'desper',\n",
       " 'need',\n",
       " 'retir',\n",
       " 'errol',\n",
       " 'good',\n",
       " 'job',\n",
       " 'even',\n",
       " 'method',\n",
       " 'taunt',\n",
       " 'sexual',\n",
       " 'predat',\n",
       " 'even',\n",
       " 'physic',\n",
       " 'conflict',\n",
       " 'errol',\n",
       " 'justifi',\n",
       " 'action',\n",
       " 'bring',\n",
       " 'deviant',\n",
       " 'past',\n",
       " 'good',\n",
       " 'justif',\n",
       " 'challeng',\n",
       " 'audienc',\n",
       " 'level',\n",
       " 'let',\n",
       " 'us',\n",
       " 'see',\n",
       " 'brutal',\n",
       " 'errol',\n",
       " 'yet',\n",
       " 'touch',\n",
       " 'becom',\n",
       " 'close',\n",
       " 'job',\n",
       " 'teenag',\n",
       " 'girl',\n",
       " 'goe',\n",
       " 'miss',\n",
       " 'errol',\n",
       " 'area',\n",
       " 'immedi',\n",
       " 'leap',\n",
       " 'conclus',\n",
       " 'abduct',\n",
       " 'one',\n",
       " 'flock',\n",
       " 'could',\n",
       " 'know',\n",
       " 'errol',\n",
       " 'good',\n",
       " 'job',\n",
       " 'allison',\n",
       " 'challeng',\n",
       " 'errol',\n",
       " 'push',\n",
       " 'back',\n",
       " 'battl',\n",
       " 'becom',\n",
       " 'fierc',\n",
       " 'errol',\n",
       " 'need',\n",
       " 'find',\n",
       " 'miss',\n",
       " 'girl',\n",
       " 'although',\n",
       " 'set',\n",
       " 'stori',\n",
       " 'okay',\n",
       " 'umpf',\n",
       " 'give',\n",
       " 'credit',\n",
       " 'richard',\n",
       " 'gere',\n",
       " 'howev',\n",
       " 'play',\n",
       " 'errol',\n",
       " 'charact',\n",
       " 'well',\n",
       " 'battl',\n",
       " 'retir',\n",
       " 'worri',\n",
       " 'everyon',\n",
       " 'near',\n",
       " 'flock',\n",
       " 'disgust',\n",
       " 'respons',\n",
       " 'overse',\n",
       " 'disgust',\n",
       " 'thing',\n",
       " 'quit',\n",
       " 'chang',\n",
       " 'charact',\n",
       " 'portray',\n",
       " 'gere',\n",
       " 'beyond',\n",
       " 'much',\n",
       " 'els',\n",
       " 'set',\n",
       " 'okay',\n",
       " 'dark',\n",
       " 'danger',\n",
       " 'mani',\n",
       " 'problem',\n",
       " 'laughabl',\n",
       " 'first',\n",
       " 'admit',\n",
       " 'suspend',\n",
       " 'disbelief',\n",
       " 'requir',\n",
       " 'whenev',\n",
       " 'watch',\n",
       " 'film',\n",
       " 'suspens',\n",
       " 'limit',\n",
       " 'biggest',\n",
       " 'push',\n",
       " 'limit',\n",
       " 'destruct',\n",
       " 'extrem',\n",
       " 'vital',\n",
       " 'crime',\n",
       " 'scene',\n",
       " 'someon',\n",
       " 'meticul',\n",
       " 'errol',\n",
       " 'would',\n",
       " 'know',\n",
       " 'move',\n",
       " 'bodi',\n",
       " 'would',\n",
       " 'huge',\n",
       " 'trampl',\n",
       " 'crime',\n",
       " 'scene',\n",
       " 'move',\n",
       " 'evid',\n",
       " 'went',\n",
       " 'beyond',\n",
       " 'hurt',\n",
       " 'film',\n",
       " 'end',\n",
       " 'damag',\n",
       " 'part',\n",
       " 'film',\n",
       " 'never',\n",
       " 'get',\n",
       " 'clair',\n",
       " 'dane',\n",
       " 'charact',\n",
       " 'allison',\n",
       " 'almost',\n",
       " 'drop',\n",
       " 'waysid',\n",
       " 'end',\n",
       " 'film',\n",
       " 'never',\n",
       " 'privi',\n",
       " 'intens',\n",
       " 'might',\n",
       " 'stay',\n",
       " 'leav',\n",
       " 'end',\n",
       " 'like',\n",
       " 'errol',\n",
       " 'stay',\n",
       " 'horribl',\n",
       " 'film',\n",
       " 'touch',\n",
       " 'uncomfort',\n",
       " 'moral',\n",
       " 'ground',\n",
       " 'stori',\n",
       " 'whole',\n",
       " 'need',\n",
       " 'tighten']"
      ]
     },
     "execution_count": 9,
     "metadata": {},
     "output_type": "execute_result"
    }
   ],
   "source": [
    "review_to_words(train_X[100])"
   ]
  },
  {
   "cell_type": "code",
   "execution_count": 10,
   "metadata": {},
   "outputs": [],
   "source": [
    "import pickle\n",
    "\n",
    "cache_dir = os.path.join(\"../cache\", \"sentiment_analysis\")  # where to store cache files\n",
    "os.makedirs(cache_dir, exist_ok=True)  # ensure cache directory exists\n",
    "\n",
    "def preprocess_data(data_train, data_test, labels_train, labels_test,\n",
    "                    cache_dir=cache_dir, cache_file=\"preprocessed_data.pkl\"):\n",
    "    \"\"\"Convert each review to words; read from cache if available.\"\"\"\n",
    "\n",
    "    # If cache_file is not None, try to read from it first\n",
    "    cache_data = None\n",
    "    if cache_file is not None:\n",
    "        try:\n",
    "            with open(os.path.join(cache_dir, cache_file), \"rb\") as f:\n",
    "                cache_data = pickle.load(f)\n",
    "            print(\"Read preprocessed data from cache file:\", cache_file)\n",
    "        except:\n",
    "            pass  # unable to read from cache, but that's okay\n",
    "    \n",
    "    # If cache is missing, then do the heavy lifting\n",
    "    if cache_data is None:\n",
    "        # Preprocess training and test data to obtain words for each review\n",
    "        #words_train = list(map(review_to_words, data_train))\n",
    "        #words_test = list(map(review_to_words, data_test))\n",
    "        words_train = [review_to_words(review) for review in data_train]\n",
    "        words_test = [review_to_words(review) for review in data_test]\n",
    "        \n",
    "        # Write to cache file for future runs\n",
    "        if cache_file is not None:\n",
    "            cache_data = dict(words_train=words_train, words_test=words_test,\n",
    "                              labels_train=labels_train, labels_test=labels_test)\n",
    "            with open(os.path.join(cache_dir, cache_file), \"wb\") as f:\n",
    "                pickle.dump(cache_data, f)\n",
    "            print(\"Wrote preprocessed data to cache file:\", cache_file)\n",
    "    else:\n",
    "        # Unpack data loaded from cache file\n",
    "        words_train, words_test, labels_train, labels_test = (cache_data['words_train'],\n",
    "                cache_data['words_test'], cache_data['labels_train'], cache_data['labels_test'])\n",
    "    \n",
    "    return words_train, words_test, labels_train, labels_test"
   ]
  },
  {
   "cell_type": "code",
   "execution_count": 11,
   "metadata": {},
   "outputs": [
    {
     "name": "stdout",
     "output_type": "stream",
     "text": [
      "Wrote preprocessed data to cache file: preprocessed_data.pkl\n"
     ]
    }
   ],
   "source": [
    "# Preprocess data\n",
    "train_X, test_X, train_y, test_y = preprocess_data(train_X, test_X, train_y, test_y)"
   ]
  },
  {
   "cell_type": "markdown",
   "metadata": {},
   "source": [
    "### Extract Bag-of-Words features\n",
    "\n",
    "For the model we will be implementing, rather than using the reviews directly, we are going to transform each review into a Bag-of-Words feature representation. Keep in mind that 'in the wild' we will only have access to the training set so our transformer can only use the training set to construct a representation."
   ]
  },
  {
   "cell_type": "code",
   "execution_count": 12,
   "metadata": {},
   "outputs": [],
   "source": [
    "import numpy as np\n",
    "from sklearn.feature_extraction.text import CountVectorizer\n",
    "from sklearn.externals import joblib\n",
    "# joblib is an enhanced version of pickle that is more efficient for storing NumPy arrays\n",
    "\n",
    "def extract_BoW_features(words_train, words_test, vocabulary_size=5000,\n",
    "                         cache_dir=cache_dir, cache_file=\"bow_features.pkl\"):\n",
    "    \"\"\"Extract Bag-of-Words for a given set of documents, already preprocessed into words.\"\"\"\n",
    "    \n",
    "    # If cache_file is not None, try to read from it first\n",
    "    cache_data = None\n",
    "    if cache_file is not None:\n",
    "        try:\n",
    "            with open(os.path.join(cache_dir, cache_file), \"rb\") as f:\n",
    "                cache_data = joblib.load(f)\n",
    "            print(\"Read features from cache file:\", cache_file)\n",
    "        except:\n",
    "            pass  # unable to read from cache, but that's okay\n",
    "    \n",
    "    # If cache is missing, then do the heavy lifting\n",
    "    if cache_data is None:\n",
    "        # Fit a vectorizer to training documents and use it to transform them\n",
    "        # NOTE: Training documents have already been preprocessed and tokenized into words;\n",
    "        #       pass in dummy functions to skip those steps, e.g. preprocessor=lambda x: x\n",
    "        vectorizer = CountVectorizer(max_features=vocabulary_size,\n",
    "                preprocessor=lambda x: x, tokenizer=lambda x: x)  # already preprocessed\n",
    "        features_train = vectorizer.fit_transform(words_train).toarray()\n",
    "\n",
    "        # Apply the same vectorizer to transform the test documents (ignore unknown words)\n",
    "        features_test = vectorizer.transform(words_test).toarray()\n",
    "        \n",
    "        # NOTE: Remember to convert the features using .toarray() for a compact representation\n",
    "        \n",
    "        # Write to cache file for future runs (store vocabulary as well)\n",
    "        if cache_file is not None:\n",
    "            vocabulary = vectorizer.vocabulary_\n",
    "            cache_data = dict(features_train=features_train, features_test=features_test,\n",
    "                             vocabulary=vocabulary)\n",
    "            with open(os.path.join(cache_dir, cache_file), \"wb\") as f:\n",
    "                joblib.dump(cache_data, f)\n",
    "            print(\"Wrote features to cache file:\", cache_file)\n",
    "    else:\n",
    "        # Unpack data loaded from cache file\n",
    "        features_train, features_test, vocabulary = (cache_data['features_train'],\n",
    "                cache_data['features_test'], cache_data['vocabulary'])\n",
    "    \n",
    "    # Return both the extracted features as well as the vocabulary\n",
    "    return features_train, features_test, vocabulary"
   ]
  },
  {
   "cell_type": "code",
   "execution_count": 13,
   "metadata": {},
   "outputs": [
    {
     "name": "stdout",
     "output_type": "stream",
     "text": [
      "Read features from cache file: bow_features.pkl\n"
     ]
    }
   ],
   "source": [
    "# Extract Bag of Words features for both training and test datasets\n",
    "train_X, test_X, vocabulary = extract_BoW_features(train_X, test_X)"
   ]
  },
  {
   "cell_type": "code",
   "execution_count": 14,
   "metadata": {},
   "outputs": [
    {
     "data": {
      "text/plain": [
       "178"
      ]
     },
     "execution_count": 14,
     "metadata": {},
     "output_type": "execute_result"
    }
   ],
   "source": [
    "len(train_X[100])"
   ]
  },
  {
   "cell_type": "markdown",
   "metadata": {},
   "source": [
    "## Step 4: Classification using XGBoost\n",
    "\n",
    "Now that we have created the feature representation of our training (and testing) data, it is time to start setting up and using the XGBoost classifier provided by SageMaker.\n",
    "\n",
    "### Writing the dataset\n",
    "\n",
    "The XGBoost classifier that we will be using requires the dataset to be written to a file and stored using Amazon S3. To do this, we will start by splitting the training dataset into two parts, the data we will train the model with and a validation set. Then, we will write those datasets to a file and upload the files to S3. In addition, we will write the test set input to a file and upload the file to S3. This is so that we can use SageMakers Batch Transform functionality to test our model once we've fit it."
   ]
  },
  {
   "cell_type": "code",
   "execution_count": 15,
   "metadata": {},
   "outputs": [],
   "source": [
    "import pandas as pd\n",
    "\n",
    "# Earlier we shuffled the training dataset so to make things simple we can just assign\n",
    "# the first 10 000 reviews to the validation set and use the remaining reviews for training.\n",
    "val_X = pd.DataFrame(train_X[:10000])\n",
    "train_X = pd.DataFrame(train_X[10000:])\n",
    "\n",
    "val_y = pd.DataFrame(train_y[:10000])\n",
    "train_y = pd.DataFrame(train_y[10000:])"
   ]
  },
  {
   "cell_type": "markdown",
   "metadata": {},
   "source": [
    "The documentation for the XGBoost algorithm in SageMaker requires that the saved datasets should contain no headers or index and that for the training and validation data, the label should occur first for each sample.\n",
    "\n",
    "For more information about this and other algorithms, the SageMaker developer documentation can be found on __[Amazon's website.](https://docs.aws.amazon.com/sagemaker/latest/dg/)__"
   ]
  },
  {
   "cell_type": "code",
   "execution_count": 16,
   "metadata": {},
   "outputs": [],
   "source": [
    "# First we make sure that the local directory in which we'd like to store the training and validation csv files exists.\n",
    "data_dir = '../data/sentiment_update'\n",
    "if not os.path.exists(data_dir):\n",
    "    os.makedirs(data_dir)"
   ]
  },
  {
   "cell_type": "code",
   "execution_count": 80,
   "metadata": {},
   "outputs": [
    {
     "ename": "FileNotFoundError",
     "evalue": "[Errno 2] No such file or directory: '../data/sentiment_update/test.csv'",
     "output_type": "error",
     "traceback": [
      "\u001b[0;31m---------------------------------------------------------------------------\u001b[0m",
      "\u001b[0;31mFileNotFoundError\u001b[0m                         Traceback (most recent call last)",
      "\u001b[0;32m<ipython-input-80-388400e4c728>\u001b[0m in \u001b[0;36m<module>\u001b[0;34m()\u001b[0m\n\u001b[0;32m----> 1\u001b[0;31m \u001b[0mpd\u001b[0m\u001b[0;34m.\u001b[0m\u001b[0mDataFrame\u001b[0m\u001b[0;34m(\u001b[0m\u001b[0mtest_X\u001b[0m\u001b[0;34m)\u001b[0m\u001b[0;34m.\u001b[0m\u001b[0mto_csv\u001b[0m\u001b[0;34m(\u001b[0m\u001b[0mos\u001b[0m\u001b[0;34m.\u001b[0m\u001b[0mpath\u001b[0m\u001b[0;34m.\u001b[0m\u001b[0mjoin\u001b[0m\u001b[0;34m(\u001b[0m\u001b[0mdata_dir\u001b[0m\u001b[0;34m,\u001b[0m \u001b[0;34m'test.csv'\u001b[0m\u001b[0;34m)\u001b[0m\u001b[0;34m,\u001b[0m \u001b[0mheader\u001b[0m\u001b[0;34m=\u001b[0m\u001b[0;32mFalse\u001b[0m\u001b[0;34m,\u001b[0m \u001b[0mindex\u001b[0m\u001b[0;34m=\u001b[0m\u001b[0;32mFalse\u001b[0m\u001b[0;34m)\u001b[0m\u001b[0;34m\u001b[0m\u001b[0m\n\u001b[0m\u001b[1;32m      2\u001b[0m \u001b[0;34m\u001b[0m\u001b[0m\n\u001b[1;32m      3\u001b[0m \u001b[0mpd\u001b[0m\u001b[0;34m.\u001b[0m\u001b[0mconcat\u001b[0m\u001b[0;34m(\u001b[0m\u001b[0;34m[\u001b[0m\u001b[0mval_y\u001b[0m\u001b[0;34m,\u001b[0m \u001b[0mval_X\u001b[0m\u001b[0;34m]\u001b[0m\u001b[0;34m,\u001b[0m \u001b[0maxis\u001b[0m\u001b[0;34m=\u001b[0m\u001b[0;36m1\u001b[0m\u001b[0;34m)\u001b[0m\u001b[0;34m.\u001b[0m\u001b[0mto_csv\u001b[0m\u001b[0;34m(\u001b[0m\u001b[0mos\u001b[0m\u001b[0;34m.\u001b[0m\u001b[0mpath\u001b[0m\u001b[0;34m.\u001b[0m\u001b[0mjoin\u001b[0m\u001b[0;34m(\u001b[0m\u001b[0mdata_dir\u001b[0m\u001b[0;34m,\u001b[0m \u001b[0;34m'validation.csv'\u001b[0m\u001b[0;34m)\u001b[0m\u001b[0;34m,\u001b[0m \u001b[0mheader\u001b[0m\u001b[0;34m=\u001b[0m\u001b[0;32mFalse\u001b[0m\u001b[0;34m,\u001b[0m \u001b[0mindex\u001b[0m\u001b[0;34m=\u001b[0m\u001b[0;32mFalse\u001b[0m\u001b[0;34m)\u001b[0m\u001b[0;34m\u001b[0m\u001b[0m\n\u001b[1;32m      4\u001b[0m \u001b[0mpd\u001b[0m\u001b[0;34m.\u001b[0m\u001b[0mconcat\u001b[0m\u001b[0;34m(\u001b[0m\u001b[0;34m[\u001b[0m\u001b[0mtrain_y\u001b[0m\u001b[0;34m,\u001b[0m \u001b[0mtrain_X\u001b[0m\u001b[0;34m]\u001b[0m\u001b[0;34m,\u001b[0m \u001b[0maxis\u001b[0m\u001b[0;34m=\u001b[0m\u001b[0;36m1\u001b[0m\u001b[0;34m)\u001b[0m\u001b[0;34m.\u001b[0m\u001b[0mto_csv\u001b[0m\u001b[0;34m(\u001b[0m\u001b[0mos\u001b[0m\u001b[0;34m.\u001b[0m\u001b[0mpath\u001b[0m\u001b[0;34m.\u001b[0m\u001b[0mjoin\u001b[0m\u001b[0;34m(\u001b[0m\u001b[0mdata_dir\u001b[0m\u001b[0;34m,\u001b[0m \u001b[0;34m'train.csv'\u001b[0m\u001b[0;34m)\u001b[0m\u001b[0;34m,\u001b[0m \u001b[0mheader\u001b[0m\u001b[0;34m=\u001b[0m\u001b[0;32mFalse\u001b[0m\u001b[0;34m,\u001b[0m \u001b[0mindex\u001b[0m\u001b[0;34m=\u001b[0m\u001b[0;32mFalse\u001b[0m\u001b[0;34m)\u001b[0m\u001b[0;34m\u001b[0m\u001b[0m\n",
      "\u001b[0;32m~/anaconda3/envs/pytorch_p36/lib/python3.6/site-packages/pandas/core/generic.py\u001b[0m in \u001b[0;36mto_csv\u001b[0;34m(self, path_or_buf, sep, na_rep, float_format, columns, header, index, index_label, mode, encoding, compression, quoting, quotechar, line_terminator, chunksize, tupleize_cols, date_format, doublequote, escapechar, decimal)\u001b[0m\n\u001b[1;32m   3018\u001b[0m                                  \u001b[0mdoublequote\u001b[0m\u001b[0;34m=\u001b[0m\u001b[0mdoublequote\u001b[0m\u001b[0;34m,\u001b[0m\u001b[0;34m\u001b[0m\u001b[0m\n\u001b[1;32m   3019\u001b[0m                                  escapechar=escapechar, decimal=decimal)\n\u001b[0;32m-> 3020\u001b[0;31m         \u001b[0mformatter\u001b[0m\u001b[0;34m.\u001b[0m\u001b[0msave\u001b[0m\u001b[0;34m(\u001b[0m\u001b[0;34m)\u001b[0m\u001b[0;34m\u001b[0m\u001b[0m\n\u001b[0m\u001b[1;32m   3021\u001b[0m \u001b[0;34m\u001b[0m\u001b[0m\n\u001b[1;32m   3022\u001b[0m         \u001b[0;32mif\u001b[0m \u001b[0mpath_or_buf\u001b[0m \u001b[0;32mis\u001b[0m \u001b[0;32mNone\u001b[0m\u001b[0;34m:\u001b[0m\u001b[0;34m\u001b[0m\u001b[0m\n",
      "\u001b[0;32m~/anaconda3/envs/pytorch_p36/lib/python3.6/site-packages/pandas/io/formats/csvs.py\u001b[0m in \u001b[0;36msave\u001b[0;34m(self)\u001b[0m\n\u001b[1;32m    155\u001b[0m             f, handles = _get_handle(self.path_or_buf, self.mode,\n\u001b[1;32m    156\u001b[0m                                      \u001b[0mencoding\u001b[0m\u001b[0;34m=\u001b[0m\u001b[0mself\u001b[0m\u001b[0;34m.\u001b[0m\u001b[0mencoding\u001b[0m\u001b[0;34m,\u001b[0m\u001b[0;34m\u001b[0m\u001b[0m\n\u001b[0;32m--> 157\u001b[0;31m                                      compression=self.compression)\n\u001b[0m\u001b[1;32m    158\u001b[0m             \u001b[0mclose\u001b[0m \u001b[0;34m=\u001b[0m \u001b[0;32mTrue\u001b[0m\u001b[0;34m\u001b[0m\u001b[0m\n\u001b[1;32m    159\u001b[0m \u001b[0;34m\u001b[0m\u001b[0m\n",
      "\u001b[0;32m~/anaconda3/envs/pytorch_p36/lib/python3.6/site-packages/pandas/io/common.py\u001b[0m in \u001b[0;36m_get_handle\u001b[0;34m(path_or_buf, mode, encoding, compression, memory_map, is_text)\u001b[0m\n\u001b[1;32m    422\u001b[0m         \u001b[0;32melif\u001b[0m \u001b[0mencoding\u001b[0m\u001b[0;34m:\u001b[0m\u001b[0;34m\u001b[0m\u001b[0m\n\u001b[1;32m    423\u001b[0m             \u001b[0;31m# Python 3 and encoding\u001b[0m\u001b[0;34m\u001b[0m\u001b[0;34m\u001b[0m\u001b[0m\n\u001b[0;32m--> 424\u001b[0;31m             \u001b[0mf\u001b[0m \u001b[0;34m=\u001b[0m \u001b[0mopen\u001b[0m\u001b[0;34m(\u001b[0m\u001b[0mpath_or_buf\u001b[0m\u001b[0;34m,\u001b[0m \u001b[0mmode\u001b[0m\u001b[0;34m,\u001b[0m \u001b[0mencoding\u001b[0m\u001b[0;34m=\u001b[0m\u001b[0mencoding\u001b[0m\u001b[0;34m,\u001b[0m \u001b[0mnewline\u001b[0m\u001b[0;34m=\u001b[0m\u001b[0;34m\"\"\u001b[0m\u001b[0;34m)\u001b[0m\u001b[0;34m\u001b[0m\u001b[0m\n\u001b[0m\u001b[1;32m    425\u001b[0m         \u001b[0;32melif\u001b[0m \u001b[0mis_text\u001b[0m\u001b[0;34m:\u001b[0m\u001b[0;34m\u001b[0m\u001b[0m\n\u001b[1;32m    426\u001b[0m             \u001b[0;31m# Python 3 and no explicit encoding\u001b[0m\u001b[0;34m\u001b[0m\u001b[0;34m\u001b[0m\u001b[0m\n",
      "\u001b[0;31mFileNotFoundError\u001b[0m: [Errno 2] No such file or directory: '../data/sentiment_update/test.csv'"
     ]
    }
   ],
   "source": [
    "pd.DataFrame(test_X).to_csv(os.path.join(data_dir, 'test.csv'), header=False, index=False)\n",
    "\n",
    "pd.concat([val_y, val_X], axis=1).to_csv(os.path.join(data_dir, 'validation.csv'), header=False, index=False)\n",
    "pd.concat([train_y, train_X], axis=1).to_csv(os.path.join(data_dir, 'train.csv'), header=False, index=False)"
   ]
  },
  {
   "cell_type": "code",
   "execution_count": 18,
   "metadata": {},
   "outputs": [],
   "source": [
    "# To save a bit of memory we can set text_X, train_X, val_X, train_y and val_y to None.\n",
    "\n",
    "test_X = train_X = val_X = train_y = val_y = None"
   ]
  },
  {
   "cell_type": "markdown",
   "metadata": {},
   "source": [
    "### Uploading Training / Validation files to S3\n",
    "\n",
    "Amazon's S3 service allows us to store files that can be access by both the built-in training models such as the XGBoost model we will be using as well as custom models such as the one we will see a little later.\n",
    "\n",
    "For this, and most other tasks we will be doing using SageMaker, there are two methods we could use. The first is to use the low level functionality of SageMaker which requires knowing each of the objects involved in the SageMaker environment. The second is to use the high level functionality in which certain choices have been made on the user's behalf. The low level approach benefits from allowing the user a great deal of flexibility while the high level approach makes development much quicker. For our purposes we will opt to use the high level approach although using the low-level approach is certainly an option.\n",
    "\n",
    "Recall the method `upload_data()` which is a member of object representing our current SageMaker session. What this method does is upload the data to the default bucket (which is created if it does not exist) into the path described by the key_prefix variable. To see this for yourself, once you have uploaded the data files, go to the S3 console and look to see where the files have been uploaded.\n",
    "\n",
    "For additional resources, see the __[SageMaker API documentation](http://sagemaker.readthedocs.io/en/latest/)__ and in addition the __[SageMaker Developer Guide.](https://docs.aws.amazon.com/sagemaker/latest/dg/)__"
   ]
  },
  {
   "cell_type": "code",
   "execution_count": 19,
   "metadata": {},
   "outputs": [],
   "source": [
    "import sagemaker\n",
    "\n",
    "session = sagemaker.Session() # Store the current SageMaker session\n",
    "\n",
    "# S3 prefix (which folder will we use)\n",
    "prefix = 'sentiment-update'\n",
    "\n",
    "test_location = session.upload_data(os.path.join(data_dir, 'test.csv'), key_prefix=prefix)\n",
    "val_location = session.upload_data(os.path.join(data_dir, 'validation.csv'), key_prefix=prefix)\n",
    "train_location = session.upload_data(os.path.join(data_dir, 'train.csv'), key_prefix=prefix)"
   ]
  },
  {
   "cell_type": "markdown",
   "metadata": {},
   "source": [
    "### Creating the XGBoost model\n",
    "\n",
    "Now that the data has been uploaded it is time to create the XGBoost model. To begin with, we need to do some setup. At this point it is worth discussing what a model is in SageMaker. It is easiest to think of a model of comprising three different objects in the SageMaker ecosystem, which interact with one another.\n",
    "\n",
    "- Model Artifacts\n",
    "- Training Code (Container)\n",
    "- Inference Code (Container)\n",
    "\n",
    "The Model Artifacts are what you might think of as the actual model itself. For example, if you were building a neural network, the model artifacts would be the weights of the various layers. In our case, for an XGBoost model, the artifacts are the actual trees that are created during training.\n",
    "\n",
    "The other two objects, the training code and the inference code are then used the manipulate the training artifacts. More precisely, the training code uses the training data that is provided and creates the model artifacts, while the inference code uses the model artifacts to make predictions on new data.\n",
    "\n",
    "The way that SageMaker runs the training and inference code is by making use of Docker containers. For now, think of a container as being a way of packaging code up so that dependencies aren't an issue."
   ]
  },
  {
   "cell_type": "code",
   "execution_count": 20,
   "metadata": {},
   "outputs": [],
   "source": [
    "from sagemaker import get_execution_role\n",
    "\n",
    "# Our current execution role is require when creating the model as the training\n",
    "# and inference code will need to access the model artifacts.\n",
    "role = get_execution_role()"
   ]
  },
  {
   "cell_type": "code",
   "execution_count": 21,
   "metadata": {},
   "outputs": [
    {
     "name": "stderr",
     "output_type": "stream",
     "text": [
      "WARNING:root:There is a more up to date SageMaker XGBoost image. To use the newer image, please set 'repo_version'='0.90-1'. For example:\n",
      "\tget_image_uri(region, 'xgboost', '0.90-1').\n"
     ]
    }
   ],
   "source": [
    "# We need to retrieve the location of the container which is provided by Amazon for using XGBoost.\n",
    "# As a matter of convenience, the training and inference code both use the same container.\n",
    "from sagemaker.amazon.amazon_estimator import get_image_uri\n",
    "\n",
    "container = get_image_uri(session.boto_region_name, 'xgboost')"
   ]
  },
  {
   "cell_type": "code",
   "execution_count": 22,
   "metadata": {},
   "outputs": [],
   "source": [
    "# First we create a SageMaker estimator object for our model.\n",
    "xgb = sagemaker.estimator.Estimator(container, # The location of the container we wish to use\n",
    "                                    role,                                    # What is our current IAM Role\n",
    "                                    train_instance_count=1,                  # How many compute instances\n",
    "                                    train_instance_type='ml.m4.xlarge',      # What kind of compute instances\n",
    "                                    output_path='s3://{}/{}/output'.format(session.default_bucket(), prefix),\n",
    "                                    sagemaker_session=session)\n",
    "\n",
    "# And then set the algorithm specific parameters.\n",
    "xgb.set_hyperparameters(max_depth=5,\n",
    "                        eta=0.2,\n",
    "                        gamma=4,\n",
    "                        min_child_weight=6,\n",
    "                        subsample=0.8,\n",
    "                        silent=0,\n",
    "                        objective='binary:logistic',\n",
    "                        early_stopping_rounds=10,\n",
    "                        num_round=500)"
   ]
  },
  {
   "cell_type": "markdown",
   "metadata": {},
   "source": [
    "### Fit the XGBoost model\n",
    "\n",
    "Now that our model has been set up we simply need to attach the training and validation datasets and then ask SageMaker to set up the computation."
   ]
  },
  {
   "cell_type": "code",
   "execution_count": 23,
   "metadata": {},
   "outputs": [],
   "source": [
    "s3_input_train = sagemaker.s3_input(s3_data=train_location, content_type='csv')\n",
    "s3_input_validation = sagemaker.s3_input(s3_data=val_location, content_type='csv')"
   ]
  },
  {
   "cell_type": "code",
   "execution_count": 24,
   "metadata": {},
   "outputs": [
    {
     "name": "stdout",
     "output_type": "stream",
     "text": [
      "2020-05-05 02:14:01 Starting - Starting the training job...\n",
      "2020-05-05 02:14:02 Starting - Launching requested ML instances......\n",
      "2020-05-05 02:15:05 Starting - Preparing the instances for training...\n",
      "2020-05-05 02:15:53 Downloading - Downloading input data...\n",
      "2020-05-05 02:16:29 Training - Downloading the training image...\n",
      "2020-05-05 02:17:01 Uploading - Uploading generated training model\n",
      "2020-05-05 02:17:01 Completed - Training job completed\n",
      "\u001b[34mArguments: train\u001b[0m\n",
      "\u001b[34m[2020-05-05:02:16:49:INFO] Running standalone xgboost training.\u001b[0m\n",
      "\u001b[34m[2020-05-05:02:16:49:INFO] File size need to be processed in the node: 9.14mb. Available memory size in the node: 8501.36mb\u001b[0m\n",
      "\u001b[34m[2020-05-05:02:16:49:INFO] Determined delimiter of CSV input is ','\u001b[0m\n",
      "\u001b[34m[02:16:49] S3DistributionType set as FullyReplicated\u001b[0m\n",
      "\u001b[34m[02:16:49] 15000x178 matrix with 2670000 entries loaded from /opt/ml/input/data/train?format=csv&label_column=0&delimiter=,\u001b[0m\n",
      "\u001b[34m[2020-05-05:02:16:49:INFO] Determined delimiter of CSV input is ','\u001b[0m\n",
      "\u001b[34m[02:16:49] S3DistributionType set as FullyReplicated\u001b[0m\n",
      "\u001b[34m[02:16:49] 10000x178 matrix with 1780000 entries loaded from /opt/ml/input/data/validation?format=csv&label_column=0&delimiter=,\u001b[0m\n",
      "\u001b[34m[02:16:50] src/tree/updater_prune.cc:74: tree pruning end, 1 roots, 30 extra nodes, 2 pruned nodes, max_depth=5\u001b[0m\n",
      "\u001b[34m[0]#011train-error:0.481533#011validation-error:0.5101\u001b[0m\n",
      "\u001b[34mMultiple eval metrics have been passed: 'validation-error' will be used for early stopping.\n",
      "\u001b[0m\n",
      "\u001b[34mWill train until validation-error hasn't improved in 10 rounds.\u001b[0m\n",
      "\u001b[34m[02:16:50] src/tree/updater_prune.cc:74: tree pruning end, 1 roots, 38 extra nodes, 4 pruned nodes, max_depth=5\u001b[0m\n",
      "\u001b[34m[1]#011train-error:0.468267#011validation-error:0.4989\u001b[0m\n",
      "\u001b[34m[02:16:50] src/tree/updater_prune.cc:74: tree pruning end, 1 roots, 50 extra nodes, 4 pruned nodes, max_depth=5\u001b[0m\n",
      "\u001b[34m[2]#011train-error:0.451533#011validation-error:0.5042\u001b[0m\n",
      "\u001b[34m[02:16:50] src/tree/updater_prune.cc:74: tree pruning end, 1 roots, 32 extra nodes, 0 pruned nodes, max_depth=5\u001b[0m\n",
      "\u001b[34m[3]#011train-error:0.444933#011validation-error:0.5045\u001b[0m\n",
      "\u001b[34m[02:16:50] src/tree/updater_prune.cc:74: tree pruning end, 1 roots, 18 extra nodes, 0 pruned nodes, max_depth=5\u001b[0m\n",
      "\u001b[34m[4]#011train-error:0.437133#011validation-error:0.5085\u001b[0m\n",
      "\u001b[34m[02:16:50] src/tree/updater_prune.cc:74: tree pruning end, 1 roots, 26 extra nodes, 2 pruned nodes, max_depth=5\u001b[0m\n",
      "\u001b[34m[5]#011train-error:0.432733#011validation-error:0.5066\u001b[0m\n",
      "\u001b[34m[02:16:50] src/tree/updater_prune.cc:74: tree pruning end, 1 roots, 42 extra nodes, 2 pruned nodes, max_depth=5\u001b[0m\n",
      "\u001b[34m[6]#011train-error:0.425467#011validation-error:0.5066\u001b[0m\n",
      "\u001b[34m[02:16:50] src/tree/updater_prune.cc:74: tree pruning end, 1 roots, 32 extra nodes, 0 pruned nodes, max_depth=5\u001b[0m\n",
      "\u001b[34m[7]#011train-error:0.422733#011validation-error:0.5049\u001b[0m\n",
      "\u001b[34m[02:16:50] src/tree/updater_prune.cc:74: tree pruning end, 1 roots, 30 extra nodes, 4 pruned nodes, max_depth=5\u001b[0m\n",
      "\u001b[34m[8]#011train-error:0.421267#011validation-error:0.5029\u001b[0m\n",
      "\u001b[34m[02:16:50] src/tree/updater_prune.cc:74: tree pruning end, 1 roots, 26 extra nodes, 4 pruned nodes, max_depth=5\u001b[0m\n",
      "\u001b[34m[9]#011train-error:0.414533#011validation-error:0.5118\u001b[0m\n",
      "\u001b[34m[02:16:50] src/tree/updater_prune.cc:74: tree pruning end, 1 roots, 34 extra nodes, 4 pruned nodes, max_depth=5\u001b[0m\n",
      "\u001b[34m[10]#011train-error:0.411667#011validation-error:0.5092\u001b[0m\n",
      "\u001b[34m[02:16:50] src/tree/updater_prune.cc:74: tree pruning end, 1 roots, 30 extra nodes, 0 pruned nodes, max_depth=5\u001b[0m\n",
      "\u001b[34m[11]#011train-error:0.407533#011validation-error:0.5105\u001b[0m\n",
      "\u001b[34mStopping. Best iteration:\u001b[0m\n",
      "\u001b[34m[1]#011train-error:0.468267#011validation-error:0.4989\n",
      "\u001b[0m\n",
      "Training seconds: 68\n",
      "Billable seconds: 68\n"
     ]
    }
   ],
   "source": [
    "xgb.fit({'train': s3_input_train, 'validation': s3_input_validation})"
   ]
  },
  {
   "cell_type": "markdown",
   "metadata": {},
   "source": [
    "### Testing the model\n",
    "\n",
    "Now that we've fit our XGBoost model, it's time to see how well it performs. To do this we will use SageMakers Batch Transform functionality. Batch Transform is a convenient way to perform inference on a large dataset in a way that is not realtime. That is, we don't necessarily need to use our model's results immediately and instead we can peform inference on a large number of samples. An example of this in industry might be peforming an end of month report. This method of inference can also be useful to us as it means to can perform inference on our entire test set. \n",
    "\n",
    "To perform a Batch Transformation we need to first create a transformer objects from our trained estimator object."
   ]
  },
  {
   "cell_type": "code",
   "execution_count": 25,
   "metadata": {},
   "outputs": [],
   "source": [
    "xgb_transformer = xgb.transformer(instance_count = 1, instance_type = 'ml.m4.xlarge')"
   ]
  },
  {
   "cell_type": "markdown",
   "metadata": {},
   "source": [
    "Next we actually perform the transform job. When doing so we need to make sure to specify the type of data we are sending so that it is serialized correctly in the background. In our case we are providing our model with csv data so we specify `text/csv`. Also, if the test data that we have provided is too large to process all at once then we need to specify how the data file should be split up. Since each line is a single entry in our data set we tell SageMaker that it can split the input on each line."
   ]
  },
  {
   "cell_type": "code",
   "execution_count": 26,
   "metadata": {},
   "outputs": [],
   "source": [
    "xgb_transformer.transform(test_location, content_type='text/csv', split_type='Line')"
   ]
  },
  {
   "cell_type": "markdown",
   "metadata": {},
   "source": [
    "Currently the transform job is running but it is doing so in the background. Since we wish to wait until the transform job is done and we would like a bit of feedback we can run the `wait()` method."
   ]
  },
  {
   "cell_type": "code",
   "execution_count": 27,
   "metadata": {},
   "outputs": [
    {
     "name": "stdout",
     "output_type": "stream",
     "text": [
      ".....................\u001b[34mArguments: serve\u001b[0m\n",
      "\u001b[34m[2020-05-05 02:20:36 +0000] [1] [INFO] Starting gunicorn 19.7.1\u001b[0m\n",
      "\u001b[34m[2020-05-05 02:20:36 +0000] [1] [INFO] Listening at: http://0.0.0.0:8080 (1)\u001b[0m\n",
      "\u001b[34m[2020-05-05 02:20:36 +0000] [1] [INFO] Using worker: gevent\u001b[0m\n",
      "\u001b[34m[2020-05-05 02:20:36 +0000] [37] [INFO] Booting worker with pid: 37\u001b[0m\n",
      "\u001b[34m[2020-05-05 02:20:36 +0000] [38] [INFO] Booting worker with pid: 38\u001b[0m\n",
      "\u001b[34m[2020-05-05 02:20:36 +0000] [39] [INFO] Booting worker with pid: 39\u001b[0m\n",
      "\u001b[34m[2020-05-05 02:20:36 +0000] [40] [INFO] Booting worker with pid: 40\u001b[0m\n",
      "\u001b[34m[2020-05-05:02:20:36:INFO] Model loaded successfully for worker : 37\u001b[0m\n",
      "\u001b[34m[2020-05-05:02:20:36:INFO] Model loaded successfully for worker : 39\u001b[0m\n",
      "\u001b[34m[2020-05-05:02:20:36:INFO] Model loaded successfully for worker : 38\u001b[0m\n",
      "\u001b[34m[2020-05-05:02:20:36:INFO] Model loaded successfully for worker : 40\u001b[0m\n",
      "\u001b[34m[2020-05-05:02:20:58:INFO] Sniff delimiter as ','\u001b[0m\n",
      "\u001b[34m[2020-05-05:02:20:58:INFO] Determined delimiter of CSV input is ','\u001b[0m\n",
      "\u001b[34m[2020-05-05:02:20:58:INFO] Sniff delimiter as ','\u001b[0m\n",
      "\u001b[34m[2020-05-05:02:20:58:INFO] Determined delimiter of CSV input is ','\u001b[0m\n",
      "\n",
      "\u001b[32m2020-05-05T02:20:57.602:[sagemaker logs]: MaxConcurrentTransforms=4, MaxPayloadInMB=6, BatchStrategy=MULTI_RECORD\u001b[0m\n"
     ]
    }
   ],
   "source": [
    "xgb_transformer.wait()"
   ]
  },
  {
   "cell_type": "markdown",
   "metadata": {},
   "source": [
    "Now the transform job has executed and the result, the estimated sentiment of each review, has been saved on S3. Since we would rather work on this file locally we can perform a bit of notebook magic to copy the file to the `data_dir`."
   ]
  },
  {
   "cell_type": "code",
   "execution_count": 28,
   "metadata": {},
   "outputs": [
    {
     "name": "stdout",
     "output_type": "stream",
     "text": [
      "download: s3://sagemaker-us-west-2-202593872157/xgboost-2020-05-05-02-17-13-507/test.csv.out to ../data/sentiment_update/test.csv.out\r\n"
     ]
    }
   ],
   "source": [
    "!aws s3 cp --recursive $xgb_transformer.output_path $data_dir"
   ]
  },
  {
   "cell_type": "markdown",
   "metadata": {},
   "source": [
    "The last step is now to read in the output from our model, convert the output to something a little more usable, in this case we want the sentiment to be either `1` (positive) or `0` (negative), and then compare to the ground truth labels."
   ]
  },
  {
   "cell_type": "code",
   "execution_count": 29,
   "metadata": {},
   "outputs": [],
   "source": [
    "predictions = pd.read_csv(os.path.join(data_dir, 'test.csv.out'), header=None)\n",
    "predictions = [round(num) for num in predictions.squeeze().values]"
   ]
  },
  {
   "cell_type": "code",
   "execution_count": 30,
   "metadata": {},
   "outputs": [
    {
     "data": {
      "text/plain": [
       "0.5024"
      ]
     },
     "execution_count": 30,
     "metadata": {},
     "output_type": "execute_result"
    }
   ],
   "source": [
    "from sklearn.metrics import accuracy_score\n",
    "accuracy_score(test_y, predictions)"
   ]
  },
  {
   "cell_type": "markdown",
   "metadata": {},
   "source": [
    "## Step 5: Looking at New Data\n",
    "\n",
    "So now we have an XGBoost sentiment analysis model that we believe is working pretty well. As a result, we deployed it and we are using it in some sort of app.\n",
    "\n",
    "However, as we allow users to use our app we periodically record submitted movie reviews so that we can perform some quality control on our deployed model. Once we've accumulated enough reviews we go through them by hand and evaluate whether they are positive or negative (there are many ways you might do this in practice aside from by hand). The reason for doing this is so that we can check to see how well our model is doing."
   ]
  },
  {
   "cell_type": "code",
   "execution_count": 31,
   "metadata": {},
   "outputs": [],
   "source": [
    "import new_data\n",
    "\n",
    "new_X, new_Y = new_data.get_new_data()"
   ]
  },
  {
   "cell_type": "markdown",
   "metadata": {},
   "source": [
    "**NOTE:** Part of the fun in this notebook is trying to figure out what exactly is happening with the new data, so try not to cheat by looking in the `new_data` module. Also, the `new_data` module assumes that the cache created earlier in Step 3 is still stored in `../cache/sentiment_analysis`."
   ]
  },
  {
   "cell_type": "markdown",
   "metadata": {},
   "source": [
    "### (TODO) Testing the current model\n",
    "\n",
    "Now that we've loaded the new data, let's check to see how our current XGBoost model performs on it.\n",
    "\n",
    "First, note that the data that has been loaded has already been pre-processed so that each entry in `new_X` is a list of words that have been processed using `nltk`. However, we have not yet constructed the bag of words encoding, which we will do now.\n",
    "\n",
    "First, we use the vocabulary that we constructed earlier using the original training data to construct a `CountVectorizer` which we will use to transform our new data into its bag of words encoding.\n",
    "\n",
    "**TODO:** Create the CountVectorizer object using the vocabulary created earlier and use it to transform the new data."
   ]
  },
  {
   "cell_type": "code",
   "execution_count": 32,
   "metadata": {},
   "outputs": [],
   "source": [
    "# TODO: Create the CountVectorizer using the previously constructed vocabulary\n",
    "vectorizer = CountVectorizer(vocabulary=vocabulary,\n",
    "                            preprocessor=lambda x:x, tokenizer = lambda x:x )\n",
    "\n",
    "# TODO: Transform our new data set and store the transformed data in the variable new_XV\n",
    "new_XV = vectorizer.transform(new_X).toarray()"
   ]
  },
  {
   "cell_type": "markdown",
   "metadata": {},
   "source": [
    "As a quick sanity check, we make sure that the length of each of our bag of words encoded reviews is correct. In particular, it must be the same size as the vocabulary which in our case is `5000`."
   ]
  },
  {
   "cell_type": "code",
   "execution_count": 33,
   "metadata": {},
   "outputs": [
    {
     "data": {
      "text/plain": [
       "178"
      ]
     },
     "execution_count": 33,
     "metadata": {},
     "output_type": "execute_result"
    }
   ],
   "source": [
    "len(new_XV[100])"
   ]
  },
  {
   "cell_type": "markdown",
   "metadata": {},
   "source": [
    "Now that we've performed the data processing that is required by our model we can save it locally and then upload it to S3 so that we can construct a batch transform job in order to see how well our model is working.\n",
    "\n",
    "First, we save the data locally.\n",
    "\n",
    "**TODO:** Save the new data (after it has been transformed using the original vocabulary) to the local notebook instance."
   ]
  },
  {
   "cell_type": "code",
   "execution_count": 34,
   "metadata": {},
   "outputs": [],
   "source": [
    "# TODO: Save the data contained in new_XV locally in the data_dir with the file name new_data.csv\n",
    "pd.DataFrame(new_XV).to_csv(os.path.join(data_dir, 'new_data.csv'), header=False, index=False)"
   ]
  },
  {
   "cell_type": "markdown",
   "metadata": {},
   "source": [
    "Next, we upload the data to S3.\n",
    "\n",
    "**TODO:** Upload the csv file created above to S3."
   ]
  },
  {
   "cell_type": "code",
   "execution_count": 35,
   "metadata": {},
   "outputs": [],
   "source": [
    "# TODO: Upload the new_data.csv file contained in the data_dir folder to S3 and save the resulting\n",
    "#       URI as new_data_location\n",
    "\n",
    "new_data_location = session.upload_data(os.path.join(data_dir,'new_data.csv'), key_prefix=prefix)"
   ]
  },
  {
   "cell_type": "markdown",
   "metadata": {},
   "source": [
    "Then, once the new data has been uploaded to S3, we create and run the batch transform job to get our model's predictions about the sentiment of the new movie reviews.\n",
    "\n",
    "**TODO:** Using the `xgb_transformer` object that was created earlier (at the end of Step 4 to test the XGBoost model), transform the data located at `new_data_location`."
   ]
  },
  {
   "cell_type": "code",
   "execution_count": 36,
   "metadata": {},
   "outputs": [
    {
     "name": "stdout",
     "output_type": "stream",
     "text": [
      "....................\u001b[34mArguments: serve\u001b[0m\n",
      "\u001b[34m[2020-05-05 02:24:39 +0000] [1] [INFO] Starting gunicorn 19.7.1\u001b[0m\n",
      "\u001b[34m[2020-05-05 02:24:39 +0000] [1] [INFO] Listening at: http://0.0.0.0:8080 (1)\u001b[0m\n",
      "\u001b[34m[2020-05-05 02:24:39 +0000] [1] [INFO] Using worker: gevent\u001b[0m\n",
      "\u001b[34m[2020-05-05 02:24:39 +0000] [37] [INFO] Booting worker with pid: 37\u001b[0m\n",
      "\u001b[34m[2020-05-05 02:24:39 +0000] [38] [INFO] Booting worker with pid: 38\u001b[0m\n",
      "\u001b[34m[2020-05-05 02:24:39 +0000] [39] [INFO] Booting worker with pid: 39\u001b[0m\n",
      "\u001b[34m[2020-05-05 02:24:39 +0000] [40] [INFO] Booting worker with pid: 40\u001b[0m\n",
      "\u001b[34m[2020-05-05:02:24:39:INFO] Model loaded successfully for worker : 38\u001b[0m\n",
      "\u001b[34m[2020-05-05:02:24:39:INFO] Model loaded successfully for worker : 37\u001b[0m\n",
      "\u001b[34m[2020-05-05:02:24:39:INFO] Model loaded successfully for worker : 39\u001b[0m\n",
      "\u001b[34m[2020-05-05:02:24:39:INFO] Model loaded successfully for worker : 40\u001b[0m\n",
      "\n",
      "\u001b[34m[2020-05-05:02:24:56:INFO] Sniff delimiter as ','\u001b[0m\n",
      "\u001b[34m[2020-05-05:02:24:56:INFO] Determined delimiter of CSV input is ','\u001b[0m\n",
      "\u001b[34m[2020-05-05:02:24:56:INFO] Sniff delimiter as ','\u001b[0m\n",
      "\u001b[34m[2020-05-05:02:24:56:INFO] Determined delimiter of CSV input is ','\u001b[0m\n",
      "\u001b[35m[2020-05-05:02:24:56:INFO] Sniff delimiter as ','\u001b[0m\n",
      "\u001b[35m[2020-05-05:02:24:56:INFO] Determined delimiter of CSV input is ','\u001b[0m\n",
      "\u001b[35m[2020-05-05:02:24:56:INFO] Sniff delimiter as ','\u001b[0m\n",
      "\u001b[35m[2020-05-05:02:24:56:INFO] Determined delimiter of CSV input is ','\u001b[0m\n",
      "\u001b[32m2020-05-05T02:24:55.465:[sagemaker logs]: MaxConcurrentTransforms=4, MaxPayloadInMB=6, BatchStrategy=MULTI_RECORD\u001b[0m\n"
     ]
    }
   ],
   "source": [
    "# TODO: Using xgb_transformer, transform the new_data_location data. You may wish to **wait** until\n",
    "#       the batch transform job has finished.\n",
    "xgb_transformer.transform(new_data_location, content_type='text/csv', split_type ='Line')\n",
    "xgb_transformer.wait()"
   ]
  },
  {
   "cell_type": "markdown",
   "metadata": {},
   "source": [
    "As usual, we copy the results of the batch transform job to our local instance."
   ]
  },
  {
   "cell_type": "code",
   "execution_count": 37,
   "metadata": {},
   "outputs": [
    {
     "name": "stdout",
     "output_type": "stream",
     "text": [
      "download: s3://sagemaker-us-west-2-202593872157/xgboost-2020-05-05-02-21-33-841/new_data.csv.out to ../data/sentiment_update/new_data.csv.out\r\n"
     ]
    }
   ],
   "source": [
    "!aws s3 cp --recursive $xgb_transformer.output_path $data_dir"
   ]
  },
  {
   "cell_type": "markdown",
   "metadata": {},
   "source": [
    "Read in the results of the batch transform job."
   ]
  },
  {
   "cell_type": "code",
   "execution_count": 38,
   "metadata": {},
   "outputs": [],
   "source": [
    "predictions = pd.read_csv(os.path.join(data_dir, 'new_data.csv.out'), header=None)\n",
    "predictions = [round(num) for num in predictions.squeeze().values]"
   ]
  },
  {
   "cell_type": "markdown",
   "metadata": {},
   "source": [
    "And check the accuracy of our current model."
   ]
  },
  {
   "cell_type": "code",
   "execution_count": 39,
   "metadata": {},
   "outputs": [
    {
     "data": {
      "text/plain": [
       "0.50392"
      ]
     },
     "execution_count": 39,
     "metadata": {},
     "output_type": "execute_result"
    }
   ],
   "source": [
    "accuracy_score(new_Y, predictions)"
   ]
  },
  {
   "cell_type": "markdown",
   "metadata": {},
   "source": [
    "So it would appear that *something* has changed since our model is no longer (as) effective at determining the sentiment of a user provided review.\n",
    "\n",
    "In a real life scenario you would check a number of different things to see what exactly is going on. In our case, we are only going to check one and that is whether some aspect of the underlying distribution has changed. In other words, we want to see if the words that appear in our new collection of reviews matches the words that appear in the original training set. Of course, we want to narrow our scope a little bit so we will only look at the `5000` most frequently appearing words in each data set, or in other words, the vocabulary generated by each data set.\n",
    "\n",
    "Before doing that, however, let's take a look at some of the incorrectly classified reviews in the new data set.\n",
    "\n",
    "To start, we will deploy the original XGBoost model. We will then use the deployed model to infer the sentiment of some of the new reviews. This will also serve as a nice excuse to deploy our model so that we can mimic a real life scenario where we have a model that has been deployed and is being used in production.\n",
    "\n",
    "**TODO:** Deploy the XGBoost model."
   ]
  },
  {
   "cell_type": "code",
   "execution_count": 40,
   "metadata": {},
   "outputs": [
    {
     "name": "stderr",
     "output_type": "stream",
     "text": [
      "WARNING:sagemaker:Using already existing model: xgboost-2020-05-05-02-14-01-304\n"
     ]
    },
    {
     "name": "stdout",
     "output_type": "stream",
     "text": [
      "---------------!"
     ]
    }
   ],
   "source": [
    "# TODO: Deploy the model that was created earlier. Recall that the object name is 'xgb'.\n",
    "xgb_predictor = xgb.deploy(initial_instance_count = 1, instance_type = 'ml.m4.xlarge')"
   ]
  },
  {
   "cell_type": "markdown",
   "metadata": {},
   "source": [
    "### Diagnose the problem\n",
    "\n",
    "Now that we have our deployed \"production\" model, we can send some of our new data to it and filter out some of the incorrectly classified reviews."
   ]
  },
  {
   "cell_type": "code",
   "execution_count": 41,
   "metadata": {},
   "outputs": [],
   "source": [
    "from sagemaker.predictor import csv_serializer\n",
    "\n",
    "# We need to tell the endpoint what format the data we are sending is in so that SageMaker can perform the serialization.\n",
    "xgb_predictor.content_type = 'text/csv'\n",
    "xgb_predictor.serializer = csv_serializer"
   ]
  },
  {
   "cell_type": "markdown",
   "metadata": {},
   "source": [
    "It will be useful to look at a few different examples of incorrectly classified reviews so we will start by creating a *generator* which we will use to iterate through some of the new reviews and find ones that are incorrect.\n",
    "\n",
    "**NOTE:** Understanding what Python generators are isn't really required for this module. The reason we use them here is so that we don't have to iterate through all of the new reviews, searching for incorrectly classified samples."
   ]
  },
  {
   "cell_type": "code",
   "execution_count": 42,
   "metadata": {},
   "outputs": [],
   "source": [
    "def get_sample(in_X, in_XV, in_Y):\n",
    "    for idx, smp in enumerate(in_X):\n",
    "        res = round(float(xgb_predictor.predict(in_XV[idx])))\n",
    "        if res != in_Y[idx]:\n",
    "            yield smp, in_Y[idx]"
   ]
  },
  {
   "cell_type": "code",
   "execution_count": 43,
   "metadata": {},
   "outputs": [],
   "source": [
    "gn = get_sample(new_X, new_XV, new_Y)"
   ]
  },
  {
   "cell_type": "markdown",
   "metadata": {},
   "source": [
    "At this point, `gn` is the *generator* which generates samples from the new data set which are not classified correctly. To get the *next* sample we simply call the `next` method on our generator."
   ]
  },
  {
   "cell_type": "code",
   "execution_count": 44,
   "metadata": {},
   "outputs": [
    {
     "name": "stdout",
     "output_type": "stream",
     "text": [
      "(['2', 'star', 'kay', 'franci', 'wonder', 'deserv', 'horribl', 'tripe', 'warner', 'bro', 'threw', 'way', 'two', 'prong', 'premis', 'movi', 'base', 'ridicul', 'unbeliev', 'extrem', 'kay', 'small', 'town', 'wife', 'mother', 'yearn', 'someth', 'bigger', 'want', 'actress', 'big', 'shot', 'actor', 'come', 'town', 'invit', 'kay', 'hotel', 'talk', 'possibl', 'kay', 'tell', 'husband', 'go', 'movi', 'hubbi', 'biddi', 'mother', 'put', 'bug', 'hubbi', 'ear', 'kay', 'truth', 'set', 'look', 'find', 'w', 'actor', 'hotel', 'talk', 'slug', 'guy', 'fall', 'rail', 'land', 'face', 'first', 'pond', 'lake', 'die', 'two', 'unbeliev', 'premis', 'upon', 'rest', 'movi', 'base', '1', 'judg', 'tell', 'juri', 'determin', 'man', 'die', 'head', 'went', 'water', 'must', 'find', 'hubbi', 'guilti', 'first', 'degre', 'murder', 'whaaaaa', 'think', 'slug', 'guy', 'fit', 'rage', 'would', 'count', 'manslaught', 'murder', '2', 'first', 'degre', 'murder', 'give', 'break', 'plot', 'requir', 'found', 'guilti', 'murder', '1', 'could', 'sent', 'prison', 'life', 'whatev', '2', 'hubbi', 'lawyer', 'convict', 'sentenc', 'tell', 'kay', 'fault', 'reason', 'gone', 'actor', 'room', 'husband', 'go', 'slug', 'guy', 'kill', 'tell', 'guilti', 'one', 'husband', 'nod', 'agre', 'hell', 'rest', 'movi', 'kay', 'tri', 'achiev', 'fame', 'money', 'order', 'get', 'husband', 'releas', 'prison', 'right', 'wrong', 'commit', 'caus', 'kill', 'actor', 'dude', 'first', 'place', 'even', 'go', 'review', 'movi', 'pain', 'four', 'year', 'earlier', 'pre', 'code', 'day', 'never', 'caught', 'kay', 'play', 'wimp', 'true', 'kay', 'franci', 'fashion', 'though', 'best', 'make', 'us', 'believ', 'woman', 'believ', 'charact', 'give', 'much', 'credit', 'tri', 'breath', 'life', 'credibl', 'thankless', 'role', 'charact', 'far', 'cri', 'pre', 'code', 'kay', 'role', 'real', 'life', 'spitfir', 'kay', 'franci', 'steer', 'way', 'clear', 'one', 'much', 'better', 'kay', 'franci', 'vehicl', 'person', 'experi', 'highli', 'recommend', 'mari', 'steven', 'md', 'jewel', 'robberi', 'also', 'good', 'dr', 'monica', 'one', 'way', 'passag', 'sure', 'great', 'kay', 'flick', 'well', 'mention', 'one', 'seen', 'recommend'], 0)\n"
     ]
    }
   ],
   "source": [
    "print(next(gn))"
   ]
  },
  {
   "cell_type": "markdown",
   "metadata": {},
   "source": [
    "After looking at a few examples, maybe we decide to look at the most frequently appearing `5000` words in each data set, the original training data set and the new data set. The reason for looking at this might be that we expect the frequency of use of different words to have changed, maybe there is some new slang that has been introduced or some other artifact of popular culture that has changed the way that people write movie reviews.\n",
    "\n",
    "To do this, we start by fitting a `CountVectorizer` to the new data."
   ]
  },
  {
   "cell_type": "code",
   "execution_count": 45,
   "metadata": {},
   "outputs": [
    {
     "data": {
      "text/plain": [
       "CountVectorizer(analyzer='word', binary=False, decode_error='strict',\n",
       "        dtype=<class 'numpy.int64'>, encoding='utf-8', input='content',\n",
       "        lowercase=True, max_df=1.0, max_features=5000, min_df=1,\n",
       "        ngram_range=(1, 1),\n",
       "        preprocessor=<function <lambda> at 0x7f853fb3f268>,\n",
       "        stop_words=None, strip_accents=None,\n",
       "        token_pattern='(?u)\\\\b\\\\w\\\\w+\\\\b',\n",
       "        tokenizer=<function <lambda> at 0x7f853fb3f2f0>, vocabulary=None)"
      ]
     },
     "execution_count": 45,
     "metadata": {},
     "output_type": "execute_result"
    }
   ],
   "source": [
    "new_vectorizer = CountVectorizer(max_features=5000,\n",
    "                preprocessor=lambda x: x, tokenizer=lambda x: x)\n",
    "new_vectorizer.fit(new_X)"
   ]
  },
  {
   "cell_type": "markdown",
   "metadata": {},
   "source": [
    "Now that we have this new `CountVectorizor` object, we can check to see if the corresponding vocabulary has changed between the two data sets."
   ]
  },
  {
   "cell_type": "code",
   "execution_count": 46,
   "metadata": {},
   "outputs": [],
   "source": [
    "original_vocabulary = set(vocabulary.keys())\n",
    "new_vocabulary = set(new_vectorizer.vocabulary_.keys())"
   ]
  },
  {
   "cell_type": "markdown",
   "metadata": {},
   "source": [
    "We can look at the words that were in the original vocabulary but not in the new vocabulary."
   ]
  },
  {
   "cell_type": "code",
   "execution_count": 47,
   "metadata": {},
   "outputs": [
    {
     "name": "stdout",
     "output_type": "stream",
     "text": [
      "{'\\x97', 'í', ')', 'è', '®', '¦', '\\\\', 'à', '»', '…', 'O', 'Ä', 'â', 'ō', 'ç', '\\x9e', '\\x08', 'S', '\\x80', \"'\", '₤', 'ö', 'ò', '=', '<', 'ü', 'N', 'W', '[', 'ì', '^', 'A', '\"', 'î', 'y', '%', 'Õ', 'Ü', '`', 's', 'æ', ' ', '¾', 'M', 'ï', '|', 'J', 'á', '&', 'ã', 'ý', '¢', '*', 'K', 'ä', '\\xad', 'P', 'Ã', '“', 'È', '\\x10', '\\uf0b7', ']', 'D', '_', 'a', '\\x84', 'E', '\\x96', '}', '¡', 'Ø', '.', '>', 'û', 'ð', 'ø', 'º', 'G', 'L', '!', '(', '·', '¿', 'm', '$', 'o', 'Y', 'Á', '#', '–', 'Z', '¤', 'V', 'U', '\\x9a', 'å', 'ë', 'F', 'H', 'À', '{', 'I', ';', '\\x8d', '-', 'Q', '’', 'T', '\\t', '£', 'B', 'ß', '¨', '³', 'C', 'X', '\\xa0', ',', '\\x8e', '/', 'Å', '@', '½', 'ú', 'ù', '?', '\\x95', 'R', '\\x85', '~', '‘', '\\x91', 'ñ', 'ó', '§', 'd', 't', 'é', 'Ê', '+', 'ô', '°', '«', '”', 'É', 'i', ':', '´', 'ê'}\n"
     ]
    }
   ],
   "source": [
    "print(original_vocabulary - new_vocabulary)"
   ]
  },
  {
   "cell_type": "markdown",
   "metadata": {},
   "source": [
    "And similarly, we can look at the words that are in the new vocabulary but which were not in the original vocabulary."
   ]
  },
  {
   "cell_type": "code",
   "execution_count": 48,
   "metadata": {},
   "outputs": [
    {
     "name": "stdout",
     "output_type": "stream",
     "text": [
      "{'percept', 'evolv', 'albert', '1974', 'magic', 'either', 'neighbor', 'spin', 'fade', 'convincingli', 'own', 'darren', 'aveng', 'wheel', 'lampoon', 'companion', 'eventu', 'horn', 'jennif', 'hint', 'job', 'hollow', 'mount', 'incompet', 'ok', 'flynn', 'mild', 'new', 'william', 'sidekick', 'cg', 'thoma', 'sore', 'voyag', 'pain', 'master', 'sum', 'nuclear', 'problem', 'swear', 'buff', 'fundament', 'mid', 'qualiti', 'alright', 'charm', 'theatr', 'timothi', 'behavior', 'smooth', 'rubbish', 'poor', 'univers', 'die', 'luke', 'book', 'frank', 'preach', 'elsewher', 'pickford', 'duval', 'eccentr', 'growth', 'price', 'sake', 'fallen', 'given', 'bob', 'bach', 'appear', 'fed', 'imperson', 'lengthi', 'choic', 'artifici', 'kazan', 'stiff', 'cypher', 'clean', 'pilot', 'typic', 'nolan', 'seri', 'acclaim', 'laid', '2000', 'bobbi', 'onlin', 'lex', 'roof', 'freak', 'ellen', 'obviou', 'cassavet', 'biblic', 'age', 'philip', 'carri', 'rita', 'witch', 'ashley', 'jerk', 'neither', 'sandra', 'bitter', 'psychopath', 'tie', 'go', 'exploit', 'peter', 'mission', 'entranc', 'soap', 'festiv', 'scare', 'la', 'gave', 'immedi', 'ramon', 'lovabl', 'assembl', 'charg', 'soccer', 'immigr', 'scottish', 'astronaut', 'whatev', 'disc', 'misguid', 'rehash', 'climat', 'lesli', 'vari', 'rang', 'suggest', 'gundam', 'day', 'rule', 'sustain', 'monti', 'backward', 'lang', 'sincer', 'hopper', 'urban', 'natur', 'instead', 'neill', 'marlon', 'tortur', 'unusu', 'signific', 'capit', 'deceas', 'reflect', 'renaiss', 'attempt', 'margin', 'rick', 'whole', 'human', 'banter', 'orson', 'shirley', 'horrifi', 'pre', 'simpson', 'wooden', 'laughabl', 'berlin', 'woodi', 'uniform', 'john', 'numer', 'journey', 'villain', 'sid', 'slaughter', 'prequel', 'obscur', 'balanc', 'restrict', 'surf', 'youth', 'exactli', 'uniqu', 'mormon', 'pauli', 'dismal', 'forest', 'safe', 'novak', 'imit', 'techniqu', 'beneath', 'monster', 'trash', 'coffe', 'ant', 'otherwis', 'hollywood', 'gloriou', 'listen', 'altogeth', 'interpret', '40', 'vein', 'dash', 'importantli', 'doom', 'mathieu', 'purchas', 'plastic', 'field', 'plagu', 'cari', 'smith', 'cheap', 'us', 'insipid', '2006', 'rare', 'burt', 'outing', 'drove', 'quickli', 'lol', 'lazi', 'contrast', 'comprehend', 'stun', 'jeff', 'randi', 'wound', 'frankli', 'femm', 'masterson', 'posit', 'inaccuraci', 'particip', 'bright', 'colleg', 'support', 'inform', 'charact', 'pursuit', 'process', 'ha', 'hall', 'tomorrow', 'increas', 'nope', 'boat', 'darker', 'gentl', 'els', 'vastli', 'guin', 'challeng', 'forgotten', 'countrysid', 'awe', 'coach', 'holi', 'saw', 'welcom', 'sunday', 'ingredi', 'burst', 'that', 'logan', 'grandmoth', 'jill', 'hank', '35', 'tea', 'butler', 'helen', 'toward', 'chao', 'car', 'shepherd', 'boot', 'behold', 'announc', 'edgi', 'mechan', 'hokey', 'ireland', 'stilt', 'seal', 'investig', 'simpli', 'choreograph', 'unbeliev', 'row', 'uncov', 'move', 'zoom', 'doubt', 'star', 'squar', 'forbidden', 'campbel', 'triangl', 'fatal', '1988', 'trap', 'soundtrack', 'depth', 'whatsoev', 'realiz', 'aesthet', '75', 'boil', 'type', 'convert', 'loui', 'lot', 'vivid', 'tend', 'male', 'defin', 'maci', 'potter', 'secur', 'unravel', '1971', 'home', 'late', 'pepper', 'pole', 'door', 'fast', 'swedish', 'complex', 'legend', 'dump', 'castl', 'later', 'opinion', 'butcher', 'inspector', 'bare', 'saga', 'seller', 'hamlet', 'work', 'cancer', 'local', 'masterpiec', 'afford', 'probabl', 'likewis', 'camcord', 'vietnam', 'winner', 'anchor', 'stale', '2005', 'onto', 'moment', 'keith', 'cartoonish', 'scari', 'water', 'anderson', 'disregard', 'yearn', 'reev', 'interestingli', 'emperor', 'homag', 'franchis', 'offic', 'wealthi', 'straightforward', 'photo', 'folk', 'extrem', 'springer', 'nephew', 'declin', 'uh', 'never', 'superior', 'splatter', 'carel', 'meryl', 'nicola', 'present', 'happili', 'danc', 'theater', 'gari', 'birthday', 'pervert', 'penn', 'red', 'disbelief', 'gone', 'knowledg', 'perpetu', 'despit', '1991', 'lend', 'fido', 'spent', 'hack', 'altern', 'friendli', 'monoton', 'hotel', 'spider', 'english', 'accuraci', 'trite', 'leo', 'bela', 'help', 'becom', 'gay', 'collector', 'hero', 'steven', 'alon', 'compromis', 'seemingli', 'tast', 'fenc', 'jo', 'johnson', 'sung', 'steer', 'impress', 'confess', 'dawn', 'pound', 'crystal', 'flame', 'fli', 'prais', 'ruth', 'wendi', 'antholog', 'deliveri', 'kline', 'thick', 'low', 'howev', 'barbara', 'rest', 'enjoy', 'pearl', 'earn', 'tendenc', 'demis', 'plant', 'pervers', 'laurel', 'conneri', 'unpleas', 'infect', 'depart', 'historian', 'grace', 'gunga', 'decept', 'atroc', 'pie', 'tear', 'cash', 'east', 'howard', 'mass', 'solid', 'jungl', 'ii', 'campi', 'worst', 'flashback', 'equal', 'combin', 'ago', 'tyler', 'session', 'controversi', 'lui', 'stuck', 'boredom', 'intellig', 'shout', 'mann', 'fri', 'sutherland', 'war', 'stiller', 'damag', 'slave', 'heroic', 'park', 'deep', 'defi', 'letter', 'charli', 'irish', 'er', 'region', 'faith', 'viewpoint', 'inept', 'stomach', 'beast', 'primarili', 'aforement', 'choke', 'topless', 'news', 'arab', 'fuller', 'alli', 'easier', 'activ', 'carl', 'introduct', 'eugen', 'meat', 'rapist', 'suitabl', 'advanc', 'transform', 'mayb', 'rochest', 'conveni', 'consist', 'mute', 'flawless', 'beyond', 'showdown', 'world', 'threw', 'blob', 'blackmail', 'april', 'anywher', 'verhoeven', 'swallow', 'creat', 'arrow', 'rebel', 'uncomfort', 'empti', 'finest', 'pocket', 'harm', 'iron', 'biographi', 'vain', 'nine', 'jon', 'stake', 'astound', 'drivel', 'horrend', 'con', 'content', 'thrill', 'golden', 'omen', 'brook', 'cemeteri', 'remot', 'necessari', 'kennedi', 'outstand', 'copi', 'chines', 'mom', 'vaniti', 'closet', 'alley', 'standout', 'slick', 'readi', 'lane', 'afternoon', 'embark', 'inappropri', 'normal', 'michel', 'laugh', 'tiger', 'redneck', 'laughter', 'gimmick', 'descent', 'bite', 'reign', 'chosen', 'duke', 'style', 'ignor', 'wive', 'uncut', 'aussi', 'accent', 'israel', 'paul', 'repeat', 'luxuri', 'jim', 'enlighten', 'bergman', 'ratso', 'sacrif', 'brand', 'class', 'averag', 'viewer', 'repress', 'deal', 'veteran', 'span', 'rough', 'video', 'marti', 'gross', 'long', 'bo', 'torment', 'roller', 'andrew', 'bleed', 'offens', 'attribut', 'though', 'up', 'sandler', 'promis', 'admit', 'annoy', 'leav', 'join', 'compliment', 'narrow', 'macabr', 'mst3k', 'prefer', 'multipl', 'stone', 'fish', 'person', 'cabl', 'melt', 'ladi', 'cinemat', 'add', 'devast', 'asleep', 'lowest', 'holiday', 'olli', 'speech', 'sam', 'sold', 'chri', 'somehow', 'ryan', 'eli', 'concentr', 'crazi', 'histor', 'major', 'gabriel', 'compass', 'molli', 'dragon', 'immers', 'pitch', 'build', 'fox', 'industri', 'blade', 'evan', 'layer', 'leon', 'vega', 'disney', 'includ', 'dislik', 'exhibit', 'tight', 'breakfast', 'finish', 'grew', 'frog', 'great', 'destroy', 'retir', 'patricia', 'humour', 'resolut', 'wash', 'affect', 'repli', 'rocket', 'partner', 'humbl', 'karloff', 'ran', 'put', 'truman', 'occasion', 'sloppi', 'goldsworthi', 'trauma', 'canyon', '1990', 'felt', 'drop', 'wretch', 'wire', 'astonish', 'distress', 'mainstream', 'thought', 'break', 'hippi', 'rival', 'wing', 'usual', 'abomin', 'hulk', 'justifi', 'eye', 'boy', 'sentinel', 'introduc', '30', 'built', 'correctli', 'dicken', 'trivia', 'glanc', 'inhabit', 'cook', 'galaxi', 'bloom', 'signal', 'zone', 'stupid', 'gather', 'tree', 'sirk', 'convolut', 'shortli', 'lift', 'orang', 'baldwin', 'acid', 'green', 'hammer', 'properli', 'silli', 'suicid', 'upper', 'businessman', 'angri', 'financi', 'mesmer', 'par', 'torn', 'comparison', 'account', 'rukh', 'wrap', 'creation', 'nevertheless', 'irrit', 'utter', 'speak', 'driven', 'streep', 'wagner', 'mytholog', 'phil', 'preserv', 'senat', 'fire', 'hawk', 'phoni', 'singer', 'beaten', 'threaten', '14', 'funer', 'miik', 'proper', 'piano', 'atroci', 'sentenc', 'photograph', 'elect', 'lacklust', 'exampl', 'know', 'mgm', 'chair', 'spectacular', 'unintent', 'brilliant', 'catch', 'lie', 'invit', 'opportun', 'captiv', 'wang', 'diana', 'spite', 'guarante', 'belli', 'princip', 'jack', 'murder', 'homeless', 'spiritu', 'dedic', 'colin', 'remak', 'suspicion', 'sequel', 'regard', 'talent', 'mainli', 'spoken', 'hbo', 'pari', 'memor', 'feel', 'coincid', 'wallac', 'rumor', 'edit', 'heart', 'follow', 'aristocrat', 'sympathet', 'compel', 'section', 'christian', 'sinist', 'egg', 'point', 'lead', 'pose', 'appal', 'insist', 'hk', 'fan', 'abort', 'habit', 'simultan', 'flee', 'replay', 'bakshi', 'vader', 'repuls', 'whore', 'prior', 'lifetim', 'convict', 'amazon', 'brando', 'eastern', 'unsuspect', 'accid', 'leader', 'civil', 'space', 'moor', 'premis', 'flash', 'chest', 'vital', 'profit', 'somewhat', 'occupi', 'watch', 'sexual', 'gerard', 'miracl', 'id', 'slide', 'entir', 'hart', 'creatur', 'whose', 'restor', 'appar', 'chill', 'cape', 'idea', 'broken', 'print', 'miss', 'voic', 'comic', 'enlist', 'goldblum', 'lush', 'cheesi', 'heat', 'creepi', 'limit', 'solo', 'fist', 'worthi', 'power', 'akin', 'hunter', 'bachelor', 'offer', 'dreck', 'campaign', 'spade', 'paradis', 'ed', 'elm', 'pray', 'dust', 'jake', 'repres', 'frighten', 'trio', 'subtleti', 'jess', 'fifti', 'edg', 'sweat', 'foreign', 'scientist', 'atmospher', 'entitl', 'enabl', 'biggest', 'european', 'known', 'simpl', 'constitut', 'handicap', 'kenneth', 'secondli', 'intent', 'summari', 'dutch', 'contrari', 'we', 'anyth', 'item', 'jade', 'examin', 'moe', 'month', 'kirk', 'epic', 'factori', 'giant', 'belt', 'rivet', 'wick', 'pronounc', 'encourag', 'homicid', 'wig', 'roll', 'recommend', 'luka', 'frustrat', 'admir', 'denni', 'emphas', 'genet', 'stylish', 'clau', 'weak', 'everywher', 'around', 'truth', 'reach', 'figur', 'darn', 'england', '95', 'hire', 'bro', 'hang', 'fond', 'bradi', 'rome', 'pregnant', 'surgeri', 'raw', 'safeti', 'illeg', 'shove', 'part', 'info', 'british', 'net', 'sing', 'stimul', 'fund', 'tall', 'abraham', 'absenc', 'insult', 'clint', 'restaur', 'pack', 'paint', 'accident', '4th', 'pokemon', 'happi', 'unconvinc', 'disgrac', 'mari', 'applaud', 'beauti', 'fourth', 'harmless', 'graini', 'leigh', 'strength', 'dracula', 'goal', 'whoever', 'warmth', 'jewel', 'murphi', 'babe', 'share', 'musician', 'lo', 'wealth', 'wannab', 'geek', 'encount', 'slash', 'terrorist', 'albeit', 'shatter', 'treat', 'vincent', 'reli', 'tarzan', 'vulner', '73', 'someth', 'ceremoni', 'persuad', 'clash', 'streisand', 'franc', 'symbol', 'inner', 'championship', 'confront', 'men', 'nyc', 'al', 'hilari', 'reson', 'pet', 'apolog', 'unreal', 'lectur', 'freeman', 'carter', 'lloyd', 'deeper', 'bent', 'accept', 'engross', 'format', 'conclus', 'paltrow', 'preston', 'drug', 'sudden', 'technic', 'fun', 'music', 'northern', 'comput', 'neck', 'dirti', 'reel', 'shortcom', 'cardboard', 'chemistri', 'associ', 'upon', 'lay', 'vile', 'identifi', 'akshay', 'matthew', 'mitch', 'psychot', 'escap', 'design', 'shoulder', 'suit', 'eyr', 'weapon', 'christi', 'virgin', 'japan', 'forgiv', 'desert', 'alien', 'hoffman', 'justic', 'visitor', 'ann', 'crow', 'snatch', 'ebert', 'pad', 'uwe', 'cerebr', 'gift', 'nonetheless', 'stroke', '1930', 'chaplin', 'piec', 'steadi', 'dri', 'elvi', 'date', 'cher', 'member', 'reason', 'viciou', 'destruct', 'inflict', 'undead', 'breath', 'unrel', 'experiment', 'repris', 'unsatisfi', 'whale', 'commentari', 'remain', 'throat', 'dane', 'econom', 'stuart', 'deepli', 'mayhem', 'websit', 'flower', 'comed', '1st', 'cute', 'eleven', 'matrix', 'shade', 'float', 'fall', 'princess', 'corni', 'dreari', 'everyday', 'supposedli', 'band', 'man', 'act', 'corbett', 'five', 'affair', 'roar', 'boston', 'seen', 'dubiou', 'michael', 'sacrific', 'liu', 'wear', 'oblig', 'mix', 'fairi', 'compet', 'wield', 'stock', 'awar', 'slightli', 'brosnan', 'award', 'someon', 'baker', 'sky', 'beach', 'excit', 'social', 'predict', 'non', 'el', 'disord', 'ground', 'open', 'sell', 'next', 'mall', 'hidden', 'sheer', 'radiat', 'andi', 'tank', 'awkward', 'horrif', 'quot', 'away', 'map', 'lindsay', 'inferior', 'outlin', 'pretens', 'sink', 'unexpectedli', 'ethan', 'wind', 'iran', 'illus', 'visit', 'uninspir', 'winchest', 'artsi', 'note', 'hundr', 'gut', 'warn', 'bride', 'unfair', 'facial', 'singl', 'heard', 'bastard', 'geniu', 'head', 'token', 'warm', 'revel', 'sort', 'bronson', 'crew', 'eve', 'fanat', 'propheci', 'aspect', 'seldom', 'mildr', 'tag', 'inspir', 'cream', 'jazz', 'crook', 'prey', 'craven', 'represent', 'dire', 'sensit', 'templ', 'bowl', 'lesbian', 'past', 'excus', 'angela', 'name', 'penni', 'far', 'joseph', 'warner', 'intend', 'grown', 'photographi', 'recognis', 'cage', 'quaid', 'rot', 'stan', 'taboo', 'breast', 'eight', 'outrag', 'sabrina', 'glad', '25', 'timeless', 'wander', 'phrase', 'regular', 'blood', 'teach', 'dandi', 'ish', 'appeal', 'extent', 'spawn', 'missil', 'nod', 'shred', 'cancel', 'undermin', 'pretti', 'steal', 'lean', 'lisa', 'random', 'jane', 'floor', 'anticip', 'primit', 'melodi', 'rid', 'gruesom', 'memori', 'sergeant', 'counterpart', 'gasp', 'fifth', 'rural', 'eat', 'remark', '1973', 'unforgett', 'linear', 'blah', 'sharon', 'strongest', 'suppli', 'choos', 'bill', 'substanc', 'updat', 'hour', 'continu', 'charl', 'religion', 'vote', 'code', 'poignant', 'small', 'wake', 'lover', 'palac', 'henc', 'sale', 'overdon', 'roman', 'divid', 'bodi', 'rubi', 'poetri', 'portion', 'punk', 'ensur', 'window', 'sooner', 'rose', 'young', 'perceiv', 'clown', 'guess', 'ad', 'insid', 'christin', 'partial', 'rain', 'fault', 'bike', 'axe', 'wife', 'pop', 'johnni', 'tunnel', 'care', 'wild', 'drip', 'ludicr', 'prepar', 'novel', 'purpl', 'magazin', 'sean', 'deed', 'disappoint', 'night', 'kinda', 'strip', 'alreadi', 'coaster', '10', 'cattl', 'keep', 'provok', 'awhil', 'secretli', 'elev', 'fairli', 'lyric', 'brendan', 'feat', 'notion', 'ms', 'anim', 'complaint', 'edi', 'preposter', 'outlaw', 'mason', 'noir', 'domin', 'poorli', 'till', 'condit', 'corrupt', 'princ', 'characterist', 'technolog', 'cope', 'cring', 'shaki', 'thirti', 'enforc', 'cowboy', 'toss', 'rotten', 'funni', 'dear', 'alexand', 'oddli', 'paper', 'mess', 'heston', 'behav', 'basic', 'davi', 'pink', 'smack', 'passag', 'contact', 'frontal', 'garbag', 'childish', 'maggi', 'web', 'walk', 'glorifi', 'left', 'von', 'reed', 'sleaz', 'connect', 'karl', 'chavez', '1986', 'pioneer', 'actor', 'sullivan', 'explain', 'eager', 'nick', 'gandhi', 'whack', 'kane', '00', 'appli', 'much', 'sitcom', 'skit', 'america', 'sweet', 'hara', 'concern', 'overlook', 'scandal', 'carlito', 'luck', 'cri', 'wave', 'today', 'cameron', 'infam', 'restrain', 'suprem', 'cagney', 'hunt', 'ultra', 'divin', 'mention', 'authent', 'porter', 'tame', 'dazzl', 'revolt', 'sick', 'carradin', 'bud', 'origin', 'septemb', 'confid', 'obnoxi', 'reynold', 'boob', 'teas', 'tower', 'unfortun', 'comedi', 'huston', 'instruct', 'cannon', 'preciou', 'luci', 'pete', 'portray', 'dimens', 'poetic', 'kent', 'direct', 'thoroughli', 'nativ', 'respond', 'snl', 'brian', 'pig', 'spare', 'forth', 'premier', '15', 'clich', 'grade', 'contribut', 'out', 'psycholog', 'longer', 'witti', 'dealer', 'group', 'bless', 'ruthless', 'forgett', 'arrog', 'smile', 'middl', '1995', 'mundan', 'wwii', 'suffic', '22', 'shakespear', '1977', 'mcqueen', 'greg', 'god', 'board', 'nervou', 'bomb', 'tap', 'antagonist', 'subplot', 'simmon', 'winter', 'ingeni', 'centuri', 'cush', 'interrupt', 'kid', 'mini', 'clinic', 'closer', 'state', 'truli', 'betray', 'hard', 'roy', 'unwatch', 'dive', 'brain', 'fake', 'bump', 'casper', 'distant', 'particular', 'jare', 'bell', 'behaviour', 'thank', 'todd', 'depend', 'sketch', 'dee', 'ace', 'york', 'compris', 'definit', 'plenti', 'firm', 'close', 'farmer', 'view', 'togeth', 'select', 'fear', 'programm', 'yesterday', 'satan', 'famou', 'hear', 'navi', 'kitchen', 'literari', 'properti', 'thu', 'punch', 'marin', 'narrat', 'badli', 'isabel', 'finger', 'implic', 'condemn', 'scientif', 'wors', 'remad', 'nightmar', 'nose', 'coher', 'crocodil', 'nuanc', 'scariest', 'damn', 'spirit', 'bridg', 'monument', 'imageri', 'parallel', 'miyazaki', 'program', 'erot', 'retriev', '1979', 'suspens', 'bunni', '13', 'recogniz', 'govern', 'attack', 'need', 'throughout', 'kidman', 'corman', 'www', 'robinson', 'neurot', 'ethnic', 'bullet', 'aid', 'corn', 'flat', 'sexi', 'alcohol', 'accomplish', 'shoe', 'appropri', 'chop', 'televis', 'mum', 'drink', 'grave', 'lone', 'runner', 'sister', 'drum', 'lumet', 'acknowledg', 'provoc', 'gal', 'per', 'victor', 'fbi', 'fortun', 'warrant', 'vengeanc', 'alvin', 'base', 'horror', 'fat', 'charlott', 'volum', 'costum', 'sneak', 'troubl', 'nice', 'except', 'reveng', 'clueless', 'multi', 'transcend', 'lili', 'tail', 'tim', 'constantli', 'monologu', 'sequenc', 'disturb', 'samurai', 'tick', 'wax', 'andr', 'order', 'endear', 'patient', 'favor', 'whip', 'segment', 'fluff', 'brutal', 'dirt', 'stink', 'theatric', 'real', 'meanwhil', 'trek', 'directli', 'orphan', 'track', 'triumph', 'cow', 'shame', 'psych', 'routin', 'mail', 'employ', 'one', '1936', '2001', 'channel', 'transfer', 'shed', 'learn', 'sparkl', 'hatr', 'stalk', 'none', 'bait', 'simon', 'inconsist', 'mill', 'fulci', 'passion', 'werewolf', 'clumsi', 'toy', 'north', 'surprisingli', 'light', 'mon', 'preced', 'derang', 'decis', 'tri', 'aspir', 'jonathan', 'italian', 'doll', 'weav', 'joan', 'stronger', 'caus', 'profession', 'walter', 'inmat', 'uncl', 'room', 'beard', 'ladder', 'epitom', 'santa', 'intern', 'mental', 'initi', 'fate', 'dig', 'flaw', 'difficulti', 'soft', 'determin', 'harri', 'physic', 'daili', 'greedi', 'echo', 'oppon', 'rooney', 'aliv', 'scarecrow', 'policeman', 'unnecessari', 'expect', 'devic', 'hugh', 'ape', 'polit', 'evil', 'friend', 'eleg', 'senseless', 'ah', 'event', 'dollar', 'realiti', 'cabin', 'babi', 'pretenti', 'obligatori', 'express', 'wtf', 'alic', 'truck', 'leather', 'sourc', 'audienc', 'week', 'ass', 'aggress', 'heal', 'stress', 'brood', 'soon', 'paid', 'holli', 'collabor', 'leonard', 'line', 'bed', 'explan', '24', 'glimps', 'black', 'fay', 'fill', 'circl', 'propaganda', 'eas', 'accur', 'within', 'jewish', 'dan', 'freez', 'mixtur', 'conscienc', 'deem', 'einstein', 'betti', 'wrestl', 'feminin', 'moodi', 'son', 'also', 'angst', 'unabl', 'reunit', 'matur', 'banana', 'yellow', 'jail', 'worth', 'boll', 'mislead', 'sent', 'exterior', 'accord', 'possibl', 'ensu', 'potenti', 'ident', 'spock', 'watson', 'uneven', 'jason', 'demon', 'sibl', 'captur', 'lousi', 'basi', 'ham', 'arm', 'drown', 'zizek', 'buri', 'pirat', 'imdb', 'ye', 'hartley', 'persona', 'strongli', 'store', 'display', 'assum', 'bu', 'gangster', 'amateurish', 'degrad', 'sensat', 'reaction', 'heap', 'suspici', 'conquer', 'categori', 'box', 'alan', 'motorcycl', 'superfici', 'joker', 'devot', 'fragil', 'complain', 'pc', 'sorrow', 'facil', 'grinch', 'germani', 'shake', 'bat', 'robbin', 'lee', 'tack', 'crawl', 'eva', 'debut', 'trust', 'result', 'love', 'plod', 'chees', 'lou', 'invest', 'chicago', 'hesit', 'sunni', 'border', 'smell', 'secret', 'melodramat', 'contriv', 'educ', 'confirm', 'specif', 'mad', 'knock', 'sentiment', 'wrench', 'documentari', 'surround', 'carey', 'toni', 'bumbl', 'cyborg', 'less', 'terrifi', 'thompson', 'delight', 'blockbust', 'newli', 'extraordinari', 'labor', 'franco', 'touch', 'theme', 'religi', 'grate', 'jackson', 'bitch', 'school', 'jessica', 'sidewalk', 'plan', 'hook', 'hide', 'kurt', 'fascist', 'im', 'white', 'idol', 'cinema', 'key', 'eleph', 'desper', 'imagin', 'modern', 'prison', 'warren', 'scoobi', 'via', 'harold', 'ought', 'pathet', 'wont', 'victori', 'hop', 'swing', 'report', 'martian', '100', 'forev', 'downhil', 'background', 'barri', 'closest', 'absorb', 'resolv', 'destini', 'rais', 'craig', 'claim', 'powel', 'alfr', 'splendid', 'innoc', 'surreal', 'made', 'suspend', 'briefli', 'ross', 'retard', 'enthusiasm', 'cent', 'texa', 'sophi', 'control', 'romant', 'shirt', 'appl', 'statement', 'reduc', 'electr', 'lynch', 'sue', 'casual', 'crime', 'said', 'older', 'final', 'ambiti', 'estat', 'vehicl', 'global', 'polic', 'guilt', 'revolutionari', 'elit', 'pant', 'versu', 'ocean', 'hudson', 'wholli', 'propos', 'stinker', 'explos', 'parson', 'walt', 'mexican', 'camera', 'nineti', 'knee', 'societi', 'moder', 'realism', 'marshal', 'feast', 'journalist', 'sometim', 'bulli', 'unhappi', 'candid', 'instanc', 'joey', 'nina', 'donna', 'fog', 'way', 'action', 'shield', 'crash', 'gina', 'sole', 'okay', 'woman', 'australia', 'technicolor', 'overact', 'broke', 'scheme', 'vomit', 'enhanc', 'tube', 'wow', 'sun', 'reject', 'victim', 'kiddi', 'research', 'failur', 'could', 'corps', 'kay', 'brief', 'spice', 'mous', 'wore', 'blond', 'guid', 'christ', 'last', 'georg', 'obvious', 'greek', 'rambl', 'market', 'hous', 'crown', 'sassi', 'road', 'peak', 'nathan', 'bargain', 'daddi', 'francisco', 'vagu', 'captain', 'divorc', 'teacher', 'suddenli', 'innov', 'dim', 'gordon', 'lose', 'win', 'tune', 'special', 'crucial', 'knife', 'ford', 'sit', 'effici', 'brad', 'senior', 'somebodi', 'tribut', 'flight', 'backdrop', 'lab', 'taylor', 'elimin', 'team', 'affleck', 'adult', 'render', 'elvira', 'revolv', 'mccoy', 'mexico', 'detect', 'crush', 'languag', 'latter', 'ie', 'friendship', 'margaret', 'glamor', 'ridicul', 'palanc', 'launch', '1994', 'recal', 'hum', 'librari', 'thunderbird', 'muslim', 'garden', 'measur', 'atlanti', 'buffalo', 'magician', 'period', 'realist', 'dramat', 'jami', 'fit', 'forgiven', 'argument', 'synopsi', 'juvenil', 'film', 'sugar', 'pacif', 'father', 'chess', 'lower', 'jodi', 'impact', 'hackney', 'robin', 'carmen', 'loi', 'royal', 'sat', 'kim', 'franci', 'seem', 'cannib', 'polanski', 'politician', 'sadist', 'ritual', 'poe', 'pen', 'receiv', 'clark', 'explor', 'trip', 'usa', 'alongsid', 'widescreen', '90', 'soprano', 'fine', '1996', 'start', 'hit', 'due', 'town', 'chuck', 'gestur', 'audit', 'studio', 'spi', 'kill', 'huh', 'deserv', 'ian', 'network', 'bet', 'hostil', 'former', 'firstli', 'rendit', 'russel', '3rd', 'pot', 'jean', 'meyer', 'movement', 'fail', 'cheer', 'simplist', 'peril', 'eastwood', 'pride', 'brother', 'pictur', 'mclaglen', 'guest', 'context', 'game', 'grab', 'poke', 'outsid', 'develop', 'jedi', 'stolen', 'snow', 'appreci', 'french', 'taken', 'page', 'make', 'larger', 'awak', 'ninja', 'loretta', 'struggl', 'incident', 'feminist', 'rage', 'grip', 'explicit', 'japanes', 'effort', 'dad', '19th', 'excess', 'ventur', 'loath', 'kelli', 'citi', 'protagonist', 'profan', 'cliffhang', 'get', 'expand', '1940', 'slapstick', 'loser', 'gilbert', 'distinct', 'accompani', 'tenant', 'graduat', 'olivi', 'bin', 'kansa', 'garner', 'invad', 'scriptwrit', 'midnight', 'character', 'click', 'understood', 'canada', 'pun', 'newer', 'object', 'scale', 'tax', 'heroin', 'haunt', 'del', 'ken', 'femal', 'scoop', 'crimin', 'chose', 'cain', 'bow', 'max', 'mummi', 'anna', 'sport', 'convent', 'barn', 'miseri', 'gritti', 'flirt', 'estrang', 'macho', 'dick', 'public', 'soup', 'storm', 'twice', 'client', 'battl', 'charisma', 'meaningless', 'brillianc', 'drake', 'resourc', 'jr', 'madonna', 'unattract', 'return', 'firmli', 'hardli', 'verg', 'bori', 'barrel', 'anton', 'stanwyck', 'goldberg', 'ball', 'loyalti', 'two', 'tini', 'nurs', 'inexplic', 'catchi', 'oliv', 'isol', 'sox', 'trade', 'slight', 'grief', 'paranoia', 'superman', 'credibl', 'approv', 'deliber', 'racial', 'jaw', 'saturday', 'blur', 'descript', 'quick', 'obtain', 'strike', 'em', 'mindless', 'equip', 'yell', 'tediou', 'robot', 'skeptic', 'flag', 'prevent', 'spiral', 'drift', 'clara', 'lucil', 'crisi', 'western', 'still', 'essenc', 'dvd', 'geni', 'slap', 'sucker', '11', 'judi', 'artwork', 'peopl', 'pointless', 'commend', 'pitt', 'brooklyn', 'bush', 'embrac', 'parti', 'austen', 'separ', 'minimum', 'departur', 'site', '2008', 'gun', 'flesh', 'difficult', 'crowd', 'collaps', 'structur', 'charlton', 'angel', 'mode', 'shell', 'health', 'record', 'danish', 'gray', 'bother', 'morbid', 'root', 'instal', 'richard', 'chuckl', 'say', 'curs', 'like', 'document', 'bit', 'tabl', 'diari', 'lesser', 'recreat', 'owner', 'fleet', 'wildli', 'wisdom', 'conrad', 'solut', 'lavish', 'matt', 'read', 'ban', 'priest', 'invas', 'consid', 'execut', 'spend', 'judgment', 'puzzl', 'claustrophob', 'abund', 'observ', 'approach', 'intrigu', 'greed', 'zero', 'hallucin', 'boyfriend', 'nail', 'bear', 'static', 'maker', 'gratuit', 'summar', 'valu', 'proce', 'verbal', 'mediocr', 'contempl', 'calib', 'survivor', 'fx', 'reader', 'clone', 'scott', 'russian', 'cours', 'american', 'doc', 'li', 'discoveri', 'pulp', 'among', 'eeri', 'incomprehens', 'chief', 'suck', 'gener', 'cole', 'pamela', 'empathi', 'spread', 'contract', 'pace', 'thru', 'harrison', 'incid', 'illog', 'discov', 'reward', 'hopelessli', 'profess', 'steel', 'pick', 'tad', 'befriend', 'proport', 'somewher', 'dixon', 'nut', 'repetit', 'center', 'quit', 'parent', 'richardson', 'stick', 'blame', 'predat', 'rear', 'extens', 'hyde', 'regist', 'degre', 'vacat', 'phantom', 'airport', 'omin', 'julia', 'scorses', 'honestli', 'straight', 'conspiraci', 'ador', 'taxi', 'vignett', 'servic', 'ration', 'crawford', 'worthless', 'quinn', 'disastr', 'mayor', 'fright', 'exist', 'oscar', 'redempt', 'mankind', 'eighti', 'godfath', 'rap', 'hamilton', 'norm', 'luckili', 'certain', 'storylin', 'melodrama', 'salman', 'guitar', 'underworld', 'offend', 'jan', 'flashi', 'remov', 'jone', 'target', 'gain', 'fool', 'exercis', 'futur', 'bernard', '1997', 'hungri', 'mood', 'contain', 'dead', 'han', 'slug', 'rank', 'provid', 'courag', '80', 'allen', 'conclud', 'yard', 'case', 'tommi', 'tribe', 'inject', 'creativ', 'gore', 'wipe', 'grin', 'stair', 'seduc', 'candi', 'electron', 'mile', 'tv', 'newman', 'doctor', 'aborigin', 'gonna', 'twenti', 'pure', 'mine', 'give', 'privat', 'error', 'situat', 'portrait', 'widmark', 'moreov', 'ruin', 'halloween', 'circumst', 'directori', 'randolph', 'philosophi', 'nostalg', '1981', 'cube', 'loyal', 'theori', 'pixar', 'lip', 'racist', 'likabl', 'effect', 'prejudic', 'literatur', 'fair', 'mysteri', 'cannot', 'manhattan', 'astair', 'keaton', 'excel', 'reminisc', 'write', 'underr', 'press', 'de', 'bondag', 'khan', 'arthur', 'talk', 'heartfelt', 'rel', 'mutual', 'command', 'liberti', 'ideal', 'necessarili', 'chanc', 'bate', 'tongu', 'tell', 'guilti', 'tone', '2007', 'outcom', 'popcorn', 'racism', 'vibrant', 'address', 'neatli', 'beer', 'butt', 'marion', 'honest', 'desir', 'word', 'norman', 'cusack', 'domest', 'insur', 'ear', 'mr', 'miniseri', 'stay', 'thin', 'meant', 'bedroom', 'mortal', 'wardrob', 'resembl', 'huge', 'energet', 'inclus', 'extend', 'chan', 'iraq', 'miami', 'cave', 'gender', 'rider', 'emot', 'awesom', 'romero', 'cox', 'terri', 'respons', 'giallo', 'resid', 'pressur', 'curios', 'mock', 'tacki', 'label', 'bore', 'suspect', 'incred', 'motion', 'pleasantli', 'rob', 'pin', 'risk', 'terror', 'patienc', 'silver', 'fascin', 'eddi', 'wacki', 'tomato', 'acquaint', 'glow', 'wwe', '1945', 'beat', 'focus', 'variat', 'nun', 'utterli', 'shine', 'foul', 'chew', 'fantasi', 'cb', 'evelyn', 'ben', 'weaker', 'louis', 'dudley', 'gillian', 'coast', 'montana', 'life', 'mansion', 'divers', 'miser', 'allow', 'string', 'level', 'behind', 'presum', 'accus', 'financ', 'tripl', 'dose', 'southern', 'housewif', 'kingdom', 'detract', 'mother', 'steam', 'inde', 'entri', 'commun', 'kept', 'crack', 'tokyo', 'africa', 'bland', 'plu', 'think', 'cinematographi', 'dude', 'trial', '20th', 'bone', 'career', 'abus', 'overal', 'wayn', 'impli', 'everybodi', 'broad', 'king', 'blair', 'trigger', 'trace', 'prove', 'antonioni', 'drew', 'contemporari', 'similarli', 'columbo', 'alik', 'guy', 'filler', 'protest', 'south', 'billi', 'weakest', 'fantast', 'fals', 'shoddi', 'naiv', 'apart', 'three', 'countless', 'frame', 'ride', 'lugosi', 'willi', 'sorri', 'feet', '1989', 'banal', 'stole', 'formula', 'lack', 'loos', 'shadow', 'imposs', 'anni', 'nerv', 'brit', 'gadget', 'coup', 'disjoint', 'serial', 'basket', 'unrealist', 'indian', 'lemmon', 'selfish', 'avail', 'notic', 'satisfi', 'flow', 'popular', 'lure', 'good', 'forget', 'releas', 'defend', 'quirki', '2nd', 'corner', 'smoke', 'highli', 'hospit', 'bunch', 'pale', 'baffl', 'ned', 'engin', 'parodi', 'find', 'jacki', 'invis', 'roommat', 'grand', 'nation', 'expert', 'acquir', 'wish', 'jay', 'undeni', 'articl', 'count', 'dentist', 'gabl', 'mistak', 'censor', 'stir', 'cynic', 'salli', 'hapless', 'law', 'rent', 'oz', 'broadway', 'mirror', 'offici', 'kevin', 'frankenstein', 'aris', 'inabl', 'rate', 'done', 'strand', 'underst', 'statu', 'dimension', 'absurd', 'twilight', 'citizen', 'tip', 'claud', 'favourit', 'nichola', 'death', 'exposit', 'spell', '3000', 'show', 'laurenc', 'deliver', 'griffith', 'digit', 'superb', 'spring', 'husband', 'nostalgia', 'tara', 'mind', 'nerd', '28', 'needless', 'bag', 'knightley', 'commit', 'eric', 'stare', 'honor', 'addit', 'bruce', 'involv', 'ice', 'subsequ', 'list', 'better', 'patriot', 'lucki', 'gere', 'sh', 'near', 'spielberg', 'version', 'popul', 'asid', 'possess', 'endless', 'hand', 'uk', 'ron', '1999', 'reviv', 'pal', 'sheriff', 'assign', 'damon', 'rather', 'replac', 'merit', 'amount', 'role', 'blake', 'bizarr', 'carol', 'step', 'organ', 'resist', 'factor', 'surviv', '1969', 'preachi', 'outfit', 'dawson', 'aka', 'demand', 'brazil', 'went', 'arrest', 'saint', 'grudg', 'worn', 'seedi', 'stuff', 'bull', 'jar', 'fuel', 'turtl', 'harder', 'hong', 'children', 'run', 'elderli', 'conan', 'pass', 'total', 'struck', 'alert', 'side', 'heel', 'cross', 'newcom', 'sci', 'treasur', 'uniformli', 'dorothi', 'belong', 'shop', 'spooki', 'stab', 'braveheart', 'dian', 'hardi', 'weekend', 'dynam', 'stalker', 'attract', 'advic', 'legendari', 'number', 'earlier', 'enterpris', 'hideou', 'fabul', '13th', 'climax', 'stallon', 'attitud', 'fresh', 'off', 'ambigu', 'cuban', 'mtv', 'randomli', 'sharp', 'incorrect', 'spree', 'mate', 'surpris', 'shallow', 'delic', 'energi', 'translat', 'choreographi', 'be', 'makeup', 'sign', 'radio', 'boom', 'push', 'woo', 'meander', 'contradict', 'conserv', 'palm', 'ordinari', 'medic', 'startl', 'cat', 'speci', 'poem', 'robber', 'deni', 'six', 'presid', 'whenev', 'gate', 'pile', 'perform', 'complet', 'humili', 'blow', 'commerci', 'brave', 'bleak', 'opposit', '20', 'dalton', 'fred', 'buy', 'spark', 'fishburn', 'mistress', 'candl', 'neglect', 'treatment', 'joy', 'shot', 'sympath', 'genr', 'everi', 'stream', 'myer', 'weird', 'dialog', 'bound', 'compos', 'pleas', 'sensibl', 'land', 'minist', 'rifl', 'combat', 'chase', 'gold', 'hope', 'neg', 'morri', 'bikini', 'london', 'ridden', 'kitti', 'teen', 'unexplain', 'iv', 'jew', 'amanda', 'preview', 'empir', 'linger', 'riot', 'fulli', 'skin', 'faster', 'farrel', 'chamberlain', 'solv', 'host', 'massacr', 'rosario', 'minu', 'screen', '1970', 'timon', '99', 'counter', 'vanish', 'valley', 'vocal', 'jealou', 'violent', 'pay', 'tension', 'messag', 'breed', 'strictli', 'errol', 'rental', 'myth', 'lust', 'dr', 'kubrick', 'pseudo', 'conflict', 'sad', 'comedian', 'sound', 'buzz', 'transport', 'liter', 'conscious', 'anoth', 'strain', 'shown', 'seventi', 'might', 'succe', 'carrey', 'oppress', 'anyon', 'thousand', 'termin', 'almost', 'ralph', 'stumbl', 'funnier', 'tradit', 'uma', 'rout', 'choru', 'ritchi', 'exclus', 'spoke', 'mel', 'razor', 'friday', 'adam', 'ahead', 'question', 'marc', 'element', 'glenn', '45', 'downright', 'easili', 'buck', 'grant', 'tragedi', 'melissa', 'montag', 'argu', 'sub', 'characteris', 'subtitl', 'composit', 'giggl', 'refresh', 'mutant', 'grayson', 'kung', 'hopkin', 'half', 'camp', 'predecessor', 'ultim', 'bad', 'abc', 'bread', 'practic', 'baddi', 'incorpor', 'improv', 'frontier', 'full', 'compens', 'milo', 'flick', 'emma', 'standard', 'review', 'heck', 'corpor', 'greater', 'craze', 'seagal', 'timberlak', 'trick', 'dispos', 'australian', 'blown', 'cameo', 'marriag', 'miracul', 'vice', 'coat', 'recit', 'dancer', 'meet', 'product', 'nazi', 'knight', 'unexpect', 'lesson', 'tierney', 'foil', 'metal', 'central', 'fought', 'schlock', 'previou', 'phone', 'arnold', 'gregori', 'lurk', 'muscl', 'debt', 'savag', 'rub', 'take', 'adapt', 'rescu', 'button', 'watcher', 'common', 'declar', 'hug', '1933', 'ward', 'instinct', 'complic', 'pg', 'pat', 'staff', '12', 'hepburn', 'exit', 'minim', 'dilemma', 'tape', 'nelson', 'contempt', 'unlik', '1984', 'hill', 'shall', 'recogn', 'analysi', 'sex', 'amazingli', 'outer', 'redund', 'lincoln', 'puppi', 'asset', 'fruit', 'slow', 'suffer', 'hate', 'sophist', 'cult', 'hood', 'piti', 'belushi', 'manipul', 'trail', 'inher', 'ex', 'messi', 'rhythm', 'cell', 'season', 'stranger', 'latest', 'oil', 'switch', 'alec', 'joke', 'david', 'cheek', 'competit', 'psychic', 'concert', 'fight', 'antwon', 'transplant', 'villag', 'front', 'twin', 'defeat', 'resurrect', 'employe', 'written', 'comment', 'mitchel', 'recov', 'worri', 'hitchcock', 'told', 'dare', 'wit', 'occas', 'reid', 'casino', 'especi', 'danni', 'station', 'vet', 'freddi', 'supernatur', 'toe', 'felix', 'abandon', 'oppos', 'sailor', 'greatest', 'superbl', 'jule', 'packag', 'smaller', 'vanc', 'faint', 'bend', 'earl', 'martha', 'showcas', 'choppi', 'stewart', 'protect', 'dub', 'gang', 'enthusiast', 'greet', 'cruel', 'humor', 'shock', 'dark', 'alter', 'colonel', 'super', 'obsess', 'drunken', 'owen', 'steve', 'shoot', 'curli', 'abl', 'episod', '16', 'perri', 'godzilla', 'screenwrit', 'halfway', 'disabl', 'intellectu', 'secondari', 'current', 'circu', 'seed', 'amongst', 'neo', 'hostag', 'brown', 'poker', 'director', 'subtl', 'mere', 'speed', 'ask', 'sight', 'despis', 'curtain', 'jump', 'china', 'tackl', 'exagger', 'professor', 'therefor', 'agent', 'function', 'across', 'led', 'monk', 'styliz', 'farc', 'spanish', 'philosoph', 'kick', 'btw', 'caricatur', 'cruis', 'maid', 'everyth', 'disagre', 'play', 'ted', 'sadli', 'attach', 'relev', 'pursu', 'relax', 'access', 'intim', 'studi', 'swim', 'cop', 'pit', 'assert', 'conduct', 'killer', 'jerri', 'beverli', 'cartoon', 'clad', 'graham', 'wait', 'cure', 'colleagu', 'colour', 'blunt', 'lake', 'implaus', 'agenc', 'bought', 'enchant', 'youngest', 'evolut', 'irrelev', 'shelf', 'uplift', 'dana', 'weight', 'mafia', 'sappi', 'modesti', 'high', 'core', 'relat', 'gambl', 'wrestler', 'kapoor', 'orchestr', 'partli', 'valuabl', 'branagh', 'cloth', 'drag', 'unawar', 'prize', 'cap', 'produc', 'florida', 'gotten', 'tender', 'household', 'aim', 'tom', 'rememb', 'movi', 'prop', 'amus', 'busi', 'zane', 'experi', 'gori', 'stack', 'hilar', 'semi', 'enter', 'trier', 'consider', 'correct', 'ariel', 'alexandr', 'motiv', 'cruelti', 'ram', 'korean', '1968', 'confus', 'gotta', 'niro', 'tripe', 'denzel', 'method', 'silenc', 'expos', 'african', 'discern', 'thrown', 'loneli', 'afraid', 'elizabeth', 'museum', 'romanc', 'groan', 'blatant', 'surpass', 'bug', 'turd', 'attenborough', 'girl', 'thumb', 'heartwarm', 'centr', 'jimmi', 'medium', 'ranger', 'diamond', 'sand', 'armstrong', 'filth', 'bulk', 'trend', 'dress', 'nomin', 'presenc', 'capabl', 'antonio', 'hurt', 'mobster', 'constant', 'plane', 'flavor', 'daisi', 'regret', 'daniel', 'bold', 'heist', '1939', 'variou', 'scarfac', 'free', 'unfold', 'pretend', 'institut', 'helpless', 'ideolog', 'wanna', 'goe', 'juli', 'deriv', 'dread', 'visibl', 'coloni', 'chapter', 'flip', 'react', 'rosemari', 'train', 'carpent', 'vanessa', 'emerg', 'doubl', 'roger', '50', 'manner', 'preming', 'previous', 'http', 'wise', 'neat', 'paxton', 'shootout', 'rich', 'injur', 'dolph', 'parad', 'consum', 'shark', 'hopeless', 'nearli', 'german', 'recycl', 'split', 'depress', 'big', 'materi', 'sicken', 'remind', 'nasti', 'recruit', 'perfectli', 'interest', 'modest', '1978', 'stori', 'credit', 'worm', 'hypnot', 'strong', 'comprehens', 'scenario', 'plausibl', 'bridget', 'insan', 'someday', 'bitten', 'relentless', 'rush', 'homer', 'whilst', 'christma', 'freedom', 'heavili', 'suppos', 'famili', 'perman', 'women', 'model', 'height', 'outright', 'fulfil', 'knew', 'deadli', 'violenc', 'thing', 'priceless', 'california', 'want', 'rachel', 'delet', 'handsom', 'murray', 'old', 'passeng', 'waitress', 'best', 'score', 'celebr', 'dougla', 'confin', 'metaphor', 'yeah', 'warrior', 'deer', 'delici', 'basing', 'barrymor', 'submit', 'exquisit', 'look', 'air', 'durat', 'amaz', 'derek', 'perhap', 'disgust', 'schedul', 'purpos', 'grow', 'dame', 'settl', 'meal', 'thief', 'boss', 'horrid', 'dont', 'tactic', 'entertain', 'toilet', 'art', 'creator', 'fact', 'rope', 'silent', 'shelley', 'pleasant', 'ring', 'driver', 'neighborhood', 'hooker', 'globe', 'demonstr', 'lawrenc', 'dinosaur', 'quiet', 'wizard', 'option', 'highway', 'stargat', 'leg', 'fare', 'kurosawa', 'concept', 'teenag', 'overwhelm', 'task', 'brilliantli', 'avoid', 'cup', 'independ', '1950', 'abil', '19', 'decad', 'link', 'pan', 'ya', 'trademark', 'favorit', 'relationship', 'hors', 'charismat', 'million', 'refer', 'bacal', 'ship', 'rise', 'brenda', 'etc', 'mildli', 'pool', 'honesti', 'discuss', 'soderbergh', 'polici', 'let', 'interview', 'sniper', 'place', 'psycho', 'bath', 'idiot', 'decor', '1960', 'neil', 'burn', 'psychiatrist', 'recent', 'batman', 'secretari', 'ton', 'tonight', 'couch', '000', 'archiv', 'domino', 'revolut', 'daughter', 'reveal', 'rock', 'nake', 'raymond', 'shaw', 'slasher', 'cool', 'graphic', 'anymor', 'underneath', 'use', 'strive', 'advis', 'rehears', 'tool', 'glover', 'notori', 'turkey', 'profil', 'ambit', 'money', 'gag', 'bust', 'celluloid', 'flop', 'younger', 'maniac', 'hip', 'din', '1983', 'guard', 'niec', 'aunt', 'laura', 'furthermor', 'wrote', 'rave', '1993', 'wendigo', 'fashion', 'borrow', 'inevit', 'duo', 'highlight', 'glare', 'rooki', 'seek', 'robberi', 'issu', 'era', 'polish', 'overli', 'media', 'hype', 'cigarett', 'van', 'cold', 'skip', 'servant', 'adolesc', 'marvel', 'wrong', 'recognit', 'breathtak', 'west', 'bash', 'bsg', 'chronicl', 'cassidi', 'cue', 'belief', 'nolt', 'peac', 'lighter', 'nois', 'shut', 'ballet', 'unleash', 'face', 'consciou', 'perfect', 'bottom', 'essenti', 'gap', 'hat', 'mighti', 'malon', 'mistaken', 'comb', 'hackman', 'cycl', 'proud', 'agre', 'insight', 'shorter', 'valentin', 'naughti', 'prophet', 'clair', '17', 'dream', 'jet', 'lawyer', 'increasingli', 'creek', 'eaten', 'bye', 'walsh', 'cast', '1972', 'swept', 'overr', 'improvis', 'plight', 'emphasi', 'sinc', 'imag', 'antic', 'threat', 'cohen', 'trait', 'ancient', 'wast', 'interior', 'gentleman', 'highest', 'player', 'fetch', 'helicopt', 'anti', 'ash', 'first', 'traffic', 'rampag', 'holocaust', 'damm', 'assassin', 'held', 'exposur', 'lord', 'kind', 'tale', 'ol', 'improb', 'ritter', 'boo', 'contest', 'hung', 'respect', 'varieti', 'equival', 'carlo', 'convinc', 'third', 'slam', 'boyer', 'climact', 'dumb', 'spain', 'rod', 'phenomenon', 'yawn', 'miscast', 'exchang', 'muddl', 'alison', 'lundgren', 'hay', 'amateur', 'soviet', 'holm', 'cousin', 'child', 'elabor', 'upset', 'glass', 'adventur', 'scope', 'flock', 'lena', 'revers', '1985', 'lauren', 'lit', 'doo', 'wed', 'kong', 'danger', 'dozen', 'crippl', 'earnest', 'outdat', 'file', 'furiou', 'fisher', 'afterward', 'isra', 'begin', 'extra', 'zombi', 'funniest', 'came', 'lion', 'fabric', 'monkey', 'benefit', 'admittedli', 'garbo', 'junior', 'en', 'shift', 'began', 'paus', 'numb', 'fifteen', 'underground', 'jame', 'individu', 'throw', 'spoil', 'short', 'posey', 'hair', 'st', 'sleazi', 'jam', 'interact', 'clear', 'bake', 'merci', 'der', 'plate', 'vampir', 'footag', 'pour', 'muppet', 'album', 'student', 'focu', 'ironi', 'notch', 'mostli', 'hell', 'titan', 'chick', 'union', 'card', 'feed', 'well', 'headach', 'quest', 'washington', 'everyon', 'itali', 'integr', 'horribl', 'vs', 'bay', 'blend', 'seriou', 'bonu', 'kumar', 'falk', 'shape', 'shower', 'actress', 'drive', 'arc', 'victoria', 'enthral', 'bewar', 'undertak', 'stark', 'sceneri', 'nobl', 'ho', 'conceiv', 'bottl', 'reluct', 'promin', 'undoubtedli', 'hello', 'tremend', 'spectacl', 'attorney', 'ingrid', 'reput', 'tragic', 'editor', 'palma', 'climb', 'found', 'redeem', 'clearli', '1920', 'got', 'brush', 'rapidli', 'bollywood', '60', 'fu', 'church', 'attent', 'fever', 'unseen', 'dinner', 'naschi', 'main', 'clock', 'paula', '18', 'along', 'time', 'advertis', 'tech', 'martin', 'instrument', 'punish', 'race', 'dull', 'sinatra', 'phenomen', 'live', 'oldest', 'enough', 'edgar', 'spoof', 'wherea', 'without', 'matthau', 'bigger', 'sword', 'judg', 'stunt', 'wilder', 'odd', 'gear', 'goof', 'awaken', 'biko', 'dish', 'advantag', 'requir', 'walker', 'similar', 'decapit', 'deliv', 'sin', 'urg', 'nowaday', 'plot', 'indulg', 'cia', 'stereotyp', 'believ', 'basketbal', 'lanc', 'project', 'larri', '2003', 'term', '1987', 'tarantino', 'mani', 'oper', 'india', 'cloud', 'stage', 'belov', 'transit', 'esther', 'clip', 'agenda', 'draw', 'food', 'quietli', 'breakdown', 'destin', 'incoher', 'hold', 'color', 'bogu', 'bang', 'defens', 'basement', 'passabl', 'hole', 'mask', 'twist', 'histori', 'nearbi', 'soul', 'twelv', 'mouth', 'serv', 'childhood', 'ghost', 'congratul', 'kathryn', 'top', 'un', 'shanghai', 'flair', 'uninterest', 'dylan', 'robert', 'cinderella', 'succeed', 'poverti', 'europ', 'resort', 'sixti', 'tasteless', 'landscap', 'machin', 'nobodi', 'beatti', 'cover', 'frantic', 'kudo', 'minor', 'rat', 'court', 'rant', 'nonsens', 'cd', 'blank', 'adequ', 'despic', 'mermaid', 'prostitut', 'search', 'ga', 'et', 'airplan', 'patrick', 'opera', 'europa', 'street', 'legal', 'tooth', 'dictat', 'skill', 'smart', 'what', 'decid', 'setup', 'jeremi', 'poster', 'kolchak', 'weather', 'happen', 'although', 'subject', 'rex', 'optimist', 'arguabl', 'critiqu', 'craft', 'phillip', 'becam', 'critic', 'academi', 'birth', 'champion', 'self', 'distract', 'harvey', 'must', 'josh', 'despair', 'snap', 'widow', 'buster', 'forc', 'radic', 'lost', 'inan', 'oh', 'porn', 'overcom', 'slightest', 'watchabl', 'progress', 'bbc', 'titl', 'loud', 'clue', 'bett', 'adopt', 'end', 'wood', 'coupl', 'invent', 'seduct', 'clan', 'legaci', 'seven', 'crude', 'emili', 'skull', 'internet', '3d', 'wide', 'liber', 'ponder', 'bounc', 'legitim', 'clerk', 'cheat', 'ustinov', 'sunshin', 'addict', 'underli', 'moron', 'slowli', 'test', 'narr', 'foolish', 'san', 'insert', 'text', 'lifestyl', 'macarthur', 'nuditi', 'proclaim', 'prime', 'wet', 'travesti', 'compar', 'sympathi', 'bacon', 'match', 'digniti', 'clever', 'cake', 'will', 'reliabl', 'angl', 'size', 'spoiler', 'rape', 'sensual', 'stop', 'luca', 'amitabh', 'paramount', 'ill', 'edward', 'attend', 'furi', 'fix', 'consequ', 'await', 'reunion', 'jenni', 'trashi', 'duel', 'donald', 'duti', 'rip', 'obstacl', 'meg', 'squad', 'june', 'spacey', 'rocki', 'suffici', 'besid', 'sure', 'christoph', 'porno', 'indi', 'actual', 'least', 'audrey', 'certainli', 'millionair', 'panic', 'dave', 'leagu', 'cliff', 'spontan', 'profound', 'susan', 'lewi', 'trilog', 'alarm', 'serious', 'import', 'lame', 'toronto', 'descend', 'valid', 'alleg', 'cooki', 'area', 'spray', 'filmmak', 'fi', 'ever', 'cost', 'heartbreak', 'salt', 'worthwhil', 'tens', 'viru', 'substitut', 'lester', 'culmin', 'realli', 'strang', 'armi', 'blind', 'budget', 'latin', 'sweep', 'dement', 'ginger', 'unimagin', 'ticket', 'spit', 'blue', 'poison', 'enemi', 'rubber', 'heaven', 'dog', 'boast', 'sidney', 'custom', 'natali', 'bank', 'author', 'retain', 'pair', 'induc', 'matter', 'tempt', 'voight', 'unorigin', 'spinal', 'curti', 'classic', 'grasp', 'kidnap', 'primari', 'blast', 'kyle', 'territori', 'call', 'achiev', 'snake', 'asylum', 'tiresom', 'sleep', 'delv', 'karen', 'prank', 'co', 'fighter', 'hal', 'troop', 'bibl', 'screw', 'downey', 'pro', 'impos', 'austin', 'abound', 'vision', 'basebal', 'see', 'cecil', 'greatli', 'romp', 'relief', 'true', 'sleepwalk', 'script', 'check', 'dealt', 'diseas', 'exhaust', 'length', 'sarah', 'tough', 'cathol', 'morn', 'drone', 'britain', 'arrang', 'taught', 'curiou', 'convey', 'compani', 'goofi', 'unfunni', 'russia', 'virtual', 'round', '2002', 'tour', 'lifeless', 'morgan', 'iii', 'forgot', 'inaccur', 'satir', 'boyl', 'establish', 'overlong', 'resum', 'ego', '2004', 'asian', 'blew', 'scratch', 'may', 'dean', 'island', 'refus', 'scene', 'spine', 'manag', 'milk', 'crap', 'vulgar', 'distort', 'newspap', 'simplic', 'min', 'biker', 'topic', 'chip', 'liner', 'evok', 'immatur', 'minut', 'catherin', 'aw', 'ala', 'foster', 'leap', 'puppet', 'parker', 'othello', 'unsettl', 'path', 'subtli', 'slice', 'right', 'block', 'nemesi', 'user', 'realis', 'convers', 'thug', 'mystic', 'icon', 'higher', 'expens', 'illustr', 'born', 'fellow', 'endur', 'writer', 'capot', 'hyster', 'alway', 'noth', 'construct', 'inherit', 'traci', 'caught', 'altman', 'helm', 'dwarf', 'drain', 'song', 'experienc', 'futurist', 'etern', 'took', 'beg', 'reserv', 'crappi', 'cuba', 'bubbl', 'injuri', 'chicken', 'collect', 'jacket', 'nicol', 'kiss', 'militari', 'publish', 'slip', 'goer', 'bourn', 'mickey', 'debat', 'scar', 'whoopi', 'nicholson', 'teeth', 'earli', 'gothic', 'girlfriend', 'menac', 'genuin', 'drunk', 'cleverli', 'peck', 'cgi', 'proof', 'exact', 'hammi', 'fonda', 'brought', 'success', 'justin', 'franki', 'forti', 'petti', 'influenc', 'joel', 'vh', 'toler', 'describ', 'travel', 'communist', '1976', 'proceed', 'buddi', 'alex', 'fiction', 'amor', 'decent', 'littl', 'painter', 'creep', 'alicia', 'peer', 'dud', 'pull', 'julian', 'fluid', 'bravo', 'soldier', 'orient', 'assur', 'owe', 'dialogu', 'planet', 'moral', 'roth', 'shi', 'sea', 'stand', 'devil', 'summer', 'blatantli', 'mob', 'rambo', 'come', 'unknown', 'cinematograph', 'yeti', 'scienc', 'sheet', 'detail', 'thriller', 'anger', 'bar', 'bird', 'locat', 'gem', 'depict', 'fontain', 'mean', 'frequent', 'athlet', 'bring', 'regardless', 'devoid', 'ten', 'ugli', 'calm', 'second', 'indic', 'wall', 'anybodi', 'deaf', 'fest', 'virginia', 'stoog', 'joe', 'realm', 'unit', 'bathroom', 'forward', 'anthoni', 'distinguish', 'arriv', 'disappear', 'loss', 'linda', 'miller', 'plain', 'enorm', 'ensembl', 'mountain', 'anyway', 'asham', 'le', 'cut', 'club', 'deniro', 'hitler', 'gene', 'massiv', 'march', 'marri', 'immort', 'four', 'duck', 'yet', 'tourist', 'load', 'superhero', 'wolf', 'indiffer', 'easi', 'useless', 'venom', 'send', 'burton', 'audio', 'ami', 'jeffrey', 'traumat', 'nowher', 'seat', 'jesu', 'precis', 'perspect', 'hey', 'spike', 'comfort', 'wonder', 'evid', 'grey', 'thread', 'util', 'drama', 'instantli', 'detach', 'scotland', 'wilson', 'explod', 'bean', 'raj', 'favour', 'met', 'scroog', 'temper', 'mol', 'heavi', 'visual', 'homosexu', 'hardcor', 'nightclub', 'whether', 'screenplay', 'handl', 'stretch', 'turn', '1980', 'foot', 'virtu', 'even', 'larg', 'abysm', 'testament', 'disguis', 'moon', 'chang', 'distanc', 'kate', 'ray', 'hain', 'fame', 'footbal', 'gradual', 'quarter', 'answer', 'sever', 'embarrass', 'meaning', 'intric', 'stood', 'broadcast', 'maintain', 'surfac', 'healthi', 'bias', 'pacino', 'orlean', 'differ', 'magnific', 'sens', 'harsh', 'jordan', 'year', 'unless', 'boxer', 'worship', 'terribl', 'featur', 'analyz', 'disast', 'understand', 'logic', 'earth', 'other', 'principl', 'rhyme', 'dysfunct', 'chain', '70', 'spot', 'sir', 'carla', 'martial', 'distribut', 'drawn', 'bloodi', 'wreck', 'would', 'down', 'connor', 'pattern', 'nude', 'instant', 'pleasur', 'vast', 'form', 'save', 'dismiss', 'slimi', 'assort', 'cultur', 'grandfath', 'system', 'gorgeou', 'walken', 'exot', 'river', 'assault', 'foxx', 'misfortun', 'gilliam', 'tire', 'grotesqu', 'beatl', 'mar', 'stephen', 'engag', 'assist', 'fianc', 'terrif', 'pierc', 'worker', 'da', 'unbear', 'often', 'stellar', 'notabl', 'mobil', 'lock', 'howl', 'judd', 'occup', 'stanley', 'abrupt', 'set', 'sammi', 'whine', 'sublim', 'bond', 'repeatedli', 'turner', 'glori', 'queen', 'sissi', 'henri', 'fart', 'absent', 'intens', 'mark', 'prom', 'canadian', 'artist', 'farm', 'countri', 'maria', 'absolut', 'occur', 'automat', 'qualifi', 'familiar', 'rabbit', 'junk', 'back', 'cooper', 'chainsaw', 'hot', 'com', 'rude', 'expedit', 'nanci', 'storytel', 'environ', 'fell', 'trailer', 'talki', 'promot', 'grim', 'post', 'fanci', 'mike', 'cant', 'keen', 'immens', 'particularli', 'scream', 'unpredict', 'mario', 'smash', 'che'}\n"
     ]
    }
   ],
   "source": [
    "print(new_vocabulary - original_vocabulary)"
   ]
  },
  {
   "cell_type": "markdown",
   "metadata": {},
   "source": [
    "These words themselves don't tell us much, however if one of these words occured with a large frequency, that might tell us something. In particular, we wouldn't really expect any of the words above to appear with too much frequency.\n",
    "\n",
    "**Question** What exactly is going on here. Not only what (if any) words appear with a larger than expected frequency but also, what does this mean? What has changed about the world that our original model no longer takes into account?\n",
    "\n",
    "**NOTE:** This is meant to be a very open ended question. To investigate you may need more cells than the one provided below. Also, there isn't really a *correct* answer, this is meant to be an opportunity to explore the data."
   ]
  },
  {
   "cell_type": "code",
   "execution_count": null,
   "metadata": {},
   "outputs": [],
   "source": []
  },
  {
   "cell_type": "markdown",
   "metadata": {},
   "source": [
    "### (TODO) Build a new model\n",
    "\n",
    "Supposing that we believe something has changed about the underlying distribution of the words that our reviews are made up of, we need to create a new model. This way our new model will take into account whatever it is that has changed.\n",
    "\n",
    "To begin with, we will use the new vocabulary to create a bag of words encoding of the new data. We will then use this data to train a new XGBoost model.\n",
    "\n",
    "**NOTE:** Because we believe that the underlying distribution of words has changed it should follow that the original vocabulary that we used to construct a bag of words encoding of the reviews is no longer valid. This means that we need to be careful with our data. If we send an bag of words encoded review using the *original* vocabulary we should not expect any sort of meaningful results.\n",
    "\n",
    "In particular, this means that if we had deployed our XGBoost model like we did in the Web App notebook then we would need to implement this vocabulary change in the Lambda function as well."
   ]
  },
  {
   "cell_type": "code",
   "execution_count": 49,
   "metadata": {},
   "outputs": [],
   "source": [
    "new_XV = new_vectorizer.transform(new_X).toarray()"
   ]
  },
  {
   "cell_type": "markdown",
   "metadata": {},
   "source": [
    "And a quick check to make sure that the newly encoded reviews have the correct length, which should be the size of the new vocabulary which we created."
   ]
  },
  {
   "cell_type": "code",
   "execution_count": 50,
   "metadata": {},
   "outputs": [
    {
     "data": {
      "text/plain": [
       "5000"
      ]
     },
     "execution_count": 50,
     "metadata": {},
     "output_type": "execute_result"
    }
   ],
   "source": [
    "len(new_XV[0])"
   ]
  },
  {
   "cell_type": "markdown",
   "metadata": {},
   "source": [
    "Now that we have our newly encoded, newly collected data, we can split it up into a training and validation set so that we can train a new XGBoost model. As usual, we first split up the data, then save it locally and then upload it to S3."
   ]
  },
  {
   "cell_type": "code",
   "execution_count": 51,
   "metadata": {},
   "outputs": [],
   "source": [
    "import pandas as pd\n",
    "\n",
    "# Earlier we shuffled the training dataset so to make things simple we can just assign\n",
    "# the first 10 000 reviews to the validation set and use the remaining reviews for training.\n",
    "new_val_X = pd.DataFrame(new_XV[:10000])\n",
    "new_train_X = pd.DataFrame(new_XV[10000:])\n",
    "\n",
    "new_val_y = pd.DataFrame(new_Y[:10000])\n",
    "new_train_y = pd.DataFrame(new_Y[10000:])"
   ]
  },
  {
   "cell_type": "markdown",
   "metadata": {},
   "source": [
    "In order to save some memory we will effectively delete the `new_X` variable. Remember that this contained a list of reviews and each review was a list of words. Note that once this cell has been executed you will need to read the new data in again if you want to work with it."
   ]
  },
  {
   "cell_type": "code",
   "execution_count": 52,
   "metadata": {},
   "outputs": [],
   "source": [
    "new_X = None"
   ]
  },
  {
   "cell_type": "markdown",
   "metadata": {},
   "source": [
    "Next we save the new training and validation sets locally. Note that we overwrite the training and validation sets used earlier. This is mostly because the amount of space that we have available on our notebook instance is limited. Of course, you can increase this if you'd like but to do so may increase the cost of running the notebook instance."
   ]
  },
  {
   "cell_type": "code",
   "execution_count": 53,
   "metadata": {},
   "outputs": [],
   "source": [
    "pd.DataFrame(new_XV).to_csv(os.path.join(data_dir, 'new_data.csv'), header=False, index=False)\n",
    "\n",
    "pd.concat([new_val_y, new_val_X], axis=1).to_csv(os.path.join(data_dir, 'new_validation.csv'), header=False, index=False)\n",
    "pd.concat([new_train_y, new_train_X], axis=1).to_csv(os.path.join(data_dir, 'new_train.csv'), header=False, index=False)"
   ]
  },
  {
   "cell_type": "markdown",
   "metadata": {},
   "source": [
    "Now that we've saved our data to the local instance, we can safely delete the variables to save on memory."
   ]
  },
  {
   "cell_type": "code",
   "execution_count": 54,
   "metadata": {},
   "outputs": [],
   "source": [
    "new_val_y = new_val_X = new_train_y = new_train_X = new_XV = None"
   ]
  },
  {
   "cell_type": "markdown",
   "metadata": {},
   "source": [
    "Lastly, we make sure to upload the new training and validation sets to S3.\n",
    "\n",
    "**TODO:** Upload the new data as well as the new training and validation data sets to S3."
   ]
  },
  {
   "cell_type": "code",
   "execution_count": 55,
   "metadata": {},
   "outputs": [],
   "source": [
    "# TODO: Upload the new data and the new validation.csv and train.csv files in the data_dir directory to S3.\n",
    "new_data_location = session.upload_data(os.path.join(data_dir, 'new_data.csv'), key_prefix=prefix)\n",
    "new_val_location = session.upload_data(os.path.join(data_dir, 'new_validation.csv'), key_prefix=prefix)\n",
    "new_train_location = session.upload_data(os.path.join(data_dir, 'new_train.csv'), key_prefix=prefix)"
   ]
  },
  {
   "cell_type": "markdown",
   "metadata": {},
   "source": [
    "Once our new training data has been uploaded to S3, we can create a new XGBoost model that will take into account the changes that have occured in our data set.\n",
    "\n",
    "**TODO:** Create a new XGBoost estimator object."
   ]
  },
  {
   "cell_type": "code",
   "execution_count": 56,
   "metadata": {},
   "outputs": [],
   "source": [
    "# TODO: First, create a SageMaker estimator object for our model.\n",
    "# new_xgb = None\n",
    "\n",
    "# Solution:\n",
    "new_xgb = sagemaker.estimator.Estimator(container, # The location of the container we wish to use\n",
    "                                    role,                                    # What is our current IAM Role\n",
    "                                    train_instance_count=1,                  # How many compute instances\n",
    "                                    train_instance_type='ml.m4.xlarge',      # What kind of compute instances\n",
    "                                    output_path='s3://{}/{}/output'.format(session.default_bucket(), prefix),\n",
    "                                    sagemaker_session=session)\n",
    "\n",
    "# TODO: Then set the algorithm specific parameters. You may wish to use the same parameters that were\n",
    "#       used when training the original model.\n",
    "\n",
    "# Solution:\n",
    "new_xgb.set_hyperparameters(max_depth=5,\n",
    "                        eta=0.2,\n",
    "                        gamma=4,\n",
    "                        min_child_weight=6,\n",
    "                        subsample=0.8,\n",
    "                        silent=0,\n",
    "                        objective='binary:logistic',\n",
    "                        early_stopping_rounds=10,\n",
    "                        num_round=500)\n"
   ]
  },
  {
   "cell_type": "markdown",
   "metadata": {},
   "source": [
    "Once the model has been created, we can train it with our new data.\n",
    "\n",
    "**TODO:** Train the new XGBoost model."
   ]
  },
  {
   "cell_type": "code",
   "execution_count": 57,
   "metadata": {},
   "outputs": [],
   "source": [
    "# TODO: First, make sure that you create s3 input objects so that SageMaker knows where to\n",
    "#       find the training and validation data.\n",
    "s3_new_input_train = None\n",
    "s3_new_input_validation = None\n",
    "\n",
    "s3_new_input_train = sagemaker.s3_input(s3_data=new_train_location, content_type='csv')\n",
    "s3_new_input_validation = sagemaker.s3_input(s3_data=new_val_location, content_type='csv')"
   ]
  },
  {
   "cell_type": "code",
   "execution_count": 58,
   "metadata": {},
   "outputs": [
    {
     "name": "stdout",
     "output_type": "stream",
     "text": [
      "2020-05-05 02:37:35 Starting - Starting the training job...\n",
      "2020-05-05 02:37:36 Starting - Launching requested ML instances......\n",
      "2020-05-05 02:39:03 Starting - Preparing the instances for training......\n",
      "2020-05-05 02:39:52 Downloading - Downloading input data...\n",
      "2020-05-05 02:40:29 Training - Training image download completed. Training in progress..\u001b[34mArguments: train\u001b[0m\n",
      "\u001b[34m[2020-05-05:02:40:30:INFO] Running standalone xgboost training.\u001b[0m\n",
      "\u001b[34m[2020-05-05:02:40:30:INFO] File size need to be processed in the node: 238.47mb. Available memory size in the node: 8483.98mb\u001b[0m\n",
      "\u001b[34m[2020-05-05:02:40:30:INFO] Determined delimiter of CSV input is ','\u001b[0m\n",
      "\u001b[34m[02:40:30] S3DistributionType set as FullyReplicated\u001b[0m\n",
      "\u001b[34m[02:40:32] 15000x5000 matrix with 75000000 entries loaded from /opt/ml/input/data/train?format=csv&label_column=0&delimiter=,\u001b[0m\n",
      "\u001b[34m[2020-05-05:02:40:32:INFO] Determined delimiter of CSV input is ','\u001b[0m\n",
      "\u001b[34m[02:40:32] S3DistributionType set as FullyReplicated\u001b[0m\n",
      "\u001b[34m[02:40:33] 10000x5000 matrix with 50000000 entries loaded from /opt/ml/input/data/validation?format=csv&label_column=0&delimiter=,\u001b[0m\n",
      "\u001b[34m[02:40:37] src/tree/updater_prune.cc:74: tree pruning end, 1 roots, 42 extra nodes, 4 pruned nodes, max_depth=5\u001b[0m\n",
      "\u001b[34m[0]#011train-error:0.307933#011validation-error:0.3149\u001b[0m\n",
      "\u001b[34mMultiple eval metrics have been passed: 'validation-error' will be used for early stopping.\n",
      "\u001b[0m\n",
      "\u001b[34mWill train until validation-error hasn't improved in 10 rounds.\u001b[0m\n",
      "\u001b[34m[02:40:38] src/tree/updater_prune.cc:74: tree pruning end, 1 roots, 46 extra nodes, 8 pruned nodes, max_depth=5\u001b[0m\n",
      "\u001b[34m[1]#011train-error:0.2924#011validation-error:0.3031\u001b[0m\n",
      "\u001b[34m[02:40:39] src/tree/updater_prune.cc:74: tree pruning end, 1 roots, 36 extra nodes, 8 pruned nodes, max_depth=5\u001b[0m\n",
      "\u001b[34m[2]#011train-error:0.278533#011validation-error:0.2897\u001b[0m\n",
      "\u001b[34m[02:40:41] src/tree/updater_prune.cc:74: tree pruning end, 1 roots, 52 extra nodes, 6 pruned nodes, max_depth=5\u001b[0m\n",
      "\u001b[34m[3]#011train-error:0.259533#011validation-error:0.2764\u001b[0m\n",
      "\u001b[34m[02:40:42] src/tree/updater_prune.cc:74: tree pruning end, 1 roots, 42 extra nodes, 6 pruned nodes, max_depth=5\u001b[0m\n",
      "\u001b[34m[4]#011train-error:0.2662#011validation-error:0.2805\u001b[0m\n",
      "\u001b[34m[02:40:43] src/tree/updater_prune.cc:74: tree pruning end, 1 roots, 40 extra nodes, 6 pruned nodes, max_depth=5\u001b[0m\n",
      "\u001b[34m[5]#011train-error:0.261733#011validation-error:0.2774\u001b[0m\n",
      "\u001b[34m[02:40:45] src/tree/updater_prune.cc:74: tree pruning end, 1 roots, 44 extra nodes, 6 pruned nodes, max_depth=5\u001b[0m\n",
      "\u001b[34m[6]#011train-error:0.253933#011validation-error:0.2709\u001b[0m\n",
      "\u001b[34m[02:40:46] src/tree/updater_prune.cc:74: tree pruning end, 1 roots, 32 extra nodes, 10 pruned nodes, max_depth=5\u001b[0m\n",
      "\u001b[34m[7]#011train-error:0.248933#011validation-error:0.2638\u001b[0m\n",
      "\u001b[34m[02:40:47] src/tree/updater_prune.cc:74: tree pruning end, 1 roots, 38 extra nodes, 10 pruned nodes, max_depth=5\u001b[0m\n",
      "\u001b[34m[8]#011train-error:0.245867#011validation-error:0.2614\u001b[0m\n",
      "\u001b[34m[02:40:49] src/tree/updater_prune.cc:74: tree pruning end, 1 roots, 40 extra nodes, 4 pruned nodes, max_depth=5\u001b[0m\n",
      "\u001b[34m[9]#011train-error:0.242267#011validation-error:0.2546\u001b[0m\n",
      "\u001b[34m[02:40:50] src/tree/updater_prune.cc:74: tree pruning end, 1 roots, 40 extra nodes, 8 pruned nodes, max_depth=5\u001b[0m\n",
      "\u001b[34m[10]#011train-error:0.231467#011validation-error:0.2477\u001b[0m\n",
      "\u001b[34m[02:40:51] src/tree/updater_prune.cc:74: tree pruning end, 1 roots, 38 extra nodes, 6 pruned nodes, max_depth=5\u001b[0m\n",
      "\u001b[34m[11]#011train-error:0.224533#011validation-error:0.2428\u001b[0m\n",
      "\u001b[34m[02:40:52] src/tree/updater_prune.cc:74: tree pruning end, 1 roots, 26 extra nodes, 12 pruned nodes, max_depth=5\u001b[0m\n",
      "\u001b[34m[12]#011train-error:0.220267#011validation-error:0.2415\u001b[0m\n",
      "\u001b[34m[02:40:54] src/tree/updater_prune.cc:74: tree pruning end, 1 roots, 30 extra nodes, 8 pruned nodes, max_depth=5\u001b[0m\n",
      "\u001b[34m[13]#011train-error:0.217867#011validation-error:0.2391\u001b[0m\n",
      "\u001b[34m[02:40:55] src/tree/updater_prune.cc:74: tree pruning end, 1 roots, 30 extra nodes, 12 pruned nodes, max_depth=5\u001b[0m\n",
      "\u001b[34m[14]#011train-error:0.213533#011validation-error:0.2368\u001b[0m\n",
      "\u001b[34m[02:40:56] src/tree/updater_prune.cc:74: tree pruning end, 1 roots, 22 extra nodes, 18 pruned nodes, max_depth=5\u001b[0m\n",
      "\u001b[34m[15]#011train-error:0.209267#011validation-error:0.2346\u001b[0m\n",
      "\u001b[34m[02:40:57] src/tree/updater_prune.cc:74: tree pruning end, 1 roots, 26 extra nodes, 14 pruned nodes, max_depth=5\u001b[0m\n",
      "\u001b[34m[16]#011train-error:0.208533#011validation-error:0.2346\u001b[0m\n",
      "\u001b[34m[02:40:59] src/tree/updater_prune.cc:74: tree pruning end, 1 roots, 26 extra nodes, 18 pruned nodes, max_depth=5\u001b[0m\n",
      "\u001b[34m[17]#011train-error:0.205933#011validation-error:0.2323\u001b[0m\n",
      "\u001b[34m[02:41:00] src/tree/updater_prune.cc:74: tree pruning end, 1 roots, 40 extra nodes, 8 pruned nodes, max_depth=5\u001b[0m\n",
      "\u001b[34m[18]#011train-error:0.2036#011validation-error:0.2307\u001b[0m\n",
      "\u001b[34m[02:41:01] src/tree/updater_prune.cc:74: tree pruning end, 1 roots, 28 extra nodes, 10 pruned nodes, max_depth=5\u001b[0m\n",
      "\u001b[34m[19]#011train-error:0.1982#011validation-error:0.2244\u001b[0m\n",
      "\u001b[34m[02:41:03] src/tree/updater_prune.cc:74: tree pruning end, 1 roots, 22 extra nodes, 10 pruned nodes, max_depth=5\u001b[0m\n",
      "\u001b[34m[20]#011train-error:0.197667#011validation-error:0.2239\u001b[0m\n",
      "\u001b[34m[02:41:04] src/tree/updater_prune.cc:74: tree pruning end, 1 roots, 38 extra nodes, 10 pruned nodes, max_depth=5\u001b[0m\n",
      "\u001b[34m[21]#011train-error:0.1954#011validation-error:0.2196\u001b[0m\n",
      "\u001b[34m[02:41:05] src/tree/updater_prune.cc:74: tree pruning end, 1 roots, 40 extra nodes, 16 pruned nodes, max_depth=5\u001b[0m\n",
      "\u001b[34m[22]#011train-error:0.192133#011validation-error:0.2169\u001b[0m\n",
      "\u001b[34m[02:41:06] src/tree/updater_prune.cc:74: tree pruning end, 1 roots, 36 extra nodes, 8 pruned nodes, max_depth=5\u001b[0m\n",
      "\u001b[34m[23]#011train-error:0.193333#011validation-error:0.2176\u001b[0m\n",
      "\u001b[34m[02:41:08] src/tree/updater_prune.cc:74: tree pruning end, 1 roots, 36 extra nodes, 6 pruned nodes, max_depth=5\u001b[0m\n",
      "\u001b[34m[24]#011train-error:0.189733#011validation-error:0.2144\u001b[0m\n",
      "\u001b[34m[02:41:09] src/tree/updater_prune.cc:74: tree pruning end, 1 roots, 36 extra nodes, 4 pruned nodes, max_depth=5\u001b[0m\n",
      "\u001b[34m[25]#011train-error:0.188333#011validation-error:0.2138\u001b[0m\n",
      "\u001b[34m[02:41:10] src/tree/updater_prune.cc:74: tree pruning end, 1 roots, 24 extra nodes, 10 pruned nodes, max_depth=5\u001b[0m\n",
      "\u001b[34m[26]#011train-error:0.185533#011validation-error:0.2126\u001b[0m\n",
      "\u001b[34m[02:41:11] src/tree/updater_prune.cc:74: tree pruning end, 1 roots, 24 extra nodes, 8 pruned nodes, max_depth=5\u001b[0m\n",
      "\u001b[34m[27]#011train-error:0.182867#011validation-error:0.2101\u001b[0m\n",
      "\u001b[34m[02:41:13] src/tree/updater_prune.cc:74: tree pruning end, 1 roots, 20 extra nodes, 8 pruned nodes, max_depth=5\u001b[0m\n",
      "\u001b[34m[28]#011train-error:0.1802#011validation-error:0.2088\u001b[0m\n",
      "\u001b[34m[02:41:14] src/tree/updater_prune.cc:74: tree pruning end, 1 roots, 22 extra nodes, 8 pruned nodes, max_depth=5\u001b[0m\n",
      "\u001b[34m[29]#011train-error:0.178867#011validation-error:0.2078\u001b[0m\n",
      "\u001b[34m[02:41:15] src/tree/updater_prune.cc:74: tree pruning end, 1 roots, 38 extra nodes, 4 pruned nodes, max_depth=5\u001b[0m\n",
      "\u001b[34m[30]#011train-error:0.1756#011validation-error:0.2053\u001b[0m\n",
      "\u001b[34m[02:41:16] src/tree/updater_prune.cc:74: tree pruning end, 1 roots, 30 extra nodes, 8 pruned nodes, max_depth=5\u001b[0m\n",
      "\u001b[34m[31]#011train-error:0.174333#011validation-error:0.2036\u001b[0m\n",
      "\u001b[34m[02:41:18] src/tree/updater_prune.cc:74: tree pruning end, 1 roots, 24 extra nodes, 6 pruned nodes, max_depth=5\u001b[0m\n",
      "\u001b[34m[32]#011train-error:0.172867#011validation-error:0.2028\u001b[0m\n",
      "\u001b[34m[02:41:19] src/tree/updater_prune.cc:74: tree pruning end, 1 roots, 22 extra nodes, 2 pruned nodes, max_depth=5\u001b[0m\n",
      "\u001b[34m[33]#011train-error:0.171#011validation-error:0.2031\u001b[0m\n",
      "\u001b[34m[02:41:20] src/tree/updater_prune.cc:74: tree pruning end, 1 roots, 28 extra nodes, 8 pruned nodes, max_depth=5\u001b[0m\n",
      "\u001b[34m[34]#011train-error:0.170133#011validation-error:0.201\u001b[0m\n",
      "\u001b[34m[02:41:22] src/tree/updater_prune.cc:74: tree pruning end, 1 roots, 26 extra nodes, 2 pruned nodes, max_depth=5\u001b[0m\n",
      "\u001b[34m[35]#011train-error:0.169467#011validation-error:0.2001\u001b[0m\n",
      "\u001b[34m[02:41:23] src/tree/updater_prune.cc:74: tree pruning end, 1 roots, 30 extra nodes, 4 pruned nodes, max_depth=5\u001b[0m\n",
      "\u001b[34m[36]#011train-error:0.168333#011validation-error:0.2004\u001b[0m\n",
      "\u001b[34m[02:41:24] src/tree/updater_prune.cc:74: tree pruning end, 1 roots, 24 extra nodes, 10 pruned nodes, max_depth=5\u001b[0m\n",
      "\u001b[34m[37]#011train-error:0.166867#011validation-error:0.1988\u001b[0m\n",
      "\u001b[34m[02:41:25] src/tree/updater_prune.cc:74: tree pruning end, 1 roots, 22 extra nodes, 4 pruned nodes, max_depth=5\u001b[0m\n",
      "\u001b[34m[38]#011train-error:0.166867#011validation-error:0.1987\u001b[0m\n",
      "\u001b[34m[02:41:27] src/tree/updater_prune.cc:74: tree pruning end, 1 roots, 24 extra nodes, 10 pruned nodes, max_depth=5\u001b[0m\n",
      "\u001b[34m[39]#011train-error:0.166333#011validation-error:0.1981\u001b[0m\n",
      "\u001b[34m[02:41:28] src/tree/updater_prune.cc:74: tree pruning end, 1 roots, 38 extra nodes, 4 pruned nodes, max_depth=5\u001b[0m\n",
      "\u001b[34m[40]#011train-error:0.164533#011validation-error:0.1979\u001b[0m\n",
      "\u001b[34m[02:41:29] src/tree/updater_prune.cc:74: tree pruning end, 1 roots, 30 extra nodes, 8 pruned nodes, max_depth=5\u001b[0m\n",
      "\u001b[34m[41]#011train-error:0.163067#011validation-error:0.1959\u001b[0m\n",
      "\u001b[34m[02:41:30] src/tree/updater_prune.cc:74: tree pruning end, 1 roots, 26 extra nodes, 2 pruned nodes, max_depth=5\u001b[0m\n",
      "\u001b[34m[42]#011train-error:0.161867#011validation-error:0.1951\u001b[0m\n",
      "\u001b[34m[02:41:32] src/tree/updater_prune.cc:74: tree pruning end, 1 roots, 24 extra nodes, 6 pruned nodes, max_depth=5\u001b[0m\n",
      "\u001b[34m[43]#011train-error:0.161467#011validation-error:0.1939\u001b[0m\n",
      "\u001b[34m[02:41:33] src/tree/updater_prune.cc:74: tree pruning end, 1 roots, 32 extra nodes, 6 pruned nodes, max_depth=5\u001b[0m\n",
      "\u001b[34m[44]#011train-error:0.159533#011validation-error:0.1926\u001b[0m\n",
      "\u001b[34m[02:41:34] src/tree/updater_prune.cc:74: tree pruning end, 1 roots, 20 extra nodes, 10 pruned nodes, max_depth=5\u001b[0m\n",
      "\u001b[34m[45]#011train-error:0.1588#011validation-error:0.1925\u001b[0m\n",
      "\u001b[34m[02:41:36] src/tree/updater_prune.cc:74: tree pruning end, 1 roots, 24 extra nodes, 6 pruned nodes, max_depth=5\u001b[0m\n",
      "\u001b[34m[46]#011train-error:0.156933#011validation-error:0.1921\u001b[0m\n",
      "\u001b[34m[02:41:37] src/tree/updater_prune.cc:74: tree pruning end, 1 roots, 18 extra nodes, 8 pruned nodes, max_depth=5\u001b[0m\n",
      "\u001b[34m[47]#011train-error:0.1558#011validation-error:0.1915\u001b[0m\n",
      "\u001b[34m[02:41:38] src/tree/updater_prune.cc:74: tree pruning end, 1 roots, 18 extra nodes, 4 pruned nodes, max_depth=5\u001b[0m\n",
      "\u001b[34m[48]#011train-error:0.154133#011validation-error:0.1912\u001b[0m\n",
      "\u001b[34m[02:41:39] src/tree/updater_prune.cc:74: tree pruning end, 1 roots, 20 extra nodes, 10 pruned nodes, max_depth=5\u001b[0m\n",
      "\u001b[34m[49]#011train-error:0.1536#011validation-error:0.1906\u001b[0m\n",
      "\u001b[34m[02:41:41] src/tree/updater_prune.cc:74: tree pruning end, 1 roots, 22 extra nodes, 10 pruned nodes, max_depth=5\u001b[0m\n",
      "\u001b[34m[50]#011train-error:0.1514#011validation-error:0.1911\u001b[0m\n",
      "\u001b[34m[02:41:42] src/tree/updater_prune.cc:74: tree pruning end, 1 roots, 16 extra nodes, 4 pruned nodes, max_depth=5\u001b[0m\n",
      "\u001b[34m[51]#011train-error:0.151333#011validation-error:0.1911\u001b[0m\n",
      "\u001b[34m[02:41:43] src/tree/updater_prune.cc:74: tree pruning end, 1 roots, 16 extra nodes, 8 pruned nodes, max_depth=5\u001b[0m\n",
      "\u001b[34m[52]#011train-error:0.151733#011validation-error:0.1906\u001b[0m\n",
      "\u001b[34m[02:41:44] src/tree/updater_prune.cc:74: tree pruning end, 1 roots, 26 extra nodes, 8 pruned nodes, max_depth=5\u001b[0m\n",
      "\u001b[34m[53]#011train-error:0.150667#011validation-error:0.1889\u001b[0m\n",
      "\u001b[34m[02:41:46] src/tree/updater_prune.cc:74: tree pruning end, 1 roots, 16 extra nodes, 10 pruned nodes, max_depth=5\u001b[0m\n",
      "\u001b[34m[54]#011train-error:0.1494#011validation-error:0.1895\u001b[0m\n",
      "\u001b[34m[02:41:47] src/tree/updater_prune.cc:74: tree pruning end, 1 roots, 20 extra nodes, 6 pruned nodes, max_depth=5\u001b[0m\n",
      "\u001b[34m[55]#011train-error:0.149467#011validation-error:0.1888\u001b[0m\n",
      "\u001b[34m[02:41:48] src/tree/updater_prune.cc:74: tree pruning end, 1 roots, 28 extra nodes, 0 pruned nodes, max_depth=5\u001b[0m\n",
      "\u001b[34m[56]#011train-error:0.148#011validation-error:0.1885\u001b[0m\n",
      "\u001b[34m[02:41:49] src/tree/updater_prune.cc:74: tree pruning end, 1 roots, 16 extra nodes, 2 pruned nodes, max_depth=5\u001b[0m\n",
      "\u001b[34m[57]#011train-error:0.1474#011validation-error:0.1879\u001b[0m\n",
      "\u001b[34m[02:41:51] src/tree/updater_prune.cc:74: tree pruning end, 1 roots, 38 extra nodes, 8 pruned nodes, max_depth=5\u001b[0m\n",
      "\u001b[34m[58]#011train-error:0.145#011validation-error:0.1858\u001b[0m\n",
      "\u001b[34m[02:41:52] src/tree/updater_prune.cc:74: tree pruning end, 1 roots, 22 extra nodes, 2 pruned nodes, max_depth=5\u001b[0m\n",
      "\u001b[34m[59]#011train-error:0.144867#011validation-error:0.1853\u001b[0m\n",
      "\u001b[34m[02:41:53] src/tree/updater_prune.cc:74: tree pruning end, 1 roots, 10 extra nodes, 8 pruned nodes, max_depth=5\u001b[0m\n",
      "\u001b[34m[60]#011train-error:0.1442#011validation-error:0.1853\u001b[0m\n",
      "\u001b[34m[02:41:54] src/tree/updater_prune.cc:74: tree pruning end, 1 roots, 28 extra nodes, 4 pruned nodes, max_depth=5\u001b[0m\n",
      "\u001b[34m[61]#011train-error:0.143667#011validation-error:0.1837\u001b[0m\n",
      "\u001b[34m[02:41:56] src/tree/updater_prune.cc:74: tree pruning end, 1 roots, 28 extra nodes, 10 pruned nodes, max_depth=5\u001b[0m\n",
      "\u001b[34m[62]#011train-error:0.1428#011validation-error:0.1837\u001b[0m\n",
      "\u001b[34m[02:41:57] src/tree/updater_prune.cc:74: tree pruning end, 1 roots, 30 extra nodes, 2 pruned nodes, max_depth=5\u001b[0m\n",
      "\u001b[34m[63]#011train-error:0.141867#011validation-error:0.183\u001b[0m\n",
      "\u001b[34m[02:41:58] src/tree/updater_prune.cc:74: tree pruning end, 1 roots, 22 extra nodes, 16 pruned nodes, max_depth=5\u001b[0m\n",
      "\u001b[34m[64]#011train-error:0.141467#011validation-error:0.1831\u001b[0m\n",
      "\u001b[34m[02:42:00] src/tree/updater_prune.cc:74: tree pruning end, 1 roots, 16 extra nodes, 12 pruned nodes, max_depth=5\u001b[0m\n",
      "\u001b[34m[65]#011train-error:0.141267#011validation-error:0.1826\u001b[0m\n",
      "\u001b[34m[02:42:01] src/tree/updater_prune.cc:74: tree pruning end, 1 roots, 18 extra nodes, 4 pruned nodes, max_depth=5\u001b[0m\n",
      "\u001b[34m[66]#011train-error:0.1398#011validation-error:0.1822\u001b[0m\n",
      "\u001b[34m[02:42:02] src/tree/updater_prune.cc:74: tree pruning end, 1 roots, 18 extra nodes, 12 pruned nodes, max_depth=5\u001b[0m\n",
      "\u001b[34m[67]#011train-error:0.139867#011validation-error:0.1823\u001b[0m\n",
      "\u001b[34m[02:42:03] src/tree/updater_prune.cc:74: tree pruning end, 1 roots, 26 extra nodes, 8 pruned nodes, max_depth=5\u001b[0m\n",
      "\u001b[34m[68]#011train-error:0.140133#011validation-error:0.1828\u001b[0m\n",
      "\u001b[34m[02:42:05] src/tree/updater_prune.cc:74: tree pruning end, 1 roots, 14 extra nodes, 6 pruned nodes, max_depth=5\u001b[0m\n",
      "\u001b[34m[69]#011train-error:0.1392#011validation-error:0.1822\u001b[0m\n",
      "\u001b[34m[02:42:06] src/tree/updater_prune.cc:74: tree pruning end, 1 roots, 18 extra nodes, 6 pruned nodes, max_depth=5\u001b[0m\n",
      "\u001b[34m[70]#011train-error:0.139667#011validation-error:0.1831\u001b[0m\n",
      "\u001b[34m[02:42:07] src/tree/updater_prune.cc:74: tree pruning end, 1 roots, 18 extra nodes, 10 pruned nodes, max_depth=5\u001b[0m\n",
      "\u001b[34m[71]#011train-error:0.139133#011validation-error:0.1835\u001b[0m\n",
      "\u001b[34m[02:42:08] src/tree/updater_prune.cc:74: tree pruning end, 1 roots, 14 extra nodes, 6 pruned nodes, max_depth=5\u001b[0m\n",
      "\u001b[34m[72]#011train-error:0.138267#011validation-error:0.1835\u001b[0m\n",
      "\u001b[34m[02:42:10] src/tree/updater_prune.cc:74: tree pruning end, 1 roots, 28 extra nodes, 8 pruned nodes, max_depth=5\u001b[0m\n",
      "\u001b[34m[73]#011train-error:0.1386#011validation-error:0.1822\u001b[0m\n",
      "\u001b[34m[02:42:11] src/tree/updater_prune.cc:74: tree pruning end, 1 roots, 14 extra nodes, 10 pruned nodes, max_depth=5\u001b[0m\n",
      "\u001b[34m[74]#011train-error:0.137933#011validation-error:0.1825\u001b[0m\n",
      "\u001b[34m[02:42:12] src/tree/updater_prune.cc:74: tree pruning end, 1 roots, 16 extra nodes, 6 pruned nodes, max_depth=5\u001b[0m\n",
      "\u001b[34m[75]#011train-error:0.136933#011validation-error:0.1818\u001b[0m\n",
      "\u001b[34m[02:42:13] src/tree/updater_prune.cc:74: tree pruning end, 1 roots, 24 extra nodes, 12 pruned nodes, max_depth=5\u001b[0m\n",
      "\u001b[34m[76]#011train-error:0.1368#011validation-error:0.1813\u001b[0m\n",
      "\u001b[34m[02:42:15] src/tree/updater_prune.cc:74: tree pruning end, 1 roots, 16 extra nodes, 4 pruned nodes, max_depth=5\u001b[0m\n",
      "\u001b[34m[77]#011train-error:0.136867#011validation-error:0.1813\u001b[0m\n",
      "\u001b[34m[02:42:16] src/tree/updater_prune.cc:74: tree pruning end, 1 roots, 14 extra nodes, 2 pruned nodes, max_depth=5\u001b[0m\n",
      "\u001b[34m[78]#011train-error:0.1362#011validation-error:0.1814\u001b[0m\n",
      "\u001b[34m[02:42:17] src/tree/updater_prune.cc:74: tree pruning end, 1 roots, 14 extra nodes, 6 pruned nodes, max_depth=5\u001b[0m\n",
      "\u001b[34m[79]#011train-error:0.1366#011validation-error:0.1815\u001b[0m\n",
      "\u001b[34m[02:42:18] src/tree/updater_prune.cc:74: tree pruning end, 1 roots, 22 extra nodes, 2 pruned nodes, max_depth=5\u001b[0m\n",
      "\u001b[34m[80]#011train-error:0.135933#011validation-error:0.182\u001b[0m\n",
      "\u001b[34m[02:42:20] src/tree/updater_prune.cc:74: tree pruning end, 1 roots, 20 extra nodes, 10 pruned nodes, max_depth=5\u001b[0m\n",
      "\u001b[34m[81]#011train-error:0.1354#011validation-error:0.1817\u001b[0m\n",
      "\u001b[34m[02:42:21] src/tree/updater_prune.cc:74: tree pruning end, 1 roots, 18 extra nodes, 10 pruned nodes, max_depth=5\u001b[0m\n",
      "\u001b[34m[82]#011train-error:0.134667#011validation-error:0.1821\u001b[0m\n",
      "\u001b[34m[02:42:22] src/tree/updater_prune.cc:74: tree pruning end, 1 roots, 22 extra nodes, 8 pruned nodes, max_depth=5\u001b[0m\n",
      "\u001b[34m[83]#011train-error:0.134667#011validation-error:0.1813\u001b[0m\n",
      "\u001b[34m[02:42:24] src/tree/updater_prune.cc:74: tree pruning end, 1 roots, 12 extra nodes, 12 pruned nodes, max_depth=5\u001b[0m\n",
      "\u001b[34m[84]#011train-error:0.1338#011validation-error:0.1811\u001b[0m\n",
      "\u001b[34m[02:42:25] src/tree/updater_prune.cc:74: tree pruning end, 1 roots, 22 extra nodes, 6 pruned nodes, max_depth=5\u001b[0m\n",
      "\u001b[34m[85]#011train-error:0.1324#011validation-error:0.1804\u001b[0m\n",
      "\u001b[34m[02:42:26] src/tree/updater_prune.cc:74: tree pruning end, 1 roots, 16 extra nodes, 4 pruned nodes, max_depth=5\u001b[0m\n",
      "\u001b[34m[86]#011train-error:0.132#011validation-error:0.1798\u001b[0m\n",
      "\u001b[34m[02:42:27] src/tree/updater_prune.cc:74: tree pruning end, 1 roots, 18 extra nodes, 10 pruned nodes, max_depth=5\u001b[0m\n",
      "\u001b[34m[87]#011train-error:0.1314#011validation-error:0.1794\u001b[0m\n",
      "\u001b[34m[02:42:29] src/tree/updater_prune.cc:74: tree pruning end, 1 roots, 14 extra nodes, 12 pruned nodes, max_depth=5\u001b[0m\n",
      "\u001b[34m[88]#011train-error:0.1302#011validation-error:0.1785\u001b[0m\n",
      "\u001b[34m[02:42:30] src/tree/updater_prune.cc:74: tree pruning end, 1 roots, 12 extra nodes, 2 pruned nodes, max_depth=5\u001b[0m\n",
      "\u001b[34m[89]#011train-error:0.13#011validation-error:0.1785\u001b[0m\n",
      "\u001b[34m[02:42:31] src/tree/updater_prune.cc:74: tree pruning end, 1 roots, 24 extra nodes, 10 pruned nodes, max_depth=5\u001b[0m\n",
      "\u001b[34m[90]#011train-error:0.129733#011validation-error:0.1785\u001b[0m\n",
      "\u001b[34m[02:42:33] src/tree/updater_prune.cc:74: tree pruning end, 1 roots, 12 extra nodes, 6 pruned nodes, max_depth=5\u001b[0m\n",
      "\u001b[34m[91]#011train-error:0.128933#011validation-error:0.1784\u001b[0m\n",
      "\u001b[34m[02:42:34] src/tree/updater_prune.cc:74: tree pruning end, 1 roots, 10 extra nodes, 8 pruned nodes, max_depth=5\u001b[0m\n",
      "\u001b[34m[92]#011train-error:0.129#011validation-error:0.1789\u001b[0m\n",
      "\u001b[34m[02:42:35] src/tree/updater_prune.cc:74: tree pruning end, 1 roots, 14 extra nodes, 8 pruned nodes, max_depth=5\u001b[0m\n",
      "\u001b[34m[93]#011train-error:0.128733#011validation-error:0.1785\u001b[0m\n",
      "\u001b[34m[02:42:36] src/tree/updater_prune.cc:74: tree pruning end, 1 roots, 12 extra nodes, 8 pruned nodes, max_depth=5\u001b[0m\n",
      "\u001b[34m[94]#011train-error:0.1288#011validation-error:0.179\u001b[0m\n",
      "\u001b[34m[02:42:38] src/tree/updater_prune.cc:74: tree pruning end, 1 roots, 10 extra nodes, 4 pruned nodes, max_depth=5\u001b[0m\n",
      "\u001b[34m[95]#011train-error:0.128933#011validation-error:0.1789\u001b[0m\n",
      "\u001b[34m[02:42:39] src/tree/updater_prune.cc:74: tree pruning end, 1 roots, 10 extra nodes, 10 pruned nodes, max_depth=5\u001b[0m\n",
      "\u001b[34m[96]#011train-error:0.1278#011validation-error:0.1791\u001b[0m\n",
      "\u001b[34m[02:42:40] src/tree/updater_prune.cc:74: tree pruning end, 1 roots, 12 extra nodes, 0 pruned nodes, max_depth=5\u001b[0m\n",
      "\u001b[34m[97]#011train-error:0.127467#011validation-error:0.1785\u001b[0m\n",
      "\u001b[34m[02:42:41] src/tree/updater_prune.cc:74: tree pruning end, 1 roots, 12 extra nodes, 4 pruned nodes, max_depth=5\u001b[0m\n",
      "\u001b[34m[98]#011train-error:0.127333#011validation-error:0.179\u001b[0m\n",
      "\u001b[34m[02:42:43] src/tree/updater_prune.cc:74: tree pruning end, 1 roots, 12 extra nodes, 16 pruned nodes, max_depth=5\u001b[0m\n",
      "\u001b[34m[99]#011train-error:0.126933#011validation-error:0.1796\u001b[0m\n",
      "\u001b[34m[02:42:44] src/tree/updater_prune.cc:74: tree pruning end, 1 roots, 16 extra nodes, 8 pruned nodes, max_depth=5\u001b[0m\n",
      "\u001b[34m[100]#011train-error:0.1272#011validation-error:0.1792\u001b[0m\n",
      "\u001b[34m[02:42:45] src/tree/updater_prune.cc:74: tree pruning end, 1 roots, 26 extra nodes, 0 pruned nodes, max_depth=5\u001b[0m\n",
      "\u001b[34m[101]#011train-error:0.126267#011validation-error:0.1795\u001b[0m\n",
      "\u001b[34mStopping. Best iteration:\u001b[0m\n",
      "\u001b[34m[91]#011train-error:0.128933#011validation-error:0.1784\n",
      "\u001b[0m\n",
      "\n",
      "2020-05-05 02:42:54 Uploading - Uploading generated training model\n",
      "2020-05-05 02:42:54 Completed - Training job completed\n",
      "Training seconds: 182\n",
      "Billable seconds: 182\n"
     ]
    }
   ],
   "source": [
    "# TODO: Using the new validation and training data, 'fit' your new model.\n",
    "new_xgb.fit({'train': s3_new_input_train, 'validation': s3_new_input_validation})"
   ]
  },
  {
   "cell_type": "markdown",
   "metadata": {},
   "source": [
    "### (TODO) Check the new model\n",
    "\n",
    "So now we have a new XGBoost model that we believe more accurately represents the state of the world at this time, at least in how it relates to the sentiment analysis problem that we are working on. The next step is to double check that our model is performing reasonably.\n",
    "\n",
    "To do this, we will first test our model on the new data.\n",
    "\n",
    "**Note:** In practice this is a pretty bad idea. We already trained our model on the new data, so testing it shouldn't really tell us much. In fact, this is sort of a textbook example of leakage. We are only doing it here so that we have a numerical baseline.\n",
    "\n",
    "**Question:** How might you address the leakage problem?"
   ]
  },
  {
   "cell_type": "markdown",
   "metadata": {},
   "source": [
    "First, we create a new transformer based on our new XGBoost model.\n",
    "\n",
    "**TODO:** Create a transformer object from the newly created XGBoost model."
   ]
  },
  {
   "cell_type": "code",
   "execution_count": 59,
   "metadata": {},
   "outputs": [],
   "source": [
    "# TODO: Create a transformer object from the new_xgb model\n",
    "new_xgb_transformer = new_xgb.transformer(instance_count = 1, instance_type = 'ml.m4.xlarge')"
   ]
  },
  {
   "cell_type": "markdown",
   "metadata": {},
   "source": [
    "Next we test our model on the new data.\n",
    "\n",
    "**TODO:** Use the transformer object to transform the new data (stored in the `new_data_location` variable)"
   ]
  },
  {
   "cell_type": "code",
   "execution_count": 60,
   "metadata": {},
   "outputs": [
    {
     "name": "stdout",
     "output_type": "stream",
     "text": [
      "...................\u001b[34mArguments: serve\u001b[0m\n",
      "\u001b[34m[2020-05-05 02:46:19 +0000] [1] [INFO] Starting gunicorn 19.7.1\u001b[0m\n",
      "\u001b[34m[2020-05-05 02:46:19 +0000] [1] [INFO] Listening at: http://0.0.0.0:8080 (1)\u001b[0m\n",
      "\u001b[34m[2020-05-05 02:46:19 +0000] [1] [INFO] Using worker: gevent\u001b[0m\n",
      "\u001b[34m[2020-05-05 02:46:19 +0000] [38] [INFO] Booting worker with pid: 38\u001b[0m\n",
      "\u001b[34m[2020-05-05 02:46:19 +0000] [39] [INFO] Booting worker with pid: 39\u001b[0m\n",
      "\u001b[34m[2020-05-05 02:46:19 +0000] [40] [INFO] Booting worker with pid: 40\u001b[0m\n",
      "\u001b[34m[2020-05-05 02:46:19 +0000] [41] [INFO] Booting worker with pid: 41\u001b[0m\n",
      "\u001b[34m[2020-05-05:02:46:19:INFO] Model loaded successfully for worker : 38\u001b[0m\n",
      "\u001b[34m[2020-05-05:02:46:19:INFO] Model loaded successfully for worker : 39\u001b[0m\n",
      "\u001b[34m[2020-05-05:02:46:19:INFO] Model loaded successfully for worker : 40\u001b[0m\n",
      "\u001b[34m[2020-05-05:02:46:19:INFO] Model loaded successfully for worker : 41\u001b[0m\n",
      "\u001b[34m[2020-05-05:02:46:49:INFO] Sniff delimiter as ','\u001b[0m\n",
      "\u001b[34m[2020-05-05:02:46:49:INFO] Determined delimiter of CSV input is ','\u001b[0m\n",
      "\u001b[34m[2020-05-05:02:46:50:INFO] Sniff delimiter as ','\u001b[0m\n",
      "\u001b[34m[2020-05-05:02:46:50:INFO] Determined delimiter of CSV input is ','\u001b[0m\n",
      "\u001b[34m[2020-05-05:02:46:50:INFO] Sniff delimiter as ','\u001b[0m\n",
      "\u001b[34m[2020-05-05:02:46:50:INFO] Determined delimiter of CSV input is ','\u001b[0m\n",
      "\u001b[34m[2020-05-05:02:46:50:INFO] Sniff delimiter as ','\u001b[0m\n",
      "\u001b[34m[2020-05-05:02:46:50:INFO] Determined delimiter of CSV input is ','\u001b[0m\n",
      "\u001b[35m[2020-05-05:02:46:49:INFO] Sniff delimiter as ','\u001b[0m\n",
      "\u001b[35m[2020-05-05:02:46:49:INFO] Determined delimiter of CSV input is ','\u001b[0m\n",
      "\u001b[35m[2020-05-05:02:46:50:INFO] Sniff delimiter as ','\u001b[0m\n",
      "\u001b[35m[2020-05-05:02:46:50:INFO] Determined delimiter of CSV input is ','\u001b[0m\n",
      "\u001b[35m[2020-05-05:02:46:50:INFO] Sniff delimiter as ','\u001b[0m\n",
      "\u001b[35m[2020-05-05:02:46:50:INFO] Determined delimiter of CSV input is ','\u001b[0m\n",
      "\u001b[35m[2020-05-05:02:46:50:INFO] Sniff delimiter as ','\u001b[0m\n",
      "\u001b[35m[2020-05-05:02:46:50:INFO] Determined delimiter of CSV input is ','\u001b[0m\n",
      "\u001b[32m2020-05-05T02:46:47.570:[sagemaker logs]: MaxConcurrentTransforms=4, MaxPayloadInMB=6, BatchStrategy=MULTI_RECORD\u001b[0m\n",
      "\u001b[34m[2020-05-05:02:46:52:INFO] Sniff delimiter as ','\u001b[0m\n",
      "\u001b[34m[2020-05-05:02:46:52:INFO] Determined delimiter of CSV input is ','\u001b[0m\n",
      "\u001b[34m[2020-05-05:02:46:52:INFO] Sniff delimiter as ','\u001b[0m\n",
      "\u001b[34m[2020-05-05:02:46:52:INFO] Determined delimiter of CSV input is ','\u001b[0m\n",
      "\u001b[35m[2020-05-05:02:46:52:INFO] Sniff delimiter as ','\u001b[0m\n",
      "\u001b[35m[2020-05-05:02:46:52:INFO] Determined delimiter of CSV input is ','\u001b[0m\n",
      "\u001b[35m[2020-05-05:02:46:52:INFO] Sniff delimiter as ','\u001b[0m\n",
      "\u001b[35m[2020-05-05:02:46:52:INFO] Determined delimiter of CSV input is ','\u001b[0m\n",
      "\u001b[34m[2020-05-05:02:46:53:INFO] Sniff delimiter as ','\u001b[0m\n",
      "\u001b[34m[2020-05-05:02:46:53:INFO] Determined delimiter of CSV input is ','\u001b[0m\n",
      "\u001b[34m[2020-05-05:02:46:53:INFO] Sniff delimiter as ','\u001b[0m\n",
      "\u001b[34m[2020-05-05:02:46:53:INFO] Determined delimiter of CSV input is ','\u001b[0m\n",
      "\u001b[35m[2020-05-05:02:46:53:INFO] Sniff delimiter as ','\u001b[0m\n",
      "\u001b[35m[2020-05-05:02:46:53:INFO] Determined delimiter of CSV input is ','\u001b[0m\n",
      "\u001b[35m[2020-05-05:02:46:53:INFO] Sniff delimiter as ','\u001b[0m\n",
      "\u001b[35m[2020-05-05:02:46:53:INFO] Determined delimiter of CSV input is ','\u001b[0m\n",
      "\u001b[34m[2020-05-05:02:46:54:INFO] Sniff delimiter as ','\u001b[0m\n",
      "\u001b[34m[2020-05-05:02:46:54:INFO] Determined delimiter of CSV input is ','\u001b[0m\n",
      "\u001b[35m[2020-05-05:02:46:54:INFO] Sniff delimiter as ','\u001b[0m\n",
      "\u001b[35m[2020-05-05:02:46:54:INFO] Determined delimiter of CSV input is ','\u001b[0m\n",
      "\u001b[34m[2020-05-05:02:46:55:INFO] Sniff delimiter as ','\u001b[0m\n",
      "\u001b[34m[2020-05-05:02:46:55:INFO] Determined delimiter of CSV input is ','\u001b[0m\n",
      "\u001b[34m[2020-05-05:02:46:55:INFO] Sniff delimiter as ','\u001b[0m\n",
      "\u001b[34m[2020-05-05:02:46:55:INFO] Determined delimiter of CSV input is ','\u001b[0m\n",
      "\u001b[35m[2020-05-05:02:46:55:INFO] Sniff delimiter as ','\u001b[0m\n",
      "\u001b[35m[2020-05-05:02:46:55:INFO] Determined delimiter of CSV input is ','\u001b[0m\n",
      "\u001b[35m[2020-05-05:02:46:55:INFO] Sniff delimiter as ','\u001b[0m\n",
      "\u001b[35m[2020-05-05:02:46:55:INFO] Determined delimiter of CSV input is ','\u001b[0m\n",
      "\u001b[34m[2020-05-05:02:46:57:INFO] Sniff delimiter as ','\u001b[0m\n",
      "\u001b[34m[2020-05-05:02:46:57:INFO] Determined delimiter of CSV input is ','\u001b[0m\n",
      "\u001b[34m[2020-05-05:02:46:57:INFO] Sniff delimiter as ','\u001b[0m\n",
      "\u001b[34m[2020-05-05:02:46:57:INFO] Determined delimiter of CSV input is ','\u001b[0m\n",
      "\u001b[34m[2020-05-05:02:46:57:INFO] Sniff delimiter as ','\u001b[0m\n",
      "\u001b[34m[2020-05-05:02:46:57:INFO] Determined delimiter of CSV input is ','\u001b[0m\n",
      "\u001b[35m[2020-05-05:02:46:57:INFO] Sniff delimiter as ','\u001b[0m\n",
      "\u001b[35m[2020-05-05:02:46:57:INFO] Determined delimiter of CSV input is ','\u001b[0m\n",
      "\u001b[35m[2020-05-05:02:46:57:INFO] Sniff delimiter as ','\u001b[0m\n",
      "\u001b[35m[2020-05-05:02:46:57:INFO] Determined delimiter of CSV input is ','\u001b[0m\n",
      "\u001b[35m[2020-05-05:02:46:57:INFO] Sniff delimiter as ','\u001b[0m\n",
      "\u001b[35m[2020-05-05:02:46:57:INFO] Determined delimiter of CSV input is ','\u001b[0m\n",
      "\u001b[34m[2020-05-05:02:46:58:INFO] Sniff delimiter as ','\u001b[0m\n",
      "\u001b[34m[2020-05-05:02:46:58:INFO] Determined delimiter of CSV input is ','\u001b[0m\n",
      "\u001b[35m[2020-05-05:02:46:58:INFO] Sniff delimiter as ','\u001b[0m\n",
      "\u001b[35m[2020-05-05:02:46:58:INFO] Determined delimiter of CSV input is ','\u001b[0m\n",
      "\u001b[34m[2020-05-05:02:46:59:INFO] Sniff delimiter as ','\u001b[0m\n",
      "\u001b[34m[2020-05-05:02:46:59:INFO] Determined delimiter of CSV input is ','\u001b[0m\n",
      "\u001b[35m[2020-05-05:02:46:59:INFO] Sniff delimiter as ','\u001b[0m\n",
      "\u001b[35m[2020-05-05:02:46:59:INFO] Determined delimiter of CSV input is ','\u001b[0m\n",
      "\u001b[34m[2020-05-05:02:47:00:INFO] Sniff delimiter as ','\u001b[0m\n",
      "\u001b[34m[2020-05-05:02:47:00:INFO] Determined delimiter of CSV input is ','\u001b[0m\n",
      "\u001b[34m[2020-05-05:02:47:00:INFO] Sniff delimiter as ','\u001b[0m\n",
      "\u001b[34m[2020-05-05:02:47:00:INFO] Determined delimiter of CSV input is ','\u001b[0m\n",
      "\u001b[35m[2020-05-05:02:47:00:INFO] Sniff delimiter as ','\u001b[0m\n",
      "\u001b[35m[2020-05-05:02:47:00:INFO] Determined delimiter of CSV input is ','\u001b[0m\n",
      "\u001b[35m[2020-05-05:02:47:00:INFO] Sniff delimiter as ','\u001b[0m\n",
      "\u001b[35m[2020-05-05:02:47:00:INFO] Determined delimiter of CSV input is ','\u001b[0m\n",
      "\u001b[34m[2020-05-05:02:47:00:INFO] Sniff delimiter as ','\u001b[0m\n",
      "\u001b[34m[2020-05-05:02:47:00:INFO] Determined delimiter of CSV input is ','\u001b[0m\n",
      "\u001b[35m[2020-05-05:02:47:00:INFO] Sniff delimiter as ','\u001b[0m\n",
      "\u001b[35m[2020-05-05:02:47:00:INFO] Determined delimiter of CSV input is ','\u001b[0m\n",
      "\u001b[34m[2020-05-05:02:47:02:INFO] Sniff delimiter as ','\u001b[0m\n",
      "\u001b[34m[2020-05-05:02:47:02:INFO] Determined delimiter of CSV input is ','\u001b[0m\n",
      "\u001b[35m[2020-05-05:02:47:02:INFO] Sniff delimiter as ','\u001b[0m\n",
      "\u001b[35m[2020-05-05:02:47:02:INFO] Determined delimiter of CSV input is ','\u001b[0m\n",
      "\u001b[34m[2020-05-05:02:47:02:INFO] Sniff delimiter as ','\u001b[0m\n",
      "\u001b[34m[2020-05-05:02:47:02:INFO] Determined delimiter of CSV input is ','\u001b[0m\n",
      "\u001b[34m[2020-05-05:02:47:02:INFO] Sniff delimiter as ','\u001b[0m\n",
      "\u001b[34m[2020-05-05:02:47:02:INFO] Determined delimiter of CSV input is ','\u001b[0m\n",
      "\u001b[35m[2020-05-05:02:47:02:INFO] Sniff delimiter as ','\u001b[0m\n",
      "\u001b[35m[2020-05-05:02:47:02:INFO] Determined delimiter of CSV input is ','\u001b[0m\n",
      "\u001b[35m[2020-05-05:02:47:02:INFO] Sniff delimiter as ','\u001b[0m\n",
      "\u001b[35m[2020-05-05:02:47:02:INFO] Determined delimiter of CSV input is ','\u001b[0m\n",
      "\u001b[34m[2020-05-05:02:47:02:INFO] Sniff delimiter as ','\u001b[0m\n",
      "\u001b[34m[2020-05-05:02:47:02:INFO] Determined delimiter of CSV input is ','\u001b[0m\n",
      "\u001b[35m[2020-05-05:02:47:02:INFO] Sniff delimiter as ','\u001b[0m\n",
      "\u001b[35m[2020-05-05:02:47:02:INFO] Determined delimiter of CSV input is ','\u001b[0m\n",
      "\u001b[34m[2020-05-05:02:47:04:INFO] Sniff delimiter as ','\u001b[0m\n",
      "\u001b[34m[2020-05-05:02:47:04:INFO] Determined delimiter of CSV input is ','\u001b[0m\n",
      "\u001b[35m[2020-05-05:02:47:04:INFO] Sniff delimiter as ','\u001b[0m\n",
      "\u001b[35m[2020-05-05:02:47:04:INFO] Determined delimiter of CSV input is ','\u001b[0m\n",
      "\n",
      "\u001b[34m[2020-05-05:02:47:05:INFO] Sniff delimiter as ','\u001b[0m\n",
      "\u001b[34m[2020-05-05:02:47:05:INFO] Determined delimiter of CSV input is ','\u001b[0m\n",
      "\u001b[34m[2020-05-05:02:47:05:INFO] Sniff delimiter as ','\u001b[0m\n",
      "\u001b[34m[2020-05-05:02:47:05:INFO] Determined delimiter of CSV input is ','\u001b[0m\n",
      "\u001b[35m[2020-05-05:02:47:05:INFO] Sniff delimiter as ','\u001b[0m\n",
      "\u001b[35m[2020-05-05:02:47:05:INFO] Determined delimiter of CSV input is ','\u001b[0m\n",
      "\u001b[35m[2020-05-05:02:47:05:INFO] Sniff delimiter as ','\u001b[0m\n",
      "\u001b[35m[2020-05-05:02:47:05:INFO] Determined delimiter of CSV input is ','\u001b[0m\n",
      "\u001b[34m[2020-05-05:02:47:07:INFO] Sniff delimiter as ','\u001b[0m\n",
      "\u001b[34m[2020-05-05:02:47:07:INFO] Determined delimiter of CSV input is ','\u001b[0m\n",
      "\u001b[34m[2020-05-05:02:47:07:INFO] Sniff delimiter as ','\u001b[0m\n",
      "\u001b[34m[2020-05-05:02:47:07:INFO] Determined delimiter of CSV input is ','\u001b[0m\n",
      "\u001b[34m[2020-05-05:02:47:07:INFO] Sniff delimiter as ','\u001b[0m\n",
      "\u001b[34m[2020-05-05:02:47:07:INFO] Determined delimiter of CSV input is ','\u001b[0m\n",
      "\u001b[34m[2020-05-05:02:47:07:INFO] Sniff delimiter as ','\u001b[0m\n",
      "\u001b[34m[2020-05-05:02:47:07:INFO] Determined delimiter of CSV input is ','\u001b[0m\n",
      "\u001b[35m[2020-05-05:02:47:07:INFO] Sniff delimiter as ','\u001b[0m\n",
      "\u001b[35m[2020-05-05:02:47:07:INFO] Determined delimiter of CSV input is ','\u001b[0m\n",
      "\u001b[35m[2020-05-05:02:47:07:INFO] Sniff delimiter as ','\u001b[0m\n",
      "\u001b[35m[2020-05-05:02:47:07:INFO] Determined delimiter of CSV input is ','\u001b[0m\n",
      "\u001b[35m[2020-05-05:02:47:07:INFO] Sniff delimiter as ','\u001b[0m\n",
      "\u001b[35m[2020-05-05:02:47:07:INFO] Determined delimiter of CSV input is ','\u001b[0m\n",
      "\u001b[35m[2020-05-05:02:47:07:INFO] Sniff delimiter as ','\u001b[0m\n",
      "\u001b[35m[2020-05-05:02:47:07:INFO] Determined delimiter of CSV input is ','\u001b[0m\n",
      "\u001b[34m[2020-05-05:02:47:09:INFO] Sniff delimiter as ','\u001b[0m\n",
      "\u001b[34m[2020-05-05:02:47:09:INFO] Determined delimiter of CSV input is ','\u001b[0m\n",
      "\u001b[34m[2020-05-05:02:47:09:INFO] Sniff delimiter as ','\u001b[0m\n",
      "\u001b[34m[2020-05-05:02:47:09:INFO] Determined delimiter of CSV input is ','\u001b[0m\n",
      "\u001b[35m[2020-05-05:02:47:09:INFO] Sniff delimiter as ','\u001b[0m\n",
      "\u001b[35m[2020-05-05:02:47:09:INFO] Determined delimiter of CSV input is ','\u001b[0m\n",
      "\u001b[35m[2020-05-05:02:47:09:INFO] Sniff delimiter as ','\u001b[0m\n",
      "\u001b[35m[2020-05-05:02:47:09:INFO] Determined delimiter of CSV input is ','\u001b[0m\n",
      "\u001b[34m[2020-05-05:02:47:09:INFO] Sniff delimiter as ','\u001b[0m\n",
      "\u001b[34m[2020-05-05:02:47:09:INFO] Determined delimiter of CSV input is ','\u001b[0m\n",
      "\u001b[34m[2020-05-05:02:47:10:INFO] Sniff delimiter as ','\u001b[0m\n",
      "\u001b[34m[2020-05-05:02:47:10:INFO] Determined delimiter of CSV input is ','\u001b[0m\n",
      "\u001b[35m[2020-05-05:02:47:09:INFO] Sniff delimiter as ','\u001b[0m\n",
      "\u001b[35m[2020-05-05:02:47:09:INFO] Determined delimiter of CSV input is ','\u001b[0m\n",
      "\u001b[35m[2020-05-05:02:47:10:INFO] Sniff delimiter as ','\u001b[0m\n",
      "\u001b[35m[2020-05-05:02:47:10:INFO] Determined delimiter of CSV input is ','\u001b[0m\n",
      "\u001b[34m[2020-05-05:02:47:12:INFO] Sniff delimiter as ','\u001b[0m\n",
      "\u001b[34m[2020-05-05:02:47:12:INFO] Determined delimiter of CSV input is ','\u001b[0m\n",
      "\u001b[34m[2020-05-05:02:47:12:INFO] Sniff delimiter as ','\u001b[0m\n",
      "\u001b[34m[2020-05-05:02:47:12:INFO] Determined delimiter of CSV input is ','\u001b[0m\n",
      "\u001b[34m[2020-05-05:02:47:12:INFO] Sniff delimiter as ','\u001b[0m\n",
      "\u001b[34m[2020-05-05:02:47:12:INFO] Determined delimiter of CSV input is ','\u001b[0m\n",
      "\u001b[34m[2020-05-05:02:47:12:INFO] Sniff delimiter as ','\u001b[0m\n",
      "\u001b[34m[2020-05-05:02:47:12:INFO] Determined delimiter of CSV input is ','\u001b[0m\n",
      "\u001b[35m[2020-05-05:02:47:12:INFO] Sniff delimiter as ','\u001b[0m\n",
      "\u001b[35m[2020-05-05:02:47:12:INFO] Determined delimiter of CSV input is ','\u001b[0m\n",
      "\u001b[35m[2020-05-05:02:47:12:INFO] Sniff delimiter as ','\u001b[0m\n",
      "\u001b[35m[2020-05-05:02:47:12:INFO] Determined delimiter of CSV input is ','\u001b[0m\n",
      "\u001b[35m[2020-05-05:02:47:12:INFO] Sniff delimiter as ','\u001b[0m\n",
      "\u001b[35m[2020-05-05:02:47:12:INFO] Determined delimiter of CSV input is ','\u001b[0m\n",
      "\u001b[35m[2020-05-05:02:47:12:INFO] Sniff delimiter as ','\u001b[0m\n",
      "\u001b[35m[2020-05-05:02:47:12:INFO] Determined delimiter of CSV input is ','\u001b[0m\n"
     ]
    }
   ],
   "source": [
    "# TODO: Using new_xgb_transformer, transform the new_data_location data. You may wish to\n",
    "#       'wait' for the transform job to finish.\n",
    "new_xgb_transformer.transform(new_data_location, content_type='text/csv', split_type='Line')\n",
    "new_xgb_transformer.wait()"
   ]
  },
  {
   "cell_type": "markdown",
   "metadata": {},
   "source": [
    "Copy the results to our local instance."
   ]
  },
  {
   "cell_type": "code",
   "execution_count": 61,
   "metadata": {},
   "outputs": [
    {
     "name": "stdout",
     "output_type": "stream",
     "text": [
      "download: s3://sagemaker-us-west-2-202593872157/xgboost-2020-05-05-02-43-18-908/new_data.csv.out to ../data/sentiment_update/new_data.csv.out\r\n"
     ]
    }
   ],
   "source": [
    "!aws s3 cp --recursive $new_xgb_transformer.output_path $data_dir"
   ]
  },
  {
   "cell_type": "markdown",
   "metadata": {},
   "source": [
    "And see how well the model did."
   ]
  },
  {
   "cell_type": "code",
   "execution_count": 62,
   "metadata": {},
   "outputs": [],
   "source": [
    "predictions = pd.read_csv(os.path.join(data_dir, 'new_data.csv.out'), header=None)\n",
    "predictions = [round(num) for num in predictions.squeeze().values]"
   ]
  },
  {
   "cell_type": "code",
   "execution_count": 63,
   "metadata": {},
   "outputs": [
    {
     "data": {
      "text/plain": [
       "0.85128"
      ]
     },
     "execution_count": 63,
     "metadata": {},
     "output_type": "execute_result"
    }
   ],
   "source": [
    "accuracy_score(new_Y, predictions)"
   ]
  },
  {
   "cell_type": "markdown",
   "metadata": {},
   "source": [
    "As expected, since we trained the model on this data, our model performs pretty well. So, we have reason to believe that our new XGBoost model is a \"better\" model.\n",
    "\n",
    "However, before we start changing our deployed model, we should first make sure that our new model isn't too different. In other words, if our new model performed really poorly on the original test data then this might be an indication that something else has gone wrong.\n",
    "\n",
    "To start with, since we got rid of the variable that stored the original test reviews, we will read them in again from the cache that we created in Step 3. Note that we need to make sure that we read in the original test data after it has been pre-processed with `nltk` but before it has been bag of words encoded. This is because we need to use the new vocabulary instead of the original one."
   ]
  },
  {
   "cell_type": "code",
   "execution_count": 64,
   "metadata": {},
   "outputs": [
    {
     "name": "stdout",
     "output_type": "stream",
     "text": [
      "Read preprocessed data from cache file: preprocessed_data.pkl\n"
     ]
    }
   ],
   "source": [
    "cache_data = None\n",
    "with open(os.path.join(cache_dir, \"preprocessed_data.pkl\"), \"rb\") as f:\n",
    "            cache_data = pickle.load(f)\n",
    "            print(\"Read preprocessed data from cache file:\", \"preprocessed_data.pkl\")\n",
    "            \n",
    "test_X = cache_data['words_test']\n",
    "test_Y = cache_data['labels_test']\n",
    "\n",
    "# Here we set cache_data to None so that it doesn't occupy memory\n",
    "cache_data = None"
   ]
  },
  {
   "cell_type": "markdown",
   "metadata": {},
   "source": [
    "Once we've loaded the original test reviews, we need to create a bag of words encoding of them using the new vocabulary that we created, based on the new data.\n",
    "\n",
    "**TODO:** Transform the original test data using the new vocabulary."
   ]
  },
  {
   "cell_type": "code",
   "execution_count": 65,
   "metadata": {},
   "outputs": [],
   "source": [
    "# TODO: Use the new_vectorizer object that you created earlier to transform the test_X data.\n",
    "test_X = new_vectorizer.transform(test_X).toarray()"
   ]
  },
  {
   "cell_type": "markdown",
   "metadata": {},
   "source": [
    "Now that we have correctly encoded the original test data, we can write it to the local instance, upload it to S3 and test it."
   ]
  },
  {
   "cell_type": "code",
   "execution_count": 79,
   "metadata": {},
   "outputs": [
    {
     "ename": "FileNotFoundError",
     "evalue": "[Errno 2] No such file or directory: '../data/sentiment_update/test.csv'",
     "output_type": "error",
     "traceback": [
      "\u001b[0;31m---------------------------------------------------------------------------\u001b[0m",
      "\u001b[0;31mFileNotFoundError\u001b[0m                         Traceback (most recent call last)",
      "\u001b[0;32m<ipython-input-79-884da5e7e47f>\u001b[0m in \u001b[0;36m<module>\u001b[0;34m()\u001b[0m\n\u001b[0;32m----> 1\u001b[0;31m \u001b[0mpd\u001b[0m\u001b[0;34m.\u001b[0m\u001b[0mDataFrame\u001b[0m\u001b[0;34m(\u001b[0m\u001b[0mtest_X\u001b[0m\u001b[0;34m)\u001b[0m\u001b[0;34m.\u001b[0m\u001b[0mto_csv\u001b[0m\u001b[0;34m(\u001b[0m\u001b[0mos\u001b[0m\u001b[0;34m.\u001b[0m\u001b[0mpath\u001b[0m\u001b[0;34m.\u001b[0m\u001b[0mjoin\u001b[0m\u001b[0;34m(\u001b[0m\u001b[0mdata_dir\u001b[0m\u001b[0;34m,\u001b[0m \u001b[0;34m'test.csv'\u001b[0m\u001b[0;34m)\u001b[0m\u001b[0;34m,\u001b[0m \u001b[0mheader\u001b[0m\u001b[0;34m=\u001b[0m\u001b[0;32mFalse\u001b[0m\u001b[0;34m,\u001b[0m \u001b[0mindex\u001b[0m\u001b[0;34m=\u001b[0m\u001b[0;32mFalse\u001b[0m\u001b[0;34m)\u001b[0m\u001b[0;34m\u001b[0m\u001b[0m\n\u001b[0m",
      "\u001b[0;32m~/anaconda3/envs/pytorch_p36/lib/python3.6/site-packages/pandas/core/generic.py\u001b[0m in \u001b[0;36mto_csv\u001b[0;34m(self, path_or_buf, sep, na_rep, float_format, columns, header, index, index_label, mode, encoding, compression, quoting, quotechar, line_terminator, chunksize, tupleize_cols, date_format, doublequote, escapechar, decimal)\u001b[0m\n\u001b[1;32m   3018\u001b[0m                                  \u001b[0mdoublequote\u001b[0m\u001b[0;34m=\u001b[0m\u001b[0mdoublequote\u001b[0m\u001b[0;34m,\u001b[0m\u001b[0;34m\u001b[0m\u001b[0m\n\u001b[1;32m   3019\u001b[0m                                  escapechar=escapechar, decimal=decimal)\n\u001b[0;32m-> 3020\u001b[0;31m         \u001b[0mformatter\u001b[0m\u001b[0;34m.\u001b[0m\u001b[0msave\u001b[0m\u001b[0;34m(\u001b[0m\u001b[0;34m)\u001b[0m\u001b[0;34m\u001b[0m\u001b[0m\n\u001b[0m\u001b[1;32m   3021\u001b[0m \u001b[0;34m\u001b[0m\u001b[0m\n\u001b[1;32m   3022\u001b[0m         \u001b[0;32mif\u001b[0m \u001b[0mpath_or_buf\u001b[0m \u001b[0;32mis\u001b[0m \u001b[0;32mNone\u001b[0m\u001b[0;34m:\u001b[0m\u001b[0;34m\u001b[0m\u001b[0m\n",
      "\u001b[0;32m~/anaconda3/envs/pytorch_p36/lib/python3.6/site-packages/pandas/io/formats/csvs.py\u001b[0m in \u001b[0;36msave\u001b[0;34m(self)\u001b[0m\n\u001b[1;32m    155\u001b[0m             f, handles = _get_handle(self.path_or_buf, self.mode,\n\u001b[1;32m    156\u001b[0m                                      \u001b[0mencoding\u001b[0m\u001b[0;34m=\u001b[0m\u001b[0mself\u001b[0m\u001b[0;34m.\u001b[0m\u001b[0mencoding\u001b[0m\u001b[0;34m,\u001b[0m\u001b[0;34m\u001b[0m\u001b[0m\n\u001b[0;32m--> 157\u001b[0;31m                                      compression=self.compression)\n\u001b[0m\u001b[1;32m    158\u001b[0m             \u001b[0mclose\u001b[0m \u001b[0;34m=\u001b[0m \u001b[0;32mTrue\u001b[0m\u001b[0;34m\u001b[0m\u001b[0m\n\u001b[1;32m    159\u001b[0m \u001b[0;34m\u001b[0m\u001b[0m\n",
      "\u001b[0;32m~/anaconda3/envs/pytorch_p36/lib/python3.6/site-packages/pandas/io/common.py\u001b[0m in \u001b[0;36m_get_handle\u001b[0;34m(path_or_buf, mode, encoding, compression, memory_map, is_text)\u001b[0m\n\u001b[1;32m    422\u001b[0m         \u001b[0;32melif\u001b[0m \u001b[0mencoding\u001b[0m\u001b[0;34m:\u001b[0m\u001b[0;34m\u001b[0m\u001b[0m\n\u001b[1;32m    423\u001b[0m             \u001b[0;31m# Python 3 and encoding\u001b[0m\u001b[0;34m\u001b[0m\u001b[0;34m\u001b[0m\u001b[0m\n\u001b[0;32m--> 424\u001b[0;31m             \u001b[0mf\u001b[0m \u001b[0;34m=\u001b[0m \u001b[0mopen\u001b[0m\u001b[0;34m(\u001b[0m\u001b[0mpath_or_buf\u001b[0m\u001b[0;34m,\u001b[0m \u001b[0mmode\u001b[0m\u001b[0;34m,\u001b[0m \u001b[0mencoding\u001b[0m\u001b[0;34m=\u001b[0m\u001b[0mencoding\u001b[0m\u001b[0;34m,\u001b[0m \u001b[0mnewline\u001b[0m\u001b[0;34m=\u001b[0m\u001b[0;34m\"\"\u001b[0m\u001b[0;34m)\u001b[0m\u001b[0;34m\u001b[0m\u001b[0m\n\u001b[0m\u001b[1;32m    425\u001b[0m         \u001b[0;32melif\u001b[0m \u001b[0mis_text\u001b[0m\u001b[0;34m:\u001b[0m\u001b[0;34m\u001b[0m\u001b[0m\n\u001b[1;32m    426\u001b[0m             \u001b[0;31m# Python 3 and no explicit encoding\u001b[0m\u001b[0;34m\u001b[0m\u001b[0;34m\u001b[0m\u001b[0m\n",
      "\u001b[0;31mFileNotFoundError\u001b[0m: [Errno 2] No such file or directory: '../data/sentiment_update/test.csv'"
     ]
    }
   ],
   "source": [
    "pd.DataFrame(test_X).to_csv(os.path.join(data_dir, 'test.csv'), header=False, index=False)"
   ]
  },
  {
   "cell_type": "code",
   "execution_count": null,
   "metadata": {},
   "outputs": [],
   "source": [
    "test_location = session.upload_data(os.path.join(data_dir, 'test.csv'), key_prefix=prefix)"
   ]
  },
  {
   "cell_type": "code",
   "execution_count": null,
   "metadata": {},
   "outputs": [],
   "source": [
    "new_xgb_transformer.transform(test_location, content_type='text/csv', split_type='Line')\n",
    "new_xgb_transformer.wait()"
   ]
  },
  {
   "cell_type": "code",
   "execution_count": null,
   "metadata": {},
   "outputs": [],
   "source": [
    "!aws s3 cp --recursive $new_xgb_transformer.output_path $data_dir"
   ]
  },
  {
   "cell_type": "code",
   "execution_count": null,
   "metadata": {},
   "outputs": [],
   "source": [
    "predictions = pd.read_csv(os.path.join(data_dir, 'test.csv.out'), header=None)\n",
    "predictions = [round(num) for num in predictions.squeeze().values]"
   ]
  },
  {
   "cell_type": "code",
   "execution_count": null,
   "metadata": {},
   "outputs": [],
   "source": [
    "accuracy_score(test_Y, predictions)"
   ]
  },
  {
   "cell_type": "markdown",
   "metadata": {},
   "source": [
    "It would appear that our new XGBoost model is performing quite well on the old test data. This gives us some indication that our new model should be put into production and replace our original model."
   ]
  },
  {
   "cell_type": "markdown",
   "metadata": {},
   "source": [
    "## Step 6: (TODO) Updating the Model\n",
    "\n",
    "So we have a new model that we'd like to use instead of one that is already deployed. Furthermore, we are assuming that the model that is already deployed is being used in some sort of application. As a result, what we want to do is update the existing endpoint so that it uses our new model.\n",
    "\n",
    "Of course, to do this we need to create an endpoint configuration for our newly created model.\n",
    "\n",
    "First, note that we can access the name of the model that we created above using the `model_name` property of the transformer. The reason for this is that in order for the transformer to create a batch transform job it needs to first create the model object inside of SageMaker. Since we've sort of already done this we should take advantage of it."
   ]
  },
  {
   "cell_type": "code",
   "execution_count": null,
   "metadata": {},
   "outputs": [],
   "source": [
    "new_xgb_transformer.model_name"
   ]
  },
  {
   "cell_type": "markdown",
   "metadata": {},
   "source": [
    "Next, we create an endpoint configuration using the low level approach of creating the dictionary object which describes the endpoint configuration we want.\n",
    "\n",
    "**TODO:** Using the low level approach, create a new endpoint configuration. Don't forget that it needs a name and that the name needs to be unique. If you get stuck, try looking at the Boston Housing Low Level Deployment tutorial notebook."
   ]
  },
  {
   "cell_type": "code",
   "execution_count": null,
   "metadata": {},
   "outputs": [],
   "source": [
    "from time import gmtime, strftime\n",
    "\n",
    "\n",
    "# TODO: Give our endpoint configuration a name. Remember, it needs to be unique.\n",
    "# new_xgb_endpoint_config_name = None\n",
    "\n",
    "# Solution:\n",
    "new_xgb_endpoint_config_name = \"sentiment-update-xgboost-endpoint-config-\" + strftime(\"%Y-%m-%d-%H-%M-%S\", gmtime())\n",
    "\n",
    "# TODO: Using the SageMaker Client, construct the endpoint configuration.\n",
    "# new_xgb_endpoint_config_info = None\n",
    "\n",
    "# Solution:\n",
    "new_xgb_endpoint_config_info = session.sagemaker_client.create_endpoint_config(\n",
    "                            EndpointConfigName = new_xgb_endpoint_config_name,\n",
    "                            ProductionVariants = [{\n",
    "                                \"InstanceType\": \"ml.m4.xlarge\",\n",
    "                                \"InitialVariantWeight\": 1,\n",
    "                                \"InitialInstanceCount\": 1,\n",
    "                                \"ModelName\": new_xgb_transformer.model_name,\n",
    "                                \"VariantName\": \"XGB-Model\"\n",
    "                            }])"
   ]
  },
  {
   "cell_type": "markdown",
   "metadata": {},
   "source": [
    "Once the endpoint configuration has been constructed, it is a straightforward matter to ask SageMaker to update the existing endpoint so that it uses the new endpoint configuration.\n",
    "\n",
    "Of note here is that SageMaker does this in such a way that there is no downtime. Essentially, SageMaker deploys the new model and then updates the original endpoint so that it points to the newly deployed model. After that, the original model is shut down. This way, whatever app is using our endpoint won't notice that we've changed the model that is being used.\n",
    "\n",
    "**TODO:** Use the SageMaker Client to update the endpoint that you deployed earlier."
   ]
  },
  {
   "cell_type": "code",
   "execution_count": null,
   "metadata": {},
   "outputs": [],
   "source": [
    "# TODO: Update the xgb_predictor.endpoint so that it uses new_xgb_endpoint_config_name.\n",
    "session.sagemaker_client.update_endpoint(EndpointName=xgb_predictor.endpoint, EndpointConfigName=new_xgb_endpoint_config_name)"
   ]
  },
  {
   "cell_type": "markdown",
   "metadata": {},
   "source": [
    "And, as is generally the case with SageMaker requests, this is being done in the background so if we want to wait for it to complete we need to call the appropriate method."
   ]
  },
  {
   "cell_type": "code",
   "execution_count": null,
   "metadata": {},
   "outputs": [],
   "source": [
    "session.wait_for_endpoint(xgb_predictor.endpoint)"
   ]
  },
  {
   "cell_type": "markdown",
   "metadata": {},
   "source": [
    "## Step 7: Delete the Endpoint\n",
    "\n",
    "Of course, since we are done with the deployed endpoint we need to make sure to shut it down, otherwise we will continue to be charged for it."
   ]
  },
  {
   "cell_type": "code",
   "execution_count": null,
   "metadata": {},
   "outputs": [],
   "source": [
    "xgb_predictor.delete_endpoint()"
   ]
  },
  {
   "cell_type": "markdown",
   "metadata": {},
   "source": [
    "## Some Additional Questions\n",
    "\n",
    "This notebook is a little different from the other notebooks in this module. In part, this is because it is meant to be a little bit closer to the type of problem you may face in a real world scenario. Of course, this problem is a very easy one with a prescribed solution, but there are many other interesting questions that we did not consider here and that you may wish to consider yourself.\n",
    "\n",
    "For example,\n",
    "- What other ways could the underlying distribution change?\n",
    "- Is it a good idea to re-train the model using only the new data?\n",
    "- What would change if the quantity of new data wasn't large. Say you only received 500 samples?\n"
   ]
  },
  {
   "cell_type": "markdown",
   "metadata": {},
   "source": [
    "## Optional: Clean up\n",
    "\n",
    "The default notebook instance on SageMaker doesn't have a lot of excess disk space available. As you continue to complete and execute notebooks you will eventually fill up this disk space, leading to errors which can be difficult to diagnose. Once you are completely finished using a notebook it is a good idea to remove the files that you created along the way. Of course, you can do this from the terminal or from the notebook hub if you would like. The cell below contains some commands to clean up the created files from within the notebook."
   ]
  },
  {
   "cell_type": "code",
   "execution_count": null,
   "metadata": {},
   "outputs": [],
   "source": [
    "# First we will remove all of the files contained in the data_dir directory\n",
    "!rm $data_dir/*\n",
    "\n",
    "# And then we delete the directory itself\n",
    "!rmdir $data_dir\n",
    "\n",
    "# Similarly we will remove the files in the cache_dir directory and the directory itself\n",
    "!rm $cache_dir/*\n",
    "!rmdir $cache_dir"
   ]
  },
  {
   "cell_type": "code",
   "execution_count": null,
   "metadata": {},
   "outputs": [],
   "source": []
  }
 ],
 "metadata": {
  "kernelspec": {
   "display_name": "conda_pytorch_p36",
   "language": "python",
   "name": "conda_pytorch_p36"
  },
  "language_info": {
   "codemirror_mode": {
    "name": "ipython",
    "version": 3
   },
   "file_extension": ".py",
   "mimetype": "text/x-python",
   "name": "python",
   "nbconvert_exporter": "python",
   "pygments_lexer": "ipython3",
   "version": "3.6.5"
  }
 },
 "nbformat": 4,
 "nbformat_minor": 2
}
