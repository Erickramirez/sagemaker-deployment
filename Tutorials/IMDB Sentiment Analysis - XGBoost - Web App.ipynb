{
 "cells": [
  {
   "cell_type": "markdown",
   "metadata": {},
   "source": [
    "# Sentiment Analysis Web App\n",
    "\n",
    "_Deep Learning Nanodegree Program | Deployment_\n",
    "\n",
    "---\n",
    "\n",
    "In this notebook we will use Amazon's SageMaker service to construct a random tree model to predict the sentiment of a movie review. In addition, we will deploy this model to an endpoint and construct a very simple web app which will interact with our model's deployed endpoint.\n",
    "\n",
    "## General Outline\n",
    "\n",
    "Typically, when using a notebook instance with SageMaker, you will proceed through the following steps. Of course, not every step will need to be done with each project. Also, there is quite a lot of room for variation in many of the steps, as you will see throughout these lessons.\n",
    "\n",
    "1. Download or otherwise retrieve the data.\n",
    "2. Process / Prepare the data.\n",
    "3. Upload the processed data to S3.\n",
    "4. Train a chosen model.\n",
    "5. Test the trained model (typically using a batch transform job).\n",
    "6. Deploy the trained model.\n",
    "7. Use the deployed model.\n",
    "\n",
    "In this notebook we will progress through each of the steps above. We will also see that the final step, using the deployed model, can be quite challenging."
   ]
  },
  {
   "cell_type": "markdown",
   "metadata": {},
   "source": [
    "## Step 1: Downloading the data\n",
    "\n",
    "The dataset we are going to use is very popular among researchers in Natural Language Processing, usually referred to as the [IMDb dataset](http://ai.stanford.edu/~amaas/data/sentiment/). It consists of movie reviews from the website [imdb.com](http://www.imdb.com/), each labeled as either '**pos**itive', if the reviewer enjoyed the film, or '**neg**ative' otherwise.\n",
    "\n",
    "> Maas, Andrew L., et al. [Learning Word Vectors for Sentiment Analysis](http://ai.stanford.edu/~amaas/data/sentiment/). In _Proceedings of the 49th Annual Meeting of the Association for Computational Linguistics: Human Language Technologies_. Association for Computational Linguistics, 2011.\n",
    "\n",
    "We begin by using some Jupyter Notebook magic to download and extract the dataset."
   ]
  },
  {
   "cell_type": "code",
   "execution_count": 1,
   "metadata": {},
   "outputs": [
    {
     "name": "stdout",
     "output_type": "stream",
     "text": [
      "mkdir: cannot create directory ‘../data’: File exists\n",
      "--2020-05-03 23:11:53--  http://ai.stanford.edu/~amaas/data/sentiment/aclImdb_v1.tar.gz\n",
      "Resolving ai.stanford.edu (ai.stanford.edu)... 171.64.68.10\n",
      "Connecting to ai.stanford.edu (ai.stanford.edu)|171.64.68.10|:80... connected.\n",
      "HTTP request sent, awaiting response... 200 OK\n",
      "Length: 84125825 (80M) [application/x-gzip]\n",
      "Saving to: ‘../data/aclImdb_v1.tar.gz’\n",
      "\n",
      "../data/aclImdb_v1. 100%[===================>]  80.23M  35.8MB/s    in 2.2s    \n",
      "\n",
      "2020-05-03 23:11:55 (35.8 MB/s) - ‘../data/aclImdb_v1.tar.gz’ saved [84125825/84125825]\n",
      "\n"
     ]
    }
   ],
   "source": [
    "%mkdir ../data\n",
    "!wget -O ../data/aclImdb_v1.tar.gz http://ai.stanford.edu/~amaas/data/sentiment/aclImdb_v1.tar.gz\n",
    "!tar -zxf ../data/aclImdb_v1.tar.gz -C ../data"
   ]
  },
  {
   "cell_type": "markdown",
   "metadata": {},
   "source": [
    "## Step 2: Preparing and Processing the data\n",
    "\n",
    "The data we have downloaded is split into various files, each of which contains a single review. It will be much easier going forward if we combine these individual files into two large files, one for training and one for testing."
   ]
  },
  {
   "cell_type": "code",
   "execution_count": 2,
   "metadata": {},
   "outputs": [],
   "source": [
    "import os\n",
    "import glob\n",
    "\n",
    "def read_imdb_data(data_dir='../data/aclImdb'):\n",
    "    data = {}\n",
    "    labels = {}\n",
    "    \n",
    "    for data_type in ['train', 'test']:\n",
    "        data[data_type] = {}\n",
    "        labels[data_type] = {}\n",
    "        \n",
    "        for sentiment in ['pos', 'neg']:\n",
    "            data[data_type][sentiment] = []\n",
    "            labels[data_type][sentiment] = []\n",
    "            \n",
    "            path = os.path.join(data_dir, data_type, sentiment, '*.txt')\n",
    "            files = glob.glob(path)\n",
    "            \n",
    "            for f in files:\n",
    "                with open(f) as review:\n",
    "                    data[data_type][sentiment].append(review.read())\n",
    "                    # Here we represent a positive review by '1' and a negative review by '0'\n",
    "                    labels[data_type][sentiment].append(1 if sentiment == 'pos' else 0)\n",
    "                    \n",
    "            assert len(data[data_type][sentiment]) == len(labels[data_type][sentiment]), \\\n",
    "                    \"{}/{} data size does not match labels size\".format(data_type, sentiment)\n",
    "                \n",
    "    return data, labels"
   ]
  },
  {
   "cell_type": "code",
   "execution_count": 3,
   "metadata": {},
   "outputs": [
    {
     "name": "stdout",
     "output_type": "stream",
     "text": [
      "IMDB reviews: train = 12500 pos / 12500 neg, test = 12500 pos / 12500 neg\n"
     ]
    }
   ],
   "source": [
    "data, labels = read_imdb_data()\n",
    "print(\"IMDB reviews: train = {} pos / {} neg, test = {} pos / {} neg\".format(\n",
    "            len(data['train']['pos']), len(data['train']['neg']),\n",
    "            len(data['test']['pos']), len(data['test']['neg'])))"
   ]
  },
  {
   "cell_type": "code",
   "execution_count": 4,
   "metadata": {},
   "outputs": [],
   "source": [
    "from sklearn.utils import shuffle\n",
    "\n",
    "def prepare_imdb_data(data, labels):\n",
    "    \"\"\"Prepare training and test sets from IMDb movie reviews.\"\"\"\n",
    "    \n",
    "    #Combine positive and negative reviews and labels\n",
    "    data_train = data['train']['pos'] + data['train']['neg']\n",
    "    data_test = data['test']['pos'] + data['test']['neg']\n",
    "    labels_train = labels['train']['pos'] + labels['train']['neg']\n",
    "    labels_test = labels['test']['pos'] + labels['test']['neg']\n",
    "    \n",
    "    #Shuffle reviews and corresponding labels within training and test sets\n",
    "    data_train, labels_train = shuffle(data_train, labels_train)\n",
    "    data_test, labels_test = shuffle(data_test, labels_test)\n",
    "    \n",
    "    # Return a unified training data, test data, training labels, test labets\n",
    "    return data_train, data_test, labels_train, labels_test"
   ]
  },
  {
   "cell_type": "code",
   "execution_count": 5,
   "metadata": {},
   "outputs": [
    {
     "name": "stdout",
     "output_type": "stream",
     "text": [
      "IMDb reviews (combined): train = 25000, test = 25000\n"
     ]
    }
   ],
   "source": [
    "train_X, test_X, train_y, test_y = prepare_imdb_data(data, labels)\n",
    "print(\"IMDb reviews (combined): train = {}, test = {}\".format(len(train_X), len(test_X)))"
   ]
  },
  {
   "cell_type": "code",
   "execution_count": 6,
   "metadata": {},
   "outputs": [
    {
     "data": {
      "text/plain": [
       "'A singularly unfunny musical comedy that artificially tries to marry the then-cutting edge rock \\'n\\' roll explosion with the middle-class sensibilities of a suburban sitcom. The result is a jarringly dated mish-mash that will satisfy none of the audience that went for the music, but will at least keep their parents sated.<br /><br />A quick glance at the promo write-up on the back of the video release should give some idea of the content. Tom Ewell is a drunken agent, overplayed with so little comic ability you almost expect him to bellow \"hi honey, I\\'m home!\" The blurb sites him as \"So funny in \\'The 7 Year Itch\\'\". It sounds almost like an excuse. What other film would sell itself on the fact that a leading player was good in something else? It reads like \"So funny in \\'The 7 Year Itch\\' ... but he\\'s rubbish in this\".<br /><br />Mansfield, a beautiful girl with rumoured 50-inch assets, is, unfortunately, a bargain basement Monroe with all the acting ability and comic timing of a rotting haddock. Her wooden delivery combined with Ewell\\'s OTT double-takes make this a comedy partnership from Hell. For her part, the sell gives us: \"[Jayne Mansfield] whose more obvious talents are the cause of many of the film\\'s biggest laughs!\" As you can see, a movie sold on the idea that it\\'s lead has a big chest is not the most sophisticated of things. Most of this \"humour\" is men literally falling over themselves, their glasses cracking upon site of Mansfield, etc. Only the Freudian nightmare of a milk bottle overflowing casts doubt upon its \"U\" certificate.<br /><br />For the musical side, the most adenine of players are chosen. Would you really care to see Eddie Fontaine offer: \"I love your eyes, I love your lips, they taste even better than potato chips\" in a song called \"Cool It, Baby\"? Only the incendiary Little Richard breaks out of the MOR, though is forced to sing some of his more dad-friendly songs in a four-minute sequence. And how come all the acts sing without a single microphone? Attempted satires on the industry are broad and childlike in their conception.<br /><br />Technically, the picture was quite advanced, with special effects (including a ghost-like Julie London) and deluxe color (Which now looks flat and artificial. In fact, with its reds that bleed and fake-looking flesh tones, it resembles a colorised movie). Direction, though, isn\\'t outstanding, and the sound quality is also quite poor.<br /><br />Perhaps it comes down to it being so old. A time when men still smoked on screen, sickeningly cute child actors made adult remarks and black servants only got to cook and dance. (All of which happen here). Yet Some Like It Hot, The African Queen, Ben Hur and many, many more stand as examples of films from the period that can still be enjoyed today, so the \"good at the time\" argument doesn\\'t really stand up. At its heart The Girl Can\\'t Help It is a cynical and patronising venture that doesn\\'t bear close inspection. 4/10.<br /><br />'"
      ]
     },
     "execution_count": 6,
     "metadata": {},
     "output_type": "execute_result"
    }
   ],
   "source": [
    "train_X[100]"
   ]
  },
  {
   "cell_type": "markdown",
   "metadata": {},
   "source": [
    "## Processing the data\n",
    "\n",
    "Now that we have our training and testing datasets merged and ready to use, we need to start processing the raw data into something that will be useable by our machine learning algorithm. To begin with, we remove any html formatting and any non-alpha numeric characters that may appear in the reviews. We will do this in a very simplistic way using Python's regular expression module. We will discuss the reason for this rather simplistic pre-processing later on."
   ]
  },
  {
   "cell_type": "code",
   "execution_count": 7,
   "metadata": {},
   "outputs": [],
   "source": [
    "import re\n",
    "\n",
    "REPLACE_NO_SPACE = re.compile(\"(\\.)|(\\;)|(\\:)|(\\!)|(\\')|(\\?)|(\\,)|(\\\")|(\\()|(\\))|(\\[)|(\\])\")\n",
    "REPLACE_WITH_SPACE = re.compile(\"(<br\\s*/><br\\s*/>)|(\\-)|(\\/)\")\n",
    "\n",
    "def review_to_words(review):\n",
    "    words = REPLACE_NO_SPACE.sub(\"\", review.lower())\n",
    "    words = REPLACE_WITH_SPACE.sub(\" \", words)\n",
    "    return words"
   ]
  },
  {
   "cell_type": "code",
   "execution_count": 8,
   "metadata": {},
   "outputs": [
    {
     "data": {
      "text/plain": [
       "'a singularly unfunny musical comedy that artificially tries to marry the then cutting edge rock n roll explosion with the middle class sensibilities of a suburban sitcom the result is a jarringly dated mish mash that will satisfy none of the audience that went for the music but will at least keep their parents sated a quick glance at the promo write up on the back of the video release should give some idea of the content tom ewell is a drunken agent overplayed with so little comic ability you almost expect him to bellow hi honey im home the blurb sites him as so funny in the 7 year itch it sounds almost like an excuse what other film would sell itself on the fact that a leading player was good in something else it reads like so funny in the 7 year itch  but hes rubbish in this mansfield a beautiful girl with rumoured 50 inch assets is unfortunately a bargain basement monroe with all the acting ability and comic timing of a rotting haddock her wooden delivery combined with ewells ott double takes make this a comedy partnership from hell for her part the sell gives us jayne mansfield whose more obvious talents are the cause of many of the films biggest laughs as you can see a movie sold on the idea that its lead has a big chest is not the most sophisticated of things most of this humour is men literally falling over themselves their glasses cracking upon site of mansfield etc only the freudian nightmare of a milk bottle overflowing casts doubt upon its u certificate for the musical side the most adenine of players are chosen would you really care to see eddie fontaine offer i love your eyes i love your lips they taste even better than potato chips in a song called cool it baby only the incendiary little richard breaks out of the mor though is forced to sing some of his more dad friendly songs in a four minute sequence and how come all the acts sing without a single microphone attempted satires on the industry are broad and childlike in their conception technically the picture was quite advanced with special effects including a ghost like julie london and deluxe color which now looks flat and artificial in fact with its reds that bleed and fake looking flesh tones it resembles a colorised movie direction though isnt outstanding and the sound quality is also quite poor perhaps it comes down to it being so old a time when men still smoked on screen sickeningly cute child actors made adult remarks and black servants only got to cook and dance all of which happen here yet some like it hot the african queen ben hur and many many more stand as examples of films from the period that can still be enjoyed today so the good at the time argument doesnt really stand up at its heart the girl cant help it is a cynical and patronising venture that doesnt bear close inspection 4 10 '"
      ]
     },
     "execution_count": 8,
     "metadata": {},
     "output_type": "execute_result"
    }
   ],
   "source": [
    "review_to_words(train_X[100])"
   ]
  },
  {
   "cell_type": "code",
   "execution_count": 9,
   "metadata": {},
   "outputs": [],
   "source": [
    "import pickle\n",
    "\n",
    "cache_dir = os.path.join(\"../cache\", \"sentiment_web_app\")  # where to store cache files\n",
    "os.makedirs(cache_dir, exist_ok=True)  # ensure cache directory exists\n",
    "\n",
    "def preprocess_data(data_train, data_test, labels_train, labels_test,\n",
    "                    cache_dir=cache_dir, cache_file=\"preprocessed_data.pkl\"):\n",
    "    \"\"\"Convert each review to words; read from cache if available.\"\"\"\n",
    "\n",
    "    # If cache_file is not None, try to read from it first\n",
    "    cache_data = None\n",
    "    if cache_file is not None:\n",
    "        try:\n",
    "            with open(os.path.join(cache_dir, cache_file), \"rb\") as f:\n",
    "                cache_data = pickle.load(f)\n",
    "            print(\"Read preprocessed data from cache file:\", cache_file)\n",
    "        except:\n",
    "            pass  # unable to read from cache, but that's okay\n",
    "    \n",
    "    # If cache is missing, then do the heavy lifting\n",
    "    if cache_data is None:\n",
    "        # Preprocess training and test data to obtain words for each review\n",
    "        #words_train = list(map(review_to_words, data_train))\n",
    "        #words_test = list(map(review_to_words, data_test))\n",
    "        words_train = [review_to_words(review) for review in data_train]\n",
    "        words_test = [review_to_words(review) for review in data_test]\n",
    "        \n",
    "        # Write to cache file for future runs\n",
    "        if cache_file is not None:\n",
    "            cache_data = dict(words_train=words_train, words_test=words_test,\n",
    "                              labels_train=labels_train, labels_test=labels_test)\n",
    "            with open(os.path.join(cache_dir, cache_file), \"wb\") as f:\n",
    "                pickle.dump(cache_data, f)\n",
    "            print(\"Wrote preprocessed data to cache file:\", cache_file)\n",
    "    else:\n",
    "        # Unpack data loaded from cache file\n",
    "        words_train, words_test, labels_train, labels_test = (cache_data['words_train'],\n",
    "                cache_data['words_test'], cache_data['labels_train'], cache_data['labels_test'])\n",
    "    \n",
    "    return words_train, words_test, labels_train, labels_test"
   ]
  },
  {
   "cell_type": "code",
   "execution_count": 10,
   "metadata": {},
   "outputs": [
    {
     "name": "stdout",
     "output_type": "stream",
     "text": [
      "Wrote preprocessed data to cache file: preprocessed_data.pkl\n"
     ]
    }
   ],
   "source": [
    "# Preprocess data\n",
    "train_X, test_X, train_y, test_y = preprocess_data(train_X, test_X, train_y, test_y)"
   ]
  },
  {
   "cell_type": "markdown",
   "metadata": {},
   "source": [
    "### Extract Bag-of-Words features\n",
    "\n",
    "For the model we will be implementing, rather than using the reviews directly, we are going to transform each review into a Bag-of-Words feature representation. Keep in mind that 'in the wild' we will only have access to the training set so our transformer can only use the training set to construct a representation."
   ]
  },
  {
   "cell_type": "code",
   "execution_count": 11,
   "metadata": {},
   "outputs": [],
   "source": [
    "import numpy as np\n",
    "from sklearn.feature_extraction.text import CountVectorizer\n",
    "from sklearn.externals import joblib\n",
    "# joblib is an enhanced version of pickle that is more efficient for storing NumPy arrays\n",
    "\n",
    "def extract_BoW_features(words_train, words_test, vocabulary_size=5000,\n",
    "                         cache_dir=cache_dir, cache_file=\"bow_features.pkl\"):\n",
    "    \"\"\"Extract Bag-of-Words for a given set of documents, already preprocessed into words.\"\"\"\n",
    "    \n",
    "    # If cache_file is not None, try to read from it first\n",
    "    cache_data = None\n",
    "    if cache_file is not None:\n",
    "        try:\n",
    "            with open(os.path.join(cache_dir, cache_file), \"rb\") as f:\n",
    "                cache_data = joblib.load(f)\n",
    "            print(\"Read features from cache file:\", cache_file)\n",
    "        except:\n",
    "            pass  # unable to read from cache, but that's okay\n",
    "    \n",
    "    # If cache is missing, then do the heavy lifting\n",
    "    if cache_data is None:\n",
    "        # Fit a vectorizer to training documents and use it to transform them\n",
    "        # NOTE: Training documents have already been preprocessed and tokenized into words;\n",
    "        #       pass in dummy functions to skip those steps, e.g. preprocessor=lambda x: x\n",
    "        vectorizer = CountVectorizer(max_features=vocabulary_size)\n",
    "        features_train = vectorizer.fit_transform(words_train).toarray()\n",
    "\n",
    "        # Apply the same vectorizer to transform the test documents (ignore unknown words)\n",
    "        features_test = vectorizer.transform(words_test).toarray()\n",
    "        \n",
    "        # NOTE: Remember to convert the features using .toarray() for a compact representation\n",
    "        \n",
    "        # Write to cache file for future runs (store vocabulary as well)\n",
    "        if cache_file is not None:\n",
    "            vocabulary = vectorizer.vocabulary_\n",
    "            cache_data = dict(features_train=features_train, features_test=features_test,\n",
    "                             vocabulary=vocabulary)\n",
    "            with open(os.path.join(cache_dir, cache_file), \"wb\") as f:\n",
    "                joblib.dump(cache_data, f)\n",
    "            print(\"Wrote features to cache file:\", cache_file)\n",
    "    else:\n",
    "        # Unpack data loaded from cache file\n",
    "        features_train, features_test, vocabulary = (cache_data['features_train'],\n",
    "                cache_data['features_test'], cache_data['vocabulary'])\n",
    "    \n",
    "    # Return both the extracted features as well as the vocabulary\n",
    "    return features_train, features_test, vocabulary"
   ]
  },
  {
   "cell_type": "code",
   "execution_count": 12,
   "metadata": {},
   "outputs": [
    {
     "name": "stdout",
     "output_type": "stream",
     "text": [
      "Wrote features to cache file: bow_features.pkl\n"
     ]
    }
   ],
   "source": [
    "# Extract Bag of Words features for both training and test datasets\n",
    "train_X, test_X, vocabulary = extract_BoW_features(train_X, test_X)"
   ]
  },
  {
   "cell_type": "code",
   "execution_count": 13,
   "metadata": {},
   "outputs": [
    {
     "data": {
      "text/plain": [
       "5000"
      ]
     },
     "execution_count": 13,
     "metadata": {},
     "output_type": "execute_result"
    }
   ],
   "source": [
    "len(train_X[100])"
   ]
  },
  {
   "cell_type": "markdown",
   "metadata": {},
   "source": [
    "## Step 3: Upload data to S3\n",
    "\n",
    "Now that we have created the feature representation of our training (and testing) data, it is time to start setting up and using the XGBoost classifier provided by SageMaker.\n",
    "\n",
    "### Writing the datasets\n",
    "\n",
    "The XGBoost classifier that we will be using requires the dataset to be written to a file and stored using Amazon S3. To do this, we will start by splitting the training dataset into two parts, the data we will train the model with and a validation set. Then, we will write those datasets to a file locally and then upload the files to S3. In addition, we will write the test set to a file and upload that file to S3. This is so that we can use SageMakers Batch Transform functionality to test our model once we've fit it."
   ]
  },
  {
   "cell_type": "code",
   "execution_count": 14,
   "metadata": {},
   "outputs": [],
   "source": [
    "import pandas as pd\n",
    "\n",
    "# Earlier we shuffled the training dataset so to make things simple we can just assign\n",
    "# the first 10 000 reviews to the validation set and use the remaining reviews for training.\n",
    "val_X = pd.DataFrame(train_X[:10000])\n",
    "train_X = pd.DataFrame(train_X[10000:])\n",
    "\n",
    "val_y = pd.DataFrame(train_y[:10000])\n",
    "train_y = pd.DataFrame(train_y[10000:])"
   ]
  },
  {
   "cell_type": "markdown",
   "metadata": {},
   "source": [
    "The documentation for the XGBoost algorithm in SageMaker requires that the training and validation datasets should contain no headers or index and that the label should occur first for each sample.\n",
    "\n",
    "For more information about this and other algorithms, the SageMaker developer documentation can be found on __[Amazon's website.](https://docs.aws.amazon.com/sagemaker/latest/dg/)__"
   ]
  },
  {
   "cell_type": "code",
   "execution_count": 15,
   "metadata": {},
   "outputs": [],
   "source": [
    "# First we make sure that the local directory in which we'd like to store the training and validation csv files exists.\n",
    "data_dir = '../data/sentiment_web_app'\n",
    "if not os.path.exists(data_dir):\n",
    "    os.makedirs(data_dir)"
   ]
  },
  {
   "cell_type": "code",
   "execution_count": 16,
   "metadata": {},
   "outputs": [],
   "source": [
    "pd.DataFrame(test_X).to_csv(os.path.join(data_dir, 'test.csv'), header=False, index=False)\n",
    "\n",
    "pd.concat([val_y, val_X], axis=1).to_csv(os.path.join(data_dir, 'validation.csv'), header=False, index=False)\n",
    "pd.concat([train_y, train_X], axis=1).to_csv(os.path.join(data_dir, 'train.csv'), header=False, index=False)"
   ]
  },
  {
   "cell_type": "code",
   "execution_count": 17,
   "metadata": {},
   "outputs": [],
   "source": [
    "# To save a bit of memory we can set text_X, train_X, val_X, train_y and val_y to None.\n",
    "\n",
    "test_X = train_X = val_X = train_y = val_y = None"
   ]
  },
  {
   "cell_type": "markdown",
   "metadata": {},
   "source": [
    "### Uploading Training / Validation files to S3\n",
    "\n",
    "Amazon's S3 service allows us to store files that can be accessed by both the built-in training models such as the XGBoost model we will be using as well as custom models such as the one we will see a little later.\n",
    "\n",
    "For this and most other tasks we will be doing using SageMaker, there are two methods we could use. The first is to use the low level functionality of SageMaker which requires knowing each of the objects involved in the SageMaker environment. The second is to use the high level functionality in which certain choices have been made on the user's behalf. The low level approach benefits from allowing the user a great deal of flexibility while the high level approach makes development much quicker. For our purposes we will opt to use the high level approach although using the low-level approach is certainly an option.\n",
    "\n",
    "Recall the method `upload_data()` which is a member of the object representing our current SageMaker session. What this method does is upload the data to the default bucket (which is created if it does not exist) into the path described by the key_prefix variable. To see this for yourself, once you have uploaded the data files, go to the S3 console and look to see where the files have been uploaded.\n",
    "\n",
    "For additional resources, see the __[SageMaker API documentation](http://sagemaker.readthedocs.io/en/latest/)__ and in addition the __[SageMaker Developer Guide.](https://docs.aws.amazon.com/sagemaker/latest/dg/)__"
   ]
  },
  {
   "cell_type": "code",
   "execution_count": 18,
   "metadata": {},
   "outputs": [],
   "source": [
    "import sagemaker\n",
    "\n",
    "session = sagemaker.Session() # Store the current SageMaker session\n",
    "\n",
    "# S3 prefix (which folder will we use)\n",
    "prefix = 'sentiment-web-app'\n",
    "\n",
    "test_location = session.upload_data(os.path.join(data_dir, 'test.csv'), key_prefix=prefix)\n",
    "val_location = session.upload_data(os.path.join(data_dir, 'validation.csv'), key_prefix=prefix)\n",
    "train_location = session.upload_data(os.path.join(data_dir, 'train.csv'), key_prefix=prefix)"
   ]
  },
  {
   "cell_type": "markdown",
   "metadata": {},
   "source": [
    "## Step 4: Creating the XGBoost model\n",
    "\n",
    "Now that the data has been uploaded it is time to create the XGBoost model. To begin with, we need to do some setup. At this point it is worth discussing what a model is in SageMaker. It is easiest to think of a model of comprising three different objects in the SageMaker ecosystem, which interact with one another.\n",
    "\n",
    "- Model Artifacts\n",
    "- Training Code (Container)\n",
    "- Inference Code (Container)\n",
    "\n",
    "The Model Artifacts are what you might think of as the actual model itself. For example, if you were building a neural network, the model artifacts would be the weights of the various layers. In our case, for an XGBoost model, the artifacts are the actual trees that are created during training.\n",
    "\n",
    "The other two objects, the training code and the inference code are then used to manipulate the training artifacts. More precisely, the training code uses the training data that is provided and creates the model artifacts, while the inference code uses the model artifacts to make predictions on new data.\n",
    "\n",
    "The way that SageMaker runs the training and inference code is by making use of Docker containers. For now, think of a container as being a way of packaging code up so that dependencies aren't an issue."
   ]
  },
  {
   "cell_type": "code",
   "execution_count": 19,
   "metadata": {},
   "outputs": [],
   "source": [
    "from sagemaker import get_execution_role\n",
    "\n",
    "# Our current execution role is required when creating the model as the training\n",
    "# and inference code will need to access the model artifacts.\n",
    "role = get_execution_role()"
   ]
  },
  {
   "cell_type": "code",
   "execution_count": 20,
   "metadata": {},
   "outputs": [
    {
     "name": "stderr",
     "output_type": "stream",
     "text": [
      "WARNING:root:There is a more up to date SageMaker XGBoost image. To use the newer image, please set 'repo_version'='0.90-1'. For example:\n",
      "\tget_image_uri(region, 'xgboost', '0.90-1').\n"
     ]
    }
   ],
   "source": [
    "# We need to retrieve the location of the container which is provided by Amazon for using XGBoost.\n",
    "# As a matter of convenience, the training and inference code both use the same container.\n",
    "from sagemaker.amazon.amazon_estimator import get_image_uri\n",
    "\n",
    "container = get_image_uri(session.boto_region_name, 'xgboost')"
   ]
  },
  {
   "cell_type": "code",
   "execution_count": 21,
   "metadata": {},
   "outputs": [],
   "source": [
    "# First we create a SageMaker estimator object for our model.\n",
    "xgb = sagemaker.estimator.Estimator(container, # The location of the container we wish to use\n",
    "                                    role,                                    # What is our current IAM Role\n",
    "                                    train_instance_count=1,                  # How many compute instances\n",
    "                                    train_instance_type='ml.m4.xlarge',      # What kind of compute instances\n",
    "                                    output_path='s3://{}/{}/output'.format(session.default_bucket(), prefix),\n",
    "                                    sagemaker_session=session)\n",
    "\n",
    "# And then set the algorithm specific parameters.\n",
    "xgb.set_hyperparameters(max_depth=5,\n",
    "                        eta=0.2,\n",
    "                        gamma=4,\n",
    "                        min_child_weight=6,\n",
    "                        subsample=0.8,\n",
    "                        silent=0,\n",
    "                        objective='binary:logistic',\n",
    "                        early_stopping_rounds=10,\n",
    "                        num_round=500)"
   ]
  },
  {
   "cell_type": "markdown",
   "metadata": {},
   "source": [
    "### Fit the XGBoost model\n",
    "\n",
    "Now that our model has been set up we simply need to attach the training and validation datasets and then ask SageMaker to set up the computation."
   ]
  },
  {
   "cell_type": "code",
   "execution_count": 22,
   "metadata": {},
   "outputs": [],
   "source": [
    "s3_input_train = sagemaker.s3_input(s3_data=train_location, content_type='csv')\n",
    "s3_input_validation = sagemaker.s3_input(s3_data=val_location, content_type='csv')"
   ]
  },
  {
   "cell_type": "code",
   "execution_count": 23,
   "metadata": {},
   "outputs": [
    {
     "name": "stdout",
     "output_type": "stream",
     "text": [
      "2020-05-03 23:19:22 Starting - Starting the training job...\n",
      "2020-05-03 23:19:23 Starting - Launching requested ML instances......\n",
      "2020-05-03 23:20:47 Starting - Preparing the instances for training......\n",
      "2020-05-03 23:21:40 Downloading - Downloading input data...\n",
      "2020-05-03 23:22:20 Training - Training image download completed. Training in progress..\u001b[34mArguments: train\u001b[0m\n",
      "\u001b[34m[2020-05-03:23:22:21:INFO] Running standalone xgboost training.\u001b[0m\n",
      "\u001b[34m[2020-05-03:23:22:21:INFO] File size need to be processed in the node: 238.5mb. Available memory size in the node: 8486.41mb\u001b[0m\n",
      "\u001b[34m[2020-05-03:23:22:21:INFO] Determined delimiter of CSV input is ','\u001b[0m\n",
      "\u001b[34m[23:22:21] S3DistributionType set as FullyReplicated\u001b[0m\n",
      "\u001b[34m[23:22:23] 15000x5000 matrix with 75000000 entries loaded from /opt/ml/input/data/train?format=csv&label_column=0&delimiter=,\u001b[0m\n",
      "\u001b[34m[2020-05-03:23:22:23:INFO] Determined delimiter of CSV input is ','\u001b[0m\n",
      "\u001b[34m[23:22:23] S3DistributionType set as FullyReplicated\u001b[0m\n",
      "\u001b[34m[23:22:24] 10000x5000 matrix with 50000000 entries loaded from /opt/ml/input/data/validation?format=csv&label_column=0&delimiter=,\u001b[0m\n",
      "\u001b[34m[23:22:27] src/tree/updater_prune.cc:74: tree pruning end, 1 roots, 42 extra nodes, 6 pruned nodes, max_depth=5\u001b[0m\n",
      "\u001b[34m[0]#011train-error:0.311133#011validation-error:0.3015\u001b[0m\n",
      "\u001b[34mMultiple eval metrics have been passed: 'validation-error' will be used for early stopping.\n",
      "\u001b[0m\n",
      "\u001b[34mWill train until validation-error hasn't improved in 10 rounds.\u001b[0m\n",
      "\u001b[34m[23:22:29] src/tree/updater_prune.cc:74: tree pruning end, 1 roots, 34 extra nodes, 18 pruned nodes, max_depth=5\u001b[0m\n",
      "\u001b[34m[1]#011train-error:0.308267#011validation-error:0.2969\u001b[0m\n",
      "\u001b[34m[23:22:30] src/tree/updater_prune.cc:74: tree pruning end, 1 roots, 38 extra nodes, 2 pruned nodes, max_depth=5\u001b[0m\n",
      "\u001b[34m[2]#011train-error:0.2952#011validation-error:0.287\u001b[0m\n",
      "\u001b[34m[23:22:32] src/tree/updater_prune.cc:74: tree pruning end, 1 roots, 34 extra nodes, 6 pruned nodes, max_depth=5\u001b[0m\n",
      "\u001b[34m[3]#011train-error:0.278667#011validation-error:0.2715\u001b[0m\n",
      "\u001b[34m[23:22:33] src/tree/updater_prune.cc:74: tree pruning end, 1 roots, 40 extra nodes, 6 pruned nodes, max_depth=5\u001b[0m\n",
      "\u001b[34m[4]#011train-error:0.275467#011validation-error:0.2705\u001b[0m\n",
      "\u001b[34m[23:22:34] src/tree/updater_prune.cc:74: tree pruning end, 1 roots, 34 extra nodes, 6 pruned nodes, max_depth=5\u001b[0m\n",
      "\u001b[34m[5]#011train-error:0.2614#011validation-error:0.2596\u001b[0m\n",
      "\u001b[34m[23:22:36] src/tree/updater_prune.cc:74: tree pruning end, 1 roots, 30 extra nodes, 4 pruned nodes, max_depth=5\u001b[0m\n",
      "\u001b[34m[6]#011train-error:0.244467#011validation-error:0.2472\u001b[0m\n",
      "\u001b[34m[23:22:37] src/tree/updater_prune.cc:74: tree pruning end, 1 roots, 38 extra nodes, 12 pruned nodes, max_depth=5\u001b[0m\n",
      "\u001b[34m[7]#011train-error:0.237467#011validation-error:0.2406\u001b[0m\n",
      "\u001b[34m[23:22:38] src/tree/updater_prune.cc:74: tree pruning end, 1 roots, 36 extra nodes, 8 pruned nodes, max_depth=5\u001b[0m\n",
      "\u001b[34m[8]#011train-error:0.233933#011validation-error:0.2381\u001b[0m\n",
      "\u001b[34m[23:22:39] src/tree/updater_prune.cc:74: tree pruning end, 1 roots, 28 extra nodes, 4 pruned nodes, max_depth=5\u001b[0m\n",
      "\u001b[34m[9]#011train-error:0.2288#011validation-error:0.2366\u001b[0m\n",
      "\u001b[34m[23:22:41] src/tree/updater_prune.cc:74: tree pruning end, 1 roots, 34 extra nodes, 8 pruned nodes, max_depth=5\u001b[0m\n",
      "\u001b[34m[10]#011train-error:0.224467#011validation-error:0.2337\u001b[0m\n",
      "\u001b[34m[23:22:42] src/tree/updater_prune.cc:74: tree pruning end, 1 roots, 26 extra nodes, 10 pruned nodes, max_depth=5\u001b[0m\n",
      "\u001b[34m[11]#011train-error:0.220733#011validation-error:0.229\u001b[0m\n",
      "\u001b[34m[23:22:43] src/tree/updater_prune.cc:74: tree pruning end, 1 roots, 24 extra nodes, 8 pruned nodes, max_depth=5\u001b[0m\n",
      "\u001b[34m[12]#011train-error:0.215867#011validation-error:0.2246\u001b[0m\n",
      "\u001b[34m[23:22:44] src/tree/updater_prune.cc:74: tree pruning end, 1 roots, 32 extra nodes, 6 pruned nodes, max_depth=5\u001b[0m\n",
      "\u001b[34m[13]#011train-error:0.2078#011validation-error:0.2193\u001b[0m\n",
      "\u001b[34m[23:22:46] src/tree/updater_prune.cc:74: tree pruning end, 1 roots, 36 extra nodes, 8 pruned nodes, max_depth=5\u001b[0m\n",
      "\u001b[34m[14]#011train-error:0.2052#011validation-error:0.217\u001b[0m\n",
      "\u001b[34m[23:22:47] src/tree/updater_prune.cc:74: tree pruning end, 1 roots, 38 extra nodes, 12 pruned nodes, max_depth=5\u001b[0m\n",
      "\u001b[34m[15]#011train-error:0.2006#011validation-error:0.2145\u001b[0m\n",
      "\u001b[34m[23:22:48] src/tree/updater_prune.cc:74: tree pruning end, 1 roots, 22 extra nodes, 10 pruned nodes, max_depth=5\u001b[0m\n",
      "\u001b[34m[16]#011train-error:0.199133#011validation-error:0.2114\u001b[0m\n",
      "\u001b[34m[23:22:50] src/tree/updater_prune.cc:74: tree pruning end, 1 roots, 26 extra nodes, 4 pruned nodes, max_depth=5\u001b[0m\n",
      "\u001b[34m[17]#011train-error:0.196667#011validation-error:0.2073\u001b[0m\n",
      "\u001b[34m[23:22:51] src/tree/updater_prune.cc:74: tree pruning end, 1 roots, 32 extra nodes, 4 pruned nodes, max_depth=5\u001b[0m\n",
      "\u001b[34m[18]#011train-error:0.194133#011validation-error:0.2066\u001b[0m\n",
      "\u001b[34m[23:22:52] src/tree/updater_prune.cc:74: tree pruning end, 1 roots, 34 extra nodes, 8 pruned nodes, max_depth=5\u001b[0m\n",
      "\u001b[34m[19]#011train-error:0.191933#011validation-error:0.2062\u001b[0m\n",
      "\u001b[34m[23:22:53] src/tree/updater_prune.cc:74: tree pruning end, 1 roots, 28 extra nodes, 10 pruned nodes, max_depth=5\u001b[0m\n",
      "\u001b[34m[20]#011train-error:0.191133#011validation-error:0.2059\u001b[0m\n",
      "\u001b[34m[23:22:55] src/tree/updater_prune.cc:74: tree pruning end, 1 roots, 30 extra nodes, 12 pruned nodes, max_depth=5\u001b[0m\n",
      "\u001b[34m[21]#011train-error:0.1878#011validation-error:0.2026\u001b[0m\n",
      "\u001b[34m[23:22:56] src/tree/updater_prune.cc:74: tree pruning end, 1 roots, 34 extra nodes, 10 pruned nodes, max_depth=5\u001b[0m\n",
      "\u001b[34m[22]#011train-error:0.1844#011validation-error:0.2001\u001b[0m\n",
      "\u001b[34m[23:22:57] src/tree/updater_prune.cc:74: tree pruning end, 1 roots, 24 extra nodes, 10 pruned nodes, max_depth=5\u001b[0m\n",
      "\u001b[34m[23]#011train-error:0.1824#011validation-error:0.1981\u001b[0m\n",
      "\u001b[34m[23:22:58] src/tree/updater_prune.cc:74: tree pruning end, 1 roots, 38 extra nodes, 10 pruned nodes, max_depth=5\u001b[0m\n",
      "\u001b[34m[24]#011train-error:0.179467#011validation-error:0.1955\u001b[0m\n",
      "\u001b[34m[23:23:00] src/tree/updater_prune.cc:74: tree pruning end, 1 roots, 30 extra nodes, 6 pruned nodes, max_depth=5\u001b[0m\n",
      "\u001b[34m[25]#011train-error:0.1764#011validation-error:0.1943\u001b[0m\n",
      "\u001b[34m[23:23:01] src/tree/updater_prune.cc:74: tree pruning end, 1 roots, 36 extra nodes, 12 pruned nodes, max_depth=5\u001b[0m\n",
      "\u001b[34m[26]#011train-error:0.1734#011validation-error:0.1932\u001b[0m\n",
      "\u001b[34m[23:23:02] src/tree/updater_prune.cc:74: tree pruning end, 1 roots, 26 extra nodes, 4 pruned nodes, max_depth=5\u001b[0m\n",
      "\u001b[34m[27]#011train-error:0.1718#011validation-error:0.1936\u001b[0m\n",
      "\u001b[34m[23:23:04] src/tree/updater_prune.cc:74: tree pruning end, 1 roots, 22 extra nodes, 8 pruned nodes, max_depth=5\u001b[0m\n",
      "\u001b[34m[28]#011train-error:0.170867#011validation-error:0.1908\u001b[0m\n",
      "\u001b[34m[23:23:05] src/tree/updater_prune.cc:74: tree pruning end, 1 roots, 20 extra nodes, 10 pruned nodes, max_depth=5\u001b[0m\n",
      "\u001b[34m[29]#011train-error:0.169133#011validation-error:0.1898\u001b[0m\n",
      "\u001b[34m[23:23:06] src/tree/updater_prune.cc:74: tree pruning end, 1 roots, 28 extra nodes, 10 pruned nodes, max_depth=5\u001b[0m\n",
      "\u001b[34m[30]#011train-error:0.1668#011validation-error:0.1886\u001b[0m\n",
      "\u001b[34m[23:23:07] src/tree/updater_prune.cc:74: tree pruning end, 1 roots, 26 extra nodes, 12 pruned nodes, max_depth=5\u001b[0m\n",
      "\u001b[34m[31]#011train-error:0.164733#011validation-error:0.1888\u001b[0m\n",
      "\u001b[34m[23:23:09] src/tree/updater_prune.cc:74: tree pruning end, 1 roots, 18 extra nodes, 10 pruned nodes, max_depth=5\u001b[0m\n",
      "\u001b[34m[32]#011train-error:0.164#011validation-error:0.1891\u001b[0m\n",
      "\u001b[34m[23:23:10] src/tree/updater_prune.cc:74: tree pruning end, 1 roots, 20 extra nodes, 14 pruned nodes, max_depth=5\u001b[0m\n",
      "\u001b[34m[33]#011train-error:0.162533#011validation-error:0.1892\u001b[0m\n",
      "\u001b[34m[23:23:11] src/tree/updater_prune.cc:74: tree pruning end, 1 roots, 20 extra nodes, 6 pruned nodes, max_depth=5\u001b[0m\n",
      "\u001b[34m[34]#011train-error:0.160533#011validation-error:0.1884\u001b[0m\n",
      "\u001b[34m[23:23:12] src/tree/updater_prune.cc:74: tree pruning end, 1 roots, 34 extra nodes, 12 pruned nodes, max_depth=5\u001b[0m\n",
      "\u001b[34m[35]#011train-error:0.159333#011validation-error:0.1882\u001b[0m\n",
      "\u001b[34m[23:23:14] src/tree/updater_prune.cc:74: tree pruning end, 1 roots, 26 extra nodes, 8 pruned nodes, max_depth=5\u001b[0m\n",
      "\u001b[34m[36]#011train-error:0.1578#011validation-error:0.1872\u001b[0m\n",
      "\u001b[34m[23:23:15] src/tree/updater_prune.cc:74: tree pruning end, 1 roots, 26 extra nodes, 12 pruned nodes, max_depth=5\u001b[0m\n",
      "\u001b[34m[37]#011train-error:0.1572#011validation-error:0.1856\u001b[0m\n",
      "\u001b[34m[23:23:16] src/tree/updater_prune.cc:74: tree pruning end, 1 roots, 24 extra nodes, 14 pruned nodes, max_depth=5\u001b[0m\n",
      "\u001b[34m[38]#011train-error:0.1564#011validation-error:0.1831\u001b[0m\n",
      "\u001b[34m[23:23:18] src/tree/updater_prune.cc:74: tree pruning end, 1 roots, 20 extra nodes, 10 pruned nodes, max_depth=5\u001b[0m\n",
      "\u001b[34m[39]#011train-error:0.153667#011validation-error:0.1829\u001b[0m\n",
      "\u001b[34m[23:23:19] src/tree/updater_prune.cc:74: tree pruning end, 1 roots, 18 extra nodes, 10 pruned nodes, max_depth=5\u001b[0m\n",
      "\u001b[34m[40]#011train-error:0.153133#011validation-error:0.1822\u001b[0m\n",
      "\u001b[34m[23:23:20] src/tree/updater_prune.cc:74: tree pruning end, 1 roots, 28 extra nodes, 4 pruned nodes, max_depth=5\u001b[0m\n",
      "\u001b[34m[41]#011train-error:0.150667#011validation-error:0.1827\u001b[0m\n",
      "\u001b[34m[23:23:21] src/tree/updater_prune.cc:74: tree pruning end, 1 roots, 24 extra nodes, 8 pruned nodes, max_depth=5\u001b[0m\n",
      "\u001b[34m[42]#011train-error:0.15#011validation-error:0.1821\u001b[0m\n",
      "\u001b[34m[23:23:23] src/tree/updater_prune.cc:74: tree pruning end, 1 roots, 18 extra nodes, 8 pruned nodes, max_depth=5\u001b[0m\n",
      "\u001b[34m[43]#011train-error:0.1492#011validation-error:0.1803\u001b[0m\n",
      "\u001b[34m[23:23:24] src/tree/updater_prune.cc:74: tree pruning end, 1 roots, 18 extra nodes, 10 pruned nodes, max_depth=5\u001b[0m\n",
      "\u001b[34m[44]#011train-error:0.1472#011validation-error:0.1794\u001b[0m\n",
      "\u001b[34m[23:23:25] src/tree/updater_prune.cc:74: tree pruning end, 1 roots, 22 extra nodes, 8 pruned nodes, max_depth=5\u001b[0m\n",
      "\u001b[34m[45]#011train-error:0.1458#011validation-error:0.1792\u001b[0m\n",
      "\u001b[34m[23:23:26] src/tree/updater_prune.cc:74: tree pruning end, 1 roots, 36 extra nodes, 6 pruned nodes, max_depth=5\u001b[0m\n",
      "\u001b[34m[46]#011train-error:0.145267#011validation-error:0.1786\u001b[0m\n",
      "\u001b[34m[23:23:28] src/tree/updater_prune.cc:74: tree pruning end, 1 roots, 32 extra nodes, 6 pruned nodes, max_depth=5\u001b[0m\n",
      "\u001b[34m[47]#011train-error:0.143333#011validation-error:0.1782\u001b[0m\n",
      "\u001b[34m[23:23:29] src/tree/updater_prune.cc:74: tree pruning end, 1 roots, 18 extra nodes, 18 pruned nodes, max_depth=5\u001b[0m\n",
      "\u001b[34m[48]#011train-error:0.143#011validation-error:0.1776\u001b[0m\n",
      "\u001b[34m[23:23:30] src/tree/updater_prune.cc:74: tree pruning end, 1 roots, 22 extra nodes, 6 pruned nodes, max_depth=5\u001b[0m\n",
      "\u001b[34m[49]#011train-error:0.141667#011validation-error:0.1779\u001b[0m\n",
      "\u001b[34m[23:23:31] src/tree/updater_prune.cc:74: tree pruning end, 1 roots, 16 extra nodes, 2 pruned nodes, max_depth=5\u001b[0m\n",
      "\u001b[34m[50]#011train-error:0.141333#011validation-error:0.1758\u001b[0m\n",
      "\u001b[34m[23:23:33] src/tree/updater_prune.cc:74: tree pruning end, 1 roots, 34 extra nodes, 6 pruned nodes, max_depth=5\u001b[0m\n",
      "\u001b[34m[51]#011train-error:0.1382#011validation-error:0.1753\u001b[0m\n",
      "\u001b[34m[23:23:34] src/tree/updater_prune.cc:74: tree pruning end, 1 roots, 22 extra nodes, 12 pruned nodes, max_depth=5\u001b[0m\n",
      "\u001b[34m[52]#011train-error:0.137467#011validation-error:0.1742\u001b[0m\n",
      "\u001b[34m[23:23:35] src/tree/updater_prune.cc:74: tree pruning end, 1 roots, 12 extra nodes, 6 pruned nodes, max_depth=5\u001b[0m\n",
      "\u001b[34m[53]#011train-error:0.136533#011validation-error:0.173\u001b[0m\n",
      "\u001b[34m[23:23:36] src/tree/updater_prune.cc:74: tree pruning end, 1 roots, 32 extra nodes, 2 pruned nodes, max_depth=5\u001b[0m\n",
      "\u001b[34m[54]#011train-error:0.137267#011validation-error:0.1733\u001b[0m\n",
      "\u001b[34m[23:23:38] src/tree/updater_prune.cc:74: tree pruning end, 1 roots, 16 extra nodes, 10 pruned nodes, max_depth=5\u001b[0m\n",
      "\u001b[34m[55]#011train-error:0.134933#011validation-error:0.1733\u001b[0m\n",
      "\u001b[34m[23:23:39] src/tree/updater_prune.cc:74: tree pruning end, 1 roots, 14 extra nodes, 14 pruned nodes, max_depth=5\u001b[0m\n",
      "\u001b[34m[56]#011train-error:0.134533#011validation-error:0.1731\u001b[0m\n",
      "\u001b[34m[23:23:40] src/tree/updater_prune.cc:74: tree pruning end, 1 roots, 14 extra nodes, 14 pruned nodes, max_depth=5\u001b[0m\n",
      "\u001b[34m[57]#011train-error:0.133533#011validation-error:0.1717\u001b[0m\n",
      "\u001b[34m[23:23:42] src/tree/updater_prune.cc:74: tree pruning end, 1 roots, 26 extra nodes, 16 pruned nodes, max_depth=5\u001b[0m\n",
      "\u001b[34m[58]#011train-error:0.132867#011validation-error:0.171\u001b[0m\n",
      "\u001b[34m[23:23:43] src/tree/updater_prune.cc:74: tree pruning end, 1 roots, 30 extra nodes, 8 pruned nodes, max_depth=5\u001b[0m\n",
      "\u001b[34m[59]#011train-error:0.131933#011validation-error:0.172\u001b[0m\n",
      "\u001b[34m[23:23:44] src/tree/updater_prune.cc:74: tree pruning end, 1 roots, 18 extra nodes, 14 pruned nodes, max_depth=5\u001b[0m\n",
      "\u001b[34m[60]#011train-error:0.131267#011validation-error:0.1718\u001b[0m\n",
      "\u001b[34m[23:23:45] src/tree/updater_prune.cc:74: tree pruning end, 1 roots, 30 extra nodes, 6 pruned nodes, max_depth=5\u001b[0m\n",
      "\u001b[34m[61]#011train-error:0.1304#011validation-error:0.1714\u001b[0m\n",
      "\u001b[34m[23:23:47] src/tree/updater_prune.cc:74: tree pruning end, 1 roots, 16 extra nodes, 14 pruned nodes, max_depth=5\u001b[0m\n",
      "\u001b[34m[62]#011train-error:0.129933#011validation-error:0.1704\u001b[0m\n",
      "\u001b[34m[23:23:48] src/tree/updater_prune.cc:74: tree pruning end, 1 roots, 20 extra nodes, 4 pruned nodes, max_depth=5\u001b[0m\n",
      "\u001b[34m[63]#011train-error:0.128133#011validation-error:0.169\u001b[0m\n",
      "\u001b[34m[23:23:49] src/tree/updater_prune.cc:74: tree pruning end, 1 roots, 26 extra nodes, 4 pruned nodes, max_depth=5\u001b[0m\n",
      "\u001b[34m[64]#011train-error:0.126867#011validation-error:0.1687\u001b[0m\n",
      "\u001b[34m[23:23:50] src/tree/updater_prune.cc:74: tree pruning end, 1 roots, 18 extra nodes, 10 pruned nodes, max_depth=5\u001b[0m\n",
      "\u001b[34m[65]#011train-error:0.126133#011validation-error:0.1674\u001b[0m\n",
      "\u001b[34m[23:23:52] src/tree/updater_prune.cc:74: tree pruning end, 1 roots, 20 extra nodes, 10 pruned nodes, max_depth=5\u001b[0m\n",
      "\u001b[34m[66]#011train-error:0.125067#011validation-error:0.1677\u001b[0m\n",
      "\u001b[34m[23:23:53] src/tree/updater_prune.cc:74: tree pruning end, 1 roots, 24 extra nodes, 18 pruned nodes, max_depth=5\u001b[0m\n",
      "\u001b[34m[67]#011train-error:0.124267#011validation-error:0.1666\u001b[0m\n",
      "\u001b[34m[23:23:54] src/tree/updater_prune.cc:74: tree pruning end, 1 roots, 18 extra nodes, 10 pruned nodes, max_depth=5\u001b[0m\n",
      "\u001b[34m[68]#011train-error:0.123533#011validation-error:0.1663\u001b[0m\n",
      "\u001b[34m[23:23:55] src/tree/updater_prune.cc:74: tree pruning end, 1 roots, 28 extra nodes, 8 pruned nodes, max_depth=5\u001b[0m\n",
      "\u001b[34m[69]#011train-error:0.122133#011validation-error:0.1664\u001b[0m\n",
      "\u001b[34m[23:23:57] src/tree/updater_prune.cc:74: tree pruning end, 1 roots, 18 extra nodes, 4 pruned nodes, max_depth=5\u001b[0m\n",
      "\u001b[34m[70]#011train-error:0.121867#011validation-error:0.1657\u001b[0m\n",
      "\u001b[34m[23:23:58] src/tree/updater_prune.cc:74: tree pruning end, 1 roots, 20 extra nodes, 16 pruned nodes, max_depth=5\u001b[0m\n",
      "\u001b[34m[71]#011train-error:0.1206#011validation-error:0.1645\u001b[0m\n",
      "\u001b[34m[23:23:59] src/tree/updater_prune.cc:74: tree pruning end, 1 roots, 10 extra nodes, 10 pruned nodes, max_depth=5\u001b[0m\n",
      "\u001b[34m[72]#011train-error:0.1202#011validation-error:0.1645\u001b[0m\n",
      "\u001b[34m[23:24:01] src/tree/updater_prune.cc:74: tree pruning end, 1 roots, 18 extra nodes, 10 pruned nodes, max_depth=5\u001b[0m\n",
      "\u001b[34m[73]#011train-error:0.119867#011validation-error:0.1643\u001b[0m\n",
      "\u001b[34m[23:24:02] src/tree/updater_prune.cc:74: tree pruning end, 1 roots, 24 extra nodes, 6 pruned nodes, max_depth=5\u001b[0m\n",
      "\u001b[34m[74]#011train-error:0.119467#011validation-error:0.1631\u001b[0m\n",
      "\u001b[34m[23:24:03] src/tree/updater_prune.cc:74: tree pruning end, 1 roots, 16 extra nodes, 10 pruned nodes, max_depth=5\u001b[0m\n",
      "\u001b[34m[75]#011train-error:0.118267#011validation-error:0.1627\u001b[0m\n",
      "\u001b[34m[23:24:04] src/tree/updater_prune.cc:74: tree pruning end, 1 roots, 14 extra nodes, 10 pruned nodes, max_depth=5\u001b[0m\n",
      "\u001b[34m[76]#011train-error:0.117#011validation-error:0.1623\u001b[0m\n",
      "\u001b[34m[23:24:06] src/tree/updater_prune.cc:74: tree pruning end, 1 roots, 10 extra nodes, 4 pruned nodes, max_depth=5\u001b[0m\n",
      "\u001b[34m[77]#011train-error:0.1166#011validation-error:0.1613\u001b[0m\n",
      "\u001b[34m[23:24:07] src/tree/updater_prune.cc:74: tree pruning end, 1 roots, 20 extra nodes, 12 pruned nodes, max_depth=5\u001b[0m\n",
      "\u001b[34m[78]#011train-error:0.115867#011validation-error:0.1617\u001b[0m\n",
      "\u001b[34m[23:24:08] src/tree/updater_prune.cc:74: tree pruning end, 1 roots, 30 extra nodes, 14 pruned nodes, max_depth=5\u001b[0m\n",
      "\u001b[34m[79]#011train-error:0.115533#011validation-error:0.1605\u001b[0m\n",
      "\u001b[34m[23:24:09] src/tree/updater_prune.cc:74: tree pruning end, 1 roots, 12 extra nodes, 4 pruned nodes, max_depth=5\u001b[0m\n",
      "\u001b[34m[80]#011train-error:0.115267#011validation-error:0.1599\u001b[0m\n",
      "\u001b[34m[23:24:11] src/tree/updater_prune.cc:74: tree pruning end, 1 roots, 14 extra nodes, 4 pruned nodes, max_depth=5\u001b[0m\n",
      "\u001b[34m[81]#011train-error:0.1142#011validation-error:0.1606\u001b[0m\n",
      "\u001b[34m[23:24:12] src/tree/updater_prune.cc:74: tree pruning end, 1 roots, 22 extra nodes, 8 pruned nodes, max_depth=5\u001b[0m\n",
      "\u001b[34m[82]#011train-error:0.1134#011validation-error:0.1599\u001b[0m\n",
      "\u001b[34m[23:24:13] src/tree/updater_prune.cc:74: tree pruning end, 1 roots, 16 extra nodes, 10 pruned nodes, max_depth=5\u001b[0m\n",
      "\u001b[34m[83]#011train-error:0.112733#011validation-error:0.1603\u001b[0m\n",
      "\u001b[34m[23:24:15] src/tree/updater_prune.cc:74: tree pruning end, 1 roots, 22 extra nodes, 8 pruned nodes, max_depth=5\u001b[0m\n",
      "\u001b[34m[84]#011train-error:0.111333#011validation-error:0.1592\u001b[0m\n",
      "\u001b[34m[23:24:16] src/tree/updater_prune.cc:74: tree pruning end, 1 roots, 28 extra nodes, 4 pruned nodes, max_depth=5\u001b[0m\n",
      "\u001b[34m[85]#011train-error:0.110733#011validation-error:0.1587\u001b[0m\n",
      "\u001b[34m[23:24:17] src/tree/updater_prune.cc:74: tree pruning end, 1 roots, 24 extra nodes, 2 pruned nodes, max_depth=5\u001b[0m\n",
      "\u001b[34m[86]#011train-error:0.109867#011validation-error:0.1591\u001b[0m\n",
      "\u001b[34m[23:24:18] src/tree/updater_prune.cc:74: tree pruning end, 1 roots, 18 extra nodes, 10 pruned nodes, max_depth=5\u001b[0m\n",
      "\u001b[34m[87]#011train-error:0.1092#011validation-error:0.1586\u001b[0m\n",
      "\u001b[34m[23:24:20] src/tree/updater_prune.cc:74: tree pruning end, 1 roots, 20 extra nodes, 6 pruned nodes, max_depth=5\u001b[0m\n",
      "\u001b[34m[88]#011train-error:0.108467#011validation-error:0.1582\u001b[0m\n",
      "\u001b[34m[23:24:21] src/tree/updater_prune.cc:74: tree pruning end, 1 roots, 18 extra nodes, 10 pruned nodes, max_depth=5\u001b[0m\n",
      "\u001b[34m[89]#011train-error:0.108067#011validation-error:0.1581\u001b[0m\n",
      "\u001b[34m[23:24:22] src/tree/updater_prune.cc:74: tree pruning end, 1 roots, 20 extra nodes, 12 pruned nodes, max_depth=5\u001b[0m\n",
      "\u001b[34m[90]#011train-error:0.107667#011validation-error:0.1564\u001b[0m\n",
      "\u001b[34m[23:24:23] src/tree/updater_prune.cc:74: tree pruning end, 1 roots, 12 extra nodes, 4 pruned nodes, max_depth=5\u001b[0m\n",
      "\u001b[34m[91]#011train-error:0.106867#011validation-error:0.1556\u001b[0m\n",
      "\u001b[34m[23:24:25] src/tree/updater_prune.cc:74: tree pruning end, 1 roots, 22 extra nodes, 8 pruned nodes, max_depth=5\u001b[0m\n",
      "\u001b[34m[92]#011train-error:0.106267#011validation-error:0.1554\u001b[0m\n",
      "\u001b[34m[23:24:26] src/tree/updater_prune.cc:74: tree pruning end, 1 roots, 20 extra nodes, 12 pruned nodes, max_depth=5\u001b[0m\n",
      "\u001b[34m[93]#011train-error:0.1054#011validation-error:0.1544\u001b[0m\n",
      "\u001b[34m[23:24:27] src/tree/updater_prune.cc:74: tree pruning end, 1 roots, 12 extra nodes, 4 pruned nodes, max_depth=5\u001b[0m\n",
      "\u001b[34m[94]#011train-error:0.1054#011validation-error:0.1545\u001b[0m\n",
      "\u001b[34m[23:24:28] src/tree/updater_prune.cc:74: tree pruning end, 1 roots, 16 extra nodes, 6 pruned nodes, max_depth=5\u001b[0m\n",
      "\u001b[34m[95]#011train-error:0.104733#011validation-error:0.154\u001b[0m\n",
      "\u001b[34m[23:24:30] src/tree/updater_prune.cc:74: tree pruning end, 1 roots, 18 extra nodes, 6 pruned nodes, max_depth=5\u001b[0m\n",
      "\u001b[34m[96]#011train-error:0.104067#011validation-error:0.153\u001b[0m\n",
      "\u001b[34m[23:24:31] src/tree/updater_prune.cc:74: tree pruning end, 1 roots, 10 extra nodes, 14 pruned nodes, max_depth=5\u001b[0m\n",
      "\u001b[34m[97]#011train-error:0.104267#011validation-error:0.1523\u001b[0m\n",
      "\u001b[34m[23:24:32] src/tree/updater_prune.cc:74: tree pruning end, 1 roots, 16 extra nodes, 4 pruned nodes, max_depth=5\u001b[0m\n",
      "\u001b[34m[98]#011train-error:0.104067#011validation-error:0.1523\u001b[0m\n",
      "\u001b[34m[23:24:33] src/tree/updater_prune.cc:74: tree pruning end, 1 roots, 28 extra nodes, 2 pruned nodes, max_depth=5\u001b[0m\n",
      "\u001b[34m[99]#011train-error:0.103467#011validation-error:0.1524\u001b[0m\n",
      "\u001b[34m[23:24:35] src/tree/updater_prune.cc:74: tree pruning end, 1 roots, 20 extra nodes, 4 pruned nodes, max_depth=5\u001b[0m\n",
      "\u001b[34m[100]#011train-error:0.103333#011validation-error:0.1523\u001b[0m\n",
      "\u001b[34m[23:24:36] src/tree/updater_prune.cc:74: tree pruning end, 1 roots, 10 extra nodes, 10 pruned nodes, max_depth=5\u001b[0m\n",
      "\u001b[34m[101]#011train-error:0.102733#011validation-error:0.1518\u001b[0m\n",
      "\u001b[34m[23:24:37] src/tree/updater_prune.cc:74: tree pruning end, 1 roots, 18 extra nodes, 4 pruned nodes, max_depth=5\u001b[0m\n",
      "\u001b[34m[102]#011train-error:0.102267#011validation-error:0.1509\u001b[0m\n",
      "\u001b[34m[23:24:39] src/tree/updater_prune.cc:74: tree pruning end, 1 roots, 12 extra nodes, 6 pruned nodes, max_depth=5\u001b[0m\n",
      "\u001b[34m[103]#011train-error:0.1022#011validation-error:0.1506\u001b[0m\n",
      "\u001b[34m[23:24:40] src/tree/updater_prune.cc:74: tree pruning end, 1 roots, 12 extra nodes, 8 pruned nodes, max_depth=5\u001b[0m\n",
      "\u001b[34m[104]#011train-error:0.102667#011validation-error:0.1507\u001b[0m\n",
      "\u001b[34m[23:24:41] src/tree/updater_prune.cc:74: tree pruning end, 1 roots, 26 extra nodes, 8 pruned nodes, max_depth=5\u001b[0m\n",
      "\u001b[34m[105]#011train-error:0.1028#011validation-error:0.1504\u001b[0m\n",
      "\u001b[34m[23:24:42] src/tree/updater_prune.cc:74: tree pruning end, 1 roots, 18 extra nodes, 12 pruned nodes, max_depth=5\u001b[0m\n",
      "\u001b[34m[106]#011train-error:0.101333#011validation-error:0.1507\u001b[0m\n",
      "\u001b[34m[23:24:44] src/tree/updater_prune.cc:74: tree pruning end, 1 roots, 22 extra nodes, 8 pruned nodes, max_depth=5\u001b[0m\n",
      "\u001b[34m[107]#011train-error:0.100667#011validation-error:0.1514\u001b[0m\n",
      "\u001b[34m[23:24:45] src/tree/updater_prune.cc:74: tree pruning end, 1 roots, 16 extra nodes, 6 pruned nodes, max_depth=5\u001b[0m\n",
      "\u001b[34m[108]#011train-error:0.100667#011validation-error:0.1508\u001b[0m\n",
      "\u001b[34m[23:24:46] src/tree/updater_prune.cc:74: tree pruning end, 1 roots, 16 extra nodes, 6 pruned nodes, max_depth=5\u001b[0m\n",
      "\u001b[34m[109]#011train-error:0.100267#011validation-error:0.1503\u001b[0m\n",
      "\u001b[34m[23:24:48] src/tree/updater_prune.cc:74: tree pruning end, 1 roots, 20 extra nodes, 6 pruned nodes, max_depth=5\u001b[0m\n",
      "\u001b[34m[110]#011train-error:0.1008#011validation-error:0.1495\u001b[0m\n",
      "\u001b[34m[23:24:49] src/tree/updater_prune.cc:74: tree pruning end, 1 roots, 32 extra nodes, 12 pruned nodes, max_depth=5\u001b[0m\n",
      "\u001b[34m[111]#011train-error:0.099667#011validation-error:0.1488\u001b[0m\n",
      "\u001b[34m[23:24:50] src/tree/updater_prune.cc:74: tree pruning end, 1 roots, 12 extra nodes, 4 pruned nodes, max_depth=5\u001b[0m\n",
      "\u001b[34m[112]#011train-error:0.099467#011validation-error:0.1493\u001b[0m\n",
      "\u001b[34m[23:24:51] src/tree/updater_prune.cc:74: tree pruning end, 1 roots, 22 extra nodes, 8 pruned nodes, max_depth=5\u001b[0m\n",
      "\u001b[34m[113]#011train-error:0.098533#011validation-error:0.1483\u001b[0m\n",
      "\u001b[34m[23:24:53] src/tree/updater_prune.cc:74: tree pruning end, 1 roots, 20 extra nodes, 20 pruned nodes, max_depth=5\u001b[0m\n",
      "\u001b[34m[114]#011train-error:0.098267#011validation-error:0.1475\u001b[0m\n",
      "\u001b[34m[23:24:54] src/tree/updater_prune.cc:74: tree pruning end, 1 roots, 12 extra nodes, 4 pruned nodes, max_depth=5\u001b[0m\n",
      "\u001b[34m[115]#011train-error:0.097867#011validation-error:0.1471\u001b[0m\n",
      "\u001b[34m[23:24:55] src/tree/updater_prune.cc:74: tree pruning end, 1 roots, 12 extra nodes, 4 pruned nodes, max_depth=5\u001b[0m\n",
      "\u001b[34m[116]#011train-error:0.097467#011validation-error:0.1471\u001b[0m\n",
      "\u001b[34m[23:24:56] src/tree/updater_prune.cc:74: tree pruning end, 1 roots, 20 extra nodes, 6 pruned nodes, max_depth=5\u001b[0m\n",
      "\u001b[34m[117]#011train-error:0.097267#011validation-error:0.1472\u001b[0m\n",
      "\u001b[34m[23:24:58] src/tree/updater_prune.cc:74: tree pruning end, 1 roots, 18 extra nodes, 10 pruned nodes, max_depth=5\u001b[0m\n",
      "\u001b[34m[118]#011train-error:0.096733#011validation-error:0.1462\u001b[0m\n",
      "\u001b[34m[23:24:59] src/tree/updater_prune.cc:74: tree pruning end, 1 roots, 24 extra nodes, 8 pruned nodes, max_depth=5\u001b[0m\n",
      "\u001b[34m[119]#011train-error:0.095867#011validation-error:0.1463\u001b[0m\n",
      "\u001b[34m[23:25:00] src/tree/updater_prune.cc:74: tree pruning end, 1 roots, 16 extra nodes, 16 pruned nodes, max_depth=5\u001b[0m\n",
      "\u001b[34m[120]#011train-error:0.096#011validation-error:0.1462\u001b[0m\n",
      "\u001b[34m[23:25:01] src/tree/updater_prune.cc:74: tree pruning end, 1 roots, 14 extra nodes, 4 pruned nodes, max_depth=5\u001b[0m\n",
      "\u001b[34m[121]#011train-error:0.095467#011validation-error:0.1459\u001b[0m\n",
      "\u001b[34m[23:25:03] src/tree/updater_prune.cc:74: tree pruning end, 1 roots, 18 extra nodes, 8 pruned nodes, max_depth=5\u001b[0m\n",
      "\u001b[34m[122]#011train-error:0.0948#011validation-error:0.1458\u001b[0m\n",
      "\u001b[34m[23:25:04] src/tree/updater_prune.cc:74: tree pruning end, 1 roots, 26 extra nodes, 8 pruned nodes, max_depth=5\u001b[0m\n",
      "\u001b[34m[123]#011train-error:0.094467#011validation-error:0.1443\u001b[0m\n",
      "\u001b[34m[23:25:05] src/tree/updater_prune.cc:74: tree pruning end, 1 roots, 12 extra nodes, 10 pruned nodes, max_depth=5\u001b[0m\n",
      "\u001b[34m[124]#011train-error:0.0944#011validation-error:0.1443\u001b[0m\n",
      "\u001b[34m[23:25:07] src/tree/updater_prune.cc:74: tree pruning end, 1 roots, 12 extra nodes, 18 pruned nodes, max_depth=5\u001b[0m\n",
      "\u001b[34m[125]#011train-error:0.094467#011validation-error:0.1449\u001b[0m\n",
      "\u001b[34m[23:25:08] src/tree/updater_prune.cc:74: tree pruning end, 1 roots, 26 extra nodes, 8 pruned nodes, max_depth=5\u001b[0m\n",
      "\u001b[34m[126]#011train-error:0.0938#011validation-error:0.1445\u001b[0m\n",
      "\u001b[34m[23:25:09] src/tree/updater_prune.cc:74: tree pruning end, 1 roots, 12 extra nodes, 2 pruned nodes, max_depth=5\u001b[0m\n",
      "\u001b[34m[127]#011train-error:0.093733#011validation-error:0.1441\u001b[0m\n",
      "\u001b[34m[23:25:10] src/tree/updater_prune.cc:74: tree pruning end, 1 roots, 12 extra nodes, 6 pruned nodes, max_depth=5\u001b[0m\n",
      "\u001b[34m[128]#011train-error:0.093333#011validation-error:0.1438\u001b[0m\n",
      "\u001b[34m[23:25:12] src/tree/updater_prune.cc:74: tree pruning end, 1 roots, 24 extra nodes, 10 pruned nodes, max_depth=5\u001b[0m\n",
      "\u001b[34m[129]#011train-error:0.092733#011validation-error:0.1443\u001b[0m\n",
      "\u001b[34m[23:25:13] src/tree/updater_prune.cc:74: tree pruning end, 1 roots, 14 extra nodes, 12 pruned nodes, max_depth=5\u001b[0m\n",
      "\u001b[34m[130]#011train-error:0.0922#011validation-error:0.1445\u001b[0m\n",
      "\u001b[34m[23:25:14] src/tree/updater_prune.cc:74: tree pruning end, 1 roots, 34 extra nodes, 6 pruned nodes, max_depth=5\u001b[0m\n",
      "\u001b[34m[131]#011train-error:0.0912#011validation-error:0.1432\u001b[0m\n",
      "\u001b[34m[23:25:16] src/tree/updater_prune.cc:74: tree pruning end, 1 roots, 22 extra nodes, 6 pruned nodes, max_depth=5\u001b[0m\n",
      "\u001b[34m[132]#011train-error:0.090333#011validation-error:0.1426\u001b[0m\n",
      "\u001b[34m[23:25:17] src/tree/updater_prune.cc:74: tree pruning end, 1 roots, 10 extra nodes, 4 pruned nodes, max_depth=5\u001b[0m\n",
      "\u001b[34m[133]#011train-error:0.090133#011validation-error:0.1426\u001b[0m\n",
      "\u001b[34m[23:25:18] src/tree/updater_prune.cc:74: tree pruning end, 1 roots, 14 extra nodes, 6 pruned nodes, max_depth=5\u001b[0m\n",
      "\u001b[34m[134]#011train-error:0.0898#011validation-error:0.1424\u001b[0m\n",
      "\u001b[34m[23:25:19] src/tree/updater_prune.cc:74: tree pruning end, 1 roots, 26 extra nodes, 8 pruned nodes, max_depth=5\u001b[0m\n",
      "\u001b[34m[135]#011train-error:0.089133#011validation-error:0.1425\u001b[0m\n",
      "\u001b[34m[23:25:21] src/tree/updater_prune.cc:74: tree pruning end, 1 roots, 10 extra nodes, 0 pruned nodes, max_depth=5\u001b[0m\n",
      "\u001b[34m[136]#011train-error:0.089067#011validation-error:0.1416\u001b[0m\n",
      "\u001b[34m[23:25:22] src/tree/updater_prune.cc:74: tree pruning end, 1 roots, 20 extra nodes, 6 pruned nodes, max_depth=5\u001b[0m\n",
      "\u001b[34m[137]#011train-error:0.0888#011validation-error:0.1412\u001b[0m\n",
      "\u001b[34m[23:25:23] src/tree/updater_prune.cc:74: tree pruning end, 1 roots, 12 extra nodes, 8 pruned nodes, max_depth=5\u001b[0m\n",
      "\u001b[34m[138]#011train-error:0.088667#011validation-error:0.1405\u001b[0m\n",
      "\u001b[34m[23:25:24] src/tree/updater_prune.cc:74: tree pruning end, 1 roots, 20 extra nodes, 8 pruned nodes, max_depth=5\u001b[0m\n",
      "\u001b[34m[139]#011train-error:0.088333#011validation-error:0.1409\u001b[0m\n",
      "\u001b[34m[23:25:26] src/tree/updater_prune.cc:74: tree pruning end, 1 roots, 28 extra nodes, 16 pruned nodes, max_depth=5\u001b[0m\n",
      "\u001b[34m[140]#011train-error:0.088067#011validation-error:0.1428\u001b[0m\n",
      "\u001b[34m[23:25:27] src/tree/updater_prune.cc:74: tree pruning end, 1 roots, 16 extra nodes, 4 pruned nodes, max_depth=5\u001b[0m\n",
      "\u001b[34m[141]#011train-error:0.088#011validation-error:0.1422\u001b[0m\n",
      "\u001b[34m[23:25:28] src/tree/updater_prune.cc:74: tree pruning end, 1 roots, 10 extra nodes, 8 pruned nodes, max_depth=5\u001b[0m\n",
      "\u001b[34m[142]#011train-error:0.0876#011validation-error:0.1415\u001b[0m\n",
      "\u001b[34m[23:25:29] src/tree/updater_prune.cc:74: tree pruning end, 1 roots, 16 extra nodes, 6 pruned nodes, max_depth=5\u001b[0m\n",
      "\u001b[34m[143]#011train-error:0.086933#011validation-error:0.1416\u001b[0m\n",
      "\u001b[34m[23:25:31] src/tree/updater_prune.cc:74: tree pruning end, 1 roots, 10 extra nodes, 4 pruned nodes, max_depth=5\u001b[0m\n",
      "\u001b[34m[144]#011train-error:0.0868#011validation-error:0.1416\u001b[0m\n",
      "\u001b[34m[23:25:32] src/tree/updater_prune.cc:74: tree pruning end, 1 roots, 12 extra nodes, 4 pruned nodes, max_depth=5\u001b[0m\n",
      "\u001b[34m[145]#011train-error:0.0868#011validation-error:0.1416\u001b[0m\n",
      "\u001b[34m[23:25:33] src/tree/updater_prune.cc:74: tree pruning end, 1 roots, 32 extra nodes, 14 pruned nodes, max_depth=5\u001b[0m\n",
      "\u001b[34m[146]#011train-error:0.085667#011validation-error:0.1413\u001b[0m\n",
      "\u001b[34m[23:25:34] src/tree/updater_prune.cc:74: tree pruning end, 1 roots, 12 extra nodes, 12 pruned nodes, max_depth=5\u001b[0m\n",
      "\u001b[34m[147]#011train-error:0.085733#011validation-error:0.1408\u001b[0m\n",
      "\u001b[34m[23:25:36] src/tree/updater_prune.cc:74: tree pruning end, 1 roots, 22 extra nodes, 12 pruned nodes, max_depth=5\u001b[0m\n",
      "\u001b[34m[148]#011train-error:0.084933#011validation-error:0.1406\u001b[0m\n",
      "\u001b[34mStopping. Best iteration:\u001b[0m\n",
      "\u001b[34m[138]#011train-error:0.088667#011validation-error:0.1405\n",
      "\u001b[0m\n",
      "\n",
      "2020-05-03 23:25:46 Uploading - Uploading generated training model\n",
      "2020-05-03 23:25:46 Completed - Training job completed\n",
      "Training seconds: 246\n",
      "Billable seconds: 246\n"
     ]
    }
   ],
   "source": [
    "xgb.fit({'train': s3_input_train, 'validation': s3_input_validation})"
   ]
  },
  {
   "cell_type": "markdown",
   "metadata": {},
   "source": [
    "## Step 5: Testing the model\n",
    "\n",
    "Now that we've fit our XGBoost model, it's time to see how well it performs. To do this we will use SageMakers Batch Transform functionality. Batch Transform is a convenient way to perform inference on a large dataset in a way that is not realtime. That is, we don't necessarily need to use our model's results immediately and instead we can perform inference on a large number of samples. An example of this in industry might be performing an end of month report. This method of inference can also be useful to us as it means that we can perform inference on our entire test set. \n",
    "\n",
    "To perform a Batch Transformation we need to first create a transformer objects from our trained estimator object."
   ]
  },
  {
   "cell_type": "code",
   "execution_count": 24,
   "metadata": {},
   "outputs": [],
   "source": [
    "xgb_transformer = xgb.transformer(instance_count = 1, instance_type = 'ml.m4.xlarge')"
   ]
  },
  {
   "cell_type": "markdown",
   "metadata": {},
   "source": [
    "Next we actually perform the transform job. When doing so we need to make sure to specify the type of data we are sending so that it is serialized correctly in the background. In our case we are providing our model with csv data so we specify `text/csv`. Also, if the test data that we have provided is too large to process all at once then we need to specify how the data file should be split up. Since each line is a single entry in our data set we tell SageMaker that it can split the input on each line."
   ]
  },
  {
   "cell_type": "code",
   "execution_count": 25,
   "metadata": {},
   "outputs": [],
   "source": [
    "xgb_transformer.transform(test_location, content_type='text/csv', split_type='Line')"
   ]
  },
  {
   "cell_type": "markdown",
   "metadata": {},
   "source": [
    "Currently the transform job is running but it is doing so in the background. Since we wish to wait until the transform job is done and we would like a bit of feedback we can run the `wait()` method."
   ]
  },
  {
   "cell_type": "code",
   "execution_count": 26,
   "metadata": {},
   "outputs": [
    {
     "name": "stdout",
     "output_type": "stream",
     "text": [
      "....................\u001b[34mArguments: serve\u001b[0m\n",
      "\u001b[34m[2020-05-03 23:29:18 +0000] [1] [INFO] Starting gunicorn 19.7.1\u001b[0m\n",
      "\u001b[34m[2020-05-03 23:29:18 +0000] [1] [INFO] Listening at: http://0.0.0.0:8080 (1)\u001b[0m\n",
      "\u001b[34m[2020-05-03 23:29:18 +0000] [1] [INFO] Using worker: gevent\u001b[0m\n",
      "\u001b[34m[2020-05-03 23:29:18 +0000] [38] [INFO] Booting worker with pid: 38\u001b[0m\n",
      "\u001b[34m[2020-05-03 23:29:18 +0000] [39] [INFO] Booting worker with pid: 39\u001b[0m\n",
      "\u001b[34m[2020-05-03 23:29:18 +0000] [40] [INFO] Booting worker with pid: 40\u001b[0m\n",
      "\u001b[34m[2020-05-03:23:29:18:INFO] Model loaded successfully for worker : 38\u001b[0m\n",
      "\u001b[34m[2020-05-03 23:29:18 +0000] [41] [INFO] Booting worker with pid: 41\u001b[0m\n",
      "\u001b[34m[2020-05-03:23:29:18:INFO] Model loaded successfully for worker : 39\u001b[0m\n",
      "\u001b[34m[2020-05-03:23:29:18:INFO] Model loaded successfully for worker : 40\u001b[0m\n",
      "\u001b[34m[2020-05-03:23:29:18:INFO] Model loaded successfully for worker : 41\u001b[0m\n",
      "\u001b[34m[2020-05-03:23:29:51:INFO] Sniff delimiter as ','\u001b[0m\n",
      "\u001b[34m[2020-05-03:23:29:51:INFO] Determined delimiter of CSV input is ','\u001b[0m\n",
      "\u001b[34m[2020-05-03:23:29:51:INFO] Sniff delimiter as ','\u001b[0m\n",
      "\u001b[34m[2020-05-03:23:29:51:INFO] Determined delimiter of CSV input is ','\u001b[0m\n",
      "\u001b[34m[2020-05-03:23:29:52:INFO] Sniff delimiter as ','\u001b[0m\n",
      "\u001b[34m[2020-05-03:23:29:52:INFO] Determined delimiter of CSV input is ','\u001b[0m\n",
      "\u001b[34m[2020-05-03:23:29:52:INFO] Sniff delimiter as ','\u001b[0m\n",
      "\u001b[34m[2020-05-03:23:29:52:INFO] Determined delimiter of CSV input is ','\u001b[0m\n",
      "\u001b[34m[2020-05-03:23:29:54:INFO] Sniff delimiter as ','\u001b[0m\n",
      "\u001b[34m[2020-05-03:23:29:54:INFO] Determined delimiter of CSV input is ','\u001b[0m\n",
      "\u001b[34m[2020-05-03:23:29:54:INFO] Sniff delimiter as ','\u001b[0m\n",
      "\u001b[34m[2020-05-03:23:29:54:INFO] Determined delimiter of CSV input is ','\u001b[0m\n",
      "\u001b[34m[2020-05-03:23:29:54:INFO] Sniff delimiter as ','\u001b[0m\n",
      "\u001b[34m[2020-05-03:23:29:54:INFO] Determined delimiter of CSV input is ','\u001b[0m\n",
      "\u001b[34m[2020-05-03:23:29:54:INFO] Sniff delimiter as ','\u001b[0m\n",
      "\u001b[34m[2020-05-03:23:29:54:INFO] Determined delimiter of CSV input is ','\u001b[0m\n",
      "\u001b[32m2020-05-03T23:29:49.273:[sagemaker logs]: MaxConcurrentTransforms=4, MaxPayloadInMB=6, BatchStrategy=MULTI_RECORD\u001b[0m\n",
      "\u001b[34m[2020-05-03:23:29:56:INFO] Sniff delimiter as ','\u001b[0m\n",
      "\u001b[34m[2020-05-03:23:29:56:INFO] Determined delimiter of CSV input is ','\u001b[0m\n",
      "\u001b[34m[2020-05-03:23:29:56:INFO] Sniff delimiter as ','\u001b[0m\n",
      "\u001b[34m[2020-05-03:23:29:56:INFO] Determined delimiter of CSV input is ','\u001b[0m\n",
      "\u001b[34m[2020-05-03:23:29:57:INFO] Sniff delimiter as ','\u001b[0m\n",
      "\u001b[34m[2020-05-03:23:29:57:INFO] Determined delimiter of CSV input is ','\u001b[0m\n",
      "\u001b[35m[2020-05-03:23:29:56:INFO] Sniff delimiter as ','\u001b[0m\n",
      "\u001b[35m[2020-05-03:23:29:56:INFO] Determined delimiter of CSV input is ','\u001b[0m\n",
      "\u001b[35m[2020-05-03:23:29:56:INFO] Sniff delimiter as ','\u001b[0m\n",
      "\u001b[35m[2020-05-03:23:29:56:INFO] Determined delimiter of CSV input is ','\u001b[0m\n",
      "\u001b[35m[2020-05-03:23:29:57:INFO] Sniff delimiter as ','\u001b[0m\n",
      "\u001b[35m[2020-05-03:23:29:57:INFO] Determined delimiter of CSV input is ','\u001b[0m\n",
      "\u001b[34m[2020-05-03:23:29:57:INFO] Sniff delimiter as ','\u001b[0m\n",
      "\u001b[34m[2020-05-03:23:29:57:INFO] Determined delimiter of CSV input is ','\u001b[0m\n",
      "\u001b[35m[2020-05-03:23:29:57:INFO] Sniff delimiter as ','\u001b[0m\n",
      "\u001b[35m[2020-05-03:23:29:57:INFO] Determined delimiter of CSV input is ','\u001b[0m\n",
      "\u001b[34m[2020-05-03:23:29:59:INFO] Sniff delimiter as ','\u001b[0m\n",
      "\u001b[34m[2020-05-03:23:29:59:INFO] Determined delimiter of CSV input is ','\u001b[0m\n",
      "\u001b[34m[2020-05-03:23:29:59:INFO] Sniff delimiter as ','\u001b[0m\n",
      "\u001b[34m[2020-05-03:23:29:59:INFO] Determined delimiter of CSV input is ','\u001b[0m\n",
      "\u001b[34m[2020-05-03:23:29:59:INFO] Sniff delimiter as ','\u001b[0m\n",
      "\u001b[34m[2020-05-03:23:29:59:INFO] Determined delimiter of CSV input is ','\u001b[0m\n",
      "\u001b[35m[2020-05-03:23:29:59:INFO] Sniff delimiter as ','\u001b[0m\n",
      "\u001b[35m[2020-05-03:23:29:59:INFO] Determined delimiter of CSV input is ','\u001b[0m\n",
      "\u001b[35m[2020-05-03:23:29:59:INFO] Sniff delimiter as ','\u001b[0m\n",
      "\u001b[35m[2020-05-03:23:29:59:INFO] Determined delimiter of CSV input is ','\u001b[0m\n",
      "\u001b[35m[2020-05-03:23:29:59:INFO] Sniff delimiter as ','\u001b[0m\n",
      "\u001b[35m[2020-05-03:23:29:59:INFO] Determined delimiter of CSV input is ','\u001b[0m\n",
      "\u001b[34m[2020-05-03:23:29:59:INFO] Sniff delimiter as ','\u001b[0m\n",
      "\u001b[34m[2020-05-03:23:29:59:INFO] Determined delimiter of CSV input is ','\u001b[0m\n",
      "\u001b[35m[2020-05-03:23:29:59:INFO] Sniff delimiter as ','\u001b[0m\n",
      "\u001b[35m[2020-05-03:23:29:59:INFO] Determined delimiter of CSV input is ','\u001b[0m\n",
      "\u001b[34m[2020-05-03:23:30:01:INFO] Sniff delimiter as ','\u001b[0m\n",
      "\u001b[34m[2020-05-03:23:30:01:INFO] Determined delimiter of CSV input is ','\u001b[0m\n",
      "\u001b[35m[2020-05-03:23:30:01:INFO] Sniff delimiter as ','\u001b[0m\n",
      "\u001b[35m[2020-05-03:23:30:01:INFO] Determined delimiter of CSV input is ','\u001b[0m\n",
      "\u001b[34m[2020-05-03:23:30:01:INFO] Sniff delimiter as ','\u001b[0m\n",
      "\u001b[34m[2020-05-03:23:30:01:INFO] Determined delimiter of CSV input is ','\u001b[0m\n",
      "\u001b[34m[2020-05-03:23:30:01:INFO] Sniff delimiter as ','\u001b[0m\n",
      "\u001b[34m[2020-05-03:23:30:01:INFO] Determined delimiter of CSV input is ','\u001b[0m\n",
      "\u001b[35m[2020-05-03:23:30:01:INFO] Sniff delimiter as ','\u001b[0m\n",
      "\u001b[35m[2020-05-03:23:30:01:INFO] Determined delimiter of CSV input is ','\u001b[0m\n",
      "\u001b[35m[2020-05-03:23:30:01:INFO] Sniff delimiter as ','\u001b[0m\n",
      "\u001b[35m[2020-05-03:23:30:01:INFO] Determined delimiter of CSV input is ','\u001b[0m\n",
      "\u001b[34m[2020-05-03:23:30:02:INFO] Sniff delimiter as ','\u001b[0m\n",
      "\u001b[34m[2020-05-03:23:30:02:INFO] Determined delimiter of CSV input is ','\u001b[0m\n",
      "\u001b[35m[2020-05-03:23:30:02:INFO] Sniff delimiter as ','\u001b[0m\n",
      "\u001b[35m[2020-05-03:23:30:02:INFO] Determined delimiter of CSV input is ','\u001b[0m\n",
      "\u001b[34m[2020-05-03:23:30:04:INFO] Sniff delimiter as ','\u001b[0m\n",
      "\u001b[34m[2020-05-03:23:30:04:INFO] Determined delimiter of CSV input is ','\u001b[0m\n",
      "\u001b[34m[2020-05-03:23:30:04:INFO] Sniff delimiter as ','\u001b[0m\n",
      "\u001b[34m[2020-05-03:23:30:04:INFO] Determined delimiter of CSV input is ','\u001b[0m\n",
      "\u001b[34m[2020-05-03:23:30:04:INFO] Sniff delimiter as ','\u001b[0m\n",
      "\u001b[34m[2020-05-03:23:30:04:INFO] Determined delimiter of CSV input is ','\u001b[0m\n",
      "\u001b[34m[2020-05-03:23:30:04:INFO] Sniff delimiter as ','\u001b[0m\n",
      "\u001b[34m[2020-05-03:23:30:04:INFO] Determined delimiter of CSV input is ','\u001b[0m\n",
      "\u001b[35m[2020-05-03:23:30:04:INFO] Sniff delimiter as ','\u001b[0m\n",
      "\u001b[35m[2020-05-03:23:30:04:INFO] Determined delimiter of CSV input is ','\u001b[0m\n",
      "\u001b[35m[2020-05-03:23:30:04:INFO] Sniff delimiter as ','\u001b[0m\n",
      "\u001b[35m[2020-05-03:23:30:04:INFO] Determined delimiter of CSV input is ','\u001b[0m\n",
      "\u001b[35m[2020-05-03:23:30:04:INFO] Sniff delimiter as ','\u001b[0m\n",
      "\u001b[35m[2020-05-03:23:30:04:INFO] Determined delimiter of CSV input is ','\u001b[0m\n",
      "\u001b[35m[2020-05-03:23:30:04:INFO] Sniff delimiter as ','\u001b[0m\n",
      "\u001b[35m[2020-05-03:23:30:04:INFO] Determined delimiter of CSV input is ','\u001b[0m\n",
      "\u001b[34m[2020-05-03:23:30:08:INFO] Sniff delimiter as ','\u001b[0m\n",
      "\u001b[34m[2020-05-03:23:30:08:INFO] Determined delimiter of CSV input is ','\u001b[0m\n",
      "\u001b[34m[2020-05-03:23:30:09:INFO] Sniff delimiter as ','\u001b[0m\n",
      "\u001b[34m[2020-05-03:23:30:09:INFO] Determined delimiter of CSV input is ','\u001b[0m\n",
      "\u001b[35m[2020-05-03:23:30:08:INFO] Sniff delimiter as ','\u001b[0m\n",
      "\u001b[35m[2020-05-03:23:30:08:INFO] Determined delimiter of CSV input is ','\u001b[0m\n",
      "\u001b[35m[2020-05-03:23:30:09:INFO] Sniff delimiter as ','\u001b[0m\n",
      "\u001b[35m[2020-05-03:23:30:09:INFO] Determined delimiter of CSV input is ','\u001b[0m\n",
      "\u001b[34m[2020-05-03:23:30:09:INFO] Sniff delimiter as ','\u001b[0m\n",
      "\u001b[35m[2020-05-03:23:30:09:INFO] Sniff delimiter as ','\u001b[0m\n",
      "\u001b[34m[2020-05-03:23:30:09:INFO] Determined delimiter of CSV input is ','\u001b[0m\n",
      "\u001b[34m[2020-05-03:23:30:09:INFO] Sniff delimiter as ','\u001b[0m\n",
      "\u001b[34m[2020-05-03:23:30:09:INFO] Determined delimiter of CSV input is ','\u001b[0m\n",
      "\u001b[35m[2020-05-03:23:30:09:INFO] Determined delimiter of CSV input is ','\u001b[0m\n",
      "\u001b[35m[2020-05-03:23:30:09:INFO] Sniff delimiter as ','\u001b[0m\n",
      "\u001b[35m[2020-05-03:23:30:09:INFO] Determined delimiter of CSV input is ','\u001b[0m\n",
      "\u001b[34m[2020-05-03:23:30:11:INFO] Sniff delimiter as ','\u001b[0m\n",
      "\u001b[34m[2020-05-03:23:30:11:INFO] Determined delimiter of CSV input is ','\u001b[0m\n",
      "\u001b[34m[2020-05-03:23:30:11:INFO] Sniff delimiter as ','\u001b[0m\n",
      "\u001b[35m[2020-05-03:23:30:11:INFO] Sniff delimiter as ','\u001b[0m\n",
      "\u001b[35m[2020-05-03:23:30:11:INFO] Determined delimiter of CSV input is ','\u001b[0m\n",
      "\u001b[35m[2020-05-03:23:30:11:INFO] Sniff delimiter as ','\u001b[0m\n",
      "\u001b[34m[2020-05-03:23:30:11:INFO] Determined delimiter of CSV input is ','\u001b[0m\n",
      "\u001b[34m[2020-05-03:23:30:11:INFO] Sniff delimiter as ','\u001b[0m\n",
      "\u001b[34m[2020-05-03:23:30:11:INFO] Determined delimiter of CSV input is ','\u001b[0m\n",
      "\u001b[35m[2020-05-03:23:30:11:INFO] Determined delimiter of CSV input is ','\u001b[0m\n",
      "\u001b[35m[2020-05-03:23:30:11:INFO] Sniff delimiter as ','\u001b[0m\n",
      "\u001b[35m[2020-05-03:23:30:11:INFO] Determined delimiter of CSV input is ','\u001b[0m\n",
      "\u001b[34m[2020-05-03:23:30:12:INFO] Sniff delimiter as ','\u001b[0m\n",
      "\u001b[34m[2020-05-03:23:30:12:INFO] Determined delimiter of CSV input is ','\u001b[0m\n",
      "\u001b[35m[2020-05-03:23:30:12:INFO] Sniff delimiter as ','\u001b[0m\n",
      "\u001b[35m[2020-05-03:23:30:12:INFO] Determined delimiter of CSV input is ','\u001b[0m\n",
      "\u001b[34m[2020-05-03:23:30:13:INFO] Sniff delimiter as ','\u001b[0m\n",
      "\u001b[35m[2020-05-03:23:30:13:INFO] Sniff delimiter as ','\u001b[0m\n",
      "\u001b[34m[2020-05-03:23:30:13:INFO] Determined delimiter of CSV input is ','\u001b[0m\n",
      "\u001b[34m[2020-05-03:23:30:13:INFO] Sniff delimiter as ','\u001b[0m\n",
      "\u001b[34m[2020-05-03:23:30:13:INFO] Determined delimiter of CSV input is ','\u001b[0m\n",
      "\u001b[35m[2020-05-03:23:30:13:INFO] Determined delimiter of CSV input is ','\u001b[0m\n",
      "\u001b[35m[2020-05-03:23:30:13:INFO] Sniff delimiter as ','\u001b[0m\n",
      "\u001b[35m[2020-05-03:23:30:13:INFO] Determined delimiter of CSV input is ','\u001b[0m\n",
      "\u001b[34m[2020-05-03:23:30:14:INFO] Sniff delimiter as ','\u001b[0m\n",
      "\u001b[34m[2020-05-03:23:30:14:INFO] Determined delimiter of CSV input is ','\u001b[0m\n",
      "\u001b[34m[2020-05-03:23:30:14:INFO] Sniff delimiter as ','\u001b[0m\n",
      "\u001b[34m[2020-05-03:23:30:14:INFO] Determined delimiter of CSV input is ','\u001b[0m\n",
      "\u001b[35m[2020-05-03:23:30:14:INFO] Sniff delimiter as ','\u001b[0m\n",
      "\u001b[35m[2020-05-03:23:30:14:INFO] Determined delimiter of CSV input is ','\u001b[0m\n",
      "\u001b[35m[2020-05-03:23:30:14:INFO] Sniff delimiter as ','\u001b[0m\n",
      "\u001b[35m[2020-05-03:23:30:14:INFO] Determined delimiter of CSV input is ','\u001b[0m\n",
      "\n"
     ]
    }
   ],
   "source": [
    "xgb_transformer.wait()"
   ]
  },
  {
   "cell_type": "markdown",
   "metadata": {},
   "source": [
    "Now the transform job has executed and the result, the estimated sentiment of each review, has been saved on S3. Since we would rather work on this file locally we can perform a bit of notebook magic to copy the file to the `data_dir`."
   ]
  },
  {
   "cell_type": "code",
   "execution_count": 27,
   "metadata": {},
   "outputs": [
    {
     "name": "stdout",
     "output_type": "stream",
     "text": [
      "download: s3://sagemaker-us-west-2-202593872157/xgboost-2020-05-03-23-26-07-583/test.csv.out to ../data/sentiment_web_app/test.csv.out\r\n"
     ]
    }
   ],
   "source": [
    "!aws s3 cp --recursive $xgb_transformer.output_path $data_dir"
   ]
  },
  {
   "cell_type": "markdown",
   "metadata": {},
   "source": [
    "The last step is now to read in the output from our model, convert the output to something a little more usable, in this case we want the sentiment to be either `1` (positive) or `0` (negative), and then compare to the ground truth labels."
   ]
  },
  {
   "cell_type": "code",
   "execution_count": 28,
   "metadata": {},
   "outputs": [],
   "source": [
    "predictions = pd.read_csv(os.path.join(data_dir, 'test.csv.out'), header=None)\n",
    "predictions = [round(num) for num in predictions.squeeze().values]"
   ]
  },
  {
   "cell_type": "code",
   "execution_count": 29,
   "metadata": {},
   "outputs": [
    {
     "data": {
      "text/plain": [
       "0.85604"
      ]
     },
     "execution_count": 29,
     "metadata": {},
     "output_type": "execute_result"
    }
   ],
   "source": [
    "from sklearn.metrics import accuracy_score\n",
    "accuracy_score(test_y, predictions)"
   ]
  },
  {
   "cell_type": "markdown",
   "metadata": {},
   "source": [
    "## Step 6: Deploying the model\n",
    "\n",
    "Once we construct and fit our model, SageMaker stores the resulting model artifacts and we can use those to deploy an endpoint (inference code). To see this, look in the SageMaker console and you should see that a model has been created along with a link to the S3 location where the model artifacts have been stored.\n",
    "\n",
    "Deploying an endpoint is a lot like training the model with a few important differences. The first is that a deployed model doesn't change the model artifacts, so as you send it various testing instances the model won't change. Another difference is that since we aren't performing a fixed computation, as we were in the training step or while performing a batch transform, the compute instance that gets started stays running until we tell it to stop. This is important to note as if we forget and leave it running we will be charged the entire time.\n",
    "\n",
    "In other words **If you are no longer using a deployed endpoint, shut it down!**"
   ]
  },
  {
   "cell_type": "code",
   "execution_count": 30,
   "metadata": {},
   "outputs": [
    {
     "name": "stderr",
     "output_type": "stream",
     "text": [
      "WARNING:sagemaker:Using already existing model: xgboost-2020-05-03-23-19-22-432\n"
     ]
    },
    {
     "name": "stdout",
     "output_type": "stream",
     "text": [
      "-------------!"
     ]
    }
   ],
   "source": [
    "xgb_predictor = xgb.deploy(initial_instance_count = 1, instance_type = 'ml.m4.xlarge')"
   ]
  },
  {
   "cell_type": "markdown",
   "metadata": {},
   "source": [
    "### Testing the model (again)\n",
    "\n",
    "Now that we have deployed our endpoint, we can send the testing data to it and get back the inference results. We already did this earlier using the batch transform functionality of SageMaker, however, we will test our model again using the newly deployed endpoint so that we can make sure that it works properly and to get a bit of a feel for how the endpoint works.\n",
    "\n",
    "When using the created endpoint it is important to know that we are limited in the amount of information we can send in each call so we need to break the testing data up into chunks and then send each chunk. Also, we need to serialize our data before we send it to the endpoint to ensure that our data is transmitted properly. Fortunately, SageMaker can do the serialization part for us provided we tell it the format of our data."
   ]
  },
  {
   "cell_type": "code",
   "execution_count": 31,
   "metadata": {},
   "outputs": [],
   "source": [
    "from sagemaker.predictor import csv_serializer\n",
    "\n",
    "# We need to tell the endpoint what format the data we are sending is in so that SageMaker can perform the serialization.\n",
    "xgb_predictor.content_type = 'text/csv'\n",
    "xgb_predictor.serializer = csv_serializer"
   ]
  },
  {
   "cell_type": "code",
   "execution_count": 32,
   "metadata": {},
   "outputs": [],
   "source": [
    "# We split the data into chunks and send each chunk seperately, accumulating the results.\n",
    "\n",
    "def predict(data, rows=512):\n",
    "    split_array = np.array_split(data, int(data.shape[0] / float(rows) + 1))\n",
    "    predictions = ''\n",
    "    for array in split_array:\n",
    "        predictions = ','.join([predictions, xgb_predictor.predict(array).decode('utf-8')])\n",
    "    \n",
    "    return np.fromstring(predictions[1:], sep=',')"
   ]
  },
  {
   "cell_type": "code",
   "execution_count": 33,
   "metadata": {},
   "outputs": [],
   "source": [
    "test_X = pd.read_csv(os.path.join(data_dir, 'test.csv'), header=None).values\n",
    "\n",
    "predictions = predict(test_X)\n",
    "predictions = [round(num) for num in predictions]"
   ]
  },
  {
   "cell_type": "markdown",
   "metadata": {},
   "source": [
    "Lastly, we check to see what the accuracy of our model is."
   ]
  },
  {
   "cell_type": "code",
   "execution_count": 34,
   "metadata": {},
   "outputs": [
    {
     "data": {
      "text/plain": [
       "0.85604"
      ]
     },
     "execution_count": 34,
     "metadata": {},
     "output_type": "execute_result"
    }
   ],
   "source": [
    "from sklearn.metrics import accuracy_score\n",
    "accuracy_score(test_y, predictions)"
   ]
  },
  {
   "cell_type": "markdown",
   "metadata": {},
   "source": [
    "And the results here should agree with the model testing that we did earlier using the batch transform job.\n",
    "\n",
    "### Cleaning up\n",
    "\n",
    "Now that we've determined that deploying our model works as expected, we are going to shut it down. Remember that the longer the endpoint is left running, the greater the cost and since we have a bit more work to do before we are able to use our endpoint with our simple web app, we should shut everything down."
   ]
  },
  {
   "cell_type": "code",
   "execution_count": 35,
   "metadata": {},
   "outputs": [],
   "source": [
    "xgb_predictor.delete_endpoint()"
   ]
  },
  {
   "cell_type": "markdown",
   "metadata": {},
   "source": [
    "## Step 7: Putting our model to work\n",
    "\n",
    "As we've mentioned a few times now, our goal is to have our model deployed and then access it using a very simple web app. The intent is for this web app to take some user submitted data (a review), send it off to our endpoint (the model) and then display the result.\n",
    "\n",
    "However, there is a small catch. Currently the only way we can access the endpoint to send it data is using the SageMaker API. We can, if we wish, expose the actual URL that our model's endpoint is receiving data from, however, if we just send it data ourselves we will not get anything in return. This is because the endpoint created by SageMaker requires the entity accessing it have the correct permissions. So, we would need to somehow authenticate our web app with AWS.\n",
    "\n",
    "Having a website that authenticates to AWS seems a bit beyond the scope of this lesson so we will opt for an alternative approach. Namely, we will create a new endpoint which does not require authentication and which acts as a proxy for the SageMaker endpoint.\n",
    "\n",
    "As an additional constraint, we will try to avoid doing any data processing in the web app itself. Remember that when we constructed and tested our model we started with a movie review, then we simplified it by removing any html formatting and punctuation, then we constructed a bag of words embedding and the resulting vector is what we sent to our model. All of this needs to be done to our user input as well.\n",
    "\n",
    "Fortunately we can do all of this data processing in the backend, using Amazon's Lambda service.\n",
    "\n",
    "<img src=\"Web App Diagram.svg\">\n",
    "\n",
    "The diagram above gives an overview of how the various services will work together. On the far right is the model which we trained above and which will be deployed using SageMaker. On the far left is our web app that collects a user's movie review, sends it off and expects a positive or negative sentiment in return.\n",
    "\n",
    "In the middle is where some of the magic happens. We will construct a Lambda function, which you can think of as a straightforward Python function that can be executed whenever a specified event occurs. This Python function will do the data processing we need to perform on a user submitted review. In addition, we will give this function permission to send and recieve data from a SageMaker endpoint.\n",
    "\n",
    "Lastly, the method we will use to execute the Lambda function is a new endpoint that we will create using API Gateway. This endpoint will be a url that listens for data to be sent to it. Once it gets some data it will pass that data on to the Lambda function and then return whatever the Lambda function returns. Essentially it will act as an interface that lets our web app communicate with the Lambda function.\n",
    "\n",
    "### Processing a single review\n",
    "\n",
    "For now, suppose we are given a movie review by our user in the form of a string, like so:"
   ]
  },
  {
   "cell_type": "code",
   "execution_count": 36,
   "metadata": {},
   "outputs": [],
   "source": [
    "test_review = \"Nothing but a disgusting materialistic pageant of glistening abed remote control greed zombies, totally devoid of any heart or heat. A romantic comedy that has zero romantic chemestry and zero laughs!\""
   ]
  },
  {
   "cell_type": "markdown",
   "metadata": {},
   "source": [
    "How do we go from this string to the bag of words feature vector that is expected by our model?\n",
    "\n",
    "If we recall at the beginning of this notebook, the first step is to remove any unnecessary characters using the `review_to_words` method. Remember that we intentionally did this in a very simplistic way. This is because we are going to have to copy this method to our (eventual) Lambda function (we will go into more detail later) and this means it needs to be rather simplistic."
   ]
  },
  {
   "cell_type": "code",
   "execution_count": 37,
   "metadata": {},
   "outputs": [
    {
     "name": "stdout",
     "output_type": "stream",
     "text": [
      "nothing but a disgusting materialistic pageant of glistening abed remote control greed zombies totally devoid of any heart or heat a romantic comedy that has zero romantic chemestry and zero laughs\n"
     ]
    }
   ],
   "source": [
    "test_words = review_to_words(test_review)\n",
    "print(test_words)"
   ]
  },
  {
   "cell_type": "markdown",
   "metadata": {},
   "source": [
    "Next, we need to construct a bag of words embedding of the `test_words` string. To do this, remember that a bag of words embedding uses a `vocabulary` consisting of the most frequently appearing words in a set of documents. Then, for each word in the vocabulary we record the number of times that word appears in `test_words`. We constructed the `vocabulary` earlier using the training set for our problem so encoding `test_words` is relatively straightforward."
   ]
  },
  {
   "cell_type": "code",
   "execution_count": 38,
   "metadata": {},
   "outputs": [],
   "source": [
    "def bow_encoding(words, vocabulary):\n",
    "    bow = [0] * len(vocabulary) # Start by setting the count for each word in the vocabulary to zero.\n",
    "    for word in words.split():  # For each word in the string\n",
    "        if word in vocabulary:  # If the word is one that occurs in the vocabulary, increase its count.\n",
    "            bow[vocabulary[word]] += 1\n",
    "    return bow"
   ]
  },
  {
   "cell_type": "code",
   "execution_count": 39,
   "metadata": {},
   "outputs": [
    {
     "name": "stdout",
     "output_type": "stream",
     "text": [
      "[0, 0, 0, 0, 0, 0, 0, 0, 0, 0, 0, 0, 0, 0, 0, 0, 0, 0, 0, 0, 0, 0, 0, 0, 0, 0, 0, 0, 0, 0, 0, 0, 0, 0, 0, 0, 0, 0, 0, 0, 0, 0, 0, 0, 0, 0, 0, 0, 0, 0, 0, 0, 0, 0, 0, 0, 0, 0, 0, 0, 0, 0, 0, 0, 0, 0, 0, 0, 0, 0, 0, 0, 0, 0, 0, 0, 0, 0, 0, 0, 0, 0, 0, 0, 0, 0, 0, 0, 0, 0, 0, 0, 0, 0, 0, 0, 0, 0, 0, 0, 0, 0, 0, 0, 0, 0, 0, 0, 0, 0, 0, 0, 0, 0, 0, 0, 0, 0, 0, 0, 0, 0, 0, 0, 0, 0, 0, 0, 0, 0, 0, 0, 0, 0, 0, 0, 0, 0, 0, 0, 0, 0, 0, 0, 0, 0, 0, 0, 0, 0, 0, 0, 0, 0, 0, 0, 0, 0, 0, 0, 0, 0, 0, 0, 0, 0, 0, 0, 0, 0, 0, 0, 0, 0, 0, 0, 0, 0, 0, 0, 0, 0, 0, 0, 0, 0, 0, 0, 0, 0, 0, 0, 0, 0, 0, 0, 0, 0, 0, 0, 0, 0, 0, 0, 0, 0, 0, 0, 0, 0, 0, 0, 0, 0, 0, 0, 0, 0, 0, 0, 0, 0, 0, 0, 0, 0, 1, 0, 0, 0, 0, 0, 0, 0, 0, 0, 0, 0, 0, 0, 0, 0, 0, 0, 0, 0, 0, 0, 0, 0, 0, 0, 0, 0, 0, 0, 1, 0, 0, 0, 0, 0, 0, 0, 0, 0, 0, 0, 0, 0, 0, 0, 0, 0, 0, 0, 0, 0, 0, 0, 0, 0, 0, 0, 0, 0, 0, 0, 0, 0, 0, 0, 0, 0, 0, 0, 0, 0, 0, 0, 0, 0, 0, 0, 0, 0, 0, 0, 0, 0, 0, 0, 0, 0, 0, 0, 0, 0, 0, 0, 0, 0, 0, 0, 0, 0, 0, 0, 0, 0, 0, 0, 0, 0, 0, 0, 0, 0, 0, 0, 0, 0, 0, 0, 0, 0, 0, 0, 0, 0, 0, 0, 0, 0, 0, 0, 0, 0, 0, 0, 0, 0, 0, 0, 0, 0, 0, 0, 0, 0, 0, 0, 0, 0, 0, 0, 0, 0, 0, 0, 0, 0, 0, 0, 0, 0, 0, 0, 0, 0, 0, 0, 0, 0, 0, 0, 0, 0, 0, 0, 0, 0, 0, 0, 0, 0, 0, 0, 0, 0, 0, 0, 0, 0, 0, 0, 0, 0, 0, 0, 0, 0, 0, 0, 0, 0, 0, 0, 0, 0, 0, 0, 0, 0, 0, 0, 0, 0, 0, 0, 0, 0, 0, 0, 0, 0, 0, 0, 0, 0, 0, 0, 0, 0, 0, 0, 0, 0, 0, 0, 0, 0, 0, 0, 0, 0, 0, 0, 0, 0, 0, 0, 0, 0, 0, 0, 0, 0, 0, 0, 0, 0, 0, 0, 0, 0, 0, 0, 0, 0, 0, 0, 0, 0, 0, 0, 0, 0, 0, 0, 0, 0, 0, 0, 0, 0, 0, 0, 0, 0, 0, 0, 0, 0, 0, 0, 0, 0, 0, 0, 0, 0, 0, 0, 0, 0, 0, 0, 0, 0, 0, 0, 0, 0, 0, 0, 0, 0, 0, 0, 0, 0, 0, 0, 0, 0, 0, 0, 0, 0, 0, 0, 0, 0, 0, 0, 0, 0, 0, 0, 0, 0, 0, 0, 0, 0, 0, 0, 0, 0, 0, 0, 0, 0, 0, 0, 0, 0, 0, 0, 0, 0, 0, 0, 0, 0, 0, 0, 0, 0, 0, 0, 0, 0, 0, 0, 0, 0, 0, 0, 0, 0, 0, 0, 0, 0, 0, 0, 0, 0, 0, 0, 0, 0, 0, 0, 0, 0, 0, 0, 0, 0, 0, 0, 0, 0, 0, 0, 0, 0, 0, 0, 0, 0, 0, 0, 1, 0, 0, 0, 0, 0, 0, 0, 0, 0, 0, 0, 0, 0, 0, 0, 0, 0, 0, 0, 0, 0, 0, 0, 0, 0, 0, 0, 0, 0, 0, 0, 0, 0, 0, 0, 0, 0, 0, 0, 0, 0, 0, 0, 0, 0, 0, 0, 0, 0, 0, 0, 0, 0, 0, 0, 0, 0, 0, 0, 0, 0, 0, 0, 0, 0, 0, 0, 0, 0, 0, 0, 0, 0, 0, 0, 0, 0, 0, 0, 0, 0, 0, 0, 0, 0, 0, 0, 0, 0, 0, 0, 0, 0, 0, 0, 0, 0, 0, 0, 0, 0, 0, 0, 0, 0, 0, 0, 0, 0, 0, 0, 0, 0, 0, 0, 0, 0, 0, 0, 0, 0, 0, 0, 0, 0, 0, 0, 0, 0, 0, 0, 0, 0, 0, 0, 0, 0, 0, 0, 0, 0, 0, 0, 0, 0, 0, 0, 0, 0, 0, 0, 0, 0, 0, 0, 0, 0, 0, 0, 0, 0, 0, 0, 0, 0, 0, 0, 0, 0, 0, 0, 0, 0, 0, 0, 0, 0, 0, 0, 0, 0, 0, 0, 0, 0, 0, 0, 0, 0, 0, 0, 0, 0, 0, 0, 0, 0, 0, 0, 0, 0, 0, 0, 0, 0, 0, 0, 0, 0, 0, 0, 0, 0, 0, 0, 0, 0, 0, 0, 0, 0, 0, 0, 0, 0, 0, 0, 0, 0, 0, 0, 0, 0, 0, 0, 0, 0, 0, 0, 0, 0, 0, 0, 0, 0, 0, 0, 0, 0, 0, 0, 0, 0, 1, 0, 0, 0, 0, 0, 0, 0, 0, 0, 0, 0, 0, 0, 0, 0, 0, 0, 0, 0, 0, 0, 0, 0, 0, 0, 0, 0, 0, 0, 0, 0, 0, 0, 0, 0, 0, 0, 0, 0, 0, 0, 0, 0, 0, 0, 0, 0, 0, 0, 0, 0, 0, 0, 0, 0, 0, 0, 0, 0, 0, 0, 0, 0, 0, 0, 0, 0, 0, 0, 0, 0, 0, 0, 0, 0, 0, 0, 0, 0, 0, 0, 0, 0, 0, 0, 0, 1, 0, 0, 0, 0, 0, 0, 0, 0, 0, 0, 0, 0, 0, 0, 0, 0, 0, 0, 0, 0, 0, 0, 0, 0, 0, 0, 0, 0, 0, 0, 0, 0, 0, 0, 0, 0, 0, 0, 0, 0, 0, 0, 0, 0, 0, 0, 0, 0, 0, 0, 0, 0, 0, 0, 0, 0, 0, 0, 0, 0, 0, 0, 0, 0, 0, 0, 0, 0, 0, 0, 0, 0, 0, 0, 0, 0, 0, 0, 0, 0, 0, 0, 0, 0, 0, 0, 0, 0, 0, 0, 0, 0, 0, 0, 0, 0, 0, 0, 0, 0, 0, 0, 0, 0, 0, 0, 0, 0, 0, 0, 0, 0, 0, 0, 0, 0, 0, 0, 0, 0, 0, 0, 0, 0, 0, 0, 0, 0, 0, 0, 0, 0, 0, 0, 0, 0, 0, 0, 0, 0, 0, 0, 0, 0, 0, 0, 0, 0, 0, 0, 0, 0, 0, 0, 0, 0, 0, 0, 0, 0, 0, 0, 0, 0, 0, 0, 0, 0, 0, 0, 0, 0, 0, 0, 0, 0, 0, 0, 0, 0, 0, 0, 0, 0, 0, 0, 0, 0, 0, 0, 0, 0, 0, 0, 0, 0, 0, 0, 0, 0, 0, 0, 0, 0, 0, 0, 0, 0, 0, 0, 0, 0, 0, 0, 0, 0, 0, 0, 0, 0, 0, 0, 0, 0, 0, 0, 0, 0, 0, 0, 0, 0, 0, 0, 0, 0, 0, 0, 0, 0, 0, 0, 0, 0, 0, 0, 0, 0, 0, 0, 0, 0, 1, 0, 0, 0, 0, 0, 0, 0, 0, 0, 0, 0, 0, 0, 0, 0, 0, 0, 0, 0, 0, 0, 0, 0, 0, 0, 0, 0, 0, 0, 0, 0, 0, 0, 0, 0, 0, 0, 0, 0, 0, 0, 0, 0, 0, 0, 0, 0, 0, 0, 0, 0, 0, 0, 0, 0, 1, 0, 0, 0, 0, 0, 0, 0, 0, 0, 0, 0, 0, 0, 0, 0, 0, 0, 0, 0, 0, 0, 0, 0, 0, 0, 0, 0, 0, 0, 0, 0, 0, 0, 0, 0, 0, 0, 0, 0, 0, 0, 0, 0, 0, 0, 0, 0, 0, 0, 0, 0, 0, 0, 0, 0, 0, 0, 0, 0, 0, 0, 0, 0, 0, 0, 0, 0, 0, 0, 0, 0, 0, 0, 0, 0, 0, 0, 0, 0, 0, 0, 0, 0, 0, 0, 0, 0, 0, 0, 0, 0, 0, 0, 0, 0, 0, 0, 0, 0, 0, 0, 0, 0, 0, 0, 0, 0, 0, 0, 0, 0, 0, 0, 0, 0, 0, 0, 0, 0, 0, 0, 0, 0, 0, 0, 0, 0, 0, 0, 0, 0, 0, 0, 0, 0, 0, 0, 0, 0, 0, 0, 0, 0, 0, 0, 0, 0, 0, 0, 0, 0, 0, 0, 0, 0, 0, 0, 0, 0, 0, 0, 0, 0, 0, 0, 0, 0, 0, 0, 0, 0, 0, 0, 0, 0, 0, 0, 0, 0, 0, 0, 0, 0, 0, 0, 0, 0, 0, 0, 0, 0, 0, 0, 0, 0, 0, 0, 0, 0, 0, 0, 0, 0, 0, 0, 0, 0, 0, 0, 0, 0, 0, 0, 0, 0, 0, 0, 0, 0, 0, 0, 0, 0, 0, 0, 0, 0, 0, 0, 0, 0, 0, 0, 0, 0, 0, 0, 0, 0, 0, 0, 0, 0, 0, 0, 0, 0, 0, 0, 0, 0, 0, 0, 0, 0, 0, 0, 0, 0, 0, 0, 0, 0, 0, 0, 0, 0, 0, 0, 0, 0, 0, 0, 0, 0, 0, 0, 0, 0, 0, 0, 0, 0, 0, 0, 0, 0, 0, 0, 0, 0, 0, 0, 0, 0, 0, 0, 0, 0, 0, 0, 0, 0, 0, 0, 0, 0, 0, 0, 0, 0, 0, 0, 0, 0, 0, 0, 0, 0, 0, 0, 0, 0, 0, 0, 0, 0, 0, 0, 0, 0, 0, 0, 0, 0, 0, 0, 0, 0, 0, 0, 0, 0, 0, 0, 0, 0, 0, 0, 0, 0, 0, 0, 0, 0, 0, 0, 0, 0, 0, 0, 0, 0, 0, 0, 0, 0, 0, 0, 0, 0, 0, 0, 0, 0, 0, 0, 0, 0, 0, 0, 0, 0, 0, 0, 0, 0, 0, 0, 0, 0, 0, 0, 0, 0, 0, 0, 0, 0, 0, 0, 0, 0, 0, 0, 0, 0, 0, 0, 0, 0, 0, 0, 0, 0, 0, 0, 0, 0, 0, 0, 0, 0, 0, 0, 0, 0, 0, 0, 0, 0, 0, 0, 0, 0, 0, 0, 0, 0, 0, 0, 0, 0, 0, 0, 0, 0, 0, 0, 0, 0, 0, 0, 0, 0, 0, 0, 0, 0, 0, 0, 0, 0, 0, 0, 0, 0, 0, 0, 0, 0, 0, 0, 0, 0, 0, 0, 0, 0, 0, 0, 0, 0, 0, 0, 0, 0, 0, 0, 0, 0, 0, 0, 0, 0, 0, 0, 0, 0, 0, 0, 0, 0, 0, 0, 0, 0, 0, 0, 0, 0, 0, 0, 0, 0, 0, 0, 0, 0, 0, 0, 0, 0, 0, 0, 0, 0, 0, 0, 0, 0, 0, 0, 0, 0, 0, 0, 0, 0, 0, 0, 0, 0, 0, 0, 0, 0, 0, 0, 0, 0, 0, 0, 0, 0, 0, 0, 0, 0, 0, 0, 0, 0, 0, 0, 0, 0, 0, 0, 0, 0, 0, 0, 0, 0, 0, 0, 0, 0, 0, 0, 0, 0, 0, 0, 0, 0, 0, 0, 0, 0, 0, 0, 0, 0, 0, 0, 0, 0, 0, 0, 0, 0, 0, 0, 0, 0, 0, 0, 0, 0, 0, 0, 0, 0, 0, 0, 0, 0, 0, 0, 0, 0, 0, 0, 0, 0, 0, 0, 0, 0, 0, 0, 0, 0, 0, 0, 0, 0, 0, 0, 0, 0, 0, 0, 0, 0, 0, 0, 0, 0, 0, 0, 0, 0, 0, 0, 0, 0, 0, 0, 0, 0, 0, 0, 0, 0, 0, 0, 0, 0, 0, 0, 0, 0, 0, 0, 0, 0, 0, 0, 1, 0, 0, 0, 0, 0, 0, 0, 0, 0, 0, 0, 0, 0, 0, 0, 0, 0, 0, 0, 0, 0, 0, 0, 0, 0, 0, 0, 0, 0, 0, 0, 0, 0, 0, 0, 0, 0, 0, 0, 0, 0, 0, 0, 0, 0, 0, 0, 0, 0, 0, 0, 0, 0, 0, 0, 0, 0, 0, 0, 0, 0, 0, 0, 0, 0, 0, 0, 0, 0, 0, 0, 0, 0, 0, 1, 0, 0, 0, 0, 0, 0, 0, 0, 0, 0, 0, 0, 0, 0, 0, 0, 0, 0, 0, 0, 1, 0, 0, 1, 0, 0, 0, 0, 0, 0, 0, 0, 0, 0, 0, 0, 0, 0, 0, 0, 0, 0, 0, 0, 0, 0, 0, 0, 0, 0, 0, 0, 0, 0, 0, 0, 0, 0, 0, 0, 0, 0, 0, 0, 0, 0, 0, 0, 0, 0, 0, 0, 0, 0, 0, 0, 0, 0, 0, 0, 0, 0, 0, 0, 0, 0, 0, 0, 0, 0, 0, 0, 0, 0, 0, 0, 0, 0, 0, 0, 0, 0, 0, 0, 0, 0, 0, 0, 0, 0, 0, 0, 0, 0, 0, 0, 0, 0, 0, 0, 0, 0, 0, 0, 0, 0, 0, 0, 0, 0, 0, 0, 0, 0, 0, 0, 0, 0, 0, 0, 0, 0, 0, 0, 0, 0, 0, 0, 0, 0, 0, 0, 0, 0, 0, 0, 0, 0, 0, 0, 0, 0, 0, 0, 0, 0, 0, 0, 0, 0, 0, 0, 0, 0, 0, 0, 0, 0, 0, 0, 0, 0, 0, 0, 0, 0, 0, 0, 0, 0, 0, 0, 0, 0, 0, 0, 0, 0, 0, 0, 0, 0, 0, 0, 0, 0, 0, 0, 0, 0, 0, 0, 0, 0, 0, 0, 0, 0, 0, 0, 0, 0, 0, 0, 0, 0, 0, 0, 0, 0, 0, 0, 0, 0, 0, 0, 0, 0, 0, 0, 0, 0, 0, 0, 0, 0, 0, 0, 0, 0, 0, 0, 0, 0, 0, 0, 0, 0, 0, 0, 0, 0, 0, 0, 0, 0, 0, 0, 0, 0, 0, 0, 0, 0, 0, 0, 0, 0, 0, 0, 0, 0, 0, 0, 0, 0, 0, 0, 0, 0, 0, 0, 0, 0, 0, 0, 0, 0, 0, 0, 0, 0, 0, 0, 0, 0, 0, 0, 0, 0, 0, 0, 0, 0, 0, 0, 0, 0, 0, 0, 0, 0, 0, 0, 0, 0, 0, 0, 0, 0, 0, 0, 0, 0, 0, 0, 0, 0, 0, 0, 0, 0, 0, 0, 0, 0, 0, 0, 0, 0, 0, 0, 0, 0, 0, 0, 0, 0, 0, 0, 0, 0, 0, 0, 0, 0, 0, 0, 0, 0, 0, 0, 0, 0, 0, 0, 0, 0, 0, 0, 0, 0, 0, 0, 0, 0, 0, 0, 0, 0, 0, 0, 0, 0, 0, 0, 0, 0, 0, 0, 0, 0, 0, 0, 0, 0, 0, 0, 0, 0, 0, 0, 0, 0, 0, 0, 0, 0, 0, 0, 0, 0, 0, 0, 0, 0, 0, 0, 0, 0, 0, 0, 0, 0, 0, 0, 0, 0, 0, 0, 0, 0, 0, 0, 0, 0, 0, 0, 0, 0, 0, 0, 0, 0, 0, 0, 0, 0, 0, 0, 0, 0, 0, 0, 0, 0, 0, 0, 0, 0, 0, 0, 0, 0, 0, 0, 0, 0, 0, 0, 0, 0, 0, 0, 0, 0, 0, 0, 0, 0, 1, 0, 0, 0, 0, 0, 0, 0, 0, 0, 0, 0, 0, 0, 0, 0, 0, 0, 0, 0, 0, 0, 0, 0, 0, 0, 0, 0, 0, 0, 0, 0, 0, 0, 0, 0, 0, 0, 0, 0, 0, 0, 0, 0, 0, 0, 0, 0, 0, 0, 0, 0, 0, 0, 0, 0, 0, 0, 0, 0, 0, 0, 0, 0, 0, 0, 0, 0, 0, 0, 0, 0, 0, 0, 0, 0, 0, 0, 0, 0, 0, 0, 0, 0, 0, 0, 0, 0, 0, 0, 0, 0, 0, 0, 0, 0, 0, 0, 0, 0, 0, 0, 0, 0, 0, 0, 0, 0, 0, 0, 0, 0, 0, 0, 0, 0, 0, 0, 0, 0, 0, 0, 0, 0, 0, 0, 0, 0, 0, 0, 0, 0, 0, 0, 0, 0, 0, 0, 0, 0, 0, 0, 0, 0, 0, 0, 0, 0, 0, 0, 0, 0, 0, 0, 0, 0, 0, 0, 0, 0, 0, 0, 0, 0, 0, 0, 0, 0, 0, 0, 0, 0, 0, 0, 0, 0, 0, 0, 0, 0, 0, 0, 0, 0, 0, 0, 0, 0, 0, 0, 0, 0, 0, 0, 0, 0, 0, 0, 0, 0, 0, 0, 0, 0, 0, 0, 0, 0, 0, 0, 0, 0, 0, 0, 0, 0, 0, 0, 0, 0, 0, 0, 0, 0, 0, 0, 0, 0, 0, 0, 0, 0, 0, 0, 0, 0, 0, 0, 0, 0, 0, 0, 0, 0, 0, 0, 0, 0, 0, 0, 0, 0, 0, 0, 0, 0, 0, 0, 0, 0, 0, 0, 0, 0, 0, 0, 0, 0, 0, 0, 0, 0, 0, 0, 0, 0, 0, 0, 0, 0, 0, 0, 0, 0, 0, 0, 0, 0, 0, 0, 0, 0, 0, 0, 0, 0, 0, 0, 0, 0, 0, 0, 0, 0, 0, 0, 0, 0, 0, 0, 0, 0, 0, 0, 0, 0, 0, 0, 0, 0, 0, 0, 0, 0, 0, 0, 0, 0, 0, 0, 0, 0, 0, 0, 0, 0, 0, 0, 0, 0, 0, 0, 0, 0, 0, 0, 0, 0, 0, 0, 0, 0, 0, 0, 0, 0, 0, 0, 0, 0, 0, 0, 0, 0, 0, 0, 0, 0, 0, 0, 0, 0, 0, 0, 0, 0, 0, 0, 0, 0, 0, 0, 0, 0, 0, 0, 0, 0, 0, 0, 0, 0, 0, 0, 0, 0, 0, 0, 0, 0, 0, 0, 0, 0, 0, 0, 0, 0, 0, 0, 0, 0, 0, 0, 0, 0, 0, 0, 0, 0, 0, 0, 0, 0, 0, 0, 0, 0, 0, 0, 0, 0, 0, 0, 0, 0, 0, 0, 0, 0, 0, 0, 0, 0, 0, 0, 0, 0, 0, 0, 0, 0, 0, 0, 0, 0, 0, 0, 0, 0, 0, 0, 0, 0, 0, 0, 0, 0, 0, 0, 0, 0, 0, 0, 0, 0, 0, 0, 0, 0, 0, 0, 0, 0, 0, 0, 0, 0, 0, 0, 0, 0, 0, 0, 0, 0, 0, 0, 0, 0, 0, 0, 0, 0, 0, 0, 0, 0, 0, 0, 0, 0, 0, 1, 0, 0, 0, 0, 0, 0, 0, 0, 0, 0, 0, 0, 0, 0, 0, 0, 0, 0, 0, 0, 0, 0, 0, 0, 0, 0, 0, 0, 0, 0, 0, 0, 0, 0, 0, 2, 0, 0, 0, 0, 0, 0, 0, 0, 0, 0, 0, 0, 0, 0, 0, 0, 0, 0, 0, 0, 0, 0, 0, 0, 0, 0, 0, 0, 0, 0, 0, 0, 0, 0, 0, 0, 0, 0, 0, 0, 1, 0, 0, 0, 0, 0, 0, 0, 0, 0, 0, 0, 0, 0, 0, 0, 0, 0, 0, 0, 0, 0, 0, 0, 0, 0, 0, 0, 0, 0, 0, 0, 0, 0, 0, 0, 0, 0, 0, 0, 0, 0, 0, 0, 0, 0, 0, 0, 0, 0, 0, 0, 0, 0, 0, 0, 0, 0, 0, 0, 0, 0, 0, 0, 0, 0, 0, 0, 0, 0, 0, 0, 0, 0, 0, 0, 0, 0, 0, 0, 0, 0, 0, 0, 0, 0, 0, 0, 0, 0, 0, 0, 0, 0, 0, 0, 0, 0, 0, 0, 0, 0, 0, 0, 0, 0, 0, 0, 0, 0, 0, 0, 0, 0, 0, 0, 0, 0, 0, 0, 0, 0, 0, 0, 0, 0, 0, 0, 0, 0, 0, 0, 0, 0, 0, 0, 0, 0, 0, 0, 0, 0, 0, 0, 0, 0, 0, 0, 0, 0, 0, 0, 0, 0, 0, 0, 0, 0, 0, 0, 0, 0, 0, 0, 0, 0, 0, 0, 0, 0, 0, 0, 0, 0, 0, 0, 0, 0, 0, 0, 0, 0, 0, 0, 0, 0, 0, 0, 0, 0, 0, 0, 0, 0, 0, 0, 0, 0, 0, 0, 0, 0, 0, 0, 0, 0, 0, 0, 0, 0, 0, 0, 0, 0, 0, 0, 0, 0, 0, 0, 0, 0, 0, 0, 0, 0, 0, 0, 0, 0, 0, 0, 0, 0, 0, 0, 0, 0, 0, 0, 0, 0, 0, 0, 0, 0, 0, 0, 0, 0, 0, 0, 0, 0, 0, 0, 0, 0, 0, 0, 0, 0, 0, 0, 0, 0, 0, 0, 0, 0, 0, 0, 0, 0, 0, 0, 0, 0, 0, 0, 0, 0, 0, 0, 0, 0, 0, 0, 0, 0, 0, 0, 0, 0, 0, 0, 0, 0, 0, 0, 0, 0, 0, 0, 0, 0, 0, 0, 0, 0, 0, 0, 0, 0, 0, 0, 0, 0, 0, 0, 0, 0, 0, 0, 0, 0, 0, 0, 0, 0, 0, 0, 0, 0, 0, 0, 0, 0, 0, 0, 0, 0, 0, 0, 0, 0, 0, 0, 0, 0, 0, 0, 0, 0, 0, 0, 0, 0, 0, 0, 0, 0, 0, 0, 0, 0, 0, 0, 0, 0, 0, 0, 0, 0, 0, 0, 0, 0, 0, 0, 0, 0, 0, 0, 0, 0, 0, 0, 0, 0, 0, 0, 0, 0, 0, 0, 0, 0, 0, 0, 0, 0, 0, 0, 0, 0, 0, 0, 0, 0, 0, 0, 0, 0, 0, 0, 0, 0, 0, 0, 0, 0, 0, 0, 0, 0, 0, 0, 0, 0, 0, 0, 0, 0, 0, 0, 0, 0, 0, 0, 0, 0, 0, 0, 0, 0, 0, 0, 0, 0, 0, 0, 0, 0, 0, 0, 0, 0, 0, 0, 0, 0, 0, 0, 0, 0, 0, 0, 0, 0, 0, 0, 0, 0, 0, 0, 0, 0, 0, 0, 0, 0, 0, 0, 0, 0, 0, 0, 0, 0, 0, 0, 0, 0, 0, 0, 0, 0, 1, 0, 0, 0, 0, 0, 0, 0, 0, 0, 0, 0, 0, 0, 0, 0, 0, 0, 0, 0, 0, 0, 0, 0, 0, 0, 0, 0, 0, 0, 0, 0, 0, 0, 0, 0, 0, 0, 0, 0, 0, 0, 0, 0, 0, 0, 0, 0, 0, 0, 0, 0, 0, 0, 0, 0, 0, 0, 0, 0, 0, 0, 0, 0, 0, 0, 0, 0, 0, 0, 0, 0, 0, 0, 0, 0, 0, 0, 0, 0, 0, 0, 0, 0, 0, 0, 0, 0, 0, 0, 0, 0, 0, 0, 0, 0, 0, 0, 0, 0, 0, 0, 0, 0, 0, 0, 0, 0, 0, 0, 0, 2, 0, 0, 0, 0, 0, 0, 0, 0, 0, 0, 0, 0, 0, 0, 0, 0, 0, 0, 0, 0, 0, 0, 0, 0, 0, 0, 0, 0, 0, 0, 0, 0, 0, 0, 0, 0, 0, 0, 0, 0, 0, 0, 0, 0, 0, 0, 0, 0, 0, 0, 0, 0, 0, 0, 0, 0, 0, 0, 0, 0, 0, 0, 0, 0, 0, 0, 0, 0, 0, 0, 0, 0, 0, 0, 0, 0, 0, 0, 0, 0, 0, 0, 0, 0, 0, 0, 0, 0, 0, 0, 0, 0, 0, 0, 0, 0, 0, 0, 0, 0, 0, 0, 0, 0, 0, 0, 0, 0, 0, 0, 0, 0, 0, 0, 0, 0, 0, 0, 0, 0, 0, 0, 0, 0, 0, 0, 0, 0, 0, 0, 0, 0, 0, 0, 0, 0, 0, 0, 0, 0, 0, 0, 0, 0, 0, 0, 0, 0, 0, 0, 0, 0, 0, 0, 0, 0, 0, 0, 0, 0, 0, 0, 0, 0, 0, 0, 0, 0, 0, 0, 0, 0, 0, 0, 0, 0, 0, 0, 0, 0, 0, 0, 0, 0, 0, 0, 0, 0, 0, 0, 0, 0, 0, 0, 0, 0, 0, 0, 0, 0, 0, 0, 0, 0, 0, 0, 0, 0, 0, 0, 0, 0, 0, 0, 0, 0, 0, 0, 0, 0, 0, 0, 0, 0, 0, 0, 0, 0, 0, 0, 0, 0, 0, 0, 0, 0, 0, 0, 0, 0, 0, 0, 0, 0, 0, 0, 0, 0, 0, 0, 0, 0, 0, 0, 0, 0, 0, 0, 0, 0, 0, 0, 0, 0, 0, 0, 0, 0, 0, 0, 0, 0, 0, 0, 0, 0, 0, 0, 0, 0, 0, 0, 0, 0, 0, 0, 0, 0, 0, 0, 0, 0, 0, 0, 0, 0, 0, 0, 0, 0, 0, 0, 0, 0, 0, 0, 0, 0, 0, 0, 0, 0, 0, 0, 0, 0, 0, 0, 0, 0, 0, 0, 0, 0, 0, 0, 0, 0, 0, 0, 0, 0, 0, 0, 0, 0, 0, 0, 0, 0, 0, 0, 0, 0, 0, 0, 0, 0, 0, 0, 0, 0, 0, 0, 0, 0, 0, 0, 0, 0, 0, 0, 0, 0, 0, 0, 0, 0, 0, 0, 0, 0, 0, 0, 0, 0, 0, 0, 0, 0, 0, 0, 0, 0, 0, 0, 0, 0, 0, 0, 0, 0, 0, 0, 0, 0, 0, 0, 0, 0, 0, 0, 0, 0, 0, 0, 0, 0, 0, 0, 0, 0, 0, 0, 0, 0, 0, 0, 0, 0, 0, 0, 0, 0, 0, 0, 0, 0, 0, 0, 0, 0, 0, 0, 0, 0, 0, 0, 0, 0, 0, 0, 0, 0, 0, 0, 0, 0, 0, 0, 0, 0, 0, 0, 0, 0, 0, 0, 0, 0, 0, 0, 0, 0, 0, 0, 0, 0, 0, 0, 0, 0, 0, 0, 0, 0, 0, 0, 0, 0, 0, 0, 0, 0, 0, 0, 0, 0, 0, 0, 0, 0, 0, 0, 0, 0, 0, 0, 0, 0, 0, 0, 0, 0, 0, 0, 0, 0, 0, 0, 0, 0, 0, 0, 0, 0, 0, 0, 0, 0, 0, 0, 0, 0, 0, 0, 0, 0, 0, 0, 0, 0, 0, 0, 0, 0, 0, 0, 0, 0, 0, 0, 0, 0, 0, 0, 0, 0, 0, 0, 0, 0, 0, 0, 0, 0, 0, 0, 0, 0, 0, 0, 0, 0, 0, 0, 0, 0, 0, 0, 0, 0, 0, 0, 0, 0, 0, 0, 0, 0, 0, 0, 0, 0, 0, 0, 0, 0, 0, 0, 0, 0, 0, 0, 0, 0, 0, 0, 0, 0, 0, 0, 0, 0, 0, 0, 0, 0, 0, 0, 0, 0, 0, 0, 0, 0, 0, 0, 0, 0, 0, 0, 0, 0, 0, 0, 0, 0, 0, 0, 0, 0, 0, 0, 0, 0, 0, 0, 0, 0, 0, 0, 0, 0, 0, 0, 0, 0, 0, 0, 0, 0, 0, 0, 0, 0, 0, 0, 0, 0, 0, 0, 0, 0, 0, 0, 0, 0, 0, 0, 0, 0, 0, 0, 0, 0, 0, 0, 0, 0, 0, 0, 0, 0, 0, 0, 0, 0, 0, 0, 1, 0, 0, 0, 0, 0, 0, 0, 0, 0, 0, 0, 0, 0, 0, 0, 0, 0, 0, 0, 0, 0, 0, 0, 0, 0, 0, 0, 0, 0, 0, 0, 0, 0, 0, 0, 0, 0, 0, 0, 0, 0, 0, 0, 0, 0, 0, 0, 0, 0, 0, 0, 0, 0, 0, 0, 0, 0, 0, 0, 0, 0, 0, 0, 0, 0, 0, 0, 0, 0, 0, 0, 0, 0, 0, 0, 0, 0, 0, 0, 0, 0, 0, 0, 0, 0, 0, 0, 0, 0, 0, 0, 0, 0, 0, 0, 0, 0, 0, 0, 0, 0, 0, 0, 0, 0, 0, 0, 1, 0, 0, 0, 0, 0, 0, 0, 0, 0, 0, 0, 0, 0, 0, 0, 0, 0, 0, 0, 0, 0, 0, 0, 0, 0, 0, 0, 0, 0, 0, 0, 0, 0, 0, 0, 0, 0, 0, 0, 0, 0, 0, 0, 0, 0, 0, 0, 0, 0, 0, 0, 0, 0, 0, 0, 0, 0, 0, 0, 0, 0, 0, 0, 0, 0, 0, 0, 0, 0, 0, 0, 0, 0, 0, 0, 0, 0, 0, 0, 0, 0, 0, 0, 0, 0, 0, 0, 0, 0, 0, 0, 0, 0, 0, 0, 0, 0, 0, 0, 0, 0, 0, 0, 0, 0, 0, 0, 0, 0, 0, 0, 0, 0, 0, 0, 0, 0, 0, 0, 0, 0, 0, 0, 0, 0, 0, 0, 0, 0, 0, 0, 0, 0, 0, 0, 0, 0, 0, 0, 0, 0, 0, 0, 0, 0, 0, 0, 0, 0, 0, 0, 0, 0, 0, 0, 0, 0, 0, 0, 0, 0, 0, 0, 0, 0, 0, 0, 0, 0, 0, 0, 0, 0, 0, 0, 0, 0, 0, 0, 0, 0, 0, 0, 0, 0, 0, 0, 0, 0, 0, 0, 0, 0, 0, 0, 0, 0, 0, 0, 0, 0, 0, 0, 0, 0, 0, 0, 0, 0, 0, 0, 0, 0, 0, 0, 0, 0, 0, 0, 0, 0, 0, 0, 0, 0, 0, 0, 0, 0, 0, 0, 0, 0, 0, 0, 0, 0, 0, 0, 0, 0, 0, 0, 0, 0, 0, 0, 0, 0, 0, 0, 0, 0, 0, 0, 0, 0, 0, 0, 0, 0, 0, 0, 0, 0, 0, 0, 0, 0, 0, 0, 0, 0, 0, 0, 0, 0, 0, 0, 0, 0, 0, 0, 0, 0, 0, 0, 0, 0, 0, 0, 0, 0, 0, 0, 0, 0, 0, 0, 0, 0, 0, 0, 0, 0, 0, 0, 0, 0, 0, 0, 0, 0, 0, 0, 0, 0, 0, 0, 0, 0, 0, 0, 0, 0, 0, 0, 0, 0, 0, 0, 0, 0, 0, 0, 0, 0, 0, 0, 0, 0, 0, 0, 0, 0, 0, 0, 0, 0, 0, 0, 0, 0, 0, 0, 0, 0, 0, 0, 0, 0, 0, 0, 0, 0, 0, 0, 0, 0, 0, 0, 0, 0, 0, 0, 0, 0, 0, 0, 0, 0, 0, 0, 0, 0, 0, 0, 0, 0, 0, 0, 0, 0, 0, 0, 0, 0, 0, 0, 0, 0, 0, 0, 0, 0, 0, 0, 0, 0, 0, 0, 0, 0, 0, 0, 0, 0, 0, 0, 0, 0, 0, 0, 0, 0, 0, 0, 0, 0, 0, 0, 0, 0, 0, 0, 0, 0, 0, 0, 0, 0, 0, 0, 0, 0, 0, 0, 0, 0, 0, 0, 0, 0, 0, 0, 0, 0, 0, 0, 0, 0, 0, 0, 2, 0, 1, 0]\n"
     ]
    }
   ],
   "source": [
    "test_bow = bow_encoding(test_words, vocabulary)\n",
    "print(test_bow)"
   ]
  },
  {
   "cell_type": "code",
   "execution_count": 40,
   "metadata": {},
   "outputs": [
    {
     "data": {
      "text/plain": [
       "5000"
      ]
     },
     "execution_count": 40,
     "metadata": {},
     "output_type": "execute_result"
    }
   ],
   "source": [
    "len(test_bow)"
   ]
  },
  {
   "cell_type": "markdown",
   "metadata": {},
   "source": [
    "So now we know how to construct a bag of words encoding of a user provided review, how to we send it to our endpoint? First, we need to start the endpoint back up."
   ]
  },
  {
   "cell_type": "code",
   "execution_count": 41,
   "metadata": {},
   "outputs": [
    {
     "name": "stderr",
     "output_type": "stream",
     "text": [
      "WARNING:sagemaker:Using already existing model: xgboost-2020-05-03-23-19-22-432\n"
     ]
    },
    {
     "name": "stdout",
     "output_type": "stream",
     "text": [
      "-------------!"
     ]
    }
   ],
   "source": [
    "xgb_predictor = xgb.deploy(initial_instance_count = 1, instance_type = 'ml.m4.xlarge')"
   ]
  },
  {
   "cell_type": "markdown",
   "metadata": {},
   "source": [
    "At this point we could just do the same thing that we did earlier when we tested our deployed model and send `test_bow` to our endpoint using the `xgb_predictor` object. However, when we eventually construct our Lambda function we won't have access to this object, so how do we call a SageMaker endpoint?\n",
    "\n",
    "It turns out that Python functions that are used in Lambda have access to another Amazon library called `boto3`. This library provides an API for working with Amazon services, including SageMaker. To start with, we need to get a handle to the SageMaker runtime."
   ]
  },
  {
   "cell_type": "code",
   "execution_count": 42,
   "metadata": {},
   "outputs": [],
   "source": [
    "import boto3\n",
    "\n",
    "runtime = boto3.Session().client('sagemaker-runtime')"
   ]
  },
  {
   "cell_type": "markdown",
   "metadata": {},
   "source": [
    "And now that we have access to the SageMaker runtime, we can ask it to make use of (invoke) an endpoint that has already been created. However, we need to provide SageMaker with the name of the deployed endpoint. To find this out we can print it out using the `xgb_predictor` object."
   ]
  },
  {
   "cell_type": "code",
   "execution_count": 43,
   "metadata": {},
   "outputs": [
    {
     "data": {
      "text/plain": [
       "'xgboost-2020-05-03-23-19-22-432'"
      ]
     },
     "execution_count": 43,
     "metadata": {},
     "output_type": "execute_result"
    }
   ],
   "source": [
    "xgb_predictor.endpoint"
   ]
  },
  {
   "cell_type": "markdown",
   "metadata": {},
   "source": [
    "Using the SageMaker runtime and the name of our endpoint, we can invoke the endpoint and send it the `test_bow` data."
   ]
  },
  {
   "cell_type": "code",
   "execution_count": 44,
   "metadata": {},
   "outputs": [
    {
     "ename": "ParamValidationError",
     "evalue": "Parameter validation failed:\nInvalid type for parameter Body, value: [0, 0, 0, 0, 0, 0, 0, 0, 0, 0, 0, 0, 0, 0, 0, 0, 0, 0, 0, 0, 0, 0, 0, 0, 0, 0, 0, 0, 0, 0, 0, 0, 0, 0, 0, 0, 0, 0, 0, 0, 0, 0, 0, 0, 0, 0, 0, 0, 0, 0, 0, 0, 0, 0, 0, 0, 0, 0, 0, 0, 0, 0, 0, 0, 0, 0, 0, 0, 0, 0, 0, 0, 0, 0, 0, 0, 0, 0, 0, 0, 0, 0, 0, 0, 0, 0, 0, 0, 0, 0, 0, 0, 0, 0, 0, 0, 0, 0, 0, 0, 0, 0, 0, 0, 0, 0, 0, 0, 0, 0, 0, 0, 0, 0, 0, 0, 0, 0, 0, 0, 0, 0, 0, 0, 0, 0, 0, 0, 0, 0, 0, 0, 0, 0, 0, 0, 0, 0, 0, 0, 0, 0, 0, 0, 0, 0, 0, 0, 0, 0, 0, 0, 0, 0, 0, 0, 0, 0, 0, 0, 0, 0, 0, 0, 0, 0, 0, 0, 0, 0, 0, 0, 0, 0, 0, 0, 0, 0, 0, 0, 0, 0, 0, 0, 0, 0, 0, 0, 0, 0, 0, 0, 0, 0, 0, 0, 0, 0, 0, 0, 0, 0, 0, 0, 0, 0, 0, 0, 0, 0, 0, 0, 0, 0, 0, 0, 0, 0, 0, 0, 0, 0, 0, 0, 0, 0, 1, 0, 0, 0, 0, 0, 0, 0, 0, 0, 0, 0, 0, 0, 0, 0, 0, 0, 0, 0, 0, 0, 0, 0, 0, 0, 0, 0, 0, 0, 1, 0, 0, 0, 0, 0, 0, 0, 0, 0, 0, 0, 0, 0, 0, 0, 0, 0, 0, 0, 0, 0, 0, 0, 0, 0, 0, 0, 0, 0, 0, 0, 0, 0, 0, 0, 0, 0, 0, 0, 0, 0, 0, 0, 0, 0, 0, 0, 0, 0, 0, 0, 0, 0, 0, 0, 0, 0, 0, 0, 0, 0, 0, 0, 0, 0, 0, 0, 0, 0, 0, 0, 0, 0, 0, 0, 0, 0, 0, 0, 0, 0, 0, 0, 0, 0, 0, 0, 0, 0, 0, 0, 0, 0, 0, 0, 0, 0, 0, 0, 0, 0, 0, 0, 0, 0, 0, 0, 0, 0, 0, 0, 0, 0, 0, 0, 0, 0, 0, 0, 0, 0, 0, 0, 0, 0, 0, 0, 0, 0, 0, 0, 0, 0, 0, 0, 0, 0, 0, 0, 0, 0, 0, 0, 0, 0, 0, 0, 0, 0, 0, 0, 0, 0, 0, 0, 0, 0, 0, 0, 0, 0, 0, 0, 0, 0, 0, 0, 0, 0, 0, 0, 0, 0, 0, 0, 0, 0, 0, 0, 0, 0, 0, 0, 0, 0, 0, 0, 0, 0, 0, 0, 0, 0, 0, 0, 0, 0, 0, 0, 0, 0, 0, 0, 0, 0, 0, 0, 0, 0, 0, 0, 0, 0, 0, 0, 0, 0, 0, 0, 0, 0, 0, 0, 0, 0, 0, 0, 0, 0, 0, 0, 0, 0, 0, 0, 0, 0, 0, 0, 0, 0, 0, 0, 0, 0, 0, 0, 0, 0, 0, 0, 0, 0, 0, 0, 0, 0, 0, 0, 0, 0, 0, 0, 0, 0, 0, 0, 0, 0, 0, 0, 0, 0, 0, 0, 0, 0, 0, 0, 0, 0, 0, 0, 0, 0, 0, 0, 0, 0, 0, 0, 0, 0, 0, 0, 0, 0, 0, 0, 0, 0, 0, 0, 0, 0, 0, 0, 0, 0, 0, 0, 0, 0, 0, 0, 0, 0, 0, 0, 0, 0, 0, 0, 0, 0, 0, 0, 0, 0, 0, 0, 0, 0, 0, 0, 0, 0, 0, 0, 0, 0, 0, 0, 0, 0, 0, 0, 0, 0, 0, 0, 0, 0, 0, 0, 0, 0, 0, 0, 0, 0, 0, 0, 0, 0, 0, 0, 0, 0, 0, 0, 0, 0, 0, 0, 0, 0, 0, 0, 1, 0, 0, 0, 0, 0, 0, 0, 0, 0, 0, 0, 0, 0, 0, 0, 0, 0, 0, 0, 0, 0, 0, 0, 0, 0, 0, 0, 0, 0, 0, 0, 0, 0, 0, 0, 0, 0, 0, 0, 0, 0, 0, 0, 0, 0, 0, 0, 0, 0, 0, 0, 0, 0, 0, 0, 0, 0, 0, 0, 0, 0, 0, 0, 0, 0, 0, 0, 0, 0, 0, 0, 0, 0, 0, 0, 0, 0, 0, 0, 0, 0, 0, 0, 0, 0, 0, 0, 0, 0, 0, 0, 0, 0, 0, 0, 0, 0, 0, 0, 0, 0, 0, 0, 0, 0, 0, 0, 0, 0, 0, 0, 0, 0, 0, 0, 0, 0, 0, 0, 0, 0, 0, 0, 0, 0, 0, 0, 0, 0, 0, 0, 0, 0, 0, 0, 0, 0, 0, 0, 0, 0, 0, 0, 0, 0, 0, 0, 0, 0, 0, 0, 0, 0, 0, 0, 0, 0, 0, 0, 0, 0, 0, 0, 0, 0, 0, 0, 0, 0, 0, 0, 0, 0, 0, 0, 0, 0, 0, 0, 0, 0, 0, 0, 0, 0, 0, 0, 0, 0, 0, 0, 0, 0, 0, 0, 0, 0, 0, 0, 0, 0, 0, 0, 0, 0, 0, 0, 0, 0, 0, 0, 0, 0, 0, 0, 0, 0, 0, 0, 0, 0, 0, 0, 0, 0, 0, 0, 0, 0, 0, 0, 0, 0, 0, 0, 0, 0, 0, 0, 0, 0, 0, 0, 0, 0, 0, 0, 0, 0, 0, 0, 0, 0, 1, 0, 0, 0, 0, 0, 0, 0, 0, 0, 0, 0, 0, 0, 0, 0, 0, 0, 0, 0, 0, 0, 0, 0, 0, 0, 0, 0, 0, 0, 0, 0, 0, 0, 0, 0, 0, 0, 0, 0, 0, 0, 0, 0, 0, 0, 0, 0, 0, 0, 0, 0, 0, 0, 0, 0, 0, 0, 0, 0, 0, 0, 0, 0, 0, 0, 0, 0, 0, 0, 0, 0, 0, 0, 0, 0, 0, 0, 0, 0, 0, 0, 0, 0, 0, 0, 0, 1, 0, 0, 0, 0, 0, 0, 0, 0, 0, 0, 0, 0, 0, 0, 0, 0, 0, 0, 0, 0, 0, 0, 0, 0, 0, 0, 0, 0, 0, 0, 0, 0, 0, 0, 0, 0, 0, 0, 0, 0, 0, 0, 0, 0, 0, 0, 0, 0, 0, 0, 0, 0, 0, 0, 0, 0, 0, 0, 0, 0, 0, 0, 0, 0, 0, 0, 0, 0, 0, 0, 0, 0, 0, 0, 0, 0, 0, 0, 0, 0, 0, 0, 0, 0, 0, 0, 0, 0, 0, 0, 0, 0, 0, 0, 0, 0, 0, 0, 0, 0, 0, 0, 0, 0, 0, 0, 0, 0, 0, 0, 0, 0, 0, 0, 0, 0, 0, 0, 0, 0, 0, 0, 0, 0, 0, 0, 0, 0, 0, 0, 0, 0, 0, 0, 0, 0, 0, 0, 0, 0, 0, 0, 0, 0, 0, 0, 0, 0, 0, 0, 0, 0, 0, 0, 0, 0, 0, 0, 0, 0, 0, 0, 0, 0, 0, 0, 0, 0, 0, 0, 0, 0, 0, 0, 0, 0, 0, 0, 0, 0, 0, 0, 0, 0, 0, 0, 0, 0, 0, 0, 0, 0, 0, 0, 0, 0, 0, 0, 0, 0, 0, 0, 0, 0, 0, 0, 0, 0, 0, 0, 0, 0, 0, 0, 0, 0, 0, 0, 0, 0, 0, 0, 0, 0, 0, 0, 0, 0, 0, 0, 0, 0, 0, 0, 0, 0, 0, 0, 0, 0, 0, 0, 0, 0, 0, 0, 0, 0, 0, 0, 0, 0, 1, 0, 0, 0, 0, 0, 0, 0, 0, 0, 0, 0, 0, 0, 0, 0, 0, 0, 0, 0, 0, 0, 0, 0, 0, 0, 0, 0, 0, 0, 0, 0, 0, 0, 0, 0, 0, 0, 0, 0, 0, 0, 0, 0, 0, 0, 0, 0, 0, 0, 0, 0, 0, 0, 0, 0, 1, 0, 0, 0, 0, 0, 0, 0, 0, 0, 0, 0, 0, 0, 0, 0, 0, 0, 0, 0, 0, 0, 0, 0, 0, 0, 0, 0, 0, 0, 0, 0, 0, 0, 0, 0, 0, 0, 0, 0, 0, 0, 0, 0, 0, 0, 0, 0, 0, 0, 0, 0, 0, 0, 0, 0, 0, 0, 0, 0, 0, 0, 0, 0, 0, 0, 0, 0, 0, 0, 0, 0, 0, 0, 0, 0, 0, 0, 0, 0, 0, 0, 0, 0, 0, 0, 0, 0, 0, 0, 0, 0, 0, 0, 0, 0, 0, 0, 0, 0, 0, 0, 0, 0, 0, 0, 0, 0, 0, 0, 0, 0, 0, 0, 0, 0, 0, 0, 0, 0, 0, 0, 0, 0, 0, 0, 0, 0, 0, 0, 0, 0, 0, 0, 0, 0, 0, 0, 0, 0, 0, 0, 0, 0, 0, 0, 0, 0, 0, 0, 0, 0, 0, 0, 0, 0, 0, 0, 0, 0, 0, 0, 0, 0, 0, 0, 0, 0, 0, 0, 0, 0, 0, 0, 0, 0, 0, 0, 0, 0, 0, 0, 0, 0, 0, 0, 0, 0, 0, 0, 0, 0, 0, 0, 0, 0, 0, 0, 0, 0, 0, 0, 0, 0, 0, 0, 0, 0, 0, 0, 0, 0, 0, 0, 0, 0, 0, 0, 0, 0, 0, 0, 0, 0, 0, 0, 0, 0, 0, 0, 0, 0, 0, 0, 0, 0, 0, 0, 0, 0, 0, 0, 0, 0, 0, 0, 0, 0, 0, 0, 0, 0, 0, 0, 0, 0, 0, 0, 0, 0, 0, 0, 0, 0, 0, 0, 0, 0, 0, 0, 0, 0, 0, 0, 0, 0, 0, 0, 0, 0, 0, 0, 0, 0, 0, 0, 0, 0, 0, 0, 0, 0, 0, 0, 0, 0, 0, 0, 0, 0, 0, 0, 0, 0, 0, 0, 0, 0, 0, 0, 0, 0, 0, 0, 0, 0, 0, 0, 0, 0, 0, 0, 0, 0, 0, 0, 0, 0, 0, 0, 0, 0, 0, 0, 0, 0, 0, 0, 0, 0, 0, 0, 0, 0, 0, 0, 0, 0, 0, 0, 0, 0, 0, 0, 0, 0, 0, 0, 0, 0, 0, 0, 0, 0, 0, 0, 0, 0, 0, 0, 0, 0, 0, 0, 0, 0, 0, 0, 0, 0, 0, 0, 0, 0, 0, 0, 0, 0, 0, 0, 0, 0, 0, 0, 0, 0, 0, 0, 0, 0, 0, 0, 0, 0, 0, 0, 0, 0, 0, 0, 0, 0, 0, 0, 0, 0, 0, 0, 0, 0, 0, 0, 0, 0, 0, 0, 0, 0, 0, 0, 0, 0, 0, 0, 0, 0, 0, 0, 0, 0, 0, 0, 0, 0, 0, 0, 0, 0, 0, 0, 0, 0, 0, 0, 0, 0, 0, 0, 0, 0, 0, 0, 0, 0, 0, 0, 0, 0, 0, 0, 0, 0, 0, 0, 0, 0, 0, 0, 0, 0, 0, 0, 0, 0, 0, 0, 0, 0, 0, 0, 0, 0, 0, 0, 0, 0, 0, 0, 0, 0, 0, 0, 0, 0, 0, 0, 0, 0, 0, 0, 0, 0, 0, 0, 0, 0, 0, 0, 0, 0, 0, 0, 0, 0, 0, 0, 0, 0, 0, 0, 0, 0, 0, 0, 0, 0, 0, 0, 0, 0, 0, 0, 0, 0, 0, 0, 0, 0, 0, 0, 0, 0, 0, 0, 0, 0, 0, 0, 0, 0, 0, 0, 0, 0, 0, 0, 0, 0, 0, 0, 0, 0, 0, 0, 0, 0, 0, 0, 0, 0, 0, 0, 0, 0, 0, 0, 0, 0, 0, 0, 0, 0, 0, 0, 0, 0, 0, 0, 0, 0, 0, 0, 0, 0, 0, 0, 0, 0, 0, 0, 0, 0, 0, 0, 0, 0, 0, 0, 0, 0, 0, 0, 0, 0, 0, 0, 0, 0, 0, 0, 0, 0, 0, 0, 0, 0, 0, 0, 0, 0, 0, 0, 0, 0, 0, 0, 0, 0, 0, 0, 0, 0, 0, 0, 0, 0, 0, 0, 0, 0, 0, 0, 0, 0, 0, 0, 0, 0, 0, 0, 0, 0, 0, 0, 0, 0, 0, 0, 0, 0, 0, 0, 1, 0, 0, 0, 0, 0, 0, 0, 0, 0, 0, 0, 0, 0, 0, 0, 0, 0, 0, 0, 0, 0, 0, 0, 0, 0, 0, 0, 0, 0, 0, 0, 0, 0, 0, 0, 0, 0, 0, 0, 0, 0, 0, 0, 0, 0, 0, 0, 0, 0, 0, 0, 0, 0, 0, 0, 0, 0, 0, 0, 0, 0, 0, 0, 0, 0, 0, 0, 0, 0, 0, 0, 0, 0, 0, 1, 0, 0, 0, 0, 0, 0, 0, 0, 0, 0, 0, 0, 0, 0, 0, 0, 0, 0, 0, 0, 1, 0, 0, 1, 0, 0, 0, 0, 0, 0, 0, 0, 0, 0, 0, 0, 0, 0, 0, 0, 0, 0, 0, 0, 0, 0, 0, 0, 0, 0, 0, 0, 0, 0, 0, 0, 0, 0, 0, 0, 0, 0, 0, 0, 0, 0, 0, 0, 0, 0, 0, 0, 0, 0, 0, 0, 0, 0, 0, 0, 0, 0, 0, 0, 0, 0, 0, 0, 0, 0, 0, 0, 0, 0, 0, 0, 0, 0, 0, 0, 0, 0, 0, 0, 0, 0, 0, 0, 0, 0, 0, 0, 0, 0, 0, 0, 0, 0, 0, 0, 0, 0, 0, 0, 0, 0, 0, 0, 0, 0, 0, 0, 0, 0, 0, 0, 0, 0, 0, 0, 0, 0, 0, 0, 0, 0, 0, 0, 0, 0, 0, 0, 0, 0, 0, 0, 0, 0, 0, 0, 0, 0, 0, 0, 0, 0, 0, 0, 0, 0, 0, 0, 0, 0, 0, 0, 0, 0, 0, 0, 0, 0, 0, 0, 0, 0, 0, 0, 0, 0, 0, 0, 0, 0, 0, 0, 0, 0, 0, 0, 0, 0, 0, 0, 0, 0, 0, 0, 0, 0, 0, 0, 0, 0, 0, 0, 0, 0, 0, 0, 0, 0, 0, 0, 0, 0, 0, 0, 0, 0, 0, 0, 0, 0, 0, 0, 0, 0, 0, 0, 0, 0, 0, 0, 0, 0, 0, 0, 0, 0, 0, 0, 0, 0, 0, 0, 0, 0, 0, 0, 0, 0, 0, 0, 0, 0, 0, 0, 0, 0, 0, 0, 0, 0, 0, 0, 0, 0, 0, 0, 0, 0, 0, 0, 0, 0, 0, 0, 0, 0, 0, 0, 0, 0, 0, 0, 0, 0, 0, 0, 0, 0, 0, 0, 0, 0, 0, 0, 0, 0, 0, 0, 0, 0, 0, 0, 0, 0, 0, 0, 0, 0, 0, 0, 0, 0, 0, 0, 0, 0, 0, 0, 0, 0, 0, 0, 0, 0, 0, 0, 0, 0, 0, 0, 0, 0, 0, 0, 0, 0, 0, 0, 0, 0, 0, 0, 0, 0, 0, 0, 0, 0, 0, 0, 0, 0, 0, 0, 0, 0, 0, 0, 0, 0, 0, 0, 0, 0, 0, 0, 0, 0, 0, 0, 0, 0, 0, 0, 0, 0, 0, 0, 0, 0, 0, 0, 0, 0, 0, 0, 0, 0, 0, 0, 0, 0, 0, 0, 0, 0, 0, 0, 0, 0, 0, 0, 0, 0, 0, 0, 0, 0, 0, 0, 0, 0, 0, 0, 0, 0, 0, 0, 0, 0, 0, 0, 0, 0, 0, 0, 0, 0, 0, 0, 0, 0, 0, 0, 0, 0, 0, 0, 0, 0, 0, 0, 0, 0, 0, 0, 0, 0, 0, 0, 0, 0, 0, 0, 0, 0, 0, 0, 0, 0, 0, 0, 0, 0, 0, 0, 0, 0, 0, 0, 0, 0, 0, 0, 0, 0, 1, 0, 0, 0, 0, 0, 0, 0, 0, 0, 0, 0, 0, 0, 0, 0, 0, 0, 0, 0, 0, 0, 0, 0, 0, 0, 0, 0, 0, 0, 0, 0, 0, 0, 0, 0, 0, 0, 0, 0, 0, 0, 0, 0, 0, 0, 0, 0, 0, 0, 0, 0, 0, 0, 0, 0, 0, 0, 0, 0, 0, 0, 0, 0, 0, 0, 0, 0, 0, 0, 0, 0, 0, 0, 0, 0, 0, 0, 0, 0, 0, 0, 0, 0, 0, 0, 0, 0, 0, 0, 0, 0, 0, 0, 0, 0, 0, 0, 0, 0, 0, 0, 0, 0, 0, 0, 0, 0, 0, 0, 0, 0, 0, 0, 0, 0, 0, 0, 0, 0, 0, 0, 0, 0, 0, 0, 0, 0, 0, 0, 0, 0, 0, 0, 0, 0, 0, 0, 0, 0, 0, 0, 0, 0, 0, 0, 0, 0, 0, 0, 0, 0, 0, 0, 0, 0, 0, 0, 0, 0, 0, 0, 0, 0, 0, 0, 0, 0, 0, 0, 0, 0, 0, 0, 0, 0, 0, 0, 0, 0, 0, 0, 0, 0, 0, 0, 0, 0, 0, 0, 0, 0, 0, 0, 0, 0, 0, 0, 0, 0, 0, 0, 0, 0, 0, 0, 0, 0, 0, 0, 0, 0, 0, 0, 0, 0, 0, 0, 0, 0, 0, 0, 0, 0, 0, 0, 0, 0, 0, 0, 0, 0, 0, 0, 0, 0, 0, 0, 0, 0, 0, 0, 0, 0, 0, 0, 0, 0, 0, 0, 0, 0, 0, 0, 0, 0, 0, 0, 0, 0, 0, 0, 0, 0, 0, 0, 0, 0, 0, 0, 0, 0, 0, 0, 0, 0, 0, 0, 0, 0, 0, 0, 0, 0, 0, 0, 0, 0, 0, 0, 0, 0, 0, 0, 0, 0, 0, 0, 0, 0, 0, 0, 0, 0, 0, 0, 0, 0, 0, 0, 0, 0, 0, 0, 0, 0, 0, 0, 0, 0, 0, 0, 0, 0, 0, 0, 0, 0, 0, 0, 0, 0, 0, 0, 0, 0, 0, 0, 0, 0, 0, 0, 0, 0, 0, 0, 0, 0, 0, 0, 0, 0, 0, 0, 0, 0, 0, 0, 0, 0, 0, 0, 0, 0, 0, 0, 0, 0, 0, 0, 0, 0, 0, 0, 0, 0, 0, 0, 0, 0, 0, 0, 0, 0, 0, 0, 0, 0, 0, 0, 0, 0, 0, 0, 0, 0, 0, 0, 0, 0, 0, 0, 0, 0, 0, 0, 0, 0, 0, 0, 0, 0, 0, 0, 0, 0, 0, 0, 0, 0, 0, 0, 0, 0, 0, 0, 0, 0, 0, 0, 0, 0, 0, 0, 0, 0, 0, 0, 0, 0, 0, 0, 0, 0, 0, 0, 0, 0, 0, 0, 0, 0, 0, 0, 0, 0, 0, 0, 0, 0, 0, 0, 0, 0, 0, 0, 0, 0, 0, 0, 0, 0, 0, 0, 0, 0, 0, 0, 0, 0, 0, 0, 0, 0, 0, 0, 0, 0, 0, 0, 0, 0, 0, 0, 0, 0, 0, 0, 0, 0, 0, 0, 0, 0, 0, 0, 0, 0, 0, 0, 0, 0, 0, 1, 0, 0, 0, 0, 0, 0, 0, 0, 0, 0, 0, 0, 0, 0, 0, 0, 0, 0, 0, 0, 0, 0, 0, 0, 0, 0, 0, 0, 0, 0, 0, 0, 0, 0, 0, 2, 0, 0, 0, 0, 0, 0, 0, 0, 0, 0, 0, 0, 0, 0, 0, 0, 0, 0, 0, 0, 0, 0, 0, 0, 0, 0, 0, 0, 0, 0, 0, 0, 0, 0, 0, 0, 0, 0, 0, 0, 1, 0, 0, 0, 0, 0, 0, 0, 0, 0, 0, 0, 0, 0, 0, 0, 0, 0, 0, 0, 0, 0, 0, 0, 0, 0, 0, 0, 0, 0, 0, 0, 0, 0, 0, 0, 0, 0, 0, 0, 0, 0, 0, 0, 0, 0, 0, 0, 0, 0, 0, 0, 0, 0, 0, 0, 0, 0, 0, 0, 0, 0, 0, 0, 0, 0, 0, 0, 0, 0, 0, 0, 0, 0, 0, 0, 0, 0, 0, 0, 0, 0, 0, 0, 0, 0, 0, 0, 0, 0, 0, 0, 0, 0, 0, 0, 0, 0, 0, 0, 0, 0, 0, 0, 0, 0, 0, 0, 0, 0, 0, 0, 0, 0, 0, 0, 0, 0, 0, 0, 0, 0, 0, 0, 0, 0, 0, 0, 0, 0, 0, 0, 0, 0, 0, 0, 0, 0, 0, 0, 0, 0, 0, 0, 0, 0, 0, 0, 0, 0, 0, 0, 0, 0, 0, 0, 0, 0, 0, 0, 0, 0, 0, 0, 0, 0, 0, 0, 0, 0, 0, 0, 0, 0, 0, 0, 0, 0, 0, 0, 0, 0, 0, 0, 0, 0, 0, 0, 0, 0, 0, 0, 0, 0, 0, 0, 0, 0, 0, 0, 0, 0, 0, 0, 0, 0, 0, 0, 0, 0, 0, 0, 0, 0, 0, 0, 0, 0, 0, 0, 0, 0, 0, 0, 0, 0, 0, 0, 0, 0, 0, 0, 0, 0, 0, 0, 0, 0, 0, 0, 0, 0, 0, 0, 0, 0, 0, 0, 0, 0, 0, 0, 0, 0, 0, 0, 0, 0, 0, 0, 0, 0, 0, 0, 0, 0, 0, 0, 0, 0, 0, 0, 0, 0, 0, 0, 0, 0, 0, 0, 0, 0, 0, 0, 0, 0, 0, 0, 0, 0, 0, 0, 0, 0, 0, 0, 0, 0, 0, 0, 0, 0, 0, 0, 0, 0, 0, 0, 0, 0, 0, 0, 0, 0, 0, 0, 0, 0, 0, 0, 0, 0, 0, 0, 0, 0, 0, 0, 0, 0, 0, 0, 0, 0, 0, 0, 0, 0, 0, 0, 0, 0, 0, 0, 0, 0, 0, 0, 0, 0, 0, 0, 0, 0, 0, 0, 0, 0, 0, 0, 0, 0, 0, 0, 0, 0, 0, 0, 0, 0, 0, 0, 0, 0, 0, 0, 0, 0, 0, 0, 0, 0, 0, 0, 0, 0, 0, 0, 0, 0, 0, 0, 0, 0, 0, 0, 0, 0, 0, 0, 0, 0, 0, 0, 0, 0, 0, 0, 0, 0, 0, 0, 0, 0, 0, 0, 0, 0, 0, 0, 0, 0, 0, 0, 0, 0, 0, 0, 0, 0, 0, 0, 0, 0, 0, 0, 0, 0, 0, 0, 0, 0, 0, 0, 0, 0, 0, 0, 0, 0, 0, 0, 0, 0, 0, 0, 0, 0, 0, 0, 0, 0, 0, 0, 0, 0, 0, 0, 0, 0, 0, 0, 0, 0, 0, 0, 0, 0, 0, 0, 0, 0, 0, 0, 0, 0, 0, 0, 0, 0, 0, 0, 0, 0, 0, 0, 0, 0, 1, 0, 0, 0, 0, 0, 0, 0, 0, 0, 0, 0, 0, 0, 0, 0, 0, 0, 0, 0, 0, 0, 0, 0, 0, 0, 0, 0, 0, 0, 0, 0, 0, 0, 0, 0, 0, 0, 0, 0, 0, 0, 0, 0, 0, 0, 0, 0, 0, 0, 0, 0, 0, 0, 0, 0, 0, 0, 0, 0, 0, 0, 0, 0, 0, 0, 0, 0, 0, 0, 0, 0, 0, 0, 0, 0, 0, 0, 0, 0, 0, 0, 0, 0, 0, 0, 0, 0, 0, 0, 0, 0, 0, 0, 0, 0, 0, 0, 0, 0, 0, 0, 0, 0, 0, 0, 0, 0, 0, 0, 0, 2, 0, 0, 0, 0, 0, 0, 0, 0, 0, 0, 0, 0, 0, 0, 0, 0, 0, 0, 0, 0, 0, 0, 0, 0, 0, 0, 0, 0, 0, 0, 0, 0, 0, 0, 0, 0, 0, 0, 0, 0, 0, 0, 0, 0, 0, 0, 0, 0, 0, 0, 0, 0, 0, 0, 0, 0, 0, 0, 0, 0, 0, 0, 0, 0, 0, 0, 0, 0, 0, 0, 0, 0, 0, 0, 0, 0, 0, 0, 0, 0, 0, 0, 0, 0, 0, 0, 0, 0, 0, 0, 0, 0, 0, 0, 0, 0, 0, 0, 0, 0, 0, 0, 0, 0, 0, 0, 0, 0, 0, 0, 0, 0, 0, 0, 0, 0, 0, 0, 0, 0, 0, 0, 0, 0, 0, 0, 0, 0, 0, 0, 0, 0, 0, 0, 0, 0, 0, 0, 0, 0, 0, 0, 0, 0, 0, 0, 0, 0, 0, 0, 0, 0, 0, 0, 0, 0, 0, 0, 0, 0, 0, 0, 0, 0, 0, 0, 0, 0, 0, 0, 0, 0, 0, 0, 0, 0, 0, 0, 0, 0, 0, 0, 0, 0, 0, 0, 0, 0, 0, 0, 0, 0, 0, 0, 0, 0, 0, 0, 0, 0, 0, 0, 0, 0, 0, 0, 0, 0, 0, 0, 0, 0, 0, 0, 0, 0, 0, 0, 0, 0, 0, 0, 0, 0, 0, 0, 0, 0, 0, 0, 0, 0, 0, 0, 0, 0, 0, 0, 0, 0, 0, 0, 0, 0, 0, 0, 0, 0, 0, 0, 0, 0, 0, 0, 0, 0, 0, 0, 0, 0, 0, 0, 0, 0, 0, 0, 0, 0, 0, 0, 0, 0, 0, 0, 0, 0, 0, 0, 0, 0, 0, 0, 0, 0, 0, 0, 0, 0, 0, 0, 0, 0, 0, 0, 0, 0, 0, 0, 0, 0, 0, 0, 0, 0, 0, 0, 0, 0, 0, 0, 0, 0, 0, 0, 0, 0, 0, 0, 0, 0, 0, 0, 0, 0, 0, 0, 0, 0, 0, 0, 0, 0, 0, 0, 0, 0, 0, 0, 0, 0, 0, 0, 0, 0, 0, 0, 0, 0, 0, 0, 0, 0, 0, 0, 0, 0, 0, 0, 0, 0, 0, 0, 0, 0, 0, 0, 0, 0, 0, 0, 0, 0, 0, 0, 0, 0, 0, 0, 0, 0, 0, 0, 0, 0, 0, 0, 0, 0, 0, 0, 0, 0, 0, 0, 0, 0, 0, 0, 0, 0, 0, 0, 0, 0, 0, 0, 0, 0, 0, 0, 0, 0, 0, 0, 0, 0, 0, 0, 0, 0, 0, 0, 0, 0, 0, 0, 0, 0, 0, 0, 0, 0, 0, 0, 0, 0, 0, 0, 0, 0, 0, 0, 0, 0, 0, 0, 0, 0, 0, 0, 0, 0, 0, 0, 0, 0, 0, 0, 0, 0, 0, 0, 0, 0, 0, 0, 0, 0, 0, 0, 0, 0, 0, 0, 0, 0, 0, 0, 0, 0, 0, 0, 0, 0, 0, 0, 0, 0, 0, 0, 0, 0, 0, 0, 0, 0, 0, 0, 0, 0, 0, 0, 0, 0, 0, 0, 0, 0, 0, 0, 0, 0, 0, 0, 0, 0, 0, 0, 0, 0, 0, 0, 0, 0, 0, 0, 0, 0, 0, 0, 0, 0, 0, 0, 0, 0, 0, 0, 0, 0, 0, 0, 0, 0, 0, 0, 0, 0, 0, 0, 0, 0, 0, 0, 0, 0, 0, 0, 0, 0, 0, 0, 0, 0, 0, 0, 0, 0, 0, 0, 0, 0, 0, 0, 0, 0, 0, 0, 0, 0, 0, 0, 0, 0, 0, 0, 0, 0, 0, 0, 0, 0, 0, 0, 0, 0, 0, 0, 0, 0, 0, 0, 0, 0, 0, 0, 0, 0, 0, 0, 0, 0, 0, 0, 0, 0, 0, 0, 0, 0, 0, 0, 0, 0, 0, 0, 0, 0, 0, 0, 0, 0, 0, 0, 0, 0, 0, 0, 0, 0, 0, 0, 0, 0, 0, 0, 0, 0, 0, 0, 0, 0, 0, 0, 0, 0, 0, 0, 0, 0, 0, 0, 0, 0, 0, 0, 0, 0, 0, 0, 0, 0, 0, 0, 0, 0, 0, 0, 0, 0, 0, 0, 0, 0, 0, 0, 0, 0, 0, 0, 1, 0, 0, 0, 0, 0, 0, 0, 0, 0, 0, 0, 0, 0, 0, 0, 0, 0, 0, 0, 0, 0, 0, 0, 0, 0, 0, 0, 0, 0, 0, 0, 0, 0, 0, 0, 0, 0, 0, 0, 0, 0, 0, 0, 0, 0, 0, 0, 0, 0, 0, 0, 0, 0, 0, 0, 0, 0, 0, 0, 0, 0, 0, 0, 0, 0, 0, 0, 0, 0, 0, 0, 0, 0, 0, 0, 0, 0, 0, 0, 0, 0, 0, 0, 0, 0, 0, 0, 0, 0, 0, 0, 0, 0, 0, 0, 0, 0, 0, 0, 0, 0, 0, 0, 0, 0, 0, 0, 1, 0, 0, 0, 0, 0, 0, 0, 0, 0, 0, 0, 0, 0, 0, 0, 0, 0, 0, 0, 0, 0, 0, 0, 0, 0, 0, 0, 0, 0, 0, 0, 0, 0, 0, 0, 0, 0, 0, 0, 0, 0, 0, 0, 0, 0, 0, 0, 0, 0, 0, 0, 0, 0, 0, 0, 0, 0, 0, 0, 0, 0, 0, 0, 0, 0, 0, 0, 0, 0, 0, 0, 0, 0, 0, 0, 0, 0, 0, 0, 0, 0, 0, 0, 0, 0, 0, 0, 0, 0, 0, 0, 0, 0, 0, 0, 0, 0, 0, 0, 0, 0, 0, 0, 0, 0, 0, 0, 0, 0, 0, 0, 0, 0, 0, 0, 0, 0, 0, 0, 0, 0, 0, 0, 0, 0, 0, 0, 0, 0, 0, 0, 0, 0, 0, 0, 0, 0, 0, 0, 0, 0, 0, 0, 0, 0, 0, 0, 0, 0, 0, 0, 0, 0, 0, 0, 0, 0, 0, 0, 0, 0, 0, 0, 0, 0, 0, 0, 0, 0, 0, 0, 0, 0, 0, 0, 0, 0, 0, 0, 0, 0, 0, 0, 0, 0, 0, 0, 0, 0, 0, 0, 0, 0, 0, 0, 0, 0, 0, 0, 0, 0, 0, 0, 0, 0, 0, 0, 0, 0, 0, 0, 0, 0, 0, 0, 0, 0, 0, 0, 0, 0, 0, 0, 0, 0, 0, 0, 0, 0, 0, 0, 0, 0, 0, 0, 0, 0, 0, 0, 0, 0, 0, 0, 0, 0, 0, 0, 0, 0, 0, 0, 0, 0, 0, 0, 0, 0, 0, 0, 0, 0, 0, 0, 0, 0, 0, 0, 0, 0, 0, 0, 0, 0, 0, 0, 0, 0, 0, 0, 0, 0, 0, 0, 0, 0, 0, 0, 0, 0, 0, 0, 0, 0, 0, 0, 0, 0, 0, 0, 0, 0, 0, 0, 0, 0, 0, 0, 0, 0, 0, 0, 0, 0, 0, 0, 0, 0, 0, 0, 0, 0, 0, 0, 0, 0, 0, 0, 0, 0, 0, 0, 0, 0, 0, 0, 0, 0, 0, 0, 0, 0, 0, 0, 0, 0, 0, 0, 0, 0, 0, 0, 0, 0, 0, 0, 0, 0, 0, 0, 0, 0, 0, 0, 0, 0, 0, 0, 0, 0, 0, 0, 0, 0, 0, 0, 0, 0, 0, 0, 0, 0, 0, 0, 0, 0, 0, 0, 0, 0, 0, 0, 0, 0, 0, 0, 0, 0, 0, 0, 0, 0, 0, 0, 0, 0, 0, 0, 0, 0, 0, 0, 0, 0, 0, 0, 0, 0, 0, 0, 0, 0, 0, 0, 0, 0, 0, 0, 0, 0, 0, 0, 0, 0, 0, 0, 0, 0, 0, 0, 0, 0, 0, 0, 0, 0, 0, 0, 0, 0, 0, 0, 0, 0, 0, 0, 0, 0, 0, 0, 0, 0, 0, 0, 2, 0, 1, 0], type: <class 'list'>, valid types: <class 'bytes'>, <class 'bytearray'>, file-like object",
     "output_type": "error",
     "traceback": [
      "\u001b[0;31m---------------------------------------------------------------------------\u001b[0m",
      "\u001b[0;31mParamValidationError\u001b[0m                      Traceback (most recent call last)",
      "\u001b[0;32m<ipython-input-44-c9ab54ae3a48>\u001b[0m in \u001b[0;36m<module>\u001b[0;34m()\u001b[0m\n\u001b[1;32m      1\u001b[0m response = runtime.invoke_endpoint(EndpointName = xgb_predictor.endpoint, # The name of the endpoint we created\n\u001b[1;32m      2\u001b[0m                                        \u001b[0mContentType\u001b[0m \u001b[0;34m=\u001b[0m \u001b[0;34m'text/csv'\u001b[0m\u001b[0;34m,\u001b[0m                     \u001b[0;31m# The data format that is expected\u001b[0m\u001b[0;34m\u001b[0m\u001b[0m\n\u001b[0;32m----> 3\u001b[0;31m                                        Body = test_bow)\n\u001b[0m",
      "\u001b[0;32m~/anaconda3/envs/python3/lib/python3.6/site-packages/botocore/client.py\u001b[0m in \u001b[0;36m_api_call\u001b[0;34m(self, *args, **kwargs)\u001b[0m\n\u001b[1;32m    314\u001b[0m                     \"%s() only accepts keyword arguments.\" % py_operation_name)\n\u001b[1;32m    315\u001b[0m             \u001b[0;31m# The \"self\" in this scope is referring to the BaseClient.\u001b[0m\u001b[0;34m\u001b[0m\u001b[0;34m\u001b[0m\u001b[0m\n\u001b[0;32m--> 316\u001b[0;31m             \u001b[0;32mreturn\u001b[0m \u001b[0mself\u001b[0m\u001b[0;34m.\u001b[0m\u001b[0m_make_api_call\u001b[0m\u001b[0;34m(\u001b[0m\u001b[0moperation_name\u001b[0m\u001b[0;34m,\u001b[0m \u001b[0mkwargs\u001b[0m\u001b[0;34m)\u001b[0m\u001b[0;34m\u001b[0m\u001b[0m\n\u001b[0m\u001b[1;32m    317\u001b[0m \u001b[0;34m\u001b[0m\u001b[0m\n\u001b[1;32m    318\u001b[0m         \u001b[0m_api_call\u001b[0m\u001b[0;34m.\u001b[0m\u001b[0m__name__\u001b[0m \u001b[0;34m=\u001b[0m \u001b[0mstr\u001b[0m\u001b[0;34m(\u001b[0m\u001b[0mpy_operation_name\u001b[0m\u001b[0;34m)\u001b[0m\u001b[0;34m\u001b[0m\u001b[0m\n",
      "\u001b[0;32m~/anaconda3/envs/python3/lib/python3.6/site-packages/botocore/client.py\u001b[0m in \u001b[0;36m_make_api_call\u001b[0;34m(self, operation_name, api_params)\u001b[0m\n\u001b[1;32m    597\u001b[0m         }\n\u001b[1;32m    598\u001b[0m         request_dict = self._convert_to_request_dict(\n\u001b[0;32m--> 599\u001b[0;31m             api_params, operation_model, context=request_context)\n\u001b[0m\u001b[1;32m    600\u001b[0m \u001b[0;34m\u001b[0m\u001b[0m\n\u001b[1;32m    601\u001b[0m         \u001b[0mservice_id\u001b[0m \u001b[0;34m=\u001b[0m \u001b[0mself\u001b[0m\u001b[0;34m.\u001b[0m\u001b[0m_service_model\u001b[0m\u001b[0;34m.\u001b[0m\u001b[0mservice_id\u001b[0m\u001b[0;34m.\u001b[0m\u001b[0mhyphenize\u001b[0m\u001b[0;34m(\u001b[0m\u001b[0;34m)\u001b[0m\u001b[0;34m\u001b[0m\u001b[0m\n",
      "\u001b[0;32m~/anaconda3/envs/python3/lib/python3.6/site-packages/botocore/client.py\u001b[0m in \u001b[0;36m_convert_to_request_dict\u001b[0;34m(self, api_params, operation_model, context)\u001b[0m\n\u001b[1;32m    645\u001b[0m             api_params, operation_model, context)\n\u001b[1;32m    646\u001b[0m         request_dict = self._serializer.serialize_to_request(\n\u001b[0;32m--> 647\u001b[0;31m             api_params, operation_model)\n\u001b[0m\u001b[1;32m    648\u001b[0m         \u001b[0;32mif\u001b[0m \u001b[0;32mnot\u001b[0m \u001b[0mself\u001b[0m\u001b[0;34m.\u001b[0m\u001b[0m_client_config\u001b[0m\u001b[0;34m.\u001b[0m\u001b[0minject_host_prefix\u001b[0m\u001b[0;34m:\u001b[0m\u001b[0;34m\u001b[0m\u001b[0m\n\u001b[1;32m    649\u001b[0m             \u001b[0mrequest_dict\u001b[0m\u001b[0;34m.\u001b[0m\u001b[0mpop\u001b[0m\u001b[0;34m(\u001b[0m\u001b[0;34m'host_prefix'\u001b[0m\u001b[0;34m,\u001b[0m \u001b[0;32mNone\u001b[0m\u001b[0;34m)\u001b[0m\u001b[0;34m\u001b[0m\u001b[0m\n",
      "\u001b[0;32m~/anaconda3/envs/python3/lib/python3.6/site-packages/botocore/validate.py\u001b[0m in \u001b[0;36mserialize_to_request\u001b[0;34m(self, parameters, operation_model)\u001b[0m\n\u001b[1;32m    295\u001b[0m                                                     operation_model.input_shape)\n\u001b[1;32m    296\u001b[0m             \u001b[0;32mif\u001b[0m \u001b[0mreport\u001b[0m\u001b[0;34m.\u001b[0m\u001b[0mhas_errors\u001b[0m\u001b[0;34m(\u001b[0m\u001b[0;34m)\u001b[0m\u001b[0;34m:\u001b[0m\u001b[0;34m\u001b[0m\u001b[0m\n\u001b[0;32m--> 297\u001b[0;31m                 \u001b[0;32mraise\u001b[0m \u001b[0mParamValidationError\u001b[0m\u001b[0;34m(\u001b[0m\u001b[0mreport\u001b[0m\u001b[0;34m=\u001b[0m\u001b[0mreport\u001b[0m\u001b[0;34m.\u001b[0m\u001b[0mgenerate_report\u001b[0m\u001b[0;34m(\u001b[0m\u001b[0;34m)\u001b[0m\u001b[0;34m)\u001b[0m\u001b[0;34m\u001b[0m\u001b[0m\n\u001b[0m\u001b[1;32m    298\u001b[0m         return self._serializer.serialize_to_request(parameters,\n\u001b[1;32m    299\u001b[0m                                                      operation_model)\n",
      "\u001b[0;31mParamValidationError\u001b[0m: Parameter validation failed:\nInvalid type for parameter Body, value: [0, 0, 0, 0, 0, 0, 0, 0, 0, 0, 0, 0, 0, 0, 0, 0, 0, 0, 0, 0, 0, 0, 0, 0, 0, 0, 0, 0, 0, 0, 0, 0, 0, 0, 0, 0, 0, 0, 0, 0, 0, 0, 0, 0, 0, 0, 0, 0, 0, 0, 0, 0, 0, 0, 0, 0, 0, 0, 0, 0, 0, 0, 0, 0, 0, 0, 0, 0, 0, 0, 0, 0, 0, 0, 0, 0, 0, 0, 0, 0, 0, 0, 0, 0, 0, 0, 0, 0, 0, 0, 0, 0, 0, 0, 0, 0, 0, 0, 0, 0, 0, 0, 0, 0, 0, 0, 0, 0, 0, 0, 0, 0, 0, 0, 0, 0, 0, 0, 0, 0, 0, 0, 0, 0, 0, 0, 0, 0, 0, 0, 0, 0, 0, 0, 0, 0, 0, 0, 0, 0, 0, 0, 0, 0, 0, 0, 0, 0, 0, 0, 0, 0, 0, 0, 0, 0, 0, 0, 0, 0, 0, 0, 0, 0, 0, 0, 0, 0, 0, 0, 0, 0, 0, 0, 0, 0, 0, 0, 0, 0, 0, 0, 0, 0, 0, 0, 0, 0, 0, 0, 0, 0, 0, 0, 0, 0, 0, 0, 0, 0, 0, 0, 0, 0, 0, 0, 0, 0, 0, 0, 0, 0, 0, 0, 0, 0, 0, 0, 0, 0, 0, 0, 0, 0, 0, 0, 1, 0, 0, 0, 0, 0, 0, 0, 0, 0, 0, 0, 0, 0, 0, 0, 0, 0, 0, 0, 0, 0, 0, 0, 0, 0, 0, 0, 0, 0, 1, 0, 0, 0, 0, 0, 0, 0, 0, 0, 0, 0, 0, 0, 0, 0, 0, 0, 0, 0, 0, 0, 0, 0, 0, 0, 0, 0, 0, 0, 0, 0, 0, 0, 0, 0, 0, 0, 0, 0, 0, 0, 0, 0, 0, 0, 0, 0, 0, 0, 0, 0, 0, 0, 0, 0, 0, 0, 0, 0, 0, 0, 0, 0, 0, 0, 0, 0, 0, 0, 0, 0, 0, 0, 0, 0, 0, 0, 0, 0, 0, 0, 0, 0, 0, 0, 0, 0, 0, 0, 0, 0, 0, 0, 0, 0, 0, 0, 0, 0, 0, 0, 0, 0, 0, 0, 0, 0, 0, 0, 0, 0, 0, 0, 0, 0, 0, 0, 0, 0, 0, 0, 0, 0, 0, 0, 0, 0, 0, 0, 0, 0, 0, 0, 0, 0, 0, 0, 0, 0, 0, 0, 0, 0, 0, 0, 0, 0, 0, 0, 0, 0, 0, 0, 0, 0, 0, 0, 0, 0, 0, 0, 0, 0, 0, 0, 0, 0, 0, 0, 0, 0, 0, 0, 0, 0, 0, 0, 0, 0, 0, 0, 0, 0, 0, 0, 0, 0, 0, 0, 0, 0, 0, 0, 0, 0, 0, 0, 0, 0, 0, 0, 0, 0, 0, 0, 0, 0, 0, 0, 0, 0, 0, 0, 0, 0, 0, 0, 0, 0, 0, 0, 0, 0, 0, 0, 0, 0, 0, 0, 0, 0, 0, 0, 0, 0, 0, 0, 0, 0, 0, 0, 0, 0, 0, 0, 0, 0, 0, 0, 0, 0, 0, 0, 0, 0, 0, 0, 0, 0, 0, 0, 0, 0, 0, 0, 0, 0, 0, 0, 0, 0, 0, 0, 0, 0, 0, 0, 0, 0, 0, 0, 0, 0, 0, 0, 0, 0, 0, 0, 0, 0, 0, 0, 0, 0, 0, 0, 0, 0, 0, 0, 0, 0, 0, 0, 0, 0, 0, 0, 0, 0, 0, 0, 0, 0, 0, 0, 0, 0, 0, 0, 0, 0, 0, 0, 0, 0, 0, 0, 0, 0, 0, 0, 0, 0, 0, 0, 0, 0, 0, 0, 0, 0, 0, 0, 0, 0, 0, 0, 0, 0, 0, 0, 0, 0, 0, 0, 0, 0, 0, 0, 0, 0, 0, 0, 0, 0, 0, 0, 0, 0, 0, 0, 0, 0, 0, 0, 0, 0, 1, 0, 0, 0, 0, 0, 0, 0, 0, 0, 0, 0, 0, 0, 0, 0, 0, 0, 0, 0, 0, 0, 0, 0, 0, 0, 0, 0, 0, 0, 0, 0, 0, 0, 0, 0, 0, 0, 0, 0, 0, 0, 0, 0, 0, 0, 0, 0, 0, 0, 0, 0, 0, 0, 0, 0, 0, 0, 0, 0, 0, 0, 0, 0, 0, 0, 0, 0, 0, 0, 0, 0, 0, 0, 0, 0, 0, 0, 0, 0, 0, 0, 0, 0, 0, 0, 0, 0, 0, 0, 0, 0, 0, 0, 0, 0, 0, 0, 0, 0, 0, 0, 0, 0, 0, 0, 0, 0, 0, 0, 0, 0, 0, 0, 0, 0, 0, 0, 0, 0, 0, 0, 0, 0, 0, 0, 0, 0, 0, 0, 0, 0, 0, 0, 0, 0, 0, 0, 0, 0, 0, 0, 0, 0, 0, 0, 0, 0, 0, 0, 0, 0, 0, 0, 0, 0, 0, 0, 0, 0, 0, 0, 0, 0, 0, 0, 0, 0, 0, 0, 0, 0, 0, 0, 0, 0, 0, 0, 0, 0, 0, 0, 0, 0, 0, 0, 0, 0, 0, 0, 0, 0, 0, 0, 0, 0, 0, 0, 0, 0, 0, 0, 0, 0, 0, 0, 0, 0, 0, 0, 0, 0, 0, 0, 0, 0, 0, 0, 0, 0, 0, 0, 0, 0, 0, 0, 0, 0, 0, 0, 0, 0, 0, 0, 0, 0, 0, 0, 0, 0, 0, 0, 0, 0, 0, 0, 0, 0, 0, 0, 0, 0, 0, 0, 1, 0, 0, 0, 0, 0, 0, 0, 0, 0, 0, 0, 0, 0, 0, 0, 0, 0, 0, 0, 0, 0, 0, 0, 0, 0, 0, 0, 0, 0, 0, 0, 0, 0, 0, 0, 0, 0, 0, 0, 0, 0, 0, 0, 0, 0, 0, 0, 0, 0, 0, 0, 0, 0, 0, 0, 0, 0, 0, 0, 0, 0, 0, 0, 0, 0, 0, 0, 0, 0, 0, 0, 0, 0, 0, 0, 0, 0, 0, 0, 0, 0, 0, 0, 0, 0, 0, 1, 0, 0, 0, 0, 0, 0, 0, 0, 0, 0, 0, 0, 0, 0, 0, 0, 0, 0, 0, 0, 0, 0, 0, 0, 0, 0, 0, 0, 0, 0, 0, 0, 0, 0, 0, 0, 0, 0, 0, 0, 0, 0, 0, 0, 0, 0, 0, 0, 0, 0, 0, 0, 0, 0, 0, 0, 0, 0, 0, 0, 0, 0, 0, 0, 0, 0, 0, 0, 0, 0, 0, 0, 0, 0, 0, 0, 0, 0, 0, 0, 0, 0, 0, 0, 0, 0, 0, 0, 0, 0, 0, 0, 0, 0, 0, 0, 0, 0, 0, 0, 0, 0, 0, 0, 0, 0, 0, 0, 0, 0, 0, 0, 0, 0, 0, 0, 0, 0, 0, 0, 0, 0, 0, 0, 0, 0, 0, 0, 0, 0, 0, 0, 0, 0, 0, 0, 0, 0, 0, 0, 0, 0, 0, 0, 0, 0, 0, 0, 0, 0, 0, 0, 0, 0, 0, 0, 0, 0, 0, 0, 0, 0, 0, 0, 0, 0, 0, 0, 0, 0, 0, 0, 0, 0, 0, 0, 0, 0, 0, 0, 0, 0, 0, 0, 0, 0, 0, 0, 0, 0, 0, 0, 0, 0, 0, 0, 0, 0, 0, 0, 0, 0, 0, 0, 0, 0, 0, 0, 0, 0, 0, 0, 0, 0, 0, 0, 0, 0, 0, 0, 0, 0, 0, 0, 0, 0, 0, 0, 0, 0, 0, 0, 0, 0, 0, 0, 0, 0, 0, 0, 0, 0, 0, 0, 0, 0, 0, 0, 0, 0, 0, 0, 1, 0, 0, 0, 0, 0, 0, 0, 0, 0, 0, 0, 0, 0, 0, 0, 0, 0, 0, 0, 0, 0, 0, 0, 0, 0, 0, 0, 0, 0, 0, 0, 0, 0, 0, 0, 0, 0, 0, 0, 0, 0, 0, 0, 0, 0, 0, 0, 0, 0, 0, 0, 0, 0, 0, 0, 1, 0, 0, 0, 0, 0, 0, 0, 0, 0, 0, 0, 0, 0, 0, 0, 0, 0, 0, 0, 0, 0, 0, 0, 0, 0, 0, 0, 0, 0, 0, 0, 0, 0, 0, 0, 0, 0, 0, 0, 0, 0, 0, 0, 0, 0, 0, 0, 0, 0, 0, 0, 0, 0, 0, 0, 0, 0, 0, 0, 0, 0, 0, 0, 0, 0, 0, 0, 0, 0, 0, 0, 0, 0, 0, 0, 0, 0, 0, 0, 0, 0, 0, 0, 0, 0, 0, 0, 0, 0, 0, 0, 0, 0, 0, 0, 0, 0, 0, 0, 0, 0, 0, 0, 0, 0, 0, 0, 0, 0, 0, 0, 0, 0, 0, 0, 0, 0, 0, 0, 0, 0, 0, 0, 0, 0, 0, 0, 0, 0, 0, 0, 0, 0, 0, 0, 0, 0, 0, 0, 0, 0, 0, 0, 0, 0, 0, 0, 0, 0, 0, 0, 0, 0, 0, 0, 0, 0, 0, 0, 0, 0, 0, 0, 0, 0, 0, 0, 0, 0, 0, 0, 0, 0, 0, 0, 0, 0, 0, 0, 0, 0, 0, 0, 0, 0, 0, 0, 0, 0, 0, 0, 0, 0, 0, 0, 0, 0, 0, 0, 0, 0, 0, 0, 0, 0, 0, 0, 0, 0, 0, 0, 0, 0, 0, 0, 0, 0, 0, 0, 0, 0, 0, 0, 0, 0, 0, 0, 0, 0, 0, 0, 0, 0, 0, 0, 0, 0, 0, 0, 0, 0, 0, 0, 0, 0, 0, 0, 0, 0, 0, 0, 0, 0, 0, 0, 0, 0, 0, 0, 0, 0, 0, 0, 0, 0, 0, 0, 0, 0, 0, 0, 0, 0, 0, 0, 0, 0, 0, 0, 0, 0, 0, 0, 0, 0, 0, 0, 0, 0, 0, 0, 0, 0, 0, 0, 0, 0, 0, 0, 0, 0, 0, 0, 0, 0, 0, 0, 0, 0, 0, 0, 0, 0, 0, 0, 0, 0, 0, 0, 0, 0, 0, 0, 0, 0, 0, 0, 0, 0, 0, 0, 0, 0, 0, 0, 0, 0, 0, 0, 0, 0, 0, 0, 0, 0, 0, 0, 0, 0, 0, 0, 0, 0, 0, 0, 0, 0, 0, 0, 0, 0, 0, 0, 0, 0, 0, 0, 0, 0, 0, 0, 0, 0, 0, 0, 0, 0, 0, 0, 0, 0, 0, 0, 0, 0, 0, 0, 0, 0, 0, 0, 0, 0, 0, 0, 0, 0, 0, 0, 0, 0, 0, 0, 0, 0, 0, 0, 0, 0, 0, 0, 0, 0, 0, 0, 0, 0, 0, 0, 0, 0, 0, 0, 0, 0, 0, 0, 0, 0, 0, 0, 0, 0, 0, 0, 0, 0, 0, 0, 0, 0, 0, 0, 0, 0, 0, 0, 0, 0, 0, 0, 0, 0, 0, 0, 0, 0, 0, 0, 0, 0, 0, 0, 0, 0, 0, 0, 0, 0, 0, 0, 0, 0, 0, 0, 0, 0, 0, 0, 0, 0, 0, 0, 0, 0, 0, 0, 0, 0, 0, 0, 0, 0, 0, 0, 0, 0, 0, 0, 0, 0, 0, 0, 0, 0, 0, 0, 0, 0, 0, 0, 0, 0, 0, 0, 0, 0, 0, 0, 0, 0, 0, 0, 0, 0, 0, 0, 0, 0, 0, 0, 0, 0, 0, 0, 0, 0, 0, 0, 0, 0, 0, 0, 0, 0, 0, 0, 0, 0, 0, 0, 0, 0, 0, 0, 0, 0, 0, 0, 0, 0, 0, 0, 0, 0, 0, 0, 0, 0, 0, 0, 0, 0, 0, 0, 0, 0, 0, 0, 0, 0, 0, 0, 0, 0, 0, 0, 0, 0, 0, 0, 0, 0, 0, 0, 0, 0, 0, 0, 0, 0, 0, 0, 0, 0, 0, 0, 0, 0, 0, 0, 0, 0, 0, 0, 0, 0, 0, 0, 0, 0, 0, 0, 0, 0, 0, 0, 0, 0, 0, 0, 0, 0, 0, 0, 0, 0, 0, 0, 0, 0, 0, 0, 0, 0, 0, 0, 0, 0, 0, 0, 0, 0, 0, 0, 0, 0, 0, 0, 0, 0, 0, 0, 0, 0, 0, 0, 0, 0, 0, 0, 0, 0, 0, 0, 0, 0, 0, 0, 0, 0, 1, 0, 0, 0, 0, 0, 0, 0, 0, 0, 0, 0, 0, 0, 0, 0, 0, 0, 0, 0, 0, 0, 0, 0, 0, 0, 0, 0, 0, 0, 0, 0, 0, 0, 0, 0, 0, 0, 0, 0, 0, 0, 0, 0, 0, 0, 0, 0, 0, 0, 0, 0, 0, 0, 0, 0, 0, 0, 0, 0, 0, 0, 0, 0, 0, 0, 0, 0, 0, 0, 0, 0, 0, 0, 0, 1, 0, 0, 0, 0, 0, 0, 0, 0, 0, 0, 0, 0, 0, 0, 0, 0, 0, 0, 0, 0, 1, 0, 0, 1, 0, 0, 0, 0, 0, 0, 0, 0, 0, 0, 0, 0, 0, 0, 0, 0, 0, 0, 0, 0, 0, 0, 0, 0, 0, 0, 0, 0, 0, 0, 0, 0, 0, 0, 0, 0, 0, 0, 0, 0, 0, 0, 0, 0, 0, 0, 0, 0, 0, 0, 0, 0, 0, 0, 0, 0, 0, 0, 0, 0, 0, 0, 0, 0, 0, 0, 0, 0, 0, 0, 0, 0, 0, 0, 0, 0, 0, 0, 0, 0, 0, 0, 0, 0, 0, 0, 0, 0, 0, 0, 0, 0, 0, 0, 0, 0, 0, 0, 0, 0, 0, 0, 0, 0, 0, 0, 0, 0, 0, 0, 0, 0, 0, 0, 0, 0, 0, 0, 0, 0, 0, 0, 0, 0, 0, 0, 0, 0, 0, 0, 0, 0, 0, 0, 0, 0, 0, 0, 0, 0, 0, 0, 0, 0, 0, 0, 0, 0, 0, 0, 0, 0, 0, 0, 0, 0, 0, 0, 0, 0, 0, 0, 0, 0, 0, 0, 0, 0, 0, 0, 0, 0, 0, 0, 0, 0, 0, 0, 0, 0, 0, 0, 0, 0, 0, 0, 0, 0, 0, 0, 0, 0, 0, 0, 0, 0, 0, 0, 0, 0, 0, 0, 0, 0, 0, 0, 0, 0, 0, 0, 0, 0, 0, 0, 0, 0, 0, 0, 0, 0, 0, 0, 0, 0, 0, 0, 0, 0, 0, 0, 0, 0, 0, 0, 0, 0, 0, 0, 0, 0, 0, 0, 0, 0, 0, 0, 0, 0, 0, 0, 0, 0, 0, 0, 0, 0, 0, 0, 0, 0, 0, 0, 0, 0, 0, 0, 0, 0, 0, 0, 0, 0, 0, 0, 0, 0, 0, 0, 0, 0, 0, 0, 0, 0, 0, 0, 0, 0, 0, 0, 0, 0, 0, 0, 0, 0, 0, 0, 0, 0, 0, 0, 0, 0, 0, 0, 0, 0, 0, 0, 0, 0, 0, 0, 0, 0, 0, 0, 0, 0, 0, 0, 0, 0, 0, 0, 0, 0, 0, 0, 0, 0, 0, 0, 0, 0, 0, 0, 0, 0, 0, 0, 0, 0, 0, 0, 0, 0, 0, 0, 0, 0, 0, 0, 0, 0, 0, 0, 0, 0, 0, 0, 0, 0, 0, 0, 0, 0, 0, 0, 0, 0, 0, 0, 0, 0, 0, 0, 0, 0, 0, 0, 0, 0, 0, 0, 0, 0, 0, 0, 0, 0, 0, 0, 0, 0, 0, 0, 0, 0, 0, 0, 0, 0, 0, 0, 0, 0, 0, 0, 0, 0, 0, 0, 0, 0, 0, 0, 0, 0, 0, 0, 0, 0, 0, 0, 0, 0, 0, 0, 0, 0, 0, 0, 0, 0, 0, 0, 0, 0, 0, 0, 0, 0, 0, 0, 0, 0, 0, 0, 0, 0, 0, 0, 0, 0, 0, 0, 0, 0, 0, 0, 0, 0, 0, 0, 1, 0, 0, 0, 0, 0, 0, 0, 0, 0, 0, 0, 0, 0, 0, 0, 0, 0, 0, 0, 0, 0, 0, 0, 0, 0, 0, 0, 0, 0, 0, 0, 0, 0, 0, 0, 0, 0, 0, 0, 0, 0, 0, 0, 0, 0, 0, 0, 0, 0, 0, 0, 0, 0, 0, 0, 0, 0, 0, 0, 0, 0, 0, 0, 0, 0, 0, 0, 0, 0, 0, 0, 0, 0, 0, 0, 0, 0, 0, 0, 0, 0, 0, 0, 0, 0, 0, 0, 0, 0, 0, 0, 0, 0, 0, 0, 0, 0, 0, 0, 0, 0, 0, 0, 0, 0, 0, 0, 0, 0, 0, 0, 0, 0, 0, 0, 0, 0, 0, 0, 0, 0, 0, 0, 0, 0, 0, 0, 0, 0, 0, 0, 0, 0, 0, 0, 0, 0, 0, 0, 0, 0, 0, 0, 0, 0, 0, 0, 0, 0, 0, 0, 0, 0, 0, 0, 0, 0, 0, 0, 0, 0, 0, 0, 0, 0, 0, 0, 0, 0, 0, 0, 0, 0, 0, 0, 0, 0, 0, 0, 0, 0, 0, 0, 0, 0, 0, 0, 0, 0, 0, 0, 0, 0, 0, 0, 0, 0, 0, 0, 0, 0, 0, 0, 0, 0, 0, 0, 0, 0, 0, 0, 0, 0, 0, 0, 0, 0, 0, 0, 0, 0, 0, 0, 0, 0, 0, 0, 0, 0, 0, 0, 0, 0, 0, 0, 0, 0, 0, 0, 0, 0, 0, 0, 0, 0, 0, 0, 0, 0, 0, 0, 0, 0, 0, 0, 0, 0, 0, 0, 0, 0, 0, 0, 0, 0, 0, 0, 0, 0, 0, 0, 0, 0, 0, 0, 0, 0, 0, 0, 0, 0, 0, 0, 0, 0, 0, 0, 0, 0, 0, 0, 0, 0, 0, 0, 0, 0, 0, 0, 0, 0, 0, 0, 0, 0, 0, 0, 0, 0, 0, 0, 0, 0, 0, 0, 0, 0, 0, 0, 0, 0, 0, 0, 0, 0, 0, 0, 0, 0, 0, 0, 0, 0, 0, 0, 0, 0, 0, 0, 0, 0, 0, 0, 0, 0, 0, 0, 0, 0, 0, 0, 0, 0, 0, 0, 0, 0, 0, 0, 0, 0, 0, 0, 0, 0, 0, 0, 0, 0, 0, 0, 0, 0, 0, 0, 0, 0, 0, 0, 0, 0, 0, 0, 0, 0, 0, 0, 0, 0, 0, 0, 0, 0, 0, 0, 0, 0, 0, 0, 0, 0, 0, 0, 0, 0, 0, 0, 0, 0, 0, 0, 0, 0, 0, 0, 0, 0, 0, 0, 0, 0, 0, 0, 0, 0, 0, 0, 0, 0, 0, 0, 0, 0, 0, 0, 0, 0, 0, 0, 0, 0, 0, 0, 0, 0, 0, 0, 0, 0, 0, 0, 0, 0, 0, 0, 0, 0, 0, 0, 0, 0, 0, 0, 0, 0, 0, 0, 0, 0, 0, 0, 0, 0, 0, 0, 0, 0, 0, 0, 0, 0, 0, 0, 0, 0, 0, 0, 0, 0, 0, 0, 0, 0, 0, 0, 0, 0, 0, 0, 0, 0, 0, 0, 0, 0, 0, 0, 0, 0, 0, 0, 0, 1, 0, 0, 0, 0, 0, 0, 0, 0, 0, 0, 0, 0, 0, 0, 0, 0, 0, 0, 0, 0, 0, 0, 0, 0, 0, 0, 0, 0, 0, 0, 0, 0, 0, 0, 0, 2, 0, 0, 0, 0, 0, 0, 0, 0, 0, 0, 0, 0, 0, 0, 0, 0, 0, 0, 0, 0, 0, 0, 0, 0, 0, 0, 0, 0, 0, 0, 0, 0, 0, 0, 0, 0, 0, 0, 0, 0, 1, 0, 0, 0, 0, 0, 0, 0, 0, 0, 0, 0, 0, 0, 0, 0, 0, 0, 0, 0, 0, 0, 0, 0, 0, 0, 0, 0, 0, 0, 0, 0, 0, 0, 0, 0, 0, 0, 0, 0, 0, 0, 0, 0, 0, 0, 0, 0, 0, 0, 0, 0, 0, 0, 0, 0, 0, 0, 0, 0, 0, 0, 0, 0, 0, 0, 0, 0, 0, 0, 0, 0, 0, 0, 0, 0, 0, 0, 0, 0, 0, 0, 0, 0, 0, 0, 0, 0, 0, 0, 0, 0, 0, 0, 0, 0, 0, 0, 0, 0, 0, 0, 0, 0, 0, 0, 0, 0, 0, 0, 0, 0, 0, 0, 0, 0, 0, 0, 0, 0, 0, 0, 0, 0, 0, 0, 0, 0, 0, 0, 0, 0, 0, 0, 0, 0, 0, 0, 0, 0, 0, 0, 0, 0, 0, 0, 0, 0, 0, 0, 0, 0, 0, 0, 0, 0, 0, 0, 0, 0, 0, 0, 0, 0, 0, 0, 0, 0, 0, 0, 0, 0, 0, 0, 0, 0, 0, 0, 0, 0, 0, 0, 0, 0, 0, 0, 0, 0, 0, 0, 0, 0, 0, 0, 0, 0, 0, 0, 0, 0, 0, 0, 0, 0, 0, 0, 0, 0, 0, 0, 0, 0, 0, 0, 0, 0, 0, 0, 0, 0, 0, 0, 0, 0, 0, 0, 0, 0, 0, 0, 0, 0, 0, 0, 0, 0, 0, 0, 0, 0, 0, 0, 0, 0, 0, 0, 0, 0, 0, 0, 0, 0, 0, 0, 0, 0, 0, 0, 0, 0, 0, 0, 0, 0, 0, 0, 0, 0, 0, 0, 0, 0, 0, 0, 0, 0, 0, 0, 0, 0, 0, 0, 0, 0, 0, 0, 0, 0, 0, 0, 0, 0, 0, 0, 0, 0, 0, 0, 0, 0, 0, 0, 0, 0, 0, 0, 0, 0, 0, 0, 0, 0, 0, 0, 0, 0, 0, 0, 0, 0, 0, 0, 0, 0, 0, 0, 0, 0, 0, 0, 0, 0, 0, 0, 0, 0, 0, 0, 0, 0, 0, 0, 0, 0, 0, 0, 0, 0, 0, 0, 0, 0, 0, 0, 0, 0, 0, 0, 0, 0, 0, 0, 0, 0, 0, 0, 0, 0, 0, 0, 0, 0, 0, 0, 0, 0, 0, 0, 0, 0, 0, 0, 0, 0, 0, 0, 0, 0, 0, 0, 0, 0, 0, 0, 0, 0, 0, 0, 0, 0, 0, 0, 0, 0, 0, 0, 0, 0, 0, 0, 0, 0, 0, 0, 0, 0, 0, 0, 0, 0, 0, 0, 0, 0, 0, 0, 0, 0, 0, 0, 0, 0, 0, 0, 0, 0, 0, 0, 0, 0, 0, 0, 0, 0, 0, 0, 0, 0, 0, 0, 0, 0, 0, 0, 0, 0, 0, 0, 0, 0, 0, 0, 0, 0, 0, 0, 0, 0, 0, 0, 0, 0, 0, 0, 0, 0, 0, 0, 0, 0, 0, 0, 0, 0, 0, 0, 0, 0, 0, 0, 0, 0, 0, 0, 0, 0, 0, 0, 1, 0, 0, 0, 0, 0, 0, 0, 0, 0, 0, 0, 0, 0, 0, 0, 0, 0, 0, 0, 0, 0, 0, 0, 0, 0, 0, 0, 0, 0, 0, 0, 0, 0, 0, 0, 0, 0, 0, 0, 0, 0, 0, 0, 0, 0, 0, 0, 0, 0, 0, 0, 0, 0, 0, 0, 0, 0, 0, 0, 0, 0, 0, 0, 0, 0, 0, 0, 0, 0, 0, 0, 0, 0, 0, 0, 0, 0, 0, 0, 0, 0, 0, 0, 0, 0, 0, 0, 0, 0, 0, 0, 0, 0, 0, 0, 0, 0, 0, 0, 0, 0, 0, 0, 0, 0, 0, 0, 0, 0, 0, 2, 0, 0, 0, 0, 0, 0, 0, 0, 0, 0, 0, 0, 0, 0, 0, 0, 0, 0, 0, 0, 0, 0, 0, 0, 0, 0, 0, 0, 0, 0, 0, 0, 0, 0, 0, 0, 0, 0, 0, 0, 0, 0, 0, 0, 0, 0, 0, 0, 0, 0, 0, 0, 0, 0, 0, 0, 0, 0, 0, 0, 0, 0, 0, 0, 0, 0, 0, 0, 0, 0, 0, 0, 0, 0, 0, 0, 0, 0, 0, 0, 0, 0, 0, 0, 0, 0, 0, 0, 0, 0, 0, 0, 0, 0, 0, 0, 0, 0, 0, 0, 0, 0, 0, 0, 0, 0, 0, 0, 0, 0, 0, 0, 0, 0, 0, 0, 0, 0, 0, 0, 0, 0, 0, 0, 0, 0, 0, 0, 0, 0, 0, 0, 0, 0, 0, 0, 0, 0, 0, 0, 0, 0, 0, 0, 0, 0, 0, 0, 0, 0, 0, 0, 0, 0, 0, 0, 0, 0, 0, 0, 0, 0, 0, 0, 0, 0, 0, 0, 0, 0, 0, 0, 0, 0, 0, 0, 0, 0, 0, 0, 0, 0, 0, 0, 0, 0, 0, 0, 0, 0, 0, 0, 0, 0, 0, 0, 0, 0, 0, 0, 0, 0, 0, 0, 0, 0, 0, 0, 0, 0, 0, 0, 0, 0, 0, 0, 0, 0, 0, 0, 0, 0, 0, 0, 0, 0, 0, 0, 0, 0, 0, 0, 0, 0, 0, 0, 0, 0, 0, 0, 0, 0, 0, 0, 0, 0, 0, 0, 0, 0, 0, 0, 0, 0, 0, 0, 0, 0, 0, 0, 0, 0, 0, 0, 0, 0, 0, 0, 0, 0, 0, 0, 0, 0, 0, 0, 0, 0, 0, 0, 0, 0, 0, 0, 0, 0, 0, 0, 0, 0, 0, 0, 0, 0, 0, 0, 0, 0, 0, 0, 0, 0, 0, 0, 0, 0, 0, 0, 0, 0, 0, 0, 0, 0, 0, 0, 0, 0, 0, 0, 0, 0, 0, 0, 0, 0, 0, 0, 0, 0, 0, 0, 0, 0, 0, 0, 0, 0, 0, 0, 0, 0, 0, 0, 0, 0, 0, 0, 0, 0, 0, 0, 0, 0, 0, 0, 0, 0, 0, 0, 0, 0, 0, 0, 0, 0, 0, 0, 0, 0, 0, 0, 0, 0, 0, 0, 0, 0, 0, 0, 0, 0, 0, 0, 0, 0, 0, 0, 0, 0, 0, 0, 0, 0, 0, 0, 0, 0, 0, 0, 0, 0, 0, 0, 0, 0, 0, 0, 0, 0, 0, 0, 0, 0, 0, 0, 0, 0, 0, 0, 0, 0, 0, 0, 0, 0, 0, 0, 0, 0, 0, 0, 0, 0, 0, 0, 0, 0, 0, 0, 0, 0, 0, 0, 0, 0, 0, 0, 0, 0, 0, 0, 0, 0, 0, 0, 0, 0, 0, 0, 0, 0, 0, 0, 0, 0, 0, 0, 0, 0, 0, 0, 0, 0, 0, 0, 0, 0, 0, 0, 0, 0, 0, 0, 0, 0, 0, 0, 0, 0, 0, 0, 0, 0, 0, 0, 0, 0, 0, 0, 0, 0, 0, 0, 0, 0, 0, 0, 0, 0, 0, 0, 0, 0, 0, 0, 0, 0, 0, 0, 0, 0, 0, 0, 0, 0, 0, 0, 0, 0, 0, 0, 0, 0, 0, 0, 0, 0, 0, 0, 0, 0, 0, 0, 0, 0, 0, 0, 0, 0, 0, 0, 0, 0, 0, 0, 0, 0, 0, 0, 0, 0, 0, 0, 0, 0, 0, 0, 0, 0, 0, 0, 0, 0, 0, 0, 0, 0, 0, 0, 0, 0, 0, 0, 0, 0, 0, 0, 0, 0, 0, 0, 0, 0, 0, 0, 0, 0, 0, 0, 0, 0, 0, 0, 0, 0, 0, 0, 0, 0, 0, 0, 0, 0, 0, 0, 0, 0, 0, 0, 0, 0, 0, 0, 0, 0, 0, 0, 0, 0, 0, 0, 0, 0, 0, 0, 0, 0, 0, 0, 0, 0, 0, 0, 0, 0, 0, 0, 0, 0, 0, 0, 0, 0, 0, 0, 0, 0, 0, 0, 0, 0, 0, 0, 0, 0, 0, 0, 0, 0, 0, 0, 0, 0, 0, 0, 0, 0, 0, 0, 0, 0, 0, 0, 0, 0, 0, 0, 0, 0, 1, 0, 0, 0, 0, 0, 0, 0, 0, 0, 0, 0, 0, 0, 0, 0, 0, 0, 0, 0, 0, 0, 0, 0, 0, 0, 0, 0, 0, 0, 0, 0, 0, 0, 0, 0, 0, 0, 0, 0, 0, 0, 0, 0, 0, 0, 0, 0, 0, 0, 0, 0, 0, 0, 0, 0, 0, 0, 0, 0, 0, 0, 0, 0, 0, 0, 0, 0, 0, 0, 0, 0, 0, 0, 0, 0, 0, 0, 0, 0, 0, 0, 0, 0, 0, 0, 0, 0, 0, 0, 0, 0, 0, 0, 0, 0, 0, 0, 0, 0, 0, 0, 0, 0, 0, 0, 0, 0, 1, 0, 0, 0, 0, 0, 0, 0, 0, 0, 0, 0, 0, 0, 0, 0, 0, 0, 0, 0, 0, 0, 0, 0, 0, 0, 0, 0, 0, 0, 0, 0, 0, 0, 0, 0, 0, 0, 0, 0, 0, 0, 0, 0, 0, 0, 0, 0, 0, 0, 0, 0, 0, 0, 0, 0, 0, 0, 0, 0, 0, 0, 0, 0, 0, 0, 0, 0, 0, 0, 0, 0, 0, 0, 0, 0, 0, 0, 0, 0, 0, 0, 0, 0, 0, 0, 0, 0, 0, 0, 0, 0, 0, 0, 0, 0, 0, 0, 0, 0, 0, 0, 0, 0, 0, 0, 0, 0, 0, 0, 0, 0, 0, 0, 0, 0, 0, 0, 0, 0, 0, 0, 0, 0, 0, 0, 0, 0, 0, 0, 0, 0, 0, 0, 0, 0, 0, 0, 0, 0, 0, 0, 0, 0, 0, 0, 0, 0, 0, 0, 0, 0, 0, 0, 0, 0, 0, 0, 0, 0, 0, 0, 0, 0, 0, 0, 0, 0, 0, 0, 0, 0, 0, 0, 0, 0, 0, 0, 0, 0, 0, 0, 0, 0, 0, 0, 0, 0, 0, 0, 0, 0, 0, 0, 0, 0, 0, 0, 0, 0, 0, 0, 0, 0, 0, 0, 0, 0, 0, 0, 0, 0, 0, 0, 0, 0, 0, 0, 0, 0, 0, 0, 0, 0, 0, 0, 0, 0, 0, 0, 0, 0, 0, 0, 0, 0, 0, 0, 0, 0, 0, 0, 0, 0, 0, 0, 0, 0, 0, 0, 0, 0, 0, 0, 0, 0, 0, 0, 0, 0, 0, 0, 0, 0, 0, 0, 0, 0, 0, 0, 0, 0, 0, 0, 0, 0, 0, 0, 0, 0, 0, 0, 0, 0, 0, 0, 0, 0, 0, 0, 0, 0, 0, 0, 0, 0, 0, 0, 0, 0, 0, 0, 0, 0, 0, 0, 0, 0, 0, 0, 0, 0, 0, 0, 0, 0, 0, 0, 0, 0, 0, 0, 0, 0, 0, 0, 0, 0, 0, 0, 0, 0, 0, 0, 0, 0, 0, 0, 0, 0, 0, 0, 0, 0, 0, 0, 0, 0, 0, 0, 0, 0, 0, 0, 0, 0, 0, 0, 0, 0, 0, 0, 0, 0, 0, 0, 0, 0, 0, 0, 0, 0, 0, 0, 0, 0, 0, 0, 0, 0, 0, 0, 0, 0, 0, 0, 0, 0, 0, 0, 0, 0, 0, 0, 0, 0, 0, 0, 0, 0, 0, 0, 0, 0, 0, 0, 0, 0, 0, 0, 0, 0, 0, 0, 0, 0, 0, 0, 0, 0, 0, 0, 0, 0, 0, 0, 0, 0, 0, 0, 0, 0, 0, 0, 0, 0, 0, 0, 0, 0, 0, 0, 0, 0, 0, 0, 0, 0, 0, 0, 0, 0, 0, 0, 0, 0, 0, 0, 0, 0, 0, 0, 0, 0, 2, 0, 1, 0], type: <class 'list'>, valid types: <class 'bytes'>, <class 'bytearray'>, file-like object"
     ]
    }
   ],
   "source": [
    "response = runtime.invoke_endpoint(EndpointName = xgb_predictor.endpoint, # The name of the endpoint we created\n",
    "                                       ContentType = 'text/csv',                     # The data format that is expected\n",
    "                                       Body = test_bow)"
   ]
  },
  {
   "cell_type": "markdown",
   "metadata": {},
   "source": [
    "So why did we get an error?\n",
    "\n",
    "Because we tried to send the endpoint a list of integers but it expected us to send data of type `text/csv`. So, we need to convert it."
   ]
  },
  {
   "cell_type": "code",
   "execution_count": 45,
   "metadata": {},
   "outputs": [],
   "source": [
    "response = runtime.invoke_endpoint(EndpointName = xgb_predictor.endpoint, # The name of the endpoint we created\n",
    "                                       ContentType = 'text/csv',                     # The data format that is expected\n",
    "                                       Body = ','.join([str(val) for val in test_bow]).encode('utf-8'))"
   ]
  },
  {
   "cell_type": "code",
   "execution_count": 46,
   "metadata": {},
   "outputs": [
    {
     "name": "stdout",
     "output_type": "stream",
     "text": [
      "{'ResponseMetadata': {'RequestId': 'de6049ec-544f-447b-962e-e4ccd368055d', 'HTTPStatusCode': 200, 'HTTPHeaders': {'x-amzn-requestid': 'de6049ec-544f-447b-962e-e4ccd368055d', 'x-amzn-invoked-production-variant': 'AllTraffic', 'date': 'Sun, 3 May 2020 23:46:56 GMT', 'content-type': 'text/csv; charset=utf-8', 'content-length': '14'}, 'RetryAttempts': 0}, 'ContentType': 'text/csv; charset=utf-8', 'InvokedProductionVariant': 'AllTraffic', 'Body': <botocore.response.StreamingBody object at 0x7f256aee2358>}\n"
     ]
    }
   ],
   "source": [
    "print(response)"
   ]
  },
  {
   "cell_type": "markdown",
   "metadata": {},
   "source": [
    "As we can see, the response from our model is a somewhat complicated looking dict that contains a bunch of information. The bit that we are most interested in is `'Body'` object which is a streaming object that we need to `read` in order to make use of."
   ]
  },
  {
   "cell_type": "code",
   "execution_count": 47,
   "metadata": {},
   "outputs": [
    {
     "name": "stdout",
     "output_type": "stream",
     "text": [
      "0.405522435904\n"
     ]
    }
   ],
   "source": [
    "response = response['Body'].read().decode('utf-8')\n",
    "print(response)"
   ]
  },
  {
   "cell_type": "markdown",
   "metadata": {},
   "source": [
    "Now that we know how to process the incoming user data we can start setting up the infrastructure to make our simple web app work. To do this we will make use of two different services. Amazon's Lambda and API Gateway services.\n",
    "\n",
    "Lambda is a service which allows someone to write some relatively simple code and have it executed whenever a chosen trigger occurs. For example, you may want to update a database whenever new data is uploaded to a folder stored on S3.\n",
    "\n",
    "API Gateway is a service that allows you to create HTTP endpoints (url addresses) which are connected to other AWS services. One of the benefits to this is that you get to decide what credentials, if any, are required to access these endpoints.\n",
    "\n",
    "In our case we are going to set up an HTTP endpoint through API Gateway which is open to the public. Then, whenever anyone sends data to our public endpoint we will trigger a Lambda function which will send the input (in our case a review) to our model's endpoint and then return the result."
   ]
  },
  {
   "cell_type": "markdown",
   "metadata": {},
   "source": [
    "### Setting up a Lambda function\n",
    "\n",
    "The first thing we are going to do is set up a Lambda function. This Lambda function will be executed whenever our public API has data sent to it. When it is executed it will receive the data, perform any sort of processing that is required, send the data (the review) to the SageMaker endpoint we've created and then return the result.\n",
    "\n",
    "#### Part A: Create an IAM Role for the Lambda function\n",
    "\n",
    "Since we want the Lambda function to call a SageMaker endpoint, we need to make sure that it has permission to do so. To do this, we will construct a role that we can later give the Lambda function.\n",
    "\n",
    "Using the AWS Console, navigate to the **IAM** page and click on **Roles**. Then, click on **Create role**. Make sure that the **AWS service** is the type of trusted entity selected and choose **Lambda** as the service that will use this role, then click **Next: Permissions**.\n",
    "\n",
    "In the search box type `sagemaker` and select the check box next to the **AmazonSageMakerFullAccess** policy. Then, click on **Next: Review**.\n",
    "\n",
    "Lastly, give this role a name. Make sure you use a name that you will remember later on, for example `LambdaSageMakerRole`. Then, click on **Create role**."
   ]
  },
  {
   "cell_type": "markdown",
   "metadata": {},
   "source": [
    "#### Part B: Create a Lambda function\n",
    "\n",
    "Now it is time to actually create the Lambda function. Remember from earlier that in order to process the user provided input and send it to our endpoint we need to gather two pieces of information:\n",
    "\n",
    " - The name of the endpoint, and\n",
    " - the vocabulary object.\n",
    "\n",
    "We will copy these pieces of information to our Lambda function after we create it.\n",
    "\n",
    "To start, using the AWS Console, navigate to the AWS Lambda page and click on **Create a function**. When you get to the next page, make sure that **Author from scratch** is selected. Now, name your Lambda function, using a name that you will remember later on, for example `sentiment_analysis_xgboost_func`. Make sure that the **Python 3.6** runtime is selected and then choose the role that you created in the previous part. Then, click on **Create Function**.\n",
    "\n",
    "On the next page you will see some information about the Lambda function you've just created. If you scroll down you should see an editor in which you can write the code that will be executed when your Lambda function is triggered. Collecting the code we wrote above to process a single review and adding it to the provided example `lambda_handler` we arrive at the following.\n",
    "\n",
    "```python\n",
    "# We need to use the low-level library to interact with SageMaker since the SageMaker API\n",
    "# is not available natively through Lambda.\n",
    "import boto3\n",
    "\n",
    "# And we need the regular expression library to do some of the data processing\n",
    "import re\n",
    "\n",
    "REPLACE_NO_SPACE = re.compile(\"(\\.)|(\\;)|(\\:)|(\\!)|(\\')|(\\?)|(\\,)|(\\\")|(\\()|(\\))|(\\[)|(\\])\")\n",
    "REPLACE_WITH_SPACE = re.compile(\"(<br\\s*/><br\\s*/>)|(\\-)|(\\/)\")\n",
    "\n",
    "def review_to_words(review):\n",
    "    words = REPLACE_NO_SPACE.sub(\"\", review.lower())\n",
    "    words = REPLACE_WITH_SPACE.sub(\" \", words)\n",
    "    return words\n",
    "    \n",
    "def bow_encoding(words, vocabulary):\n",
    "    bow = [0] * len(vocabulary) # Start by setting the count for each word in the vocabulary to zero.\n",
    "    for word in words.split():  # For each word in the string\n",
    "        if word in vocabulary:  # If the word is one that occurs in the vocabulary, increase its count.\n",
    "            bow[vocabulary[word]] += 1\n",
    "    return bow\n",
    "\n",
    "\n",
    "def lambda_handler(event, context):\n",
    "    \n",
    "    vocab = \"*** ACTUAL VOCABULARY GOES HERE ***\"\n",
    "    \n",
    "    words = review_to_words(event['body'])\n",
    "    bow = bow_encoding(words, vocab)\n",
    "\n",
    "    # The SageMaker runtime is what allows us to invoke the endpoint that we've created.\n",
    "    runtime = boto3.Session().client('sagemaker-runtime')\n",
    "\n",
    "    # Now we use the SageMaker runtime to invoke our endpoint, sending the review we were given\n",
    "    response = runtime.invoke_endpoint(EndpointName = '***ENDPOINT NAME HERE***',# The name of the endpoint we created\n",
    "                                       ContentType = 'text/csv',                 # The data format that is expected\n",
    "                                       Body = ','.join([str(val) for val in bow]).encode('utf-8')) # The actual review\n",
    "\n",
    "    # The response is an HTTP response whose body contains the result of our inference\n",
    "    result = response['Body'].read().decode('utf-8')\n",
    "    \n",
    "    # Round the result so that our web app only gets '1' or '0' as a response.\n",
    "    result = round(float(result))\n",
    "\n",
    "    return {\n",
    "        'statusCode' : 200,\n",
    "        'headers' : { 'Content-Type' : 'text/plain', 'Access-Control-Allow-Origin' : '*' },\n",
    "        'body' : str(result)\n",
    "    }\n",
    "```"
   ]
  },
  {
   "cell_type": "markdown",
   "metadata": {},
   "source": [
    "Once you have copy and pasted the code above into the Lambda code editor, replace the `**ENDPOINT NAME HERE**` portion with the name of the endpoint that we deployed earlier. You can determine the name of the endpoint using the code cell below."
   ]
  },
  {
   "cell_type": "code",
   "execution_count": 50,
   "metadata": {},
   "outputs": [
    {
     "data": {
      "text/plain": [
       "'xgboost-2020-05-03-23-19-22-432'"
      ]
     },
     "execution_count": 50,
     "metadata": {},
     "output_type": "execute_result"
    }
   ],
   "source": [
    "xgb_predictor.endpoint"
   ]
  },
  {
   "cell_type": "markdown",
   "metadata": {},
   "source": [
    "In addition, you will need to copy the vocabulary dict to the appropriate place in the code at the beginning of the `lambda_handler` method. The cell below prints out the vocabulary dict in a way that is easy to copy and paste."
   ]
  },
  {
   "cell_type": "code",
   "execution_count": 51,
   "metadata": {},
   "outputs": [
    {
     "name": "stdout",
     "output_type": "stream",
     "text": [
      "{'upon': 4684, 'seeing': 3857, 'this': 4457, 'film': 1716, 'once': 3106, 'again': 146, 'it': 2366, 'appeared': 276, 'superior': 4300, 'to': 4507, 'me': 2778, 'time': 4495, 'than': 4420, 'the': 4426, 'previous': 3387, 'times': 4497, 'have': 2052, 'viewed': 4737, 'acting': 99, 'is': 2360, 'wonderful': 4928, 'characters': 760, 'are': 285, 'very': 4723, 'clearly': 840, 'drawn': 1351, 'brad': 560, 'pitt': 3280, 'simply': 3986, 'superb': 4296, 'as': 311, 'son': 4070, 'who': 4871, 'other': 3135, 'actors': 104, 'and': 226, 'actresses': 106, 'equally': 1510, 'fine': 1729, 'in': 2257, 'every': 1539, 'respect': 3652, 'robert': 3713, 'creates': 1038, 'period': 3236, 'piece': 3272, 'from': 1840, 'days': 1130, 'of': 3083, 'scenery': 3810, 'incredibly': 2270, 'beautiful': 428, 'mountains': 2918, 'western': 4853, 'montana': 2895, 'all': 187, 'one': 3107, 'finest': 1730, 'films': 1721, 'made': 2697, '1990s': 25, 'you': 4986, 'must': 2950, 'see': 3855, 'movie': 2926, 'thought': 4462, 'was': 4805, 'really': 3556, 'great': 1964, 'did': 1241, 'an': 223, 'amazing': 209, 'job': 2405, 'she': 3923, 'played': 3297, 'her': 2085, 'character': 758, 'well': 4843, 'shes': 3930, 'awesome': 371, 'actress': 105, 'also': 199, 'funny': 1852, 'too': 4522, 'jokes': 2415, 'were': 4848, 'couldnt': 1008, 'stop': 4201, 'laughing': 2533, 'think': 4452, 'everyone': 1542, 'should': 3951, 'sight': 3969, 'kapoor': 2443, 'two': 4620, 'about': 67, 'only': 3110, 'thing': 4450, 'that': 4424, 'up': 4683, 'your': 4991, 'sleep': 4024, 'while': 4868, 'watching': 4815, 'disappointing': 1274, 'mind': 2849, 'new': 3003, 'at': 331, 'cinemas': 817, 'weekend': 4838, 'bad': 382, 'we': 4823, 'some': 4061, 'week': 4837, 'but': 636, 'not': 3040, 'just': 2437, 'its': 2370, 'terrible': 4407, 'because': 432, 'takes': 4351, 'audience': 352, 'for': 1784, 'granted': 1957, 'filmmakers': 1720, 'expect': 1575, 'get': 1899, 'away': 369, 'without': 4913, 'plot': 3309, 'or': 3124, 'any': 256, 'common': 906, 'sense': 3877, 'theyve': 4446, 'got': 1944, 'big': 478, 'stars': 4155, 'directed': 1259, 'by': 642, 'what': 4858, 'youd': 4987, 'describe': 1194, 'road': 3709, 'thats': 4425, 'going': 1931, 'wrong': 4973, 'directions': 1262, 'khan': 2459, 'jimmy': 2403, 'cliff': 847, 'call': 651, 'executive': 1567, 'whos': 4876, 'hired': 2117, 'teach': 4374, 'english': 1483, 'playing': 3300, 'ambitious': 211, 'gangster': 1868, 'desperate': 1208, 'go': 1924, 'cool': 989, 'his': 2118, 'eye': 1611, 'on': 3105, 'gangsters': 1869, 'pretty': 3384, 'young': 4989, 'assistant': 326, 'uses': 4697, 'boss': 546, '25': 40, 'determined': 1221, 'money': 2888, 'both': 547, 'most': 2909, 'do': 1302, 'so': 4046, 'akshay': 169, 'faithful': 1634, 'tracks': 4545, 'down': 1335, 'stolen': 4195, 'hidden': 2096, 'across': 96, 'length': 2569, 'like': 2599, 'those': 4460, 'eighties': 1437, 'held': 2074, 'together': 4511, 'script': 3834, 'over': 3148, 'top': 4525, 'fails': 1628, 'connect': 944, 'instead': 2307, 'coherent': 871, 'screenplay': 3831, 'traditional': 4550, 'three': 4469, 'act': 97, 'structure': 4233, 'handful': 2017, 'set': 3898, 'pieces': 3273, 'around': 297, 'which': 4867, 'scenes': 3811, 'loosely': 2651, 'constructed': 959, 'song': 4071, 'desert': 1198, 'bullet': 620, 'action': 100, 'scene': 3809, 'moment': 2886, 'even': 1533, 'ridiculous': 3693, 'complete': 921, 'with': 4911, 'water': 4816, 'through': 4477, 'dirty': 1268, 'believe': 454, 'style': 4249, 'horse': 2170, 'driven': 1365, 'these': 4441, 'badly': 383, 'done': 1322, 'quite': 3495, 'neat': 2982, 'actually': 109, 'little': 2624, 'makes': 2716, 'larger': 2519, 'picture': 3269, 'youre': 4992, 'another': 250, 'help': 2079, 'seemingly': 3863, 'fast': 1661, 'paced': 3162, 'find': 1726, 'sentimental': 3882, 'flashback': 1746, 'track': 4544, 'childhood': 790, 'problem': 3408, 'nobody': 3022, 'associated': 327, 'knew': 2486, 'they': 4442, 'making': 2718, 'whats': 4860, 'more': 2904, 'dont': 1324, 'cared': 685, 'either': 1438, 'elements': 1443, 'genre': 1888, 'if': 2222, 'mix': 2876, 'does': 1308, 'work': 4940, 'kill': 2468, 'then': 4436, 'theres': 4440, 'kills': 2474, 'finish': 1732, 'camera': 659, 'exotic': 1574, 'locations': 2636, 'fancy': 1649, 'costumes': 1006, 'frame': 1815, 'probably': 3407, 'cost': 1003, 'put': 3480, 'still': 4188, 'feels': 1687, 'hollow': 2135, 'end': 1468, 'story': 4207, 'doesnt': 1309, 'hold': 2129, 'narrative': 2966, 'stephen': 4176, 'blend': 504, 'thin': 4449, 'may': 2775, 'less': 2575, 'engaging': 1481, 'dialogue': 1234, 'want': 4788, 'unable': 4631, 'feet': 1688, 'meanwhile': 2785, 'queen': 3485, 'delivery': 1173, 'decent': 1147, 'course': 1019, 'extent': 1605, 'thanks': 4423, 'presence': 3373, 'approach': 282, 'cringe': 1059, 'when': 4862, 'hes': 2093, 'repeatedly': 3632, 'he': 2056, 'delivers': 1172, 'double': 1331, 'meaning': 2780, 'dialogues': 1235, 'can': 665, 'take': 4349, 'eyes': 1613, 'off': 3084, 'screen': 3829, 'good': 1937, 'music': 2946, 'songs': 4072, 'seem': 3861, 'theyre': 4445, 'misery': 2865, 'test': 4416, 'case': 707, 'didnt': 1242, 'know': 2489, 'means': 2783, 'im': 2232, 'sorry': 4076, 'say': 3799, 'has': 2043, 'none': 3028, 'many': 2732, 'king': 2479, 'fans': 1650, 'hate': 2046, 'book': 535, 'different': 1248, 'medium': 2792, 'books': 536, 'change': 749, 'make': 2713, 'jump': 2429, 'fail': 1625, 'completely': 922, 'entirely': 1503, 'terms': 4406, 'id': 2212, 'people': 3221, 'tell': 4395, 'ever': 1538, 'always': 203, 'follow': 1772, 'question': 3487, 'exactly': 1551, 'scared': 3805, 'fan': 1648, 'ive': 2372, 'asked': 317, 'goes': 1930, 'silent': 3975, 'occasionally': 3075, 'someone': 4064, 'loss': 2659, 'scare': 3803, 'there': 4438, 'names': 2963, 'shooting': 3943, 'out': 3141, 'afraid': 140, 'except': 1556, 'maybe': 2776, 'easily': 1406, 'rolled': 3729, 'my': 2951, 'grade': 1951, 'horror': 2168, 'ideas': 2215, 'play': 3296, 'incoherent': 2265, 'place': 3282, 'tedious': 4387, 'mr': 2929, 'overlook': 3153, 'him': 2110, 'member': 2800, 'knowing': 2490, 'jack': 2373, 'waiting': 4772, 'behind': 447, 'forever': 1792, 'walk': 4775, 'sequences': 3888, 'oh': 3096, 'nice': 3008, 'choice': 797, 'stanley': 4148, 'black': 493, 'light': 2595, 'add': 115, 'mood': 2898, 'development': 1225, 'been': 438, 'shot': 3949, 'consider': 949, 'miracle': 2860, 'eventually': 1537, 'able': 66, 'agree': 155, '2001': 31, 'truly': 4597, 'important': 2247, 'given': 1913, 'will': 4886, 'generated': 1882, 'stupid': 4247, 'cult': 1077, 'kubrick': 2496, 'boys': 559, 'idea': 2213, 'library': 2589, 'front': 1841, 'them': 4432, 'overacting': 3149, 'nicholson': 3011, 'introduction': 2339, 'dumb': 1385, 'liners': 2611, 'tense': 4403, 'moments': 2887, 'nominated': 3025, 'performance': 3228, 'crappy': 1032, 'filmed': 1717, 'after': 143, 'war': 4792, 'order': 3126, 'highlight': 2103, 'american': 213, 'relations': 3596, 'ended': 1470, 'being': 448, 'first': 1736, 'royal': 3746, 'wwii': 4975, 'remarkably': 3614, 'air': 164, 'force': 1786, 'fathers': 1667, 'america': 212, 'various': 4715, 'others': 3136, 'long': 2644, 'special': 4097, 'effects': 1431, 'beyond': 476, 'losing': 2658, 'integrity': 2311, 'although': 201, 'sounding': 4083, 'absurd': 73, 'clever': 841, 'leads': 2548, 'dances': 1106, 'viewer': 4738, 'between': 475, 'heaven': 2068, 'earth': 1403, 'skill': 4013, 'mountain': 2917, 'presents': 3377, 'charming': 768, 'ease': 1404, 'rarely': 3524, 'matched': 2763, 'cinema': 816, 'since': 3990, 'be': 418, 'prepared': 3371, 'heart': 2064, 'sweet': 4336, 'innocent': 2294, 'love': 2669, 'roger': 3724, 'acts': 107, 'man': 2721, 'possessed': 3347, 'steal': 4170, 'show': 3953, 'british': 589, 'cry': 1073, 'how': 2181, 'used': 4693, 'early': 1400, 'post': 3352, 'years': 4979, 'six': 4010, 'price': 3389, 'isnt': 2362, 'here': 2086, 'stories': 4205, 'ensemble': 1492, 'cast': 710, 'bollywood': 530, 'plus': 3311, 'favorite': 1671, 'directors': 1266, 'et': 1526, 'al': 170, 'damn': 1100, 'type': 4621, 'enjoyed': 1486, 'rather': 3528, 'now': 3054, 'no': 3020, 'deal': 1135, 'need': 2987, 'anything': 260, 'sir': 4000, 'thank': 4421, 'why': 4878, 'enough': 1491, 'please': 3304, 'spare': 4093, 'us': 4690, 'signed': 3971, 'star': 4150, 'manage': 2722, 'sign': 3970, 'whether': 4866, 'required': 3641, 'depicted': 1183, 'justify': 2439, 'each': 1395, 'therefore': 4439, 'hours': 2177, 'gags': 1862, 'problems': 3409, 'situations': 4009, 'resolution': 3649, 'yes': 4982, 'guessed': 1990, 'right': 3696, 'tried': 4584, 'same': 3778, 'hundreds': 2196, 'dancers': 1105, 'dancing': 1107, 'colorful': 878, 'background': 380, 'couples': 1017, 'fairy': 1632, 'tale': 4353, 'perfect': 3224, 'looking': 2648, 'beginning': 443, 'way': 4820, 'ends': 1474, 'impossible': 2249, 'manner': 2729, 'cant': 671, 'single': 3996, 'everything': 1544, 'already': 197, 'seen': 3865, 'million': 2847, 'bloody': 513, 'fake': 1635, 'unreal': 4676, 'considered': 951, 'normal': 3033, 'hundred': 2195, 'indian': 2274, 'todays': 4509, 'could': 1007, 'worked': 4941, 'parody': 3192, 'paid': 3169, 'tribute': 4581, 'alas': 172, 'explored': 1595, 'least': 2554, 'director': 1264, 'attempted': 341, 'happen': 2026, 'tradition': 4549, 'living': 2629, 'mark': 2739, 'commercial': 902, 'somebody': 4062, 'carry': 700, 'imagine': 2238, 'hand': 2015, 'finds': 1728, 'difficult': 1249, 'sit': 4003, 'such': 4268, 'pain': 3170, 'mean': 2779, 'fun': 1848, 'year': 4978, '2000': 30, 'age': 148, 'something': 4066, 'real': 3547, 'guys': 2001, 'bright': 581, 'said': 3774, 'come': 886, 'entertainment': 1500, 'advice': 133, 'waste': 4808, 'reading': 3544, 'reviews': 3679, 'topic': 4526, 'treated': 4573, 'simple': 3983, 'description': 1197, 'local': 2634, 'chinese': 796, 'daily': 1097, 'operation': 3117, 'public': 3460, 'bath': 411, 'run': 3755, 'old': 3100, 'owner': 3159, 'retarded': 3663, 'older': 3101, 'returns': 3668, 'home': 2142, 'believing': 457, 'father': 1666, 'died': 1244, 'town': 4541, 'visit': 4755, 'games': 1865, 'discuss': 1283, 'personal': 3240, 'matters': 2770, 'honest': 2146, 'besides': 468, 'usual': 4699, 'dies': 1245, 'strong': 4229, 'loyal': 2679, 'family': 1645, 'ties': 4490, 'charge': 761, 'finally': 1724, 'arrival': 299, 'spending': 4106, 'getting': 1901, 'along': 195, 'complex': 923, 'figure': 1711, 'line': 2610, 'frankly': 1823, 'hal': 2006, 'until': 4680, 'havent': 2053, 'heard': 2062, 'though': 4461, 'small': 4033, 'smaller': 4034, 'jim': 2402, 'ultra': 4629, 'projects': 3428, 'limited': 2606, 'ironic': 2355, 'much': 2934, 'slightly': 4029, 'context': 968, 'fay': 1674, 'grim': 1974, 'features': 1680, 'seems': 3864, 'present': 3374, 'talent': 4354, 'filmmaker': 1719, 'taken': 4350, 'far': 1653, 'impressed': 2251, 'own': 3158, 'would': 4957, 'cinematic': 818, 'explain': 1586, 'suppose': 4305, 'however': 2183, 'due': 1382, 'having': 2054, 'henry': 2084, 'fool': 1779, 'had': 2003, 'experience': 1580, 'wouldnt': 4958, 'difference': 1246, 'based': 404, 'final': 1722, 'results': 3662, 'lot': 2661, 'international': 2326, 'wrapped': 4964, 'inside': 2297, 'fallen': 1638, 'title': 4504, 'parker': 3191, 'sure': 4308, 'involving': 2349, 'cia': 814, 'jeff': 2390, 'solid': 4057, 'laughs': 2534, 'mention': 2810, 'box': 555, 'author': 359, 'totally': 4532, 'into': 2332, 'extended': 1604, 'sake': 3775, 'touches': 4535, 'witty': 4917, 'strange': 4211, 'dialog': 1232, 'direction': 1261, 'sucks': 4271, 'third': 4455, 'consistently': 954, 'inducing': 2279, 'angle': 236, 'oddly': 3081, 'fact': 1621, 'trying': 4601, 'unnecessary': 4672, 'titled': 4505, 'angles': 237, 'bizarre': 492, 'dramatic': 1348, 'effect': 1428, 'mostly': 2910, 'responsible': 3656, 'crazy': 1035, 'wannabe': 4787, 'cards': 683, 'pop': 3330, 'amusing': 221, 'montage': 2894, 'segments': 3868, 'shots': 3950, 'couple': 1016, 'almost': 193, 'ed': 1415, 'wood': 4933, 'potential': 3355, 'fairly': 1631, 'hard': 2033, 'fascinating': 1658, 'watch': 4811, 'kind': 2476, 'comes': 891, 'side': 3965, 'total': 4531, 'creative': 1041, 'control': 977, 'sort': 4077, 'scale': 3802, 'let': 2579, 'known': 2492, 'youll': 4988, 'likely': 2601, 'pretentious': 3383, 'example': 1553, 'independent': 2272, 'streisand': 4218, 'familiar': 1643, 'girl': 1909, 'brilliant': 583, 'performer': 3231, 'before': 440, 'achieved': 93, 'goal': 1925, 'becoming': 435, 'never': 3001, 'female': 1693, 'singer': 3993, 'dreams': 1355, 'sing': 3992, 'energy': 1478, 'above': 68, 'enthusiasm': 1501, 'performs': 3234, 'gets': 1900, 'central': 735, 'park': 3190, 'concert': 935, 'later': 2525, 'shed': 3924, 'filming': 1718, 'hollywood': 2137, 'performing': 3233, 'become': 433, 'lets': 2580, 'face': 1616, 'angry': 238, 'wall': 4781, 'live': 2625, 'ticket': 4487, 'longer': 2645, 'possible': 3350, 'legendary': 2565, 'stage': 4139, 'provides': 3450, 'excuse': 1564, 'earlier': 1399, 'judy': 2426, 'appearance': 274, 'incredible': 2269, 'sound': 4081, 'richard': 3686, 'loved': 2670, '1970s': 17, 'rock': 3720, 'younger': 4990, 'audiences': 353, 'effort': 1432, 'voice': 4761, '80s': 59, 'came': 656, 'back': 378, 'broadway': 592, 'album': 175, 'went': 4847, 'struggle': 4234, 'told': 4513, 'etc': 1527, 'anyone': 259, 'doing': 1312, 'stuff': 4243, 'bringing': 586, 'level': 2584, 'wanted': 4789, 'sequel': 3885, 'wasnt': 4807, 'nearly': 2981, 'feel': 1684, 'necessary': 2984, 'improve': 2254, 'alive': 186, 'recognized': 3570, 'evening': 1534, 'notorious': 3051, 'taking': 4352, 'singers': 3994, 'task': 4368, 'undoubtedly': 4648, 'hed': 2072, 'written': 4972, 'blows': 517, 'michael': 2829, 'cd': 728, 'their': 4431, 'night': 3013, 'apparently': 270, 'whose': 4877, 'singing': 3995, 'herself': 2092, 'arent': 288, 'else': 1448, 'supposedly': 4307, 'took': 4523, 'aside': 315, 'wasted': 4809, 'despite': 1211, 'contrary': 974, 'surely': 4309, 'looks': 2649, 'tv': 4610, 'argue': 290, 'evident': 1547, 'treat': 4572, 'yourself': 4993, 'musical': 2947, 'legend': 2564, 'absolutely': 72, 'amazed': 208, 'ps': 3453, 'watched': 4813, 'last': 2521, '12': 3, 'better': 472, 'remembered': 3617, '1st': 28, 'begins': 444, 'late': 2523, 'includes': 2263, 'taste': 4369, 'homage': 2141, 'five': 1743, 'appears': 278, 'full': 1846, 'bored': 541, 'yet': 4984, 'somewhat': 4068, 'rendition': 3625, 'compare': 911, 'pilot': 3276, 'versions': 4721, '2nd': 41, 'hasnt': 2044, 'changed': 750, 'famous': 1647, 'series': 3890, 'depression': 1189, '3rd': 47, 'witness': 4914, 'event': 1535, 'fear': 1676, 'dislike': 1288, 'part': 3193, 'credit': 1049, 'tears': 4380, 'lover': 2672, 'sun': 4292, 'remember': 3616, 'poignant': 3315, 'choose': 799, 'performances': 3229, 'offers': 3090, 'including': 2264, 'rain': 3506, 'score': 3822, 'dance': 1103, 'explaining': 1588, 'sings': 3997, 'dress': 1357, 'main': 2707, 'against': 147, 'saw': 3798, 'hands': 2020, 'nothing': 3047, 'glimpse': 1919, 'understated': 4646, 'version': 4720, 'happy': 2032, 'credits': 1050, 'friend': 1835, 'twenty': 4612, 'found': 1811, 'premise': 3370, 'imaginative': 2237, 'pulled': 3462, 'developed': 1223, 'pacing': 3163, 'kept': 2456, 'questions': 3489, 'keep': 2449, 'producing': 3417, 'satisfying': 3791, 'non': 3027, 'ride': 3692, 'slowly': 4032, 'hill': 2108, 'creating': 1039, 'ultimately': 4628, 'initially': 2291, 'laid': 2508, 'excellent': 1555, 'compared': 912, 'sequels': 3886, 'original': 3129, 'martin': 2748, 'friday': 1834, '13th': 5, 'fame': 1642, 'indeed': 2271, 'gore': 1941, 'interesting': 2325, 'screaming': 3827, 'mad': 2696, 'george': 1893, 'artist': 307, 'gonna': 1936, 'gory': 1943, 'extremely': 1610, 'nasty': 2968, 'middle': 2833, 'toy': 4542, 'mickey': 2831, 'guest': 1992, 'needed': 2988, 'possibly': 3351, 'liked': 2600, 'installment': 2303, 'matrix': 2767, 'enjoy': 1484, 'forest': 1791, 'contact': 961, 'art': 304, 'house': 2178, 'surreal': 4317, 'twisted': 4618, 'naked': 2959, 'survive': 4321, 'movies': 2927, 'worth': 4953, 'roll': 3728, 'attempts': 343, 'deep': 1154, 'intellectual': 2312, 'essentially': 1523, 'substance': 4258, 'visuals': 4759, 'inspiring': 2302, 'worse': 4951, 'numbers': 3061, 'destroy': 1213, 'brothers': 599, 'immediately': 2242, 'irrelevant': 2358, 'meaningful': 2781, 'nonsense': 3030, 'students': 4239, 'craft': 1028, 'stand': 4143, 'point': 3316, 'pseudo': 3454, 'heavy': 2070, 'handed': 2016, 'david': 1124, 'lynch': 2691, 'give': 1912, 'break': 569, 'am': 204, 'convinced': 984, 'mild': 2839, 'mixed': 2877, 'stupidity': 4248, 'shoes': 3941, 'extreme': 1609, 'disappointment': 1275, 'coming': 896, 'high': 2100, 'combined': 885, 'use': 4692, 'cinematography': 820, 'catchy': 717, 'soundtrack': 4085, 'fantastic': 1651, 'flow': 1762, 'exact': 1550, 'opposite': 3123, 'boring': 543, '20': 29, 'minutes': 2859, 'staring': 4152, 'bland': 500, 'beach': 419, 'white': 4870, 'alien': 183, 'balls': 390, 'floating': 1758, 'space': 4090, 'school': 3813, 'forgettable': 1794, 'humorous': 2193, 'save': 3794, 'life': 2592, 'amateurish': 207, 'uneven': 4649, 'disjointed': 1287, 'often': 3095, 'flat': 1748, 'zero': 4996, 'whatsoever': 4861, 'claim': 828, 'turn': 4605, 'pure': 3471, 'genius': 1887, 'ego': 1435, 'unpredictable': 4675, 'quality': 3484, 'personally': 3243, 'spoken': 4126, 'left': 2561, 'theater': 4427, 'overwhelming': 3157, 'hey': 2095, 'foot': 1781, 'care': 684, 'says': 3801, 'best': 469, 'lost': 2660, 'japan': 2381, '10': 0, 'tea': 4373, 'party': 3200, 'girls': 1911, 'low': 2676, 'budget': 610, 'honestly': 2147, 'interested': 2324, 'pile': 3275, 'literature': 2623, 'increasingly': 2268, 'distant': 1295, 'past': 3207, 'weight': 4840, 'under': 4639, 'television': 4394, 'power': 3359, 'bbc': 417, 'produce': 3413, 'religious': 3608, 'themes': 4434, 'moral': 2902, 'ill': 2228, 'world': 4946, 'shocked': 3939, 'domestic': 1318, 'violence': 4747, 'ones': 3108, 'gem': 1877, 'today': 4508, 'feminist': 1695, 'extraordinary': 1607, 'ann': 244, 'masterpiece': 2759, 'hall': 2009, 'mental': 2808, 'heroine': 2091, 'helen': 2075, 'escapes': 1519, 'miserable': 2863, 'marriage': 2743, 'abusive': 75, 'husbands': 2205, 'fury': 1855, 'pays': 3218, 'self': 3869, 'falls': 1640, 'women': 4923, 'offer': 3087, 'beautifully': 429, 'handled': 2019, 'passion': 3205, 'feeling': 1685, 'aspect': 321, 'complicated': 925, 'reviewers': 3678, 'defined': 1160, 'striking': 4226, 'combination': 883, 'handsome': 2021, 'youth': 4994, 'passionate': 3206, 'favourite': 1673, 'enjoys': 1489, 'himself': 2111, 'charismatic': 763, 'villain': 4744, 'supporting': 4304, 'create': 1036, 'sink': 3999, 'modern': 2882, 'felt': 1692, 'classic': 835, 'highly': 2105, 'recommended': 3572, 'romantic': 3733, 'ben': 463, 'stiller': 4189, 'write': 4967, 'studios': 4241, 'hell': 2077, 'gotten': 1947, 'funeral': 1849, 'flick': 1754, 'tries': 4585, 'comedy': 890, 'dog': 1310, 'crap': 1031, 'christopher': 811, 'walken': 4777, 'perhaps': 3235, 'greatest': 1966, 'generation': 1883, 'embarrassed': 1453, 'unfunny': 4655, 'proves': 3447, 'overrated': 3156, 'comic': 893, 'wonder': 4926, 'available': 361, 'dollar': 1314, 'theaters': 4428, 'weeks': 4839, 'warn': 4797, 'friends': 1837, 'awful': 372, 'worst': 4952, 'plan': 3287, 'golden': 1934, 'child': 789, 'quit': 3494, 'allowing': 191, 'god': 1926, 'actor': 103, 'following': 1774, 'negative': 2991, 'scores': 3823, 'allowed': 190, 'board': 522, 'few': 1700, 'managed': 2723, 'ending': 1471, 'glad': 1916, 'pointless': 3318, 'pathetic': 3210, 'hunting': 2201, 'facts': 1624, 'married': 2744, 'attempt': 340, 'kick': 2460, 'start': 4156, 'career': 686, 'failed': 1626, 'hope': 2155, 'person': 3238, 'comments': 901, 'decides': 1150, 'paint': 3173, 'reason': 3557, 'giving': 1915, 'tom': 4514, 'hanks': 2025, 'elvis': 1451, 'apart': 264, 'halfway': 2008, 'lame': 2510, 'seemed': 3862, 'stereotypes': 4179, 'blame': 499, 'lies': 2591, 'brings': 587, 'involved': 2346, 'train': 4556, 'wreck': 4965, 'system': 4345, 'telling': 4396, 'lines': 2612, 'ya': 4976, 'called': 652, 'return': 3665, 'okay': 3099, 'funnier': 1850, 'broadcast': 591, 'alone': 194, 'certain': 737, 'formulaic': 1803, 'predictable': 3367, 'somehow': 4063, 'added': 116, 'charm': 767, 'flashbacks': 1747, 'wonderfully': 4929, 'placed': 3283, 'captured': 677, 'productions': 3420, 'throughout': 4478, 'outstanding': 3147, 'released': 3603, 'buy': 640, 'expectations': 1576, 'insulting': 2310, 'escaped': 1518, 'criminal': 1057, 'wears': 4832, 'halloween': 2010, 'mask': 2752, 'thinks': 4454, 'joke': 2414, 'might': 2835, 'during': 1387, 'entire': 1502, 'downright': 1337, 'suspense': 4330, 'excitement': 1562, 'cheap': 774, 'combine': 884, 'became': 431, 'towards': 4540, 'stopped': 4202, 'whatever': 4859, 'happened': 2027, 'amanda': 205, 'pulp': 3465, 'fiction': 1702, '13': 4, 'ago': 154, 'avoid': 363, 'warned': 4798, 'critics': 1064, 'anthony': 253, 'mann': 2728, 'stewart': 4184, 'john': 2409, 'portrayal': 3341, 'game': 1864, 'winner': 4897, 'several': 3905, 'look': 2646, 'hudson': 2184, 'bull': 619, 'begin': 442, 'indians': 2275, 'themselves': 4435, 'category': 718, 'average': 362, 'land': 2511, 'france': 1816, 'lived': 2626, 'happily': 2030, 'easy': 1410, 'men': 2805, 'kings': 2481, 'seven': 3903, 'noticed': 3049, 'soldiers': 4054, 'sent': 3880, 'ranks': 3519, 'gerard': 1895, 'caught': 722, 'daughter': 1121, 'future': 1856, 'win': 4892, 'fortune': 1806, 'marry': 2745, 'rescue': 3643, 'attack': 337, 'cut': 1089, 'soon': 4074, 'discover': 1279, 'destiny': 1212, 'adventures': 131, 'sword': 4340, 'fighting': 1709, 'battles': 415, 'lacks': 2505, 'quick': 3490, 'talking': 4360, 'belief': 451, 'nature': 2975, 'constantly': 958, 'pages': 3168, 'stunts': 4246, 'dead': 1132, 'holds': 2131, 'sharp': 3922, 'la': 2500, 'endless': 1473, 'pointed': 3317, 'steps': 4177, 'hanging': 2023, 'meets': 2795, 'private': 3404, 'belongs': 460, 'asks': 319, 'ask': 316, 'pleasure': 3306, 'proper': 3436, 'merits': 2817, 'proof': 3434, 'jean': 2389, 'rest': 3657, 'wave': 4818, 'gang': 1867, 'popular': 3333, 'mere': 2814, 'attacks': 339, 'christian': 808, 'among': 217, 'prime': 3395, 'missed': 2867, 'satire': 3788, 'fellow': 1691, 'appreciate': 279, 'goodness': 1938, 'childish': 791, 'recognize': 3569, 'masses': 2755, 'smart': 4035, 'degree': 1164, 'popularity': 3334, 'read': 3543, 'harry': 2039, 'eat': 1411, 'rules': 3754, 'discovered': 1280, 'covers': 1024, 'mentioned': 2811, 'imagination': 2236, 'thankfully': 4422, 'maintain': 2710, 'huge': 2185, 'success': 4265, 'animal': 239, 'office': 3091, 'bucks': 606, 'aforementioned': 139, 'nor': 3032, 'memory': 2804, 'national': 2970, 'vacation': 4704, 'carried': 698, 'wild': 4885, 'class': 833, 'reunion': 3669, 'remains': 3611, 'instantly': 2306, 'bob': 524, 'perfection': 3225, 'charles': 764, 'bands': 392, 'lazy': 2543, 'drunken': 1376, 'sex': 3907, 'cruel': 1070, 'awards': 367, 'within': 4912, 'merit': 2816, 'scripts': 3836, 'weird': 4841, 'science': 3816, 'theme': 4433, 'gary': 1873, 'history': 2121, 'rent': 3626, 'next': 3007, 'day': 1129, 'laughed': 2532, 'literally': 2622, 'rolling': 3730, 'floor': 1759, 'usually': 4700, 'happens': 2029, 'scott': 3824, 'whole': 4873, 'heck': 2071, 'utterly': 4702, 'clumsy': 866, 'video': 4733, 'production': 3419, 'supposed': 4306, 'apparent': 269, 'connection': 946, 'hero': 2088, 'name': 2960, 'alex': 179, 'half': 2007, 'guessing': 1991, 'outfit': 3144, 'merely': 2815, 'chase': 769, 'slow': 4031, 'senseless': 3878, 'calling': 653, 'considering': 952, 'suddenly': 4273, 'blatant': 502, 'lots': 2662, 'explosions': 1597, 'luckily': 2682, 'silly': 3976, 'phony': 3256, 'mixture': 2878, 'utter': 4701, 'entertaining': 1499, 'wont': 4932, 'disappointed': 1273, 'review': 3676, 'ii': 2226, 'crew': 1053, 'driving': 1368, 'extras': 1608, 'monster': 2892, 'poor': 3328, 'suffering': 4277, 'tim': 4494, 'families': 1644, 'cameos': 658, 'moon': 2900, 'afford': 138, 'sets': 3899, 'convoluted': 987, 'note': 3044, 'true': 4596, 'beat': 423, 'guy': 2000, 'zombies': 4998, 'worry': 4950, 'ladies': 2506, 'things': 4451, 'anyway': 261, 'significant': 3972, 'ward': 4793, 'stinks': 4192, 'lousy': 2667, 'rival': 3706, 'candy': 668, 'wouldve': 4959, 'effective': 1429, 'bit': 488, 'device': 1227, 'second': 3846, 'weve': 4856, 'convincing': 985, 'wait': 4770, 'minute': 2858, 'form': 1798, 'creator': 1043, 'lately': 2524, 'runs': 3757, 'twice': 4613, 'battle': 414, 'continuity': 972, 'highlights': 2104, 'country': 1014, 'creature': 1045, 'attacked': 338, 'steve': 4181, 'andrews': 229, 'girlfriend': 1910, 'jane': 2380, 'dr': 1340, 'steven': 4182, 'doctor': 1304, 'treats': 4575, 'carefully': 689, 'investigate': 2342, 'location': 2635, 'where': 4864, 'sees': 3866, 'blob': 507, 'killing': 2472, 'try': 4600, 'police': 3322, 'bigger': 479, 'sci': 3815, 'fi': 1701, 'ham': 2011, 'exception': 1557, 'delightful': 1168, 'remake': 3612, 'kevin': 2457, 'recommend': 3571, '50s': 52, 'subject': 4253, 'number': 3060, 'vote': 4766, 'brazil': 568, 'map': 2733, 'fit': 1740, 'equal': 1509, 'screams': 3828, 'listen': 2619, 'faces': 1618, 'forget': 1793, 'universe': 4666, 'red': 3576, 'camp': 662, 'tone': 4517, 'anymore': 258, 'forgive': 1795, 'bodies': 526, 'fall': 1637, 'intent': 2318, 'balance': 387, 'paranoia': 3186, 'madness': 2698, 'isolated': 2363, 'usa': 4691, 'travel': 4567, 'secret': 3849, 'experiments': 1584, 'nazis': 2978, 'saturday': 3792, 'midnight': 2834, 'hype': 2207, 'truth': 4599, 'reality': 3551, 'pulling': 3463, 'showed': 3956, 'festival': 1697, 'shown': 3959, 'costs': 1004, 'excited': 1561, 'australia': 356, 'slasher': 4020, 'molly': 2884, 'especially': 1520, 'australian': 357, 'speak': 4094, 'accent': 78, 'sounds': 4084, 'cheesy': 781, 'scream': 3826, 'willing': 4889, 'warning': 4800, 'major': 2711, 'spoilers': 4124, 'expecting': 1578, 'surprise': 4312, 'killer': 2470, 'human': 2188, 'turned': 4606, 'realistic': 3550, 'dressed': 1358, 'forgotten': 1797, 'critical': 1062, 'thriller': 4472, 'dvd': 1391, 'release': 3602, 'chance': 747, 'hear': 2061, 'opening': 3114, 'gave': 1875, 'proved': 3446, 'absolute': 71, 'lowest': 2678, 'humor': 2192, 'painful': 3171, 'viewing': 4740, 'doubt': 1332, 'hook': 2152, 'cell': 730, 'adam': 111, 'sandler': 3781, 'powers': 3361, 'embarrassing': 1454, 'bought': 552, 'store': 4204, 'fourth': 1813, 'antics': 255, 'pity': 3281, 'bother': 548, 'throw': 4479, 'neither': 2996, 'unfortunately': 4654, 'uninteresting': 4660, 'mediocre': 2791, 'modesty': 2883, 'itself': 2371, 'seriously': 3892, 'turns': 4609, 'growing': 1983, 'drama': 1346, 'recognition': 3568, 'makeup': 2717, 'resembles': 3646, 'model': 2880, 'die': 1243, 'wants': 4791, 'adaptation': 113, 'precious': 3366, 'graphic': 1958, 'novels': 3053, 'pitch': 3279, 'finished': 1733, 'weak': 4824, 'conclusion': 936, 'idiots': 2220, 'tiny': 4500, 'detail': 1217, 'showing': 3958, 'guess': 1989, 'turning': 4608, 'brain': 562, 'equivalent': 1512, 'brought': 600, 'splatter': 4118, 'till': 4493, 'dawn': 1127, 'texas': 4418, 'blood': 512, 'bring': 585, 'table': 4346, 'nudity': 3059, 'guns': 1998, 'dull': 1384, 'concerning': 933, 'kinda': 2477, 'buddy': 609, 'overall': 3150, 'uninspired': 4657, 'hearted': 2065, 'allow': 189, 'round': 3742, 'gone': 1935, 'room': 3735, 'offering': 3089, 'diane': 1238, 'keaton': 2448, 'de': 1131, 'streep': 4215, 'chick': 786, 'patrick': 3213, 'wilson': 4891, 'glenn': 1918, 'close': 853, 'sometimes': 4067, 'cannot': 670, 'overcome': 3151, 'trite': 4589, 'simplistic': 3985, 'occasion': 3073, 'offensive': 3086, 'material': 2766, 'forth': 1804, 'era': 1513, 'mistake': 2871, 'riveting': 3708, 'matter': 2769, 'meaningless': 2782, 'boy': 557, 'loses': 2657, 'fashion': 1659, 'unbelievable': 4634, 'clichéd': 845, 'headed': 2058, 'bear': 420, 'continue': 969, 'claire': 831, 'danes': 1108, 'brutally': 604, 'miscast': 2862, 'woman': 4921, 'nowhere': 3056, 'near': 2979, 'role': 3726, 'pull': 3461, 'suited': 4286, 'hugh': 2186, 'rich': 3685, 'confused': 941, 'object': 3066, 'sexual': 3908, 'attraction': 350, 'tortured': 4530, 'drunk': 1375, 'closet': 858, 'sexually': 3910, 'drink': 1361, 'myself': 2953, 'ludicrous': 2685, 'threw': 4470, 'sister': 4001, 'sisters': 4002, 'wondering': 4930, 'choices': 798, 'boyfriend': 558, 'harris': 2038, '70s': 56, 'greater': 1965, 'depth': 1190, 'fresh': 1833, 'appear': 273, 'ten': 4399, 'lady': 2507, 'facial': 1619, 'expressions': 1603, 'cliché': 844, 'message': 2819, 'adds': 119, 'business': 633, 'lifetime': 2594, 'raw': 3532, 'failure': 1629, 'aspects': 322, 'le': 2544, 'served': 3894, 'death': 1141, 'murder': 2939, 'wrote': 4974, 'shows': 3960, 'genuinely': 1892, 'shame': 3918, 'dick': 1239, 'van': 4713, 'detective': 1220, 'murders': 2943, 'joined': 2413, 'largely': 2518, 'unknown': 4668, 'competent': 917, 'namely': 2962, 'barry': 401, 'victoria': 4732, 'changes': 751, 'charlie': 765, 'particularly': 3195, 'norman': 3035, 'disappeared': 1271, 'obvious': 3071, 'episode': 1507, 'thumbs': 4485, 'cox': 1026, 'lord': 2652, 'alan': 171, 'escape': 1517, 'insane': 2296, 'castle': 712, 'ruin': 3750, 'likes': 2602, 'deceased': 1146, 'wife': 4884, 'wealthy': 4827, 'status': 4165, 'obsession': 3070, 'existence': 1571, 'believes': 456, 'spends': 4107, 'lone': 2642, 'agrees': 157, 'short': 3946, 'key': 2458, 'knows': 2493, 'amount': 219, 'hospital': 2172, 'cousin': 1021, 'holding': 2130, 'onto': 3111, 'estate': 1525, 'brother': 598, 'slaughter': 4021, 'cash': 709, 'aunt': 355, 'davis': 1126, 'bound': 553, 'lives': 2628, 'doors': 1329, 'affair': 135, 'albert': 174, 'described': 1195, 'ghost': 1902, 'haunting': 2051, 'members': 2801, 'body': 527, 'missing': 2869, 'ultimate': 4627, 'crimes': 1056, 'edge': 1418, 'rising': 3703, 'grave': 1962, 'sequence': 3887, 'hurts': 2203, 'caring': 691, 'psychotic': 3459, 'ice': 2210, 'crime': 1055, 'murdered': 2940, 'throat': 4476, 'argument': 291, 'deserves': 1201, 'scheme': 3812, 'shocking': 3940, 'aware': 368, 'theyd': 4443, 'benefit': 465, 'stellar': 4174, 'editing': 1421, 'below': 462, 'par': 3184, 'gothic': 1945, 'atmosphere': 333, 'sunshine': 4294, 'christmas': 810, 'radio': 3504, 'city': 825, 'matthau': 2771, 'oscar': 3133, 'winning': 4898, 'burns': 628, 'deserved': 1200, 'roles': 3727, 'greatly': 1967, 'underrated': 4642, 'previously': 3388, 'opens': 3115, 'plays': 3301, 'clark': 832, 'uncle': 4636, 'tony': 4521, 'screenwriter': 3833, 'simon': 3982, 'improved': 2255, 'soldier': 4053, 'academy': 77, 'lucas': 2680, 'definitely': 1162, 'summary': 4290, 'doomed': 1327, 'kurt': 2499, 'russell': 3761, 'eerie': 1427, 'fits': 1741, 'fight': 1707, 'unrealistic': 4677, 'our': 3139, 'favorites': 1672, 'lucky': 2683, 'tough': 4537, 'enjoyable': 1485, 'greek': 1970, 'standards': 4145, 'obviously': 3072, 'influenced': 2287, 'sam': 3777, 'dogs': 1311, 'avoided': 364, 'nevertheless': 3002, 'attention': 345, 'rare': 3523, 'outside': 3146, 'addition': 118, 'study': 4242, 'del': 1165, 'chemistry': 782, 'involve': 2345, 'emotionally': 1460, 'magnificent': 2705, 'brilliantly': 584, 'polished': 3323, 'laugh': 2529, 'join': 2412, 'emotions': 1461, 'spanish': 4092, 'urban': 4688, 'landscape': 2513, 'daring': 1114, 'hollywoods': 2138, 'mainly': 2708, 'dealt': 1138, 'endearing': 1469, 'suits': 4287, 'perfectly': 3226, 'vice': 4727, 'competition': 918, 'hated': 2047, 'stereotypical': 4180, 'rip': 3700, 'cutting': 1092, 'kelly': 2452, 'belong': 459, 'hates': 2048, 'hot': 2174, 'amazingly': 210, 'head': 2057, 'chooses': 800, 'team': 4378, 'urge': 4689, 'shoot': 3942, 'unless': 4669, 'club': 863, 'promise': 3430, 'master': 2757, 'places': 3284, 'committed': 905, 'particular': 3194, 'franco': 1820, 'elegant': 1441, 'youve': 4995, 'user': 4696, 'large': 2517, 'portion': 3338, 'dream': 1354, 'interview': 2329, 'heavily': 2069, 'clear': 839, 'favor': 1670, 'reaction': 3541, 'decision': 1151, 'admit': 122, 'understand': 4643, 'protagonist': 3441, 'imagined': 2239, 'types': 4622, 'lesbian': 2573, 'fantasy': 1652, 'jazz': 2387, 'receive': 3563, 'gorgeous': 1942, 'acted': 98, 'scripted': 3835, 'seat': 3845, 'lead': 2545, 'worn': 4948, 'regular': 3592, 'focused': 1767, 'hoped': 2156, 'folks': 1771, 'fair': 1630, 'expected': 1577, 'car': 680, 'chases': 771, 'psychiatrist': 3455, 'billy': 482, 'revelation': 3674, 'generally': 1881, 'guts': 1999, 'victim': 4729, 'fully': 1847, 'seeks': 3860, 'hunter': 2199, 'james': 2378, 'wooden': 4934, 'frank': 1821, 'former': 1800, 'officer': 3092, 'menace': 2806, 'superbly': 4297, 'lonely': 2643, 'sinister': 3998, 'grey': 1973, 'building': 615, 'tension': 4404, 'composed': 926, 'strongly': 4231, 'relevant': 3604, 'via': 4726, 'parents': 3188, 'center': 732, 'band': 391, 'prince': 3396, 'madonna': 2699, 'jackson': 2375, 'waited': 4771, 'disappoint': 1272, 'mtv': 2933, 'hour': 2176, 'commentary': 899, 'saying': 3800, 'punk': 3468, 'styles': 4250, 'reasons': 3560, 'remind': 3618, 'mainstream': 2709, 'sadly': 3769, 'purple': 3473, 'insight': 2298, 'co': 867, 'touch': 4533, 'oliver': 3102, 'quickly': 3491, 'mary': 2751, 'providing': 3451, 'cynical': 1093, 'dated': 1119, 'won': 4925, 'copy': 994, 'safe': 3771, 'writer': 4968, 'producer': 3415, 'grace': 1950, 'arthur': 305, 'breathtaking': 574, 'wow': 4962, 'attractive': 351, 'surprised': 4313, 'contain': 962, 'nude': 3058, 'phone': 3255, 'gay': 1876, 'crafted': 1029, 'lessons': 2578, 'yesterday': 4983, 'burned': 626, 'church': 813, 'fed': 1682, 'ex': 1549, 'plane': 3288, 'trees': 4577, 'opened': 3113, 'possibilities': 3348, 'inspired': 2301, 'writing': 4971, 'directing': 1260, 'casting': 711, 'design': 1202, 'creation': 1040, 're': 3535, 'pay': 3216, 'jaw': 2384, 'dropped': 1370, 'terrifying': 4410, 'trip': 4588, 'street': 4216, 'frightening': 1839, 'actions': 101, 'deadly': 1133, 'notion': 3050, 'news': 3005, 'welcome': 4842, 'advance': 127, 'view': 4736, 'pig': 3274, 'term': 4405, 'content': 966, 'sexuality': 3909, 'lesson': 2577, 'enter': 1494, 'closed': 854, 'society': 4050, 'attitude': 346, 'justice': 2438, 'brutal': 603, 'streets': 4217, 'legal': 2563, 'jon': 2416, 'voight': 4764, 'cowboy': 1025, 'drop': 1369, 'hat': 2045, 'ordinary': 3128, 'move': 2921, 'dinner': 1254, 'burt': 629, 'reynolds': 3684, 'led': 2558, 'pace': 3161, 'everyday': 1541, 'ned': 2986, 'beatty': 427, 'shell': 3927, 'noted': 3045, 'stronger': 4230, 'group': 1980, 'river': 3707, 'theory': 4437, 'journey': 2421, 'suicide': 4283, 'wound': 4960, 'certainly': 738, 'suspenseful': 4331, 'sheriff': 3929, 'guilty': 1995, 'surviving': 4323, 'portray': 3340, 'dangerous': 1110, 'experienced': 1581, 'killed': 2469, 'areas': 287, 'media': 2789, 'leaves': 2556, 'bitter': 491, 'realize': 3552, 'los': 2653, 'angeles': 233, 'built': 618, 'animals': 240, 'humans': 2190, 'leave': 2555, 'bears': 421, 'threatening': 4468, 'learned': 2551, 'thrill': 4471, 'danger': 1109, 'stick': 4185, '30': 42, 'iii': 2227, 'summer': 4291, '2006': 36, 'season': 3843, 'parts': 3199, 'bite': 489, 'catch': 714, 'represents': 3639, 'mature': 2773, 'spirit': 4113, 'wed': 4835, 'marks': 2742, 'initial': 2290, 'wonders': 4931, 'rough': 3741, 'lee': 2559, 'physical': 3262, 'hong': 2149, 'kong': 2494, 'duo': 1386, 'hopefully': 2157, 'easier': 1405, 'princess': 3397, 'saga': 3773, 'imagery': 2234, 'tricks': 4583, 'shadow': 3912, 'perspective': 3245, 'atmospheric': 334, 'adding': 117, 'matt': 2768, 'engaged': 1480, 'likewise': 2603, 'gruesome': 1986, 'numerous': 3062, 'project': 3427, 'corner': 996, 'path': 3209, 'albeit': 173, 'miles': 2843, 'daniel': 1111, 'machine': 2693, 'target': 4366, 'process': 3412, 'professional': 3421, 'trail': 4553, 'picked': 3266, 'cameo': 657, 'mob': 2879, 'support': 4303, 'wayne': 4821, 'lees': 2560, 'revealing': 3672, 'disturbed': 1299, 'individual': 2277, 'cop': 991, 'nonetheless': 3029, 'gradually': 1952, 'learn': 2550, 'inner': 2292, 'conflict': 939, 'corruption': 1002, 'demons': 1178, 'pursuit': 3476, 'ensues': 1493, 'minor': 2857, 'count': 1010, 'prisoners': 3403, 'per': 3223, 'adult': 125, 'language': 2516, 'leading': 2547, 'cat': 713, 'relatively': 3600, 'theatrical': 4430, 'murderer': 2941, 'needs': 2990, 'romance': 3732, 'strangely': 4212, 'hearts': 2066, 'tragic': 4552, 'finale': 1723, 'recent': 3566, 'chan': 746, 'manages': 2725, 'stands': 4147, 'johnny': 2410, 'epic': 1506, 'mission': 2870, 'wit': 4908, 'chest': 784, 'talented': 4355, 'performers': 3232, 'strength': 4219, 'visual': 4757, 'rating': 3529, 'prison': 3401, 'retired': 3664, 'documentary': 1307, 'grown': 1984, 'views': 4742, 'watches': 4814, 'artists': 309, 'brave': 567, 'minds': 2852, 'importantly': 2248, 'staff': 4138, 'footage': 1782, 'circumstances': 822, 'screening': 3830, 'crying': 1074, 'chair': 742, 'profound': 3423, 'horrendous': 2162, 'cases': 708, 'ways': 4822, 'courage': 1018, 'harsh': 2040, 'environment': 1505, 'react': 3540, 'soul': 4079, 'oz': 3160, 'shakespeare': 3915, 'similar': 3978, 'fly': 1763, 'lesser': 2576, 'states': 4163, 'potentially': 3356, 'follows': 1775, 'scientist': 3818, 'peter': 3247, 'gene': 1879, 'obsessed': 3069, 'working': 4944, 'cure': 1081, 'aging': 153, 'university': 4667, 'works': 4945, 'anti': 254, 'result': 3660, 'joy': 2422, 'ahead': 159, 'spoil': 4121, 'godzilla': 1929, 'costume': 1005, 'gun': 1996, 'obnoxious': 3067, 'kid': 2464, 'pet': 3246, 'claims': 830, 'sally': 3776, 'catherine': 719, 'gives': 1914, 'assume': 328, 'evil': 1548, 'goofy': 1939, 'fell': 1690, 'complain': 919, 'chilling': 794, 'classics': 837, '50': 51, 'purchased': 3470, 'pack': 3165, 'recently': 3567, 'online': 3109, 'free': 1827, 'intelligent': 2314, 'novel': 3052, 'reminiscent': 3621, 'baby': 376, 'shining': 3933, 'vulnerable': 4768, 'supernatural': 4302, 'forces': 1788, 'creepy': 1052, 'buildings': 616, 'york': 4985, 'named': 2961, 'deeply': 1156, 'troubled': 4593, 'teenage': 4389, 'walking': 4779, 'bed': 436, 'silver': 3977, 'neck': 2985, 'lawyer': 2541, 'learning': 2552, 'chris': 806, 'answers': 252, 'newspaper': 3006, 'ad': 110, 'bedroom': 437, 'apartment': 265, 'brooklyn': 595, 'heights': 2073, 'exists': 1573, 'producers': 3416, 'paying': 3217, 'agent': 150, 'miss': 2866, 'interest': 2323, 'solely': 4056, 'explained': 1587, 'drops': 1372, 'rental': 3627, 'month': 2896, 'leaving': 2557, 'elderly': 1440, 'sitting': 4007, 'window': 4894, 'tells': 4397, 'blind': 506, 'response': 3654, 'logical': 2639, 'moving': 2928, 'provide': 3448, 'uncomfortable': 4637, 'health': 2060, 'concerns': 934, 'basis': 408, 'metal': 2823, 'loud': 2664, 'directly': 1263, 'priest': 3392, 'arms': 294, 'knife': 2487, 'enters': 1496, 'defense': 1159, 'corpse': 999, 'covered': 1023, 'purpose': 3474, 'garden': 1872, 'angel': 231, 'guard': 1988, 'devil': 1228, 'catholic': 720, 'guarantee': 1987, 'saved': 3795, 'invisible': 2344, 'neighbors': 2994, 'quirky': 3493, 'surprisingly': 4316, 'portrays': 3344, 'sympathetic': 4342, 'reminded': 3619, 'flop': 1760, 'edited': 1420, 'provoking': 3452, 'collection': 874, 'forward': 1808, 'monsters': 2893, 'ball': 388, 'four': 1812, 'firstly': 1737, 'essential': 1522, 'dark': 1115, 'mildly': 2840, 'reveal': 3670, 'tie': 4488, 'secondly': 3847, 'insult': 2309, 'intelligence': 2313, 'page': 3167, 'developing': 1224, 'putting': 3482, 'popcorn': 3331, 'ha': 2002, 'intriguing': 2335, 'concept': 930, 'religion': 3607, 'cliche': 843, 'nowadays': 3055, 'fond': 1776, 'blew': 505, 'suit': 4284, 'spell': 4104, 'appeal': 271, 'culture': 1079, 'speaks': 4096, 'skills': 4014, 'scope': 3821, 'filled': 1715, 'emotional': 1459, 'intensity': 2317, 'instance': 2304, 'refuses': 3587, 'bond': 532, 'running': 3756, 'wind': 4893, 'legs': 2566, 'shall': 3916, 'words': 4938, 'record': 3573, 'setting': 3900, 'ups': 4686, 'basically': 407, 'heres': 2087, 'alternate': 200, 'race': 3499, 'created': 1037, 'worthy': 4956, 'jail': 2376, 'writers': 4969, 'featured': 1679, 'pick': 3265, 'listening': 2620, 'andy': 230, 'followed': 1773, 'yeah': 4977, 'thousand': 4465, 'hilarious': 2106, 'witnessed': 4915, 'horrible': 2163, 'social': 4049, 'issues': 2365, 'sitcom': 4004, 'commercials': 903, 'theyll': 4444, 'ripped': 3701, 'somewhere': 4069, 'aimed': 162, 'giant': 1905, 'japanese': 2382, 'laughable': 2530, 'samurai': 3779, 'beer': 439, 'presentation': 3375, 'sullivan': 4288, 'helped': 2080, 'calm': 655, 'warm': 4794, 'personality': 3242, 'magical': 2704, 'warming': 4795, 'marvelous': 2750, 'generations': 1884, 'dubbing': 1380, 'vs': 4767, 'miller': 2846, 'build': 614, 'robot': 3717, 'breaks': 571, 'builds': 617, 'linda': 2609, 'slave': 4022, 'sends': 3876, 'started': 4157, 'sat': 3786, 'hoping': 2160, 'couldve': 1009, 'island': 2361, 'dinosaurs': 1256, 'featuring': 1681, 'arnold': 296, 'memorable': 2802, 'futuristic': 1857, 'state': 4160, 'government': 1948, 'millions': 2848, 'trained': 4557, 'killers': 2471, 'hunt': 2198, 'whom': 4875, 'host': 2173, 'dawson': 1128, 'richards': 3687, 'accused': 91, 'mass': 2753, 'forced': 1787, 'sadistic': 3768, 'armed': 293, 'intended': 2315, 'serves': 3895, 'viewers': 4739, 'court': 1020, 'value': 4709, 'hit': 2122, 'bottom': 551, 'scary': 3807, 'rotten': 3740, 'core': 995, 'false': 1641, 'tear': 4379, 'visually': 4758, 'stunning': 4244, 'colour': 880, 'photography': 3260, 'award': 366, 'exercise': 1568, 'judge': 2424, 'check': 777, 'lucy': 2684, 'walker': 4778, 'humanity': 2189, 'condition': 937, 'beauty': 430, 'triumph': 4590, 'tremendous': 4579, 'normally': 3034, 'decided': 1149, 'notes': 3046, 'critic': 1061, 'animated': 241, 'grew': 1972, 'surrounding': 4319, 'opinion': 3118, 'cartoons': 705, 'kids': 2467, 'player': 3298, 'lasted': 2522, 'paper': 3183, 'lovely': 2671, 'recall': 3562, 'ellen': 1446, 'starts': 4159, 'chorus': 803, 'card': 681, 'everybody': 1540, 'open': 3112, 'tired': 4501, 'bourne': 554, 'identity': 2217, 'lacked': 2503, 'rush': 3759, 'caused': 724, 'speaking': 4095, 'trademark': 4548, 'annoying': 249, 'talked': 4359, 'martial': 2747, 'arts': 310, 'training': 4558, 'cuts': 1091, 'ruined': 3751, 'student': 4238, 'trick': 4582, 'techniques': 4384, 'constant': 957, 'confusing': 942, 'crucial': 1068, 'information': 2288, 'rushed': 3760, 'prequel': 3372, 'awkward': 374, 'odd': 3080, 'protect': 3443, 'quiet': 3492, 'whoever': 4872, 'wanting': 4790, 'understandable': 4644, 'damon': 1101, 'fights': 1710, 'general': 1880, 'practically': 3362, 'measure': 2786, 'trade': 4547, 'cooper': 990, 'joan': 2404, 'allen': 188, 'brian': 576, 'successful': 4266, 'spoiler': 4123, 'understanding': 4645, 'reference': 3582, 'circle': 821, 'report': 3635, 'quote': 3496, 'vengeance': 4719, 'pamela': 3179, 'introduced': 2337, 'sudden': 4272, 'happening': 2028, 'date': 1118, 'abraham': 69, 'biggest': 480, 'trailer': 4554, 'established': 1524, 'spectacular': 4101, 'stylish': 4251, 'factor': 1622, 'appearances': 275, 'dialogs': 1233, 'becomes': 434, 'hopes': 2159, 'bunch': 623, 'thrown': 4481, 'connected': 945, '15': 7, 'lack': 2502, 'comment': 898, 'persons': 3244, 'drugs': 1374, 'jumping': 2431, 'green': 1971, 'yellow': 4981, 'celluloid': 731, 'drivel': 1364, 'faults': 1669, 'hood': 2151, 'cuba': 1075, 'powerful': 3360, 'word': 4937, 'jobs': 2406, 'sexy': 3911, 'elvira': 1450, 'michelle': 2830, 'threat': 4467, 'position': 3345, 'luck': 2681, 'upset': 4687, 'shake': 3914, 'elizabeth': 1445, 'stone': 4197, 'points': 3319, 'restaurant': 3658, 'ass': 323, 'impressive': 2253, 'endings': 1472, 'pacino': 3164, 'documentaries': 1306, 'forms': 1801, 'entertain': 1497, 'values': 4710, 'tiresome': 4502, 'poorly': 3329, 'philip': 3252, 'jones': 2418, 'resident': 3647, 'st': 4137, 'andrew': 228, 'hide': 2097, 'mysterious': 2955, 'patients': 3212, 'bruce': 602, 'execution': 1566, 'desired': 1206, 'psychological': 3458, 'clichés': 846, 'resulting': 3661, 'storyline': 4208, 'notch': 3043, 'flaws': 1752, 'nicely': 3009, 'designs': 1204, 'contrast': 975, 'serious': 3891, 'hardcore': 2034, 'field': 1704, 'experiences': 1582, 'unfolds': 4651, 'blockbuster': 509, 'treasure': 4571, 'overlooked': 3154, 'flicks': 1755, '90s': 61, 'latter': 2528, 'mouth': 2920, 'horses': 2171, 'otherwise': 3137, 'industry': 2280, 'diana': 1237, 'redeeming': 3577, 'feature': 1678, 'channel': 753, 'prior': 3400, 'brown': 601, 'timeless': 4496, 'enjoying': 1487, 'holiday': 2134, 'capture': 676, 'emotion': 1458, 'letter': 2581, 'santa': 3783, 'hardly': 2036, 'worried': 4949, 'mentions': 2813, 'believable': 453, 'forgot': 1796, 'issue': 2364, 'packed': 3166, 'motion': 2913, 'freddy': 1826, 'teenager': 4390, 'elm': 1447, 'scares': 3806, 'needless': 2989, 'celebrity': 729, 'tied': 4489, 'demon': 1177, 'alice': 182, 'shape': 3919, 'rachel': 3500, 'babe': 375, '3d': 46, 'nightmare': 3014, 'disc': 1278, 'web': 4833, 'link': 2613, 'fashioned': 1660, 'poetic': 3313, 'pictures': 3270, 'details': 1219, 'chaplin': 756, 'rid': 3690, 'behavior': 446, 'slapstick': 4019, 'develop': 1222, 'print': 3399, 'affected': 137, 'enjoyment': 1488, 'suffers': 4278, 'surprises': 4314, 'curse': 1086, 'twist': 4617, 'wish': 4904, 'severe': 3906, 'spend': 4105, '90': 60, 'ninja': 3018, 'fire': 1734, 'sub': 4252, 'asian': 314, 'stunt': 4245, 'existent': 1572, 'drives': 1367, '3000': 43, 'conversations': 981, 'grand': 1953, 'succeeds': 4264, 'briefly': 580, 'chief': 788, 'studio': 4240, 'contains': 964, 'widely': 4881, 'events': 1536, 'using': 4698, 'meet': 2793, '30s': 44, 'included': 2262, 'buck': 605, 'convince': 983, 'straight': 4210, 'portrayed': 3342, 'walked': 4776, 'errors': 1516, 'moves': 2925, 'separate': 3883, 'closer': 856, 'stayed': 4167, '1940s': 13, 'ridiculously': 3694, 'stuck': 4237, 'trash': 4565, 'requires': 3642, '1968': 16, 'starred': 4153, 'stay': 4166, 'joe': 2407, 'surrounded': 4318, 'veteran': 4724, 'mexican': 2826, 'thomas': 4458, 'clothes': 860, 'surprising': 4315, 'parties': 3196, 'male': 2719, 'bottle': 550, 'typically': 4624, 'gag': 1861, 'climactic': 848, 'destruction': 1216, 'load': 2631, 'noble': 3021, 'washington': 4806, 'political': 3324, 'military': 2844, 'ho': 2127, 'boat': 523, 'captain': 674, 'lust': 2689, 'suggests': 4282, 'ron': 3734, 'service': 3896, 'command': 897, 'puts': 3481, 'risk': 3704, 'nuclear': 3057, 'strike': 4224, 'sick': 3963, 'notice': 3048, 'husband': 2204, 'stretch': 4221, 'toilet': 4512, 'panic': 3181, 'wasting': 4810, 'comedian': 887, 'episodes': 1508, 'factory': 1623, 'expression': 1602, 'movement': 2923, 'danny': 1112, 'fred': 1825, 'situation': 4008, 'suggest': 4280, 'masters': 2761, 'finding': 1727, 'laughter': 2535, 'burton': 630, 'multiple': 2936, 'prove': 3445, 'theatre': 4429, 'months': 2897, 'related': 3594, 'hadnt': 2004, 'successfully': 4267, 'neil': 2995, 'levels': 2585, 'doll': 1313, 'robots': 3718, 'ok': 3098, 'jumps': 2432, 'causing': 726, 'explanation': 1590, 'flying': 1764, 'snake': 4042, 'dare': 1113, 'victims': 4730, 'kidding': 2465, 'designed': 1203, 'likable': 2598, 'annoyed': 248, 'source': 4086, 'idiot': 2218, 'animation': 242, 'depressing': 1188, 'earl': 1398, 'richardson': 3688, 'intimate': 2331, 'sleeping': 4025, 'roy': 3745, 'drive': 1363, 'discovers': 1281, 'pregnant': 3369, 'chaos': 755, 'brady': 561, 'comedic': 888, 'lay': 2542, 'south': 4087, 'naive': 2958, 'idiotic': 2219, 'pops': 3332, 'prostitute': 3440, 'worthless': 4954, 'barely': 399, 'harvey': 2042, 'skip': 4016, 'examples': 1554, 'century': 736, 'italian': 2367, 'population': 3335, 'consequences': 947, 'element': 1442, 'morality': 2903, 'protagonists': 3442, 'terribly': 4408, 'draws': 1352, 'climax': 849, 'macy': 2695, 'clean': 838, 'sutherland': 4333, 'deliberately': 1166, 'tracy': 4546, 'barbara': 397, 'ritter': 3705, 'ingredients': 2289, 'thoughtful': 4463, 'suspend': 4329, 'spent': 4108, 'disagree': 1269, 'imdb': 2240, 'magic': 2703, 'achieve': 92, 'makers': 2715, 'sunday': 4293, 'afternoon': 144, 'em': 1452, 'actual': 108, 'funniest': 1851, 'ran': 3513, 'closing': 859, 'opinions': 3119, 'philosophical': 3253, 'hearing': 2063, 'fields': 1705, 'slightest': 4028, 'mindless': 2851, 'devoid': 1230, 'exposure': 1599, 'snow': 4045, 'inept': 2281, 'plots': 3310, 'progress': 3425, 'hair': 2005, 'answer': 251, 'jerry': 2396, 'rule': 3753, 'paris': 3189, 'russian': 3762, 'gift': 1906, 'aired': 165, 'analysis': 224, 'wet': 4855, 'ms': 2931, 'pride': 3391, 'influence': 2286, 'poverty': 3357, 'standard': 4144, 'include': 2261, 'african': 142, 'roots': 3738, 'americans': 214, 'research': 3644, 'che': 773, 'revolutionary': 3681, 'proud': 3444, 'share': 3920, 'politics': 3326, 'hbo': 2055, 'gas': 1874, 'crisis': 1060, 'speed': 4103, 'larry': 2520, 'kenneth': 2455, 'vegas': 4717, 'ring': 3698, 'shop': 3945, 'super': 4295, 'spiritual': 4116, 'sin': 3988, 'shy': 3962, 'wise': 4903, 'talents': 4356, 'worlds': 4947, 'college': 875, 'twists': 4619, 'reach': 3536, 'vehicle': 4718, 'skin': 4015, 'produced': 3414, 'thus': 4486, 'channels': 754, 'glory': 1922, 'sympathy': 4343, 'toward': 4539, 'julia': 2427, 'anna': 245, 'dignity': 1252, 'officers': 3093, 'failing': 1627, 'prevent': 3385, 'complaint': 920, 'porn': 3336, 'virtually': 4751, 'artistic': 308, 'children': 792, 'pass': 3201, 'chuck': 812, 'interpretation': 2328, 'grab': 1949, 'carrey': 696, 'odds': 3082, 'grinch': 1975, 'karloff': 2445, 'burn': 625, 'method': 2824, 'jeffrey': 2391, 'universal': 4665, 'offered': 3088, 'caine': 647, 'violent': 4748, 'rated': 3527, 'explosion': 1596, 'satisfy': 3790, 'ability': 65, 'sell': 3871, 'reads': 3545, 'rubbish': 3748, 'bargain': 400, 'basement': 405, 'timing': 4498, 'cause': 723, 'sold': 4052, 'sophisticated': 4075, 'humour': 2194, 'falling': 1639, 'site': 4005, 'players': 3299, 'chosen': 805, 'eddie': 1416, 'lips': 2615, 'dad': 1095, 'friendly': 1836, 'broad': 590, 'technically': 4382, 'advanced': 128, 'julie': 2428, 'london': 2641, 'color': 877, 'artificial': 306, 'flesh': 1753, 'cute': 1090, 'remarks': 3615, 'cook': 988, 'devils': 1229, 'vampire': 4711, 'bore': 540, 'aid': 160, 'mystery': 2956, 'abysmal': 76, 'involves': 2348, 'nostalgic': 3039, 'dollars': 1315, 'clips': 852, 'compelling': 916, 'solo': 4058, 'europe': 1529, 'blue': 518, 'canada': 666, 'arm': 292, 'canadian': 667, 'gordon': 1940, 'brand': 565, 'routine': 3743, 'massive': 2756, 'interviews': 2330, 'houses': 2180, 'tap': 4364, 'deliver': 1169, 'ruins': 3752, 'terry': 4415, 'dude': 1381, 'territory': 4411, 'unintentionally': 4659, 'planned': 3290, 'typical': 4623, 'match': 2762, 'wearing': 4831, 'looked': 2647, 'clothing': 861, 'buff': 611, 'awake': 365, 'bin': 483, 'bela': 450, 'lugosi': 2686, 'string': 4227, 'rate': 3526, 'bride': 577, 'outer': 3143, 'disease': 1285, 'anyways': 262, 'reporter': 3636, 'lane': 2515, 'superman': 4301, 'clues': 865, 'sons': 4073, 'ugly': 4625, 'naturally': 2974, 'met': 2822, 'decide': 1148, 'occurs': 3078, 'asleep': 320, 'gentle': 1890, 'mill': 2845, 'farce': 1654, 'flaw': 1749, 'unique': 4662, 'bits': 490, 'bank': 394, 'bus': 631, 'nightmares': 3015, 'segment': 3867, 'swear': 4334, 'draw': 1349, 'baseball': 403, 'mike': 2838, 'realizes': 3554, 'hamilton': 2012, 'shine': 3931, 'attend': 344, 'classes': 834, 'flight': 1757, 'eg': 1434, 'hole': 2132, 'fill': 1714, 'cross': 1066, 'sidney': 3968, 'facing': 1620, 'fish': 1738, 'accidentally': 85, 'mysteries': 2954, 'bone': 533, 'parallel': 3185, 'spooky': 4128, 'basic': 406, 'accept': 80, 'whereas': 4865, 'max': 2774, 'subtle': 4260, 'nicholas': 3010, 'batman': 413, 'latest': 2526, 'revolves': 3682, 'tragedy': 4551, 'stiff': 4187, 'cartoon': 704, 'mid': 2832, 'buying': 641, 'whilst': 4869, 'appealing': 272, 'branagh': 564, 'steals': 4172, 'nose': 3037, 'sum': 4289, 'chasing': 772, 'law': 2538, 'references': 3583, 'drug': 1373, 'comparing': 913, 'exaggerated': 1552, 'transition': 4561, 'manager': 2724, 'stevens': 4183, 'paul': 3214, 'greedy': 1969, 'trouble': 4592, 'starring': 4154, 'split': 4120, 'adequate': 120, 'positive': 3346, 'heads': 2059, 'meant': 2784, 'frequently': 1832, 'reasonably': 3559, 'dreadful': 1353, 'admittedly': 123, 'efforts': 1433, 'dozen': 1338, 'direct': 1258, 'performed': 3230, 'talk': 4358, 'teeth': 4393, 'commented': 900, 'fat': 1663, 'food': 1778, 'ought': 3138, 'motivation': 2914, 'william': 4887, 'woods': 4935, 'tales': 4357, 'warmth': 4796, 'teens': 4392, 'lovers': 2673, 'demented': 1176, 'smoke': 4039, 'gray': 1963, 'unhappy': 4656, 'returning': 3667, 'mother': 2911, 'satan': 3787, 'empty': 1465, 'chased': 770, 'sea': 3838, 'corny': 997, 'ray': 3533, 'walter': 4784, 'door': 1328, 'angela': 232, 'anger': 235, 'allows': 192, 'sad': 3767, 'regarding': 3589, 'rap': 3520, '24': 39, 'atrocious': 335, 'teacher': 4375, 'worker': 4942, 'schools': 3814, 'east': 1407, 'west': 4852, 'models': 2881, 'foul': 1810, 'community': 908, 'comparison': 914, 'holmes': 2139, 'sleazy': 4023, 'variety': 4714, 'rings': 3699, 'wicked': 4879, 'intense': 2316, 'walls': 4783, 'photos': 3261, 'ted': 4386, 'investigation': 2343, 'lisa': 2616, 'trio': 4587, 'criminals': 1058, 'timothy': 4499, 'blake': 498, 'nelson': 2997, 'crowd': 1067, 'deals': 1137, 'impact': 2244, 'motivations': 2915, 'revenge': 3675, 'greed': 1968, 'friendship': 1838, 'knowledge': 2491, 'teenagers': 4391, 'hideous': 2098, 'unusual': 4681, 'chain': 741, 'smoking': 4040, 'persona': 3239, 'mom': 2885, 'blah': 496, 'mess': 2818, 'soap': 4047, 'opera': 3116, 'program': 3424, 'spite': 4117, 'unlikely': 4671, 'opportunity': 3121, 'vhs': 4725, 'photographer': 3259, 'cinematographer': 819, 'captures': 678, 'breath': 573, 'focus': 1766, 'further': 1853, 'displays': 1293, 'remarkable': 3613, 'exist': 1569, 'immensely': 2243, 'respected': 3653, 'reminds': 3620, 'images': 2235, 'north': 3036, 'wolf': 4920, '1983': 22, 'tender': 4401, 'testament': 4417, '1984': 23, 'wendy': 4846, 'revolution': 3680, 'army': 295, 'adventure': 130, 'historical': 2119, 'poetry': 3314, 'achievement': 94, 'buffs': 612, 'purchase': 3469, 'audio': 354, 'edition': 1422, 'switch': 4339, 'subtitles': 4259, 'pleasant': 3302, '1950s': 14, 'attitudes': 347, 'sole': 4055, 'juvenile': 2441, 'kicks': 2463, 'depicting': 1184, 'invasion': 2340, 'traveling': 4568, 'emphasis': 1463, 'destroyed': 1214, 'bullets': 621, 'nonsensical': 3031, 'alert': 178, 'visits': 4756, 'inferior': 2285, '1972': 18, 'impression': 2252, 'loves': 2674, 'endure': 1475, 'offended': 3085, 'anybody': 257, 'dying': 1393, 'masterful': 2758, 'hooked': 2153, 'coach': 868, 'stretched': 4222, 'jeremy': 2394, 'checking': 778, 'angels': 234, 'stinker': 4191, 'mouse': 2919, 'kicked': 2461, 'cats': 721, 'delight': 1167, 'mini': 2854, 'cole': 873, 'spots': 4132, 'bet': 470, 'sincere': 3991, 'tour': 4538, 'guide': 1993, 'continues': 971, 'catches': 715, 'impress': 2250, 'wins': 4899, 'lewis': 2586, 'suffered': 4276, 'murphy': 2944, 'ford': 1789, 'california': 650, 'holy': 2140, 'exciting': 1563, 'porno': 3337, 'magazine': 2701, 'nine': 3017, 'sellers': 3872, 'randomly': 3515, 'aged': 149, 'hip': 2114, 'letting': 2583, 'perform': 3227, 'plain': 3286, 'satisfied': 3789, 'christ': 807, 'stones': 4198, 'nervous': 2999, 'sean': 3840, 'league': 2549, 'uwe': 4703, 'boll': 529, 'choreographed': 801, 'thinking': 4453, 'dragon': 1344, 'uk': 4626, 'teen': 4388, 'department': 1182, 'wandering': 4785, 'survivors': 4325, 'thoroughly': 4459, 'deaths': 1142, 'brief': 579, 'stomach': 4196, 'gratuitous': 1961, 'locked': 2637, 'abandoned': 62, 'rooms': 3736, 'unlike': 4670, 'unseen': 4678, 'capable': 672, 'genuine': 1891, 'higher': 2101, 'delivered': 1170, 'carl': 692, 'emma': 1457, 'united': 4664, 'rented': 3628, 'overly': 3155, 'concerned': 932, 'countryside': 1015, 'backgrounds': 381, 'fare': 1655, 'settings': 3901, 'repeat': 3630, 'viewings': 4741, 'intrigue': 2333, 'refreshing': 3586, 'touching': 4536, 'capturing': 679, 'promising': 3433, 'confusion': 943, 'duty': 1390, 'outcome': 3142, 'ignore': 2224, 'sensitive': 3879, 'characterization': 759, 'amitabh': 216, 'narration': 2965, 'don': 1320, 'regret': 3591, 'effectively': 1430, 'illogical': 2231, 'landing': 2512, 'enemies': 1476, 'slick': 4026, 'treatment': 4574, 'praise': 3364, 'wishes': 4906, 'olivier': 3103, 'eve': 1532, 'daughters': 1122, 'reviewer': 3677, 'notable': 3041, 'charisma': 762, 'press': 3379, 'remote': 3622, 'teaching': 4377, 'terrorists': 4414, 'troops': 4591, 'reveals': 3673, 'mentally': 2809, 'stress': 4220, 'physically': 3263, 'roberts': 3714, 'franchise': 1817, 'twins': 4616, 'spot': 4131, 'consistent': 953, 'junk': 2436, 'acid': 95, 'vision': 4754, 'push': 3477, 'pink': 3277, 'werent': 4849, 'company': 910, 'disturbing': 1300, 'riding': 3695, 'hints': 2113, 'inspiration': 2300, 'mst3k': 2932, 'toys': 4543, 'spy': 4135, 'equipment': 1511, 'childrens': 793, 'dubbed': 1379, '1960s': 15, 'sixties': 4011, 'eager': 1396, 'crude': 1069, 'quotes': 3497, 'anderson': 227, 'smith': 4038, 'pre': 3365, 'bothered': 549, 'plans': 3292, 'bathroom': 412, 'donald': 1321, 'relationship': 3597, 'brando': 566, 'loving': 2675, 'hurt': 2202, 'hitting': 2126, 'lower': 2677, 'ironically': 2356, '1996': 26, 'tons': 4520, 'morning': 2906, 'deaf': 1134, 'ears': 1402, 'statement': 4162, '14': 6, 'thief': 4448, 'fictional': 1703, 'account': 89, 'list': 2617, 'properly': 3437, 'acceptable': 81, 'technical': 4381, 'lighting': 2596, 'sloppy': 4030, 'maker': 2714, 'develops': 1226, 'jesus': 2399, 'sacrifice': 3766, 'subplot': 4255, 'faith': 1633, 'christians': 809, 'convey': 982, 'sport': 4129, 'wear': 4830, 'thirty': 4456, 'mexico': 2827, 'hotel': 2175, 'curious': 1083, 'tomatoes': 4515, 'nations': 2971, 'website': 4834, 'useless': 4695, 'planet': 3289, 'grant': 1956, 'jr': 2423, 'portraying': 3343, 'navy': 2976, 'niro': 3019, 'moved': 2922, 'terrific': 4409, 'jake': 2377, 'advise': 134, 'raising': 3509, 'victor': 4731, 'groups': 1981, 'jerk': 2395, 'unwatchable': 4682, 'received': 3564, 'cold': 872, 'spirits': 4115, 'boredom': 542, 'happiness': 2031, 'soccer': 4048, 'watchable': 4812, 'thrills': 4475, 'buried': 624, 'intention': 2319, 'decades': 1145, 'horribly': 2164, 'wars': 4804, 'tends': 4402, 'wizard': 4919, 'kingdom': 2480, 'code': 869, 'subtlety': 4261, 'football': 1783, 'homosexual': 2145, 'smile': 4036, '35': 45, 'entry': 1504, 'serial': 3889, 'nyc': 3065, 'junior': 2435, 'partner': 3198, 'neighbor': 2992, 'tonight': 4519, 'flawed': 1750, 'everywhere': 1545, 'ashamed': 312, 'lyrics': 2692, 'figures': 1713, 'doc': 1303, 'glass': 1917, 'gods': 1928, 'explains': 1589, 'bill': 481, '1980': 20, 'flash': 1745, 'image': 2233, 'comics': 895, 'fu': 1844, 'tarzan': 4367, 'rogers': 3725, 'savage': 3793, 'teachers': 4376, 'banned': 395, 'anywhere': 263, 'realized': 3553, 'plastic': 3294, 'passing': 3204, 'desperation': 1210, 'susan': 4326, 'caliber': 649, 'painfully': 3172, 'clown': 862, 'politically': 3325, 'correct': 1000, 'clue': 864, 'karen': 2444, 'depiction': 1185, 'saving': 3797, 'shallow': 3917, 'desire': 1205, 'mundane': 2938, 'relate': 3593, 'abuse': 74, 'current': 1084, 'inevitably': 2283, 'questionable': 3488, 'howard': 2182, 'occur': 3076, 'root': 3737, 'bonus': 534, 'activities': 102, 'inspector': 2299, 'computer': 927, 'keeps': 2451, 'messed': 2821, 'thru': 4483, 'dvds': 1392, 'market': 2740, 'cover': 1022, 'starting': 4158, 'progresses': 3426, 'lit': 2621, 'buddies': 608, 'planning': 3291, 'suck': 4269, 'minimum': 2856, 'struggles': 4235, 'picks': 3268, 'loser': 2655, 'hire': 2116, 'knock': 2488, 'empire': 1464, 'titles': 4506, 'marie': 2737, 'pleased': 3305, 'authentic': 358, 'eric': 1514, 'perry': 3237, 'weapons': 4829, 'unforgettable': 4652, 'turkey': 4604, 'adults': 126, 'slap': 4018, 'relationships': 3598, 'wallace': 4782, 'parent': 3187, 'shouldnt': 3952, 'cultural': 1078, 'accepted': 82, 'european': 1530, 'countries': 1013, 'laws': 2540, 'helping': 2081, 'maria': 2736, 'presented': 3376, 'border': 539, 'beneath': 464, 'unexpected': 4650, 'afterwards': 145, 'wholly': 4874, 'eccentric': 1414, 'assumed': 329, 'strikes': 4225, 'disaster': 1276, 'text': 4419, 'represented': 3638, 'thoughts': 4464, 'provided': 3449, 'voices': 4763, 'recording': 3575, 'altogether': 202, 'spring': 4134, 'search': 3841, 'frustration': 1843, 'con': 928, 'pair': 3176, 'helps': 2082, 'gritty': 1977, 'innocence': 2293, 'dorothy': 1330, 'decade': 1144, 'annie': 247, 'ideal': 2214, 'born': 544, 'returned': 3666, 'enemy': 1477, 'birth': 486, 'range': 3516, 'comical': 894, 'bar': 396, 'orders': 3127, 'carrying': 701, 'pulls': 3464, 'pants': 3182, 'suspect': 4327, 'dealing': 1136, 'believed': 455, 'french': 1830, 'clip': 851, 'kung': 2498, 'elsewhere': 1449, 'intrigued': 2334, 'hence': 2083, 'worthwhile': 4955, 'bay': 416, 'sounded': 4082, 'trust': 4598, 'trilogy': 4586, 'plight': 3308, 'foster': 1809, 'racial': 3501, 'serving': 3897, 'silence': 3974, 'dozens': 1339, 'smiling': 4037, 'messages': 2820, 'lights': 2597, 'darkness': 1117, 'appreciated': 280, 'kissing': 2484, 'korean': 2495, 'occasional': 3074, 'cg': 739, 'revealed': 3671, 'complexity': 924, 'shorts': 3948, 'sadness': 3770, 'adapted': 114, 'assigned': 325, 'kate': 2446, 'advertising': 132, '100': 1, 'sucked': 4270, 'torture': 4529, 'swedish': 4335, 'throwing': 4480, 'plausible': 3295, 'aliens': 184, 'dropping': 1371, 'step': 4175, 'irony': 2357, 'ruthless': 3764, 'presumably': 3380, 'defeat': 1157, 'stranger': 4213, 'originally': 3131, 'remotely': 3623, 'smooth': 4041, 'ratings': 3530, 'innovative': 2295, 'prefer': 3368, 'alright': 198, 'mentioning': 2812, 'rocks': 3722, 'nick': 3012, 'figured': 1712, '75': 57, '40': 48, 'appalling': 268, 'unbelievably': 4635, 'distracting': 1297, 'preview': 3386, 'gotta': 1946, 'lawrence': 2539, 'mans': 2730, 'blonde': 511, 'luke': 2687, 'jessica': 2398, 'simpson': 3987, 'anne': 246, 'frustrated': 1842, 'atlantis': 332, 'disney': 1289, 'struck': 4232, 'crack': 1027, 'stock': 4193, 'companion': 909, 'unconvincing': 4638, 'voiced': 4762, 'fox': 1814, 'grandfather': 1954, 'raised': 3508, 'leonard': 2572, 'expert': 1585, 'landscapes': 2514, 'logic': 2638, 'section': 3853, 'ireland': 2352, 'latin': 2527, 'conspiracy': 956, 'roman': 3731, 'cave': 727, 'visible': 4753, 'technology': 4385, 'lying': 2690, 'surface': 4310, 'survival': 4320, 'downhill': 1336, 'torn': 4528, 'thick': 4447, 'area': 286, 'restored': 3659, 'sky': 4017, '20th': 38, 'send': 3875, 'hint': 2112, 'holes': 2133, 'grow': 1982, 'indie': 2276, 'suffer': 4275, '2005': 35, 'punch': 3466, 'fx': 1858, 'itll': 2369, 'purposes': 3475, 'lake': 2509, 'fonda': 1777, 'da': 1094, 'conversation': 980, 'appearing': 277, 'ourselves': 3140, 'fascinated': 1657, 'signs': 3973, 'strangers': 4214, 'meat': 2787, 'showcase': 3954, 'soviet': 4089, 'selling': 3873, 'incomprehensible': 2267, 'contest': 967, 'stood': 4199, 'seeking': 3859, 'appropriate': 283, 'cares': 690, 'myers': 2952, 'succeeded': 4263, 'jungle': 2434, 'eva': 1531, 'screens': 3832, 'shock': 3938, 'rex': 3683, '2003': 33, '2004': 34, 'ie': 2221, 'aka': 168, 'vietnam': 4735, 'blowing': 515, 'kiss': 2483, 'alcohol': 176, 'robin': 3715, 'walks': 4780, 'realizing': 3555, 'reached': 3537, 'spoke': 4125, 'agreed': 156, 'bird': 484, 'block': 508, 'ages': 152, 'extra': 1606, 'understood': 4647, 'possibility': 3349, 'importance': 2246, 'village': 4743, 'represent': 3637, 'cabin': 643, 'mistakes': 2873, 'concern': 931, 'blow': 514, 'arrives': 302, 'pal': 3177, 'highest': 2102, 'originality': 3130, 'contained': 963, 'civil': 826, 'freedom': 1828, 'commit': 904, 'england': 1482, 'passed': 3202, 'sticks': 4186, 'remaining': 3610, 'disgusting': 1286, 'fabulous': 1615, '1999': 27, 'repeated': 3631, 'encounter': 1466, 'cleverly': 842, 'tend': 4400, 'forty': 1807, 'recorded': 3574, 'centers': 734, 'contemporary': 965, 'bridge': 578, 'classical': 836, '60s': 54, 'translation': 4562, 'lacking': 2504, 'cardboard': 682, 'whenever': 4863, 'emily': 1456, 'contrived': 976, 'boom': 537, 'hits': 2125, 'picking': 3267, 'jumped': 2430, 'rob': 3710, 'zombie': 4997, 'confidence': 938, 'enormous': 1490, 'majority': 2712, 'speech': 4102, 'displayed': 1292, 'hatred': 2049, 'painting': 3175, 'cameron': 661, 'cruise': 1071, 'challenge': 743, 'birthday': 487, 'honor': 2150, 'corporate': 998, 'assault': 324, 'colors': 879, 'ethan': 1528, 'doubts': 1333, 'wide': 4880, 'shut': 3961, 'earned': 1401, 'nomination': 3026, 'exceptional': 1558, 'dressing': 1359, 'jason': 2383, 'taylor': 4372, 'mel': 2796, 'carol': 693, 'authority': 360, 'hamlet': 2013, 'passes': 3203, '70': 55, 'titanic': 4503, 'oscars': 3134, 'dedicated': 1153, 'trailers': 4555, 'tad': 4347, 'directorial': 1265, 'fault': 1668, 'blown': 516, 'kitchen': 2485, 'cake': 648, 'unintentional': 4658, 'broken': 594, 'ah': 158, 'sorts': 4078, 'implausible': 2245, 'rambo': 3511, 'plenty': 3307, 'tune': 4602, 'versus': 4722, 'careful': 688, 'stealing': 4171, 'conceived': 929, 'contract': 973, 'morgan': 2905, 'security': 3854, 'marketing': 2741, 'shadows': 3913, 'vivid': 4760, 'household': 2179, 'challenging': 744, 'melodramatic': 2798, 'throws': 4482, 'shelf': 3926, 'propaganda': 3435, 'depicts': 1186, '11': 2, 'continued': 970, 'faced': 1617, 'deserve': 1199, 'accents': 79, 'fifteen': 1706, 'sentence': 3881, 'thrillers': 4473, 'melodrama': 2797, 'burning': 627, 'ground': 1979, 'destroying': 1215, 'march': 2734, 'heroic': 2090, 'businessman': 634, 'driver': 1366, 'narrator': 2967, 'scientists': 3819, 'eight': 1436, 'loads': 2633, 'base': 402, 'seconds': 3848, 'practice': 3363, 'valuable': 4708, 'lose': 2654, 'piano': 3264, 'blacks': 494, 'turner': 4607, 'haunted': 2050, 'drag': 1342, 'resort': 3650, 'construction': 960, 'nearby': 2980, 'swimming': 4338, 'pool': 3327, 'tame': 4363, 'gripping': 1976, 'ready': 3546, 'defend': 1158, 'irritating': 2359, 'dramas': 1347, 'product': 3418, 'museum': 2945, 'exceptionally': 1559, 'lovable': 2668, 'psycho': 3457, 'masterpieces': 2760, 'chose': 804, 'individuals': 2278, 'aids': 161, 'africa': 141, 'muslim': 2949, 'limits': 2607, 'empathy': 1462, 'widow': 4883, 'shines': 3932, 'reputation': 3640, 'guilt': 1994, 'awfully': 373, 'san': 3780, 'eastwood': 1409, 'lifestyle': 2593, 'fitting': 1742, 'generous': 1886, 'wounded': 4961, 'murderous': 2942, 'property': 3438, 'raped': 3522, 'executed': 1565, 'relies': 3606, 'orange': 3125, 'solve': 4060, 'medical': 2790, 'survived': 4322, 'airport': 167, 'suggested': 4281, 'resemblance': 3645, 'southern': 4088, 'crash': 1033, 'painted': 3174, 'alcoholic': 177, 'grasp': 1960, 'infamous': 2284, 'noir': 3023, 'inventive': 2341, 'hunters': 2200, 'quest': 3486, 'alike': 185, 'lily': 2605, 'farm': 1656, 'graphics': 1959, 'vampires': 4712, 'semi': 3874, 'cars': 702, 'witch': 4909, 'random': 3514, 'vague': 4705, 'nurse': 3063, 'patient': 3211, 'mummy': 2937, 'feelings': 1686, 'ballet': 389, 'leader': 2546, 'secretly': 3851, 'garbage': 1870, 'bag': 384, 'eaten': 1412, 'proceeds': 3411, 'females': 1694, 'beloved': 461, '2002': 32, 'exploitation': 1592, 'pg': 3250, 'generic': 1885, 'tight': 4492, 'cheated': 775, 'heston': 2094, 'ocean': 3079, 'grows': 1985, 'describes': 1196, 'lion': 2614, 'handle': 2018, 'embarrassment': 1455, 'georges': 1894, 'foreign': 1790, 'citizen': 824, 'kane': 2442, 'comedies': 889, 'credibility': 1047, 'breaking': 570, 'essence': 1521, 'credible': 1048, 'travesty': 4570, 'trap': 4563, 'petty': 3249, 'todd': 4510, 'coffee': 870, 'reaching': 3539, 'terror': 4412, 'bo': 521, 'derek': 1192, '1980s': 21, 'edgar': 1417, 'icon': 2211, 'apes': 267, 'ape': 266, 'dynamic': 1394, 'someones': 4065, 'pro': 3406, 'wrestling': 4966, 'lumet': 2688, 'seventies': 3904, 'disappear': 1270, 'amateur': 206, 'beaten': 424, 'beating': 425, 'nazi': 2977, 'rape': 3521, 'education': 1424, 'fatal': 1664, 'accurate': 90, 'spirited': 4114, 'heroes': 2089, 'scottish': 3825, 'ian': 2209, 'leslie': 2574, 'careers': 687, 'polanski': 3321, 'learns': 2553, 'spider': 4109, 'losers': 2656, 'mansion': 2731, 'amongst': 218, 'admire': 121, 'inevitable': 2282, 'multi': 2935, 'slight': 4027, 'mine': 2853, 'ancient': 225, 'underground': 4640, 'jewish': 2401, 'existed': 1570, 'dragged': 1343, 'listed': 2618, 'hung': 2197, 'copies': 992, 'tape': 4365, 'stops': 4203, 'genres': 1889, 'williams': 4888, 'douglas': 1334, 'outrageous': 3145, 'gender': 1878, 'superficial': 4298, 'reaches': 3538, 'discussion': 1284, 'criticism': 1063, 'cable': 644, 'strictly': 4223, 'gold': 1932, 'involvement': 2347, 'amounts': 220, 'woody': 4936, 'rick': 3689, 'waitress': 4773, 'kinds': 2478, 'cup': 1080, 'imitation': 2241, 'explicit': 1591, 'soft': 4051, 'shortly': 3947, 'disbelief': 1277, 'comfortable': 892, 'interaction': 2322, 'italy': 2368, 'consists': 955, 'engage': 1479, 'serve': 3893, 'boxing': 556, 'flynn': 1765, 'decisions': 1152, 'irish': 2353, 'pushing': 3479, 'honesty': 2148, 'redemption': 3578, 'bettie': 473, 'subplots': 4256, 'flawless': 1751, 'seagal': 3839, 'minded': 2850, 'renting': 3629, 'specifically': 4100, 'brilliance': 582, 'frankenstein': 1822, 'souls': 4080, 'dracula': 1341, 'furthermore': 1854, 'technique': 4383, 'thousands': 4466, 'felix': 1689, 'discovery': 1282, 'qualities': 3483, 'wished': 4905, 'sports': 4130, 'dennis': 1179, 'wisdom': 4902, 'drawing': 1350, 'conservative': 948, 'liberal': 2588, 'campy': 664, 'truck': 4595, 'dear': 1140, 'ignorant': 2223, 'broke': 593, 'intentions': 2321, 'amy': 222, 'adams': 112, 'ryan': 3765, 'hills': 2109, 'focuses': 1768, 'germans': 1897, 'oil': 3097, 'ghosts': 1903, 'fears': 1677, 'explore': 1594, 'scenario': 3808, 'louis': 2665, 'horrifying': 2167, 'lloyd': 2630, 'drinking': 1362, 'erotic': 1515, 'india': 2273, 'repetitive': 3633, 'editor': 1423, 'reflection': 3585, 'huh': 2187, 'global': 1920, 'choreography': 802, 'wanna': 4786, 'regardless': 3590, 'delivering': 1171, 'wake': 4774, 'fetched': 1698, 'wore': 4939, 'specific': 4099, 'suitable': 4285, 'experiment': 1583, 'superhero': 4299, 'hank': 2024, 'dutch': 1389, 'eastern': 1408, 'differences': 1247, 'ken': 2453, 'liking': 2604, 'causes': 725, 'moore': 2901, 'spoiled': 4122, 'carrie': 697, 'attached': 336, 'necessarily': 2983, 'cheese': 780, 'spoof': 4127, 'blair': 497, 'mile': 2842, 'relative': 3599, 'raise': 3507, 'wealth': 4826, 'touched': 4534, 'dimensional': 1253, 'distinct': 1296, 'conflicts': 940, 'entertained': 1498, 'anime': 243, 'machines': 2694, 'workers': 4943, 'trial': 4580, 'peace': 3219, 'partly': 3197, 'racism': 3502, 'nation': 2969, 'cities': 823, 'behave': 445, 'storytelling': 4209, 'aint': 163, 'hopeless': 2158, 'unfortunate': 4653, 'rights': 3697, 'florida': 1761, 'loose': 2650, 'pushed': 3478, 'louise': 2666, 'brooks': 596, 'succeed': 4262, 'hitchcock': 2123, 'stooges': 4200, 'forbidden': 1785, 'ship': 3934, 'purely': 3472, 'useful': 4694, 'relief': 3605, 'intentionally': 2320, 'distribution': 1298, 'standing': 4146, 'folk': 1770, 'flies': 1756, 'manhattan': 2726, 'alfred': 181, 'birds': 485, 'introduces': 2338, 'menacing': 2807, 'president': 3378, 'agents': 151, 'hysterical': 2208, 'jaws': 2385, 'helicopter': 2076, 'heat': 2067, 'gabriel': 1859, 'leo': 2571, 'alexander': 180, 'doom': 1326, 'robbins': 3712, 'brains': 563, 'according': 88, 'disneys': 1290, 'illness': 2230, 'jay': 2386, 'june': 2433, 'betty': 474, '17': 9, '45': 50, 'hello': 2078, 'spread': 4133, 'realism': 3549, 'sits': 4006, 'craig': 1030, 'grandmother': 1955, 'eyre': 1614, 'rochester': 3719, 'charlotte': 766, 'dalton': 1098, 'meeting': 2794, 'personalities': 3241, 'natural': 2973, 'lie': 2590, 'mirror': 2861, 'responsibility': 3655, 'wing': 4896, 'fix': 1744, 'arrived': 301, 'adorable': 124, 'rank': 3518, '1990': 24, 'ignored': 2225, 'lemmon': 2567, 'cgi': 740, 'network': 3000, 'hiding': 2099, 'creatures': 1046, 'werewolf': 4850, 'access': 83, 'official': 3094, 'freak': 1824, 'germany': 1898, 'lively': 2627, 'breasts': 572, 'format': 1799, 'advantage': 129, 'clint': 850, 'tommy': 4516, 'finger': 1731, 'button': 639, 'calls': 654, 'mistaken': 2872, 'crush': 1072, 'kay': 2447, 'ashley': 313, 'joey': 2408, 'dave': 1123, 'jesse': 2397, 'waters': 4817, 'curiosity': 1082, 'edward': 1426, 'cary': 706, 'pit': 3278, 'jealous': 2388, 'struggling': 4236, 'considerable': 950, 'proceedings': 3410, 'bang': 393, 'mafia': 2700, 'sandra': 3782, 'suspicious': 4332, 'demands': 1175, 'settle': 3902, 'dreary': 1356, 'trapped': 4564, 'primarily': 3393, 'twilight': 4614, 'duke': 1383, 'encounters': 1467, 'pleasantly': 3303, 'primary': 3394, 'baker': 385, 'wishing': 4907, 'warren': 4801, 'hoffman': 2128, 'changing': 752, 'jenny': 2393, 'ear': 1397, 'rocky': 3723, 'transformation': 4560, 'scrooge': 3837, 'robinson': 3716, 'internet': 2327, 'replaced': 3634, 'dancer': 1104, 'matches': 2764, 'laura': 2536, 'punishment': 3467, 'rise': 3702, 'hitler': 2124, 'prize': 3405, 'carter': 703, 'mate': 2765, 'crocodile': 1065, 'unaware': 4632, 'resist': 3648, 'sheer': 3925, 'chicago': 785, 'convincingly': 986, 'yelling': 4980, 'winter': 4900, 'detailed': 1218, 'deeper': 1155, 'alongside': 196, 'kudos': 2497, 'valley': 4707, 'vincent': 4746, 'principal': 3398, 'peters': 3248, 'began': 441, 'centered': 733, 'taught': 4370, 'arrive': 300, 'eating': 1413, 'dig': 1250, 'pan': 3180, 'matthew': 2772, 'goldberg': 1933, 'receives': 3565, 'splendid': 4119, 'focusing': 1769, 'un': 4630, 'nights': 3016, 'reasonable': 3558, 'resources': 3651, 'devoted': 1231, 'photo': 3257, 'similarly': 3980, 'arguably': 289, 'domino': 1319, 'excessive': 1560, 'tall': 4362, 'memories': 2803, 'columbo': 881, 'relatives': 3601, 'homer': 2144, 'rocket': 3721, 'mothers': 2912, 'misses': 2868, 'dolph': 1317, 'bomb': 531, 'dust': 1388, 'shirley': 3936, 'rose': 3739, 'keeping': 2450, 'seek': 3858, 'cheek': 779, 'professor': 3422, 'pretending': 3382, 'powell': 3358, 'sarah': 3785, 'horrific': 2166, '1930s': 11, 'cops': 993, 'dolls': 1316, 'affect': 136, 'newly': 3004, 'saves': 3796, 'peoples': 3222, 'beliefs': 452, 'attempting': 342, 'mall': 2720, 'hang': 2022, 'prom': 3429, 'snl': 4044, 'drags': 1345, 'vast': 4716, 'johnson': 2411, 'species': 4098, 'shark': 3921, 'whale': 4857, 'size': 4012, 'waves': 4819, 'surfing': 4311, 'vaguely': 4706, 'creativity': 1042, 'beats': 426, 'miserably': 2864, 'movements': 2924, 'portrait': 3339, 'sneak': 4043, 'lol': 2640, 'pat': 3208, 'controversial': 978, 'currently': 1085, 'ships': 3935, 'props': 3439, 'gross': 1978, 'dating': 1120, 'shower': 3957, 'bare': 398, 'pie': 3271, 'bleak': 503, 'hilariously': 2107, 'german': 1896, 'joseph': 2419, 'von': 4765, 'wives': 4918, 'debut': 1143, 'damage': 1099, 'conventional': 979, 'westerns': 4854, 'cage': 645, 'moody': 2899, 'hopper': 2161, 'neo': 2998, 'regard': 3588, 'fate': 1665, 'searching': 3842, 'zone': 4999, 'jackie': 2374, 'poem': 3312, 'notably': 3042, 'plant': 3293, 'asking': 318, 'showdown': 3955, 'talks': 4361, 'tiger': 4491, 'ramones': 3512, 'instant': 2305, 'secrets': 3852, 'mitchell': 2875, 'maggie': 2702, 'carries': 699, 'formula': 1802, 'seed': 3856, 'francisco': 1819, 'killings': 2473, 'exposed': 1598, 'womens': 4924, 'stays': 4169, 'upper': 4685, 'remain': 3609, 'blade': 495, 'monkeys': 2891, 'trek': 4578, 'inappropriate': 2259, 'wedding': 4836, 'display': 1291, 'beings': 449, 'iraq': 2351, 'busy': 635, 'bush': 632, 'bible': 477, 'sidekick': 3966, 'curtis': 1087, 'staged': 4140, 'dan': 1102, 'winters': 4901, 'gain': 1863, 'bat': 410, 'methods': 2825, 'illegal': 2229, '18': 10, 'frequent': 1831, 'similarities': 3979, 'appreciation': 281, 'abc': 63, 'laughably': 2531, 'videos': 4734, 'wacky': 4769, 'chapter': 757, 'virgin': 4749, 'identify': 2216, 'reactions': 3542, 'backdrop': 379, 'massacre': 2754, 'awe': 370, 'reduced': 3579, 'mail': 2706, 'definite': 1161, 'pokemon': 3320, 'mighty': 2836, 'rangers': 3517, 'beast': 422, 'villains': 4745, 'poster': 3353, 'doctors': 1305, 'distance': 1294, 'closest': 857, 'godfather': 1927, 'opportunities': 3120, 'bold': 528, 'rat': 3525, 'morris': 2908, 'subjects': 4254, 'desperately': 1209, 'cameras': 660, 'blues': 519, 'kim': 2475, 'feed': 1683, '80': 58, 'stated': 4161, 'hart': 2041, 'compelled': 915, 'weapon': 4828, 'thrilling': 4474, 'arrogant': 303, 'realise': 3548, 'reflect': 3584, 'der': 1191, 'lou': 2663, 'unoriginal': 4673, 'robbery': 3711, 'boot': 538, 'synopsis': 4344, 'chances': 748, 'wondered': 4927, 'ridden': 3691, 'everyones': 1543, 'wrap': 4963, 'fooled': 1780, 'judging': 2425, 'station': 4164, 'racist': 3503, 'absence': 70, 'spin': 4112, 'fest': 1696, 'stargate': 4151, 'directs': 1267, 'noise': 3024, 'butt': 638, 'attracted': 349, 'mildred': 2841, 'mrs': 2930, 'cinderella': 815, 'darker': 1116, 'witnesses': 4916, 'manipulative': 2727, 'cheating': 776, 'stale': 4141, 'bacall': 377, 'sue': 4274, 'seasons': 3844, 'paltrow': 3178, 'denzel': 1181, 'kidnapped': 2466, 'vicious': 4728, 'unsettling': 4679, 'bugs': 613, 'berlin': 467, 'loaded': 2632, 'jennifer': 2392, 'kicking': 2462, 'airplane': 166, 'creators': 1044, 'captivating': 675, 'stilted': 4190, 'diamond': 1236, 'kirk': 2482, 'spike': 4111, 'neighborhood': 2993, 'fever': 1699, 'digital': 1251, 'overdone': 3152, 'bergman': 466, 'daddy': 1096, 'communist': 907, 'troubles': 4594, 'francis': 1818, 'wes': 4851, 'corrupt': 1001, 'donna': 1323, 'hyde': 2206, 'hippie': 2115, 'motives': 2916, 'freeman': 1829, 'justin': 2440, 'orson': 3132, 'welles': 4844, 'rebel': 3561, 'fired': 1735, 'twin': 4615, 'storm': 4206, 'incident': 2260, 'ruth': 3763, 'falk': 1636, 'dentist': 1180, 'april': 284, 'descent': 1193, 'subsequent': 4257, 'cusack': 1088, 'mistress': 2874, 'plague': 3285, 'unit': 4663, 'sinatra': 3989, 'gifted': 1907, 'dean': 1139, 'kennedy': 2454, 'garbo': 1871, 'minimal': 2855, 'virus': 4752, '60': 53, 'enterprise': 1495, 'accident': 84, 'unpleasant': 4674, 'journalist': 2420, 'gundam': 1997, 'elaborate': 1439, 'ruby': 3749, 'temple': 4398, 'opposed': 3122, 'historically': 2120, 'transfer': 4559, 'chess': 783, 'blunt': 520, 'exploration': 1593, 'bud': 607, 'raymond': 3534, 'nancy': 2964, 'china': 795, 'laurel': 2537, 'hardy': 2037, 'winds': 4895, 'dry': 1377, 'fighter': 1708, 'rural': 3758, 'counter': 1011, '40s': 49, 'scientific': 3817, 'capital': 673, 'nuts': 3064, 'tree': 4576, 'pretend': 3381, 'reed': 3580, 'ginger': 1908, 'philosophy': 3254, 'warrior': 4802, 'monk': 2889, 'cube': 1076, 'iran': 2350, 'holly': 2136, 'shoots': 3944, 'jonathan': 2417, 'lincoln': 2608, 'simplicity': 3984, 'suffice': 4279, 'widmark': 4882, 'evidence': 1546, '16': 8, 'dire': 1257, 'letters': 2582, 'occurred': 3077, 'financial': 1725, 'twelve': 4611, 'improvement': 2256, 'demand': 1174, 'cannibal': 669, 'dub': 1378, 'creep': 1051, 'spielberg': 4110, 'shirt': 3937, 'educational': 1425, 'row': 3744, 'carradine': 695, 'sides': 3967, 'fortunately': 1805, 'expensive': 1579, 'mario': 2738, 'bobby': 525, 'willis': 4890, 'obscure': 3068, 'spain': 4091, 'astaire': 330, 'depressed': 1187, 'countless': 1012, 'claimed': 829, 'safety': 3772, 'definition': 1163, 'horrid': 2165, 'brosnan': 597, 'native': 2972, '1933': 12, 'secretary': 3850, 'suspects': 4328, 'campbell': 663, 'rubber': 3747, 'davies': 1125, 'warner': 4799, 'photographed': 3258, 'monkey': 2890, 'tag': 4348, 'writes': 4970, 'rats': 3531, 'symbolism': 4341, 'steel': 4173, 'unbearable': 4633, 'attorney': 348, 'prisoner': 3402, 'simmons': 3981, 'omen': 3104, 'jamie': 2379, 'thugs': 4484, 'scooby': 3820, 'doo': 1325, 'pearl': 3220, '2007': 37, 'americas': 215, 'butler': 637, 'hop': 2154, 'blond': 510, 'express': 1600, 'witches': 4910, 'lab': 2501, 'survivor': 4324, 'promises': 3432, 'giallo': 1904, 'blank': 501, 'accompanied': 86, 'stan': 4142, 'union': 4661, 'selfish': 3870, 'colonel': 876, 'removed': 3624, 'divorce': 1301, 'priceless': 3390, 'craven': 1034, 'elephant': 1444, 'nail': 2957, 'phantom': 3251, 'tongue': 4518, 'weakest': 4825, 'fisher': 1739, 'relation': 3595, 'familys': 1646, 'square': 4136, 'reel': 3581, 'introduce': 2336, 'closely': 855, 'musicals': 2948, 'homeless': 2143, 'womans': 4922, 'britain': 588, 'cagney': 646, 'pot': 3354, 'ralph': 3510, 'nostalgia': 3038, 'championship': 745, 'abilities': 64, 'margaret': 2735, 'humble': 2191, 'swim': 4337, 'staying': 4168, 'drew': 1360, 'miike': 2837, 'underlying': 4641, 'arrested': 298, 'lena': 2568, 'expressed': 1601, 'mgm': 2828, 'lengthy': 2570, '1973': 19, 'inane': 2258, 'strip': 4228, 'dinosaur': 1255, 'borrowed': 545, 'accomplished': 87, 'trashy': 4566, 'civilization': 827, 'faster': 1662, 'glorious': 1921, 'chicks': 787, 'stole': 4194, 'solution': 4059, 'sid': 3964, 'iron': 2354, 'tooth': 4524, 'incompetent': 2266, 'harder': 2035, 'terrorist': 4413, 'catching': 716, 'mechanical': 2788, 'bumbling': 622, 'tunes': 4603, 'fbi': 1675, 'paulie': 3215, 'stanwyck': 4149, 'taxi': 4371, 'gadget': 1860, 'jet': 2400, 'shelley': 3928, 'bette': 471, 'combat': 882, 'li': 2587, 'bell': 458, 'virginia': 4750, 'instinct': 2308, 'carpenter': 694, 'cried': 1054, 'moronic': 2907, 'wells': 4845, 'mayor': 2777, 'hammer': 2014, 'edie': 1419, 'melting': 2799, 'leg': 2562, 'sappy': 3784, 'eyed': 1612, 'travels': 4569, 'topless': 4527, 'stereotype': 4178, 'dickens': 1240, 'rabbit': 3498, 'fulci': 1845, 'warriors': 4803, 'psychic': 3456, 'glover': 1923, 'rage': 3505, 'bakshi': 386, 'despair': 1207, 'mars': 2746, 'brenda': 575, 'horrors': 2169, 'september': 3884, 'basketball': 409, 'promised': 3431, 'marty': 2749, 'scarecrow': 3804, 'gandhi': 1866}\n"
     ]
    }
   ],
   "source": [
    "print(str(vocabulary))"
   ]
  },
  {
   "cell_type": "markdown",
   "metadata": {},
   "source": [
    "Once you have added the endpoint name to the Lambda function, click on **Save**. Your Lambda function is now up and running. Next we need to create a way for our web app to execute the Lambda function."
   ]
  },
  {
   "cell_type": "markdown",
   "metadata": {},
   "source": [
    "### Setting up API Gateway\n",
    "\n",
    "Now that our Lambda function is set up, it is time to create a new API using API Gateway that will trigger the Lambda function we have just created.\n",
    "\n",
    "Using AWS Console, navigate to **Amazon API Gateway** and then click on **Get started**.\n",
    "\n",
    "On the next page, make sure that **New API** is selected and give the new api a name, for example, `sentiment_analysis_web_app`. Then, click on **Create API**.\n",
    "\n",
    "Now we have created an API, however it doesn't currently do anything. What we want it to do is to trigger the Lambda function that we created earlier.\n",
    "\n",
    "Select the **Actions** dropdown menu and click **Create Method**. A new blank method will be created, select its dropdown menu and select **POST**, then click on the check mark beside it.\n",
    "\n",
    "For the integration point, make sure that **Lambda Function** is selected and click on the **Use Lambda Proxy integration**. This option makes sure that the data that is sent to the API is then sent directly to the Lambda function with no processing. It also means that the return value must be a proper response object as it will also not be processed by API Gateway.\n",
    "\n",
    "Type the name of the Lambda function you created earlier into the **Lambda Function** text entry box and then click on **Save**. Click on **OK** in the pop-up box that then appears, giving permission to API Gateway to invoke the Lambda function you created.\n",
    "\n",
    "The last step in creating the API Gateway is to select the **Actions** dropdown and click on **Deploy API**. You will need to create a new Deployment stage and name it anything you like, for example `prod`.\n",
    "\n",
    "You have now successfully set up a public API to access your SageMaker model. Make sure to copy or write down the URL provided to invoke your newly created public API as this will be needed in the next step. This URL can be found at the top of the page, highlighted in blue next to the text **Invoke URL**."
   ]
  },
  {
   "cell_type": "markdown",
   "metadata": {},
   "source": [
    "## Step 7: Deploying our web app\n",
    "\n",
    "Now that we have a publicly available API, we can start using it in a web app. For our purposes, we have provided a simple static html file which can make use of the public api you created earlier.\n",
    "\n",
    "In the `website` folder there should be a file called `index.html`. Download the file to your computer and open that file up in a text editor of your choice. There should be a line which contains **\\*\\*REPLACE WITH PUBLIC API URL\\*\\***. Replace this string with the url that you wrote down in the last step and then save the file.\n",
    "\n",
    "Now, if you open `index.html` on your local computer, your browser will behave as a local web server and you can use the provided site to interact with your SageMaker model.\n",
    "\n",
    "If you'd like to go further, you can host this html file anywhere you'd like, for example using github or hosting a static site on Amazon's S3. Once you have done this you can share the link with anyone you'd like and have them play with it too!\n",
    "\n",
    "> **Important Note** In order for the web app to communicate with the SageMaker endpoint, the endpoint has to actually be deployed and running. This means that you are paying for it. Make sure that the endpoint is running when you want to use the web app but that you shut it down when you don't need it, otherwise you will end up with a surprisingly large AWS bill."
   ]
  },
  {
   "cell_type": "markdown",
   "metadata": {},
   "source": [
    "### Delete the endpoint\n",
    "\n",
    "Remember to always shut down your endpoint if you are no longer using it. You are charged for the length of time that the endpoint is running so if you forget and leave it on you could end up with an unexpectedly large bill."
   ]
  },
  {
   "cell_type": "code",
   "execution_count": 52,
   "metadata": {},
   "outputs": [],
   "source": [
    "xgb_predictor.delete_endpoint()"
   ]
  },
  {
   "cell_type": "markdown",
   "metadata": {},
   "source": [
    "## Optional: Clean up\n",
    "\n",
    "The default notebook instance on SageMaker doesn't have a lot of excess disk space available. As you continue to complete and execute notebooks you will eventually fill up this disk space, leading to errors which can be difficult to diagnose. Once you are completely finished using a notebook it is a good idea to remove the files that you created along the way. Of course, you can do this from the terminal or from the notebook hub if you would like. The cell below contains some commands to clean up the created files from within the notebook."
   ]
  },
  {
   "cell_type": "code",
   "execution_count": 53,
   "metadata": {},
   "outputs": [
    {
     "ename": "OSError",
     "evalue": "[Errno 12] Cannot allocate memory",
     "output_type": "error",
     "traceback": [
      "\u001b[0;31m---------------------------------------------------------------------------\u001b[0m",
      "\u001b[0;31mOSError\u001b[0m                                   Traceback (most recent call last)",
      "\u001b[0;32m<ipython-input-53-2c87d8eefdf2>\u001b[0m in \u001b[0;36m<module>\u001b[0;34m()\u001b[0m\n\u001b[1;32m      1\u001b[0m \u001b[0;31m# First we will remove all of the files contained in the data_dir directory\u001b[0m\u001b[0;34m\u001b[0m\u001b[0;34m\u001b[0m\u001b[0m\n\u001b[0;32m----> 2\u001b[0;31m \u001b[0mget_ipython\u001b[0m\u001b[0;34m(\u001b[0m\u001b[0;34m)\u001b[0m\u001b[0;34m.\u001b[0m\u001b[0msystem\u001b[0m\u001b[0;34m(\u001b[0m\u001b[0;34m'rm $data_dir/*'\u001b[0m\u001b[0;34m)\u001b[0m\u001b[0;34m\u001b[0m\u001b[0m\n\u001b[0m\u001b[1;32m      3\u001b[0m \u001b[0;34m\u001b[0m\u001b[0m\n\u001b[1;32m      4\u001b[0m \u001b[0;31m# And then we delete the directory itself\u001b[0m\u001b[0;34m\u001b[0m\u001b[0;34m\u001b[0m\u001b[0m\n\u001b[1;32m      5\u001b[0m \u001b[0mget_ipython\u001b[0m\u001b[0;34m(\u001b[0m\u001b[0;34m)\u001b[0m\u001b[0;34m.\u001b[0m\u001b[0msystem\u001b[0m\u001b[0;34m(\u001b[0m\u001b[0;34m'rmdir $data_dir'\u001b[0m\u001b[0;34m)\u001b[0m\u001b[0;34m\u001b[0m\u001b[0m\n",
      "\u001b[0;32m~/anaconda3/envs/python3/lib/python3.6/site-packages/IPython/core/interactiveshell.py\u001b[0m in \u001b[0;36msystem_piped\u001b[0;34m(self, cmd)\u001b[0m\n\u001b[1;32m   2259\u001b[0m         \u001b[0;31m# a non-None value would trigger :func:`sys.displayhook` calls.\u001b[0m\u001b[0;34m\u001b[0m\u001b[0;34m\u001b[0m\u001b[0m\n\u001b[1;32m   2260\u001b[0m         \u001b[0;31m# Instead, we store the exit_code in user_ns.\u001b[0m\u001b[0;34m\u001b[0m\u001b[0;34m\u001b[0m\u001b[0m\n\u001b[0;32m-> 2261\u001b[0;31m         \u001b[0mself\u001b[0m\u001b[0;34m.\u001b[0m\u001b[0muser_ns\u001b[0m\u001b[0;34m[\u001b[0m\u001b[0;34m'_exit_code'\u001b[0m\u001b[0;34m]\u001b[0m \u001b[0;34m=\u001b[0m \u001b[0msystem\u001b[0m\u001b[0;34m(\u001b[0m\u001b[0mself\u001b[0m\u001b[0;34m.\u001b[0m\u001b[0mvar_expand\u001b[0m\u001b[0;34m(\u001b[0m\u001b[0mcmd\u001b[0m\u001b[0;34m,\u001b[0m \u001b[0mdepth\u001b[0m\u001b[0;34m=\u001b[0m\u001b[0;36m1\u001b[0m\u001b[0;34m)\u001b[0m\u001b[0;34m)\u001b[0m\u001b[0;34m\u001b[0m\u001b[0m\n\u001b[0m\u001b[1;32m   2262\u001b[0m \u001b[0;34m\u001b[0m\u001b[0m\n\u001b[1;32m   2263\u001b[0m     \u001b[0;32mdef\u001b[0m \u001b[0msystem_raw\u001b[0m\u001b[0;34m(\u001b[0m\u001b[0mself\u001b[0m\u001b[0;34m,\u001b[0m \u001b[0mcmd\u001b[0m\u001b[0;34m)\u001b[0m\u001b[0;34m:\u001b[0m\u001b[0;34m\u001b[0m\u001b[0m\n",
      "\u001b[0;32m~/anaconda3/envs/python3/lib/python3.6/site-packages/IPython/utils/_process_posix.py\u001b[0m in \u001b[0;36msystem\u001b[0;34m(self, cmd)\u001b[0m\n\u001b[1;32m    154\u001b[0m                 \u001b[0mchild\u001b[0m \u001b[0;34m=\u001b[0m \u001b[0mpexpect\u001b[0m\u001b[0;34m.\u001b[0m\u001b[0mspawnb\u001b[0m\u001b[0;34m(\u001b[0m\u001b[0mself\u001b[0m\u001b[0;34m.\u001b[0m\u001b[0msh\u001b[0m\u001b[0;34m,\u001b[0m \u001b[0margs\u001b[0m\u001b[0;34m=\u001b[0m\u001b[0;34m[\u001b[0m\u001b[0;34m'-c'\u001b[0m\u001b[0;34m,\u001b[0m \u001b[0mcmd\u001b[0m\u001b[0;34m]\u001b[0m\u001b[0;34m)\u001b[0m \u001b[0;31m# Pexpect-U\u001b[0m\u001b[0;34m\u001b[0m\u001b[0m\n\u001b[1;32m    155\u001b[0m             \u001b[0;32melse\u001b[0m\u001b[0;34m:\u001b[0m\u001b[0;34m\u001b[0m\u001b[0m\n\u001b[0;32m--> 156\u001b[0;31m                 \u001b[0mchild\u001b[0m \u001b[0;34m=\u001b[0m \u001b[0mpexpect\u001b[0m\u001b[0;34m.\u001b[0m\u001b[0mspawn\u001b[0m\u001b[0;34m(\u001b[0m\u001b[0mself\u001b[0m\u001b[0;34m.\u001b[0m\u001b[0msh\u001b[0m\u001b[0;34m,\u001b[0m \u001b[0margs\u001b[0m\u001b[0;34m=\u001b[0m\u001b[0;34m[\u001b[0m\u001b[0;34m'-c'\u001b[0m\u001b[0;34m,\u001b[0m \u001b[0mcmd\u001b[0m\u001b[0;34m]\u001b[0m\u001b[0;34m)\u001b[0m  \u001b[0;31m# Vanilla Pexpect\u001b[0m\u001b[0;34m\u001b[0m\u001b[0m\n\u001b[0m\u001b[1;32m    157\u001b[0m             \u001b[0mflush\u001b[0m \u001b[0;34m=\u001b[0m \u001b[0msys\u001b[0m\u001b[0;34m.\u001b[0m\u001b[0mstdout\u001b[0m\u001b[0;34m.\u001b[0m\u001b[0mflush\u001b[0m\u001b[0;34m\u001b[0m\u001b[0m\n\u001b[1;32m    158\u001b[0m             \u001b[0;32mwhile\u001b[0m \u001b[0;32mTrue\u001b[0m\u001b[0;34m:\u001b[0m\u001b[0;34m\u001b[0m\u001b[0m\n",
      "\u001b[0;32m~/anaconda3/envs/python3/lib/python3.6/site-packages/pexpect/pty_spawn.py\u001b[0m in \u001b[0;36m__init__\u001b[0;34m(self, command, args, timeout, maxread, searchwindowsize, logfile, cwd, env, ignore_sighup, echo, preexec_fn, encoding, codec_errors, dimensions, use_poll)\u001b[0m\n\u001b[1;32m    202\u001b[0m             \u001b[0mself\u001b[0m\u001b[0;34m.\u001b[0m\u001b[0mname\u001b[0m \u001b[0;34m=\u001b[0m \u001b[0;34m'<pexpect factory incomplete>'\u001b[0m\u001b[0;34m\u001b[0m\u001b[0m\n\u001b[1;32m    203\u001b[0m         \u001b[0;32melse\u001b[0m\u001b[0;34m:\u001b[0m\u001b[0;34m\u001b[0m\u001b[0m\n\u001b[0;32m--> 204\u001b[0;31m             \u001b[0mself\u001b[0m\u001b[0;34m.\u001b[0m\u001b[0m_spawn\u001b[0m\u001b[0;34m(\u001b[0m\u001b[0mcommand\u001b[0m\u001b[0;34m,\u001b[0m \u001b[0margs\u001b[0m\u001b[0;34m,\u001b[0m \u001b[0mpreexec_fn\u001b[0m\u001b[0;34m,\u001b[0m \u001b[0mdimensions\u001b[0m\u001b[0;34m)\u001b[0m\u001b[0;34m\u001b[0m\u001b[0m\n\u001b[0m\u001b[1;32m    205\u001b[0m         \u001b[0mself\u001b[0m\u001b[0;34m.\u001b[0m\u001b[0muse_poll\u001b[0m \u001b[0;34m=\u001b[0m \u001b[0muse_poll\u001b[0m\u001b[0;34m\u001b[0m\u001b[0m\n\u001b[1;32m    206\u001b[0m \u001b[0;34m\u001b[0m\u001b[0m\n",
      "\u001b[0;32m~/anaconda3/envs/python3/lib/python3.6/site-packages/pexpect/pty_spawn.py\u001b[0m in \u001b[0;36m_spawn\u001b[0;34m(self, command, args, preexec_fn, dimensions)\u001b[0m\n\u001b[1;32m    301\u001b[0m \u001b[0;34m\u001b[0m\u001b[0m\n\u001b[1;32m    302\u001b[0m         self.ptyproc = self._spawnpty(self.args, env=self.env,\n\u001b[0;32m--> 303\u001b[0;31m                                      cwd=self.cwd, **kwargs)\n\u001b[0m\u001b[1;32m    304\u001b[0m \u001b[0;34m\u001b[0m\u001b[0m\n\u001b[1;32m    305\u001b[0m         \u001b[0mself\u001b[0m\u001b[0;34m.\u001b[0m\u001b[0mpid\u001b[0m \u001b[0;34m=\u001b[0m \u001b[0mself\u001b[0m\u001b[0;34m.\u001b[0m\u001b[0mptyproc\u001b[0m\u001b[0;34m.\u001b[0m\u001b[0mpid\u001b[0m\u001b[0;34m\u001b[0m\u001b[0m\n",
      "\u001b[0;32m~/anaconda3/envs/python3/lib/python3.6/site-packages/pexpect/pty_spawn.py\u001b[0m in \u001b[0;36m_spawnpty\u001b[0;34m(self, args, **kwargs)\u001b[0m\n\u001b[1;32m    312\u001b[0m     \u001b[0;32mdef\u001b[0m \u001b[0m_spawnpty\u001b[0m\u001b[0;34m(\u001b[0m\u001b[0mself\u001b[0m\u001b[0;34m,\u001b[0m \u001b[0margs\u001b[0m\u001b[0;34m,\u001b[0m \u001b[0;34m**\u001b[0m\u001b[0mkwargs\u001b[0m\u001b[0;34m)\u001b[0m\u001b[0;34m:\u001b[0m\u001b[0;34m\u001b[0m\u001b[0m\n\u001b[1;32m    313\u001b[0m         \u001b[0;34m'''Spawn a pty and return an instance of PtyProcess.'''\u001b[0m\u001b[0;34m\u001b[0m\u001b[0m\n\u001b[0;32m--> 314\u001b[0;31m         \u001b[0;32mreturn\u001b[0m \u001b[0mptyprocess\u001b[0m\u001b[0;34m.\u001b[0m\u001b[0mPtyProcess\u001b[0m\u001b[0;34m.\u001b[0m\u001b[0mspawn\u001b[0m\u001b[0;34m(\u001b[0m\u001b[0margs\u001b[0m\u001b[0;34m,\u001b[0m \u001b[0;34m**\u001b[0m\u001b[0mkwargs\u001b[0m\u001b[0;34m)\u001b[0m\u001b[0;34m\u001b[0m\u001b[0m\n\u001b[0m\u001b[1;32m    315\u001b[0m \u001b[0;34m\u001b[0m\u001b[0m\n\u001b[1;32m    316\u001b[0m     \u001b[0;32mdef\u001b[0m \u001b[0mclose\u001b[0m\u001b[0;34m(\u001b[0m\u001b[0mself\u001b[0m\u001b[0;34m,\u001b[0m \u001b[0mforce\u001b[0m\u001b[0;34m=\u001b[0m\u001b[0;32mTrue\u001b[0m\u001b[0;34m)\u001b[0m\u001b[0;34m:\u001b[0m\u001b[0;34m\u001b[0m\u001b[0m\n",
      "\u001b[0;32m~/anaconda3/envs/python3/lib/python3.6/site-packages/ptyprocess/ptyprocess.py\u001b[0m in \u001b[0;36mspawn\u001b[0;34m(cls, argv, cwd, env, echo, preexec_fn, dimensions)\u001b[0m\n\u001b[1;32m    220\u001b[0m \u001b[0;34m\u001b[0m\u001b[0m\n\u001b[1;32m    221\u001b[0m         \u001b[0;32mif\u001b[0m \u001b[0muse_native_pty_fork\u001b[0m\u001b[0;34m:\u001b[0m\u001b[0;34m\u001b[0m\u001b[0m\n\u001b[0;32m--> 222\u001b[0;31m             \u001b[0mpid\u001b[0m\u001b[0;34m,\u001b[0m \u001b[0mfd\u001b[0m \u001b[0;34m=\u001b[0m \u001b[0mpty\u001b[0m\u001b[0;34m.\u001b[0m\u001b[0mfork\u001b[0m\u001b[0;34m(\u001b[0m\u001b[0;34m)\u001b[0m\u001b[0;34m\u001b[0m\u001b[0m\n\u001b[0m\u001b[1;32m    223\u001b[0m         \u001b[0;32melse\u001b[0m\u001b[0;34m:\u001b[0m\u001b[0;34m\u001b[0m\u001b[0m\n\u001b[1;32m    224\u001b[0m             \u001b[0;31m# Use internal fork_pty, for Solaris\u001b[0m\u001b[0;34m\u001b[0m\u001b[0;34m\u001b[0m\u001b[0m\n",
      "\u001b[0;32m~/anaconda3/envs/python3/lib/python3.6/pty.py\u001b[0m in \u001b[0;36mfork\u001b[0;34m()\u001b[0m\n\u001b[1;32m     95\u001b[0m \u001b[0;34m\u001b[0m\u001b[0m\n\u001b[1;32m     96\u001b[0m     \u001b[0mmaster_fd\u001b[0m\u001b[0;34m,\u001b[0m \u001b[0mslave_fd\u001b[0m \u001b[0;34m=\u001b[0m \u001b[0mopenpty\u001b[0m\u001b[0;34m(\u001b[0m\u001b[0;34m)\u001b[0m\u001b[0;34m\u001b[0m\u001b[0m\n\u001b[0;32m---> 97\u001b[0;31m     \u001b[0mpid\u001b[0m \u001b[0;34m=\u001b[0m \u001b[0mos\u001b[0m\u001b[0;34m.\u001b[0m\u001b[0mfork\u001b[0m\u001b[0;34m(\u001b[0m\u001b[0;34m)\u001b[0m\u001b[0;34m\u001b[0m\u001b[0m\n\u001b[0m\u001b[1;32m     98\u001b[0m     \u001b[0;32mif\u001b[0m \u001b[0mpid\u001b[0m \u001b[0;34m==\u001b[0m \u001b[0mCHILD\u001b[0m\u001b[0;34m:\u001b[0m\u001b[0;34m\u001b[0m\u001b[0m\n\u001b[1;32m     99\u001b[0m         \u001b[0;31m# Establish a new session.\u001b[0m\u001b[0;34m\u001b[0m\u001b[0;34m\u001b[0m\u001b[0m\n",
      "\u001b[0;31mOSError\u001b[0m: [Errno 12] Cannot allocate memory"
     ]
    }
   ],
   "source": [
    "# First we will remove all of the files contained in the data_dir directory\n",
    "!rm $data_dir/*\n",
    "\n",
    "# And then we delete the directory itself\n",
    "!rmdir $data_dir\n",
    "\n",
    "# Similarly we remove the files in the cache_dir directory and the directory itself\n",
    "!rm $cache_dir/*\n",
    "!rmdir $cache_dir"
   ]
  },
  {
   "cell_type": "code",
   "execution_count": null,
   "metadata": {},
   "outputs": [],
   "source": []
  }
 ],
 "metadata": {
  "kernelspec": {
   "display_name": "conda_python3",
   "language": "python",
   "name": "conda_python3"
  },
  "language_info": {
   "codemirror_mode": {
    "name": "ipython",
    "version": 3
   },
   "file_extension": ".py",
   "mimetype": "text/x-python",
   "name": "python",
   "nbconvert_exporter": "python",
   "pygments_lexer": "ipython3",
   "version": "3.6.5"
  }
 },
 "nbformat": 4,
 "nbformat_minor": 2
}
